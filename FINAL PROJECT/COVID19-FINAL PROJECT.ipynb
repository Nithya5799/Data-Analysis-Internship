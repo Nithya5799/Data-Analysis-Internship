{
 "cells": [
  {
   "cell_type": "code",
   "execution_count": 4,
   "metadata": {},
   "outputs": [
    {
     "data": {
      "text/html": [
       "        <script type=\"text/javascript\">\n",
       "        window.PlotlyConfig = {MathJaxConfig: 'local'};\n",
       "        if (window.MathJax) {MathJax.Hub.Config({SVG: {font: \"STIX-Web\"}});}\n",
       "        if (typeof require !== 'undefined') {\n",
       "        require.undef(\"plotly\");\n",
       "        requirejs.config({\n",
       "            paths: {\n",
       "                'plotly': ['https://cdn.plot.ly/plotly-latest.min']\n",
       "            }\n",
       "        });\n",
       "        require(['plotly'], function(Plotly) {\n",
       "            window._Plotly = Plotly;\n",
       "        });\n",
       "        }\n",
       "        </script>\n",
       "        "
      ]
     },
     "metadata": {},
     "output_type": "display_data"
    }
   ],
   "source": [
    "import numpy as np \n",
    "import pandas as pd \n",
    "from IPython.display import Markdown\n",
    "from datetime import timedelta\n",
    "import json, requests\n",
    "from datetime import datetime\n",
    "import glob\n",
    "import requests \n",
    "from bs4 import BeautifulSoup\n",
    "import matplotlib.pyplot as plt\n",
    "import plotly.express as px\n",
    "import plotly.offline as py\n",
    "import plotly.graph_objs as go\n",
    "import altair as alt\n",
    "%matplotlib inline\n",
    "import seaborn as sns\n",
    "sns.set()\n",
    "\n",
    "import plotly.offline as py\n",
    "import plotly.express as ex\n",
    "from plotly.offline import download_plotlyjs,init_notebook_mode,plot,iplot\n",
    "py.init_notebook_mode(connected=True)\n",
    "\n",
    "plt.style.use(\"seaborn-talk\")\n",
    "plt.rcParams['figure.figsize'] = 8, 5\n",
    "plt.rcParams['image.cmap'] = 'viridis'\n",
    "\n",
    "pd.set_option('display.max_rows', None)\n",
    "from math import sin, cos, sqrt, atan2, radians\n",
    "import warnings\n",
    "warnings.filterwarnings(\"ignore\")"
   ]
  },
  {
   "cell_type": "code",
   "execution_count": 5,
   "metadata": {},
   "outputs": [],
   "source": [
    "symptoms={'symptom':['Fever',\n",
    "        'Dry cough',\n",
    "        'Fatigue',\n",
    "        'Sputum production',\n",
    "        'Shortness of breath',\n",
    "        'Muscle pain',\n",
    "        'Sore throat',\n",
    "        'Headache',\n",
    "        'Chills',\n",
    "        'Nausea or vomiting',\n",
    "        'Nasal congestion',\n",
    "        'Diarrhoea',\n",
    "        'Haemoptysis',\n",
    "        'Conjunctival congestion'],'percentage':[87.9,67.7,38.1,33.4,18.6,14.8,13.9,13.6,11.4,5.0,4.8,3.7,0.9,0.8]}\n",
    "\n",
    "symptoms=pd.DataFrame(data=symptoms,index=range(14))"
   ]
  },
  {
   "cell_type": "code",
   "execution_count": 71,
   "metadata": {},
   "outputs": [
    {
     "data": {
      "application/vnd.plotly.v1+json": {
       "config": {
        "plotlyServerURL": "https://plot.ly"
       },
       "data": [
        {
         "alignmentgroup": "True",
         "hovertemplate": "symptom=%{y}<br>percentage=%{x}<extra></extra>",
         "legendgroup": "Fever",
         "marker": {
          "color": "#000000"
         },
         "name": "Fever",
         "offsetgroup": "Fever",
         "orientation": "h",
         "showlegend": true,
         "textposition": "auto",
         "type": "bar",
         "x": [
          87.9
         ],
         "xaxis": "x",
         "y": [
          "Fever"
         ],
         "yaxis": "y"
        },
        {
         "alignmentgroup": "True",
         "hovertemplate": "symptom=%{y}<br>percentage=%{x}<extra></extra>",
         "legendgroup": "Dry cough",
         "marker": {
          "color": "#001f4d"
         },
         "name": "Dry cough",
         "offsetgroup": "Dry cough",
         "orientation": "h",
         "showlegend": true,
         "textposition": "auto",
         "type": "bar",
         "x": [
          67.7
         ],
         "xaxis": "x",
         "y": [
          "Dry cough"
         ],
         "yaxis": "y"
        },
        {
         "alignmentgroup": "True",
         "hovertemplate": "symptom=%{y}<br>percentage=%{x}<extra></extra>",
         "legendgroup": "Fatigue",
         "marker": {
          "color": "#003786"
         },
         "name": "Fatigue",
         "offsetgroup": "Fatigue",
         "orientation": "h",
         "showlegend": true,
         "textposition": "auto",
         "type": "bar",
         "x": [
          38.1
         ],
         "xaxis": "x",
         "y": [
          "Fatigue"
         ],
         "yaxis": "y"
        },
        {
         "alignmentgroup": "True",
         "hovertemplate": "symptom=%{y}<br>percentage=%{x}<extra></extra>",
         "legendgroup": "Sputum production",
         "marker": {
          "color": "#0e58a8"
         },
         "name": "Sputum production",
         "offsetgroup": "Sputum production",
         "orientation": "h",
         "showlegend": true,
         "textposition": "auto",
         "type": "bar",
         "x": [
          33.4
         ],
         "xaxis": "x",
         "y": [
          "Sputum production"
         ],
         "yaxis": "y"
        },
        {
         "alignmentgroup": "True",
         "hovertemplate": "symptom=%{y}<br>percentage=%{x}<extra></extra>",
         "legendgroup": "Shortness of breath",
         "marker": {
          "color": "#217eb8"
         },
         "name": "Shortness of breath",
         "offsetgroup": "Shortness of breath",
         "orientation": "h",
         "showlegend": true,
         "textposition": "auto",
         "type": "bar",
         "x": [
          18.6
         ],
         "xaxis": "x",
         "y": [
          "Shortness of breath"
         ],
         "yaxis": "y"
        },
        {
         "alignmentgroup": "True",
         "hovertemplate": "symptom=%{y}<br>percentage=%{x}<extra></extra>",
         "legendgroup": "Muscle pain",
         "marker": {
          "color": "#30a4ca"
         },
         "name": "Muscle pain",
         "offsetgroup": "Muscle pain",
         "orientation": "h",
         "showlegend": true,
         "textposition": "auto",
         "type": "bar",
         "x": [
          14.8
         ],
         "xaxis": "x",
         "y": [
          "Muscle pain"
         ],
         "yaxis": "y"
        },
        {
         "alignmentgroup": "True",
         "hovertemplate": "symptom=%{y}<br>percentage=%{x}<extra></extra>",
         "legendgroup": "Sore throat",
         "marker": {
          "color": "#54c8df"
         },
         "name": "Sore throat",
         "offsetgroup": "Sore throat",
         "orientation": "h",
         "showlegend": true,
         "textposition": "auto",
         "type": "bar",
         "x": [
          13.9
         ],
         "xaxis": "x",
         "y": [
          "Sore throat"
         ],
         "yaxis": "y"
        },
        {
         "alignmentgroup": "True",
         "hovertemplate": "symptom=%{y}<br>percentage=%{x}<extra></extra>",
         "legendgroup": "Headache",
         "marker": {
          "color": "#9be4ef"
         },
         "name": "Headache",
         "offsetgroup": "Headache",
         "orientation": "h",
         "showlegend": true,
         "textposition": "auto",
         "type": "bar",
         "x": [
          13.6
         ],
         "xaxis": "x",
         "y": [
          "Headache"
         ],
         "yaxis": "y"
        },
        {
         "alignmentgroup": "True",
         "hovertemplate": "symptom=%{y}<br>percentage=%{x}<extra></extra>",
         "legendgroup": "Chills",
         "marker": {
          "color": "#e1e9d1"
         },
         "name": "Chills",
         "offsetgroup": "Chills",
         "orientation": "h",
         "showlegend": true,
         "textposition": "auto",
         "type": "bar",
         "x": [
          11.4
         ],
         "xaxis": "x",
         "y": [
          "Chills"
         ],
         "yaxis": "y"
        },
        {
         "alignmentgroup": "True",
         "hovertemplate": "symptom=%{y}<br>percentage=%{x}<extra></extra>",
         "legendgroup": "Nausea or vomiting",
         "marker": {
          "color": "#f3d573"
         },
         "name": "Nausea or vomiting",
         "offsetgroup": "Nausea or vomiting",
         "orientation": "h",
         "showlegend": true,
         "textposition": "auto",
         "type": "bar",
         "x": [
          5
         ],
         "xaxis": "x",
         "y": [
          "Nausea or vomiting"
         ],
         "yaxis": "y"
        },
        {
         "alignmentgroup": "True",
         "hovertemplate": "symptom=%{y}<br>percentage=%{x}<extra></extra>",
         "legendgroup": "Nasal congestion",
         "marker": {
          "color": "#e7b000"
         },
         "name": "Nasal congestion",
         "offsetgroup": "Nasal congestion",
         "orientation": "h",
         "showlegend": true,
         "textposition": "auto",
         "type": "bar",
         "x": [
          4.8
         ],
         "xaxis": "x",
         "y": [
          "Nasal congestion"
         ],
         "yaxis": "y"
        },
        {
         "alignmentgroup": "True",
         "hovertemplate": "symptom=%{y}<br>percentage=%{x}<extra></extra>",
         "legendgroup": "Diarrhoea",
         "marker": {
          "color": "#da8200"
         },
         "name": "Diarrhoea",
         "offsetgroup": "Diarrhoea",
         "orientation": "h",
         "showlegend": true,
         "textposition": "auto",
         "type": "bar",
         "x": [
          3.7
         ],
         "xaxis": "x",
         "y": [
          "Diarrhoea"
         ],
         "yaxis": "y"
        },
        {
         "alignmentgroup": "True",
         "hovertemplate": "symptom=%{y}<br>percentage=%{x}<extra></extra>",
         "legendgroup": "Haemoptysis",
         "marker": {
          "color": "#c65400"
         },
         "name": "Haemoptysis",
         "offsetgroup": "Haemoptysis",
         "orientation": "h",
         "showlegend": true,
         "textposition": "auto",
         "type": "bar",
         "x": [
          0.9
         ],
         "xaxis": "x",
         "y": [
          "Haemoptysis"
         ],
         "yaxis": "y"
        },
        {
         "alignmentgroup": "True",
         "hovertemplate": "symptom=%{y}<br>percentage=%{x}<extra></extra>",
         "legendgroup": "Conjunctival congestion",
         "marker": {
          "color": "#ac2301"
         },
         "name": "Conjunctival congestion",
         "offsetgroup": "Conjunctival congestion",
         "orientation": "h",
         "showlegend": true,
         "textposition": "auto",
         "type": "bar",
         "x": [
          0.8
         ],
         "xaxis": "x",
         "y": [
          "Conjunctival congestion"
         ],
         "yaxis": "y"
        }
       ],
       "layout": {
        "barmode": "relative",
        "legend": {
         "title": {
          "text": "symptom"
         },
         "tracegroupgap": 0
        },
        "plot_bgcolor": "rgb(275, 270, 273)",
        "template": {
         "data": {
          "bar": [
           {
            "error_x": {
             "color": "#2a3f5f"
            },
            "error_y": {
             "color": "#2a3f5f"
            },
            "marker": {
             "line": {
              "color": "white",
              "width": 0.5
             }
            },
            "type": "bar"
           }
          ],
          "barpolar": [
           {
            "marker": {
             "line": {
              "color": "white",
              "width": 0.5
             }
            },
            "type": "barpolar"
           }
          ],
          "carpet": [
           {
            "aaxis": {
             "endlinecolor": "#2a3f5f",
             "gridcolor": "#C8D4E3",
             "linecolor": "#C8D4E3",
             "minorgridcolor": "#C8D4E3",
             "startlinecolor": "#2a3f5f"
            },
            "baxis": {
             "endlinecolor": "#2a3f5f",
             "gridcolor": "#C8D4E3",
             "linecolor": "#C8D4E3",
             "minorgridcolor": "#C8D4E3",
             "startlinecolor": "#2a3f5f"
            },
            "type": "carpet"
           }
          ],
          "choropleth": [
           {
            "colorbar": {
             "outlinewidth": 0,
             "ticks": ""
            },
            "type": "choropleth"
           }
          ],
          "contour": [
           {
            "colorbar": {
             "outlinewidth": 0,
             "ticks": ""
            },
            "colorscale": [
             [
              0,
              "#0d0887"
             ],
             [
              0.1111111111111111,
              "#46039f"
             ],
             [
              0.2222222222222222,
              "#7201a8"
             ],
             [
              0.3333333333333333,
              "#9c179e"
             ],
             [
              0.4444444444444444,
              "#bd3786"
             ],
             [
              0.5555555555555556,
              "#d8576b"
             ],
             [
              0.6666666666666666,
              "#ed7953"
             ],
             [
              0.7777777777777778,
              "#fb9f3a"
             ],
             [
              0.8888888888888888,
              "#fdca26"
             ],
             [
              1,
              "#f0f921"
             ]
            ],
            "type": "contour"
           }
          ],
          "contourcarpet": [
           {
            "colorbar": {
             "outlinewidth": 0,
             "ticks": ""
            },
            "type": "contourcarpet"
           }
          ],
          "heatmap": [
           {
            "colorbar": {
             "outlinewidth": 0,
             "ticks": ""
            },
            "colorscale": [
             [
              0,
              "#0d0887"
             ],
             [
              0.1111111111111111,
              "#46039f"
             ],
             [
              0.2222222222222222,
              "#7201a8"
             ],
             [
              0.3333333333333333,
              "#9c179e"
             ],
             [
              0.4444444444444444,
              "#bd3786"
             ],
             [
              0.5555555555555556,
              "#d8576b"
             ],
             [
              0.6666666666666666,
              "#ed7953"
             ],
             [
              0.7777777777777778,
              "#fb9f3a"
             ],
             [
              0.8888888888888888,
              "#fdca26"
             ],
             [
              1,
              "#f0f921"
             ]
            ],
            "type": "heatmap"
           }
          ],
          "heatmapgl": [
           {
            "colorbar": {
             "outlinewidth": 0,
             "ticks": ""
            },
            "colorscale": [
             [
              0,
              "#0d0887"
             ],
             [
              0.1111111111111111,
              "#46039f"
             ],
             [
              0.2222222222222222,
              "#7201a8"
             ],
             [
              0.3333333333333333,
              "#9c179e"
             ],
             [
              0.4444444444444444,
              "#bd3786"
             ],
             [
              0.5555555555555556,
              "#d8576b"
             ],
             [
              0.6666666666666666,
              "#ed7953"
             ],
             [
              0.7777777777777778,
              "#fb9f3a"
             ],
             [
              0.8888888888888888,
              "#fdca26"
             ],
             [
              1,
              "#f0f921"
             ]
            ],
            "type": "heatmapgl"
           }
          ],
          "histogram": [
           {
            "marker": {
             "colorbar": {
              "outlinewidth": 0,
              "ticks": ""
             }
            },
            "type": "histogram"
           }
          ],
          "histogram2d": [
           {
            "colorbar": {
             "outlinewidth": 0,
             "ticks": ""
            },
            "colorscale": [
             [
              0,
              "#0d0887"
             ],
             [
              0.1111111111111111,
              "#46039f"
             ],
             [
              0.2222222222222222,
              "#7201a8"
             ],
             [
              0.3333333333333333,
              "#9c179e"
             ],
             [
              0.4444444444444444,
              "#bd3786"
             ],
             [
              0.5555555555555556,
              "#d8576b"
             ],
             [
              0.6666666666666666,
              "#ed7953"
             ],
             [
              0.7777777777777778,
              "#fb9f3a"
             ],
             [
              0.8888888888888888,
              "#fdca26"
             ],
             [
              1,
              "#f0f921"
             ]
            ],
            "type": "histogram2d"
           }
          ],
          "histogram2dcontour": [
           {
            "colorbar": {
             "outlinewidth": 0,
             "ticks": ""
            },
            "colorscale": [
             [
              0,
              "#0d0887"
             ],
             [
              0.1111111111111111,
              "#46039f"
             ],
             [
              0.2222222222222222,
              "#7201a8"
             ],
             [
              0.3333333333333333,
              "#9c179e"
             ],
             [
              0.4444444444444444,
              "#bd3786"
             ],
             [
              0.5555555555555556,
              "#d8576b"
             ],
             [
              0.6666666666666666,
              "#ed7953"
             ],
             [
              0.7777777777777778,
              "#fb9f3a"
             ],
             [
              0.8888888888888888,
              "#fdca26"
             ],
             [
              1,
              "#f0f921"
             ]
            ],
            "type": "histogram2dcontour"
           }
          ],
          "mesh3d": [
           {
            "colorbar": {
             "outlinewidth": 0,
             "ticks": ""
            },
            "type": "mesh3d"
           }
          ],
          "parcoords": [
           {
            "line": {
             "colorbar": {
              "outlinewidth": 0,
              "ticks": ""
             }
            },
            "type": "parcoords"
           }
          ],
          "pie": [
           {
            "automargin": true,
            "type": "pie"
           }
          ],
          "scatter": [
           {
            "marker": {
             "colorbar": {
              "outlinewidth": 0,
              "ticks": ""
             }
            },
            "type": "scatter"
           }
          ],
          "scatter3d": [
           {
            "line": {
             "colorbar": {
              "outlinewidth": 0,
              "ticks": ""
             }
            },
            "marker": {
             "colorbar": {
              "outlinewidth": 0,
              "ticks": ""
             }
            },
            "type": "scatter3d"
           }
          ],
          "scattercarpet": [
           {
            "marker": {
             "colorbar": {
              "outlinewidth": 0,
              "ticks": ""
             }
            },
            "type": "scattercarpet"
           }
          ],
          "scattergeo": [
           {
            "marker": {
             "colorbar": {
              "outlinewidth": 0,
              "ticks": ""
             }
            },
            "type": "scattergeo"
           }
          ],
          "scattergl": [
           {
            "marker": {
             "colorbar": {
              "outlinewidth": 0,
              "ticks": ""
             }
            },
            "type": "scattergl"
           }
          ],
          "scattermapbox": [
           {
            "marker": {
             "colorbar": {
              "outlinewidth": 0,
              "ticks": ""
             }
            },
            "type": "scattermapbox"
           }
          ],
          "scatterpolar": [
           {
            "marker": {
             "colorbar": {
              "outlinewidth": 0,
              "ticks": ""
             }
            },
            "type": "scatterpolar"
           }
          ],
          "scatterpolargl": [
           {
            "marker": {
             "colorbar": {
              "outlinewidth": 0,
              "ticks": ""
             }
            },
            "type": "scatterpolargl"
           }
          ],
          "scatterternary": [
           {
            "marker": {
             "colorbar": {
              "outlinewidth": 0,
              "ticks": ""
             }
            },
            "type": "scatterternary"
           }
          ],
          "surface": [
           {
            "colorbar": {
             "outlinewidth": 0,
             "ticks": ""
            },
            "colorscale": [
             [
              0,
              "#0d0887"
             ],
             [
              0.1111111111111111,
              "#46039f"
             ],
             [
              0.2222222222222222,
              "#7201a8"
             ],
             [
              0.3333333333333333,
              "#9c179e"
             ],
             [
              0.4444444444444444,
              "#bd3786"
             ],
             [
              0.5555555555555556,
              "#d8576b"
             ],
             [
              0.6666666666666666,
              "#ed7953"
             ],
             [
              0.7777777777777778,
              "#fb9f3a"
             ],
             [
              0.8888888888888888,
              "#fdca26"
             ],
             [
              1,
              "#f0f921"
             ]
            ],
            "type": "surface"
           }
          ],
          "table": [
           {
            "cells": {
             "fill": {
              "color": "#EBF0F8"
             },
             "line": {
              "color": "white"
             }
            },
            "header": {
             "fill": {
              "color": "#C8D4E3"
             },
             "line": {
              "color": "white"
             }
            },
            "type": "table"
           }
          ]
         },
         "layout": {
          "annotationdefaults": {
           "arrowcolor": "#2a3f5f",
           "arrowhead": 0,
           "arrowwidth": 1
          },
          "coloraxis": {
           "colorbar": {
            "outlinewidth": 0,
            "ticks": ""
           }
          },
          "colorscale": {
           "diverging": [
            [
             0,
             "#8e0152"
            ],
            [
             0.1,
             "#c51b7d"
            ],
            [
             0.2,
             "#de77ae"
            ],
            [
             0.3,
             "#f1b6da"
            ],
            [
             0.4,
             "#fde0ef"
            ],
            [
             0.5,
             "#f7f7f7"
            ],
            [
             0.6,
             "#e6f5d0"
            ],
            [
             0.7,
             "#b8e186"
            ],
            [
             0.8,
             "#7fbc41"
            ],
            [
             0.9,
             "#4d9221"
            ],
            [
             1,
             "#276419"
            ]
           ],
           "sequential": [
            [
             0,
             "#0d0887"
            ],
            [
             0.1111111111111111,
             "#46039f"
            ],
            [
             0.2222222222222222,
             "#7201a8"
            ],
            [
             0.3333333333333333,
             "#9c179e"
            ],
            [
             0.4444444444444444,
             "#bd3786"
            ],
            [
             0.5555555555555556,
             "#d8576b"
            ],
            [
             0.6666666666666666,
             "#ed7953"
            ],
            [
             0.7777777777777778,
             "#fb9f3a"
            ],
            [
             0.8888888888888888,
             "#fdca26"
            ],
            [
             1,
             "#f0f921"
            ]
           ],
           "sequentialminus": [
            [
             0,
             "#0d0887"
            ],
            [
             0.1111111111111111,
             "#46039f"
            ],
            [
             0.2222222222222222,
             "#7201a8"
            ],
            [
             0.3333333333333333,
             "#9c179e"
            ],
            [
             0.4444444444444444,
             "#bd3786"
            ],
            [
             0.5555555555555556,
             "#d8576b"
            ],
            [
             0.6666666666666666,
             "#ed7953"
            ],
            [
             0.7777777777777778,
             "#fb9f3a"
            ],
            [
             0.8888888888888888,
             "#fdca26"
            ],
            [
             1,
             "#f0f921"
            ]
           ]
          },
          "colorway": [
           "#636efa",
           "#EF553B",
           "#00cc96",
           "#ab63fa",
           "#FFA15A",
           "#19d3f3",
           "#FF6692",
           "#B6E880",
           "#FF97FF",
           "#FECB52"
          ],
          "font": {
           "color": "#2a3f5f"
          },
          "geo": {
           "bgcolor": "white",
           "lakecolor": "white",
           "landcolor": "white",
           "showlakes": true,
           "showland": true,
           "subunitcolor": "#C8D4E3"
          },
          "hoverlabel": {
           "align": "left"
          },
          "hovermode": "closest",
          "mapbox": {
           "style": "light"
          },
          "paper_bgcolor": "white",
          "plot_bgcolor": "white",
          "polar": {
           "angularaxis": {
            "gridcolor": "#EBF0F8",
            "linecolor": "#EBF0F8",
            "ticks": ""
           },
           "bgcolor": "white",
           "radialaxis": {
            "gridcolor": "#EBF0F8",
            "linecolor": "#EBF0F8",
            "ticks": ""
           }
          },
          "scene": {
           "xaxis": {
            "backgroundcolor": "white",
            "gridcolor": "#DFE8F3",
            "gridwidth": 2,
            "linecolor": "#EBF0F8",
            "showbackground": true,
            "ticks": "",
            "zerolinecolor": "#EBF0F8"
           },
           "yaxis": {
            "backgroundcolor": "white",
            "gridcolor": "#DFE8F3",
            "gridwidth": 2,
            "linecolor": "#EBF0F8",
            "showbackground": true,
            "ticks": "",
            "zerolinecolor": "#EBF0F8"
           },
           "zaxis": {
            "backgroundcolor": "white",
            "gridcolor": "#DFE8F3",
            "gridwidth": 2,
            "linecolor": "#EBF0F8",
            "showbackground": true,
            "ticks": "",
            "zerolinecolor": "#EBF0F8"
           }
          },
          "shapedefaults": {
           "line": {
            "color": "#2a3f5f"
           }
          },
          "ternary": {
           "aaxis": {
            "gridcolor": "#DFE8F3",
            "linecolor": "#A2B1C6",
            "ticks": ""
           },
           "baxis": {
            "gridcolor": "#DFE8F3",
            "linecolor": "#A2B1C6",
            "ticks": ""
           },
           "bgcolor": "white",
           "caxis": {
            "gridcolor": "#DFE8F3",
            "linecolor": "#A2B1C6",
            "ticks": ""
           }
          },
          "title": {
           "x": 0.05
          },
          "xaxis": {
           "automargin": true,
           "gridcolor": "#EBF0F8",
           "linecolor": "#EBF0F8",
           "ticks": "",
           "title": {
            "standoff": 15
           },
           "zerolinecolor": "#EBF0F8",
           "zerolinewidth": 2
          },
          "yaxis": {
           "automargin": true,
           "gridcolor": "#EBF0F8",
           "linecolor": "#EBF0F8",
           "ticks": "",
           "title": {
            "standoff": 15
           },
           "zerolinecolor": "#EBF0F8",
           "zerolinewidth": 2
          }
         }
        },
        "title": {
         "text": "Symptom of Coronavirus"
        },
        "xaxis": {
         "anchor": "y",
         "domain": [
          0,
          1
         ],
         "title": {
          "text": "Percentages"
         }
        },
        "yaxis": {
         "anchor": "x",
         "categoryarray": [
          "Conjunctival congestion",
          "Haemoptysis",
          "Diarrhoea",
          "Nasal congestion",
          "Nausea or vomiting",
          "Chills",
          "Headache",
          "Sore throat",
          "Muscle pain",
          "Shortness of breath",
          "Sputum production",
          "Fatigue",
          "Dry cough",
          "Fever"
         ],
         "categoryorder": "array",
         "domain": [
          0,
          1
         ],
         "title": {
          "text": "Symptoms"
         }
        }
       }
      },
      "text/html": [
       "<div>\n",
       "        \n",
       "        \n",
       "            <div id=\"cbfe2d6e-9254-4381-bc40-d87166eb3bf3\" class=\"plotly-graph-div\" style=\"height:525px; width:100%;\"></div>\n",
       "            <script type=\"text/javascript\">\n",
       "                require([\"plotly\"], function(Plotly) {\n",
       "                    window.PLOTLYENV=window.PLOTLYENV || {};\n",
       "                    \n",
       "                if (document.getElementById(\"cbfe2d6e-9254-4381-bc40-d87166eb3bf3\")) {\n",
       "                    Plotly.newPlot(\n",
       "                        'cbfe2d6e-9254-4381-bc40-d87166eb3bf3',\n",
       "                        [{\"alignmentgroup\": \"True\", \"hovertemplate\": \"symptom=%{y}<br>percentage=%{x}<extra></extra>\", \"legendgroup\": \"Fever\", \"marker\": {\"color\": \"#000000\"}, \"name\": \"Fever\", \"offsetgroup\": \"Fever\", \"orientation\": \"h\", \"showlegend\": true, \"textposition\": \"auto\", \"type\": \"bar\", \"x\": [87.9], \"xaxis\": \"x\", \"y\": [\"Fever\"], \"yaxis\": \"y\"}, {\"alignmentgroup\": \"True\", \"hovertemplate\": \"symptom=%{y}<br>percentage=%{x}<extra></extra>\", \"legendgroup\": \"Dry cough\", \"marker\": {\"color\": \"#001f4d\"}, \"name\": \"Dry cough\", \"offsetgroup\": \"Dry cough\", \"orientation\": \"h\", \"showlegend\": true, \"textposition\": \"auto\", \"type\": \"bar\", \"x\": [67.7], \"xaxis\": \"x\", \"y\": [\"Dry cough\"], \"yaxis\": \"y\"}, {\"alignmentgroup\": \"True\", \"hovertemplate\": \"symptom=%{y}<br>percentage=%{x}<extra></extra>\", \"legendgroup\": \"Fatigue\", \"marker\": {\"color\": \"#003786\"}, \"name\": \"Fatigue\", \"offsetgroup\": \"Fatigue\", \"orientation\": \"h\", \"showlegend\": true, \"textposition\": \"auto\", \"type\": \"bar\", \"x\": [38.1], \"xaxis\": \"x\", \"y\": [\"Fatigue\"], \"yaxis\": \"y\"}, {\"alignmentgroup\": \"True\", \"hovertemplate\": \"symptom=%{y}<br>percentage=%{x}<extra></extra>\", \"legendgroup\": \"Sputum production\", \"marker\": {\"color\": \"#0e58a8\"}, \"name\": \"Sputum production\", \"offsetgroup\": \"Sputum production\", \"orientation\": \"h\", \"showlegend\": true, \"textposition\": \"auto\", \"type\": \"bar\", \"x\": [33.4], \"xaxis\": \"x\", \"y\": [\"Sputum production\"], \"yaxis\": \"y\"}, {\"alignmentgroup\": \"True\", \"hovertemplate\": \"symptom=%{y}<br>percentage=%{x}<extra></extra>\", \"legendgroup\": \"Shortness of breath\", \"marker\": {\"color\": \"#217eb8\"}, \"name\": \"Shortness of breath\", \"offsetgroup\": \"Shortness of breath\", \"orientation\": \"h\", \"showlegend\": true, \"textposition\": \"auto\", \"type\": \"bar\", \"x\": [18.6], \"xaxis\": \"x\", \"y\": [\"Shortness of breath\"], \"yaxis\": \"y\"}, {\"alignmentgroup\": \"True\", \"hovertemplate\": \"symptom=%{y}<br>percentage=%{x}<extra></extra>\", \"legendgroup\": \"Muscle pain\", \"marker\": {\"color\": \"#30a4ca\"}, \"name\": \"Muscle pain\", \"offsetgroup\": \"Muscle pain\", \"orientation\": \"h\", \"showlegend\": true, \"textposition\": \"auto\", \"type\": \"bar\", \"x\": [14.8], \"xaxis\": \"x\", \"y\": [\"Muscle pain\"], \"yaxis\": \"y\"}, {\"alignmentgroup\": \"True\", \"hovertemplate\": \"symptom=%{y}<br>percentage=%{x}<extra></extra>\", \"legendgroup\": \"Sore throat\", \"marker\": {\"color\": \"#54c8df\"}, \"name\": \"Sore throat\", \"offsetgroup\": \"Sore throat\", \"orientation\": \"h\", \"showlegend\": true, \"textposition\": \"auto\", \"type\": \"bar\", \"x\": [13.9], \"xaxis\": \"x\", \"y\": [\"Sore throat\"], \"yaxis\": \"y\"}, {\"alignmentgroup\": \"True\", \"hovertemplate\": \"symptom=%{y}<br>percentage=%{x}<extra></extra>\", \"legendgroup\": \"Headache\", \"marker\": {\"color\": \"#9be4ef\"}, \"name\": \"Headache\", \"offsetgroup\": \"Headache\", \"orientation\": \"h\", \"showlegend\": true, \"textposition\": \"auto\", \"type\": \"bar\", \"x\": [13.6], \"xaxis\": \"x\", \"y\": [\"Headache\"], \"yaxis\": \"y\"}, {\"alignmentgroup\": \"True\", \"hovertemplate\": \"symptom=%{y}<br>percentage=%{x}<extra></extra>\", \"legendgroup\": \"Chills\", \"marker\": {\"color\": \"#e1e9d1\"}, \"name\": \"Chills\", \"offsetgroup\": \"Chills\", \"orientation\": \"h\", \"showlegend\": true, \"textposition\": \"auto\", \"type\": \"bar\", \"x\": [11.4], \"xaxis\": \"x\", \"y\": [\"Chills\"], \"yaxis\": \"y\"}, {\"alignmentgroup\": \"True\", \"hovertemplate\": \"symptom=%{y}<br>percentage=%{x}<extra></extra>\", \"legendgroup\": \"Nausea or vomiting\", \"marker\": {\"color\": \"#f3d573\"}, \"name\": \"Nausea or vomiting\", \"offsetgroup\": \"Nausea or vomiting\", \"orientation\": \"h\", \"showlegend\": true, \"textposition\": \"auto\", \"type\": \"bar\", \"x\": [5.0], \"xaxis\": \"x\", \"y\": [\"Nausea or vomiting\"], \"yaxis\": \"y\"}, {\"alignmentgroup\": \"True\", \"hovertemplate\": \"symptom=%{y}<br>percentage=%{x}<extra></extra>\", \"legendgroup\": \"Nasal congestion\", \"marker\": {\"color\": \"#e7b000\"}, \"name\": \"Nasal congestion\", \"offsetgroup\": \"Nasal congestion\", \"orientation\": \"h\", \"showlegend\": true, \"textposition\": \"auto\", \"type\": \"bar\", \"x\": [4.8], \"xaxis\": \"x\", \"y\": [\"Nasal congestion\"], \"yaxis\": \"y\"}, {\"alignmentgroup\": \"True\", \"hovertemplate\": \"symptom=%{y}<br>percentage=%{x}<extra></extra>\", \"legendgroup\": \"Diarrhoea\", \"marker\": {\"color\": \"#da8200\"}, \"name\": \"Diarrhoea\", \"offsetgroup\": \"Diarrhoea\", \"orientation\": \"h\", \"showlegend\": true, \"textposition\": \"auto\", \"type\": \"bar\", \"x\": [3.7], \"xaxis\": \"x\", \"y\": [\"Diarrhoea\"], \"yaxis\": \"y\"}, {\"alignmentgroup\": \"True\", \"hovertemplate\": \"symptom=%{y}<br>percentage=%{x}<extra></extra>\", \"legendgroup\": \"Haemoptysis\", \"marker\": {\"color\": \"#c65400\"}, \"name\": \"Haemoptysis\", \"offsetgroup\": \"Haemoptysis\", \"orientation\": \"h\", \"showlegend\": true, \"textposition\": \"auto\", \"type\": \"bar\", \"x\": [0.9], \"xaxis\": \"x\", \"y\": [\"Haemoptysis\"], \"yaxis\": \"y\"}, {\"alignmentgroup\": \"True\", \"hovertemplate\": \"symptom=%{y}<br>percentage=%{x}<extra></extra>\", \"legendgroup\": \"Conjunctival congestion\", \"marker\": {\"color\": \"#ac2301\"}, \"name\": \"Conjunctival congestion\", \"offsetgroup\": \"Conjunctival congestion\", \"orientation\": \"h\", \"showlegend\": true, \"textposition\": \"auto\", \"type\": \"bar\", \"x\": [0.8], \"xaxis\": \"x\", \"y\": [\"Conjunctival congestion\"], \"yaxis\": \"y\"}],\n",
       "                        {\"barmode\": \"relative\", \"legend\": {\"title\": {\"text\": \"symptom\"}, \"tracegroupgap\": 0}, \"plot_bgcolor\": \"rgb(275, 270, 273)\", \"template\": {\"data\": {\"bar\": [{\"error_x\": {\"color\": \"#2a3f5f\"}, \"error_y\": {\"color\": \"#2a3f5f\"}, \"marker\": {\"line\": {\"color\": \"white\", \"width\": 0.5}}, \"type\": \"bar\"}], \"barpolar\": [{\"marker\": {\"line\": {\"color\": \"white\", \"width\": 0.5}}, \"type\": \"barpolar\"}], \"carpet\": [{\"aaxis\": {\"endlinecolor\": \"#2a3f5f\", \"gridcolor\": \"#C8D4E3\", \"linecolor\": \"#C8D4E3\", \"minorgridcolor\": \"#C8D4E3\", \"startlinecolor\": \"#2a3f5f\"}, \"baxis\": {\"endlinecolor\": \"#2a3f5f\", \"gridcolor\": \"#C8D4E3\", \"linecolor\": \"#C8D4E3\", \"minorgridcolor\": \"#C8D4E3\", \"startlinecolor\": \"#2a3f5f\"}, \"type\": \"carpet\"}], \"choropleth\": [{\"colorbar\": {\"outlinewidth\": 0, \"ticks\": \"\"}, \"type\": \"choropleth\"}], \"contour\": [{\"colorbar\": {\"outlinewidth\": 0, \"ticks\": \"\"}, \"colorscale\": [[0.0, \"#0d0887\"], [0.1111111111111111, \"#46039f\"], [0.2222222222222222, \"#7201a8\"], [0.3333333333333333, \"#9c179e\"], [0.4444444444444444, \"#bd3786\"], [0.5555555555555556, \"#d8576b\"], [0.6666666666666666, \"#ed7953\"], [0.7777777777777778, \"#fb9f3a\"], [0.8888888888888888, \"#fdca26\"], [1.0, \"#f0f921\"]], \"type\": \"contour\"}], \"contourcarpet\": [{\"colorbar\": {\"outlinewidth\": 0, \"ticks\": \"\"}, \"type\": \"contourcarpet\"}], \"heatmap\": [{\"colorbar\": {\"outlinewidth\": 0, \"ticks\": \"\"}, \"colorscale\": [[0.0, \"#0d0887\"], [0.1111111111111111, \"#46039f\"], [0.2222222222222222, \"#7201a8\"], [0.3333333333333333, \"#9c179e\"], [0.4444444444444444, \"#bd3786\"], [0.5555555555555556, \"#d8576b\"], [0.6666666666666666, \"#ed7953\"], [0.7777777777777778, \"#fb9f3a\"], [0.8888888888888888, \"#fdca26\"], [1.0, \"#f0f921\"]], \"type\": \"heatmap\"}], \"heatmapgl\": [{\"colorbar\": {\"outlinewidth\": 0, \"ticks\": \"\"}, \"colorscale\": [[0.0, \"#0d0887\"], [0.1111111111111111, \"#46039f\"], [0.2222222222222222, \"#7201a8\"], [0.3333333333333333, \"#9c179e\"], [0.4444444444444444, \"#bd3786\"], [0.5555555555555556, \"#d8576b\"], [0.6666666666666666, \"#ed7953\"], [0.7777777777777778, \"#fb9f3a\"], [0.8888888888888888, \"#fdca26\"], [1.0, \"#f0f921\"]], \"type\": \"heatmapgl\"}], \"histogram\": [{\"marker\": {\"colorbar\": {\"outlinewidth\": 0, \"ticks\": \"\"}}, \"type\": \"histogram\"}], \"histogram2d\": [{\"colorbar\": {\"outlinewidth\": 0, \"ticks\": \"\"}, \"colorscale\": [[0.0, \"#0d0887\"], [0.1111111111111111, \"#46039f\"], [0.2222222222222222, \"#7201a8\"], [0.3333333333333333, \"#9c179e\"], [0.4444444444444444, \"#bd3786\"], [0.5555555555555556, \"#d8576b\"], [0.6666666666666666, \"#ed7953\"], [0.7777777777777778, \"#fb9f3a\"], [0.8888888888888888, \"#fdca26\"], [1.0, \"#f0f921\"]], \"type\": \"histogram2d\"}], \"histogram2dcontour\": [{\"colorbar\": {\"outlinewidth\": 0, \"ticks\": \"\"}, \"colorscale\": [[0.0, \"#0d0887\"], [0.1111111111111111, \"#46039f\"], [0.2222222222222222, \"#7201a8\"], [0.3333333333333333, \"#9c179e\"], [0.4444444444444444, \"#bd3786\"], [0.5555555555555556, \"#d8576b\"], [0.6666666666666666, \"#ed7953\"], [0.7777777777777778, \"#fb9f3a\"], [0.8888888888888888, \"#fdca26\"], [1.0, \"#f0f921\"]], \"type\": \"histogram2dcontour\"}], \"mesh3d\": [{\"colorbar\": {\"outlinewidth\": 0, \"ticks\": \"\"}, \"type\": \"mesh3d\"}], \"parcoords\": [{\"line\": {\"colorbar\": {\"outlinewidth\": 0, \"ticks\": \"\"}}, \"type\": \"parcoords\"}], \"pie\": [{\"automargin\": true, \"type\": \"pie\"}], \"scatter\": [{\"marker\": {\"colorbar\": {\"outlinewidth\": 0, \"ticks\": \"\"}}, \"type\": \"scatter\"}], \"scatter3d\": [{\"line\": {\"colorbar\": {\"outlinewidth\": 0, \"ticks\": \"\"}}, \"marker\": {\"colorbar\": {\"outlinewidth\": 0, \"ticks\": \"\"}}, \"type\": \"scatter3d\"}], \"scattercarpet\": [{\"marker\": {\"colorbar\": {\"outlinewidth\": 0, \"ticks\": \"\"}}, \"type\": \"scattercarpet\"}], \"scattergeo\": [{\"marker\": {\"colorbar\": {\"outlinewidth\": 0, \"ticks\": \"\"}}, \"type\": \"scattergeo\"}], \"scattergl\": [{\"marker\": {\"colorbar\": {\"outlinewidth\": 0, \"ticks\": \"\"}}, \"type\": \"scattergl\"}], \"scattermapbox\": [{\"marker\": {\"colorbar\": {\"outlinewidth\": 0, \"ticks\": \"\"}}, \"type\": \"scattermapbox\"}], \"scatterpolar\": [{\"marker\": {\"colorbar\": {\"outlinewidth\": 0, \"ticks\": \"\"}}, \"type\": \"scatterpolar\"}], \"scatterpolargl\": [{\"marker\": {\"colorbar\": {\"outlinewidth\": 0, \"ticks\": \"\"}}, \"type\": \"scatterpolargl\"}], \"scatterternary\": [{\"marker\": {\"colorbar\": {\"outlinewidth\": 0, \"ticks\": \"\"}}, \"type\": \"scatterternary\"}], \"surface\": [{\"colorbar\": {\"outlinewidth\": 0, \"ticks\": \"\"}, \"colorscale\": [[0.0, \"#0d0887\"], [0.1111111111111111, \"#46039f\"], [0.2222222222222222, \"#7201a8\"], [0.3333333333333333, \"#9c179e\"], [0.4444444444444444, \"#bd3786\"], [0.5555555555555556, \"#d8576b\"], [0.6666666666666666, \"#ed7953\"], [0.7777777777777778, \"#fb9f3a\"], [0.8888888888888888, \"#fdca26\"], [1.0, \"#f0f921\"]], \"type\": \"surface\"}], \"table\": [{\"cells\": {\"fill\": {\"color\": \"#EBF0F8\"}, \"line\": {\"color\": \"white\"}}, \"header\": {\"fill\": {\"color\": \"#C8D4E3\"}, \"line\": {\"color\": \"white\"}}, \"type\": \"table\"}]}, \"layout\": {\"annotationdefaults\": {\"arrowcolor\": \"#2a3f5f\", \"arrowhead\": 0, \"arrowwidth\": 1}, \"coloraxis\": {\"colorbar\": {\"outlinewidth\": 0, \"ticks\": \"\"}}, \"colorscale\": {\"diverging\": [[0, \"#8e0152\"], [0.1, \"#c51b7d\"], [0.2, \"#de77ae\"], [0.3, \"#f1b6da\"], [0.4, \"#fde0ef\"], [0.5, \"#f7f7f7\"], [0.6, \"#e6f5d0\"], [0.7, \"#b8e186\"], [0.8, \"#7fbc41\"], [0.9, \"#4d9221\"], [1, \"#276419\"]], \"sequential\": [[0.0, \"#0d0887\"], [0.1111111111111111, \"#46039f\"], [0.2222222222222222, \"#7201a8\"], [0.3333333333333333, \"#9c179e\"], [0.4444444444444444, \"#bd3786\"], [0.5555555555555556, \"#d8576b\"], [0.6666666666666666, \"#ed7953\"], [0.7777777777777778, \"#fb9f3a\"], [0.8888888888888888, \"#fdca26\"], [1.0, \"#f0f921\"]], \"sequentialminus\": [[0.0, \"#0d0887\"], [0.1111111111111111, \"#46039f\"], [0.2222222222222222, \"#7201a8\"], [0.3333333333333333, \"#9c179e\"], [0.4444444444444444, \"#bd3786\"], [0.5555555555555556, \"#d8576b\"], [0.6666666666666666, \"#ed7953\"], [0.7777777777777778, \"#fb9f3a\"], [0.8888888888888888, \"#fdca26\"], [1.0, \"#f0f921\"]]}, \"colorway\": [\"#636efa\", \"#EF553B\", \"#00cc96\", \"#ab63fa\", \"#FFA15A\", \"#19d3f3\", \"#FF6692\", \"#B6E880\", \"#FF97FF\", \"#FECB52\"], \"font\": {\"color\": \"#2a3f5f\"}, \"geo\": {\"bgcolor\": \"white\", \"lakecolor\": \"white\", \"landcolor\": \"white\", \"showlakes\": true, \"showland\": true, \"subunitcolor\": \"#C8D4E3\"}, \"hoverlabel\": {\"align\": \"left\"}, \"hovermode\": \"closest\", \"mapbox\": {\"style\": \"light\"}, \"paper_bgcolor\": \"white\", \"plot_bgcolor\": \"white\", \"polar\": {\"angularaxis\": {\"gridcolor\": \"#EBF0F8\", \"linecolor\": \"#EBF0F8\", \"ticks\": \"\"}, \"bgcolor\": \"white\", \"radialaxis\": {\"gridcolor\": \"#EBF0F8\", \"linecolor\": \"#EBF0F8\", \"ticks\": \"\"}}, \"scene\": {\"xaxis\": {\"backgroundcolor\": \"white\", \"gridcolor\": \"#DFE8F3\", \"gridwidth\": 2, \"linecolor\": \"#EBF0F8\", \"showbackground\": true, \"ticks\": \"\", \"zerolinecolor\": \"#EBF0F8\"}, \"yaxis\": {\"backgroundcolor\": \"white\", \"gridcolor\": \"#DFE8F3\", \"gridwidth\": 2, \"linecolor\": \"#EBF0F8\", \"showbackground\": true, \"ticks\": \"\", \"zerolinecolor\": \"#EBF0F8\"}, \"zaxis\": {\"backgroundcolor\": \"white\", \"gridcolor\": \"#DFE8F3\", \"gridwidth\": 2, \"linecolor\": \"#EBF0F8\", \"showbackground\": true, \"ticks\": \"\", \"zerolinecolor\": \"#EBF0F8\"}}, \"shapedefaults\": {\"line\": {\"color\": \"#2a3f5f\"}}, \"ternary\": {\"aaxis\": {\"gridcolor\": \"#DFE8F3\", \"linecolor\": \"#A2B1C6\", \"ticks\": \"\"}, \"baxis\": {\"gridcolor\": \"#DFE8F3\", \"linecolor\": \"#A2B1C6\", \"ticks\": \"\"}, \"bgcolor\": \"white\", \"caxis\": {\"gridcolor\": \"#DFE8F3\", \"linecolor\": \"#A2B1C6\", \"ticks\": \"\"}}, \"title\": {\"x\": 0.05}, \"xaxis\": {\"automargin\": true, \"gridcolor\": \"#EBF0F8\", \"linecolor\": \"#EBF0F8\", \"ticks\": \"\", \"title\": {\"standoff\": 15}, \"zerolinecolor\": \"#EBF0F8\", \"zerolinewidth\": 2}, \"yaxis\": {\"automargin\": true, \"gridcolor\": \"#EBF0F8\", \"linecolor\": \"#EBF0F8\", \"ticks\": \"\", \"title\": {\"standoff\": 15}, \"zerolinecolor\": \"#EBF0F8\", \"zerolinewidth\": 2}}}, \"title\": {\"text\": \"Symptom of Coronavirus\"}, \"xaxis\": {\"anchor\": \"y\", \"domain\": [0.0, 1.0], \"title\": {\"text\": \"Percentages\"}}, \"yaxis\": {\"anchor\": \"x\", \"categoryarray\": [\"Conjunctival congestion\", \"Haemoptysis\", \"Diarrhoea\", \"Nasal congestion\", \"Nausea or vomiting\", \"Chills\", \"Headache\", \"Sore throat\", \"Muscle pain\", \"Shortness of breath\", \"Sputum production\", \"Fatigue\", \"Dry cough\", \"Fever\"], \"categoryorder\": \"array\", \"domain\": [0.0, 1.0], \"title\": {\"text\": \"Symptoms\"}}},\n",
       "                        {\"responsive\": true}\n",
       "                    ).then(function(){\n",
       "                            \n",
       "var gd = document.getElementById('cbfe2d6e-9254-4381-bc40-d87166eb3bf3');\n",
       "var x = new MutationObserver(function (mutations, observer) {{\n",
       "        var display = window.getComputedStyle(gd).display;\n",
       "        if (!display || display === 'none') {{\n",
       "            console.log([gd, 'removed!']);\n",
       "            Plotly.purge(gd);\n",
       "            observer.disconnect();\n",
       "        }}\n",
       "}});\n",
       "\n",
       "// Listen for the removal of the full notebook cells\n",
       "var notebookContainer = gd.closest('#notebook-container');\n",
       "if (notebookContainer) {{\n",
       "    x.observe(notebookContainer, {childList: true});\n",
       "}}\n",
       "\n",
       "// Listen for the clearing of the current output cell\n",
       "var outputEl = gd.closest('.output');\n",
       "if (outputEl) {{\n",
       "    x.observe(outputEl, {childList: true});\n",
       "}}\n",
       "\n",
       "                        })\n",
       "                };\n",
       "                });\n",
       "            </script>\n",
       "        </div>"
      ]
     },
     "metadata": {},
     "output_type": "display_data"
    }
   ],
   "source": [
    "fig = px.bar(symptoms[['symptom', 'percentage']].sort_values('percentage', ascending=False), \n",
    "             x=\"percentage\", y=\"symptom\", color='symptom',color_discrete_sequence = ex.colors.cyclical.IceFire,\n",
    "              title='Symptom of Coronavirus',orientation='h')\n",
    "fig.update_layout(plot_bgcolor='rgb(275, 270, 273)')\n",
    "\n",
    "\n",
    "fig.update_layout(plot_bgcolor='rgb(275, 270, 273)',yaxis_title='Symptoms',xaxis_title='Percentages')\n",
    "fig.update_layout(template = 'plotly_white')\n",
    "fig.show()"
   ]
  },
  {
   "cell_type": "code",
   "execution_count": 7,
   "metadata": {},
   "outputs": [
    {
     "data": {
      "text/html": [
       "<div class=\"flourish-embed flourish-bar-chart-race\" data-src=\"visualisation/2061549\" \n",
       "data-url=\"https://flo.uri.sh/visualisation/2061549/embed\">\n",
       "<script src=\"https://public.flourish.studio/resources/embed.js\"></script></div>\n"
      ],
      "text/plain": [
       "<IPython.core.display.HTML object>"
      ]
     },
     "metadata": {},
     "output_type": "display_data"
    }
   ],
   "source": [
    "%%HTML\n",
    "<div class=\"flourish-embed flourish-bar-chart-race\" data-src=\"visualisation/2061549\" \n",
    "data-url=\"https://flo.uri.sh/visualisation/2061549/embed\">\n",
    "<script src=\"https://public.flourish.studio/resources/embed.js\"></script></div>"
   ]
  },
  {
   "cell_type": "code",
   "execution_count": 8,
   "metadata": {},
   "outputs": [
    {
     "data": {
      "text/html": [
       "<div>\n",
       "<style scoped>\n",
       "    .dataframe tbody tr th:only-of-type {\n",
       "        vertical-align: middle;\n",
       "    }\n",
       "\n",
       "    .dataframe tbody tr th {\n",
       "        vertical-align: top;\n",
       "    }\n",
       "\n",
       "    .dataframe thead th {\n",
       "        text-align: right;\n",
       "    }\n",
       "</style>\n",
       "<table border=\"1\" class=\"dataframe\">\n",
       "  <thead>\n",
       "    <tr style=\"text-align: right;\">\n",
       "      <th></th>\n",
       "      <th>id</th>\n",
       "      <th>unique_id</th>\n",
       "      <th>government_id</th>\n",
       "      <th>diagnosed_date</th>\n",
       "      <th>age</th>\n",
       "      <th>gender</th>\n",
       "      <th>detected_city</th>\n",
       "      <th>detected_city_pt</th>\n",
       "      <th>detected_district</th>\n",
       "      <th>detected_state</th>\n",
       "      <th>nationality</th>\n",
       "      <th>current_status</th>\n",
       "      <th>status_change_date</th>\n",
       "      <th>notes</th>\n",
       "      <th>current_location</th>\n",
       "      <th>current_location_pt</th>\n",
       "      <th>contacts</th>\n",
       "    </tr>\n",
       "  </thead>\n",
       "  <tbody>\n",
       "    <tr>\n",
       "      <th>0</th>\n",
       "      <td>1</td>\n",
       "      <td>1</td>\n",
       "      <td>KL-TS-P1</td>\n",
       "      <td>2020-01-30</td>\n",
       "      <td>20.0</td>\n",
       "      <td>Female</td>\n",
       "      <td>Thrissur</td>\n",
       "      <td>SRID=4326;POINT (76.21325419999999 10.5256264)</td>\n",
       "      <td>Thrissur</td>\n",
       "      <td>Kerala</td>\n",
       "      <td>India</td>\n",
       "      <td>Recovered</td>\n",
       "      <td>2020-02-14</td>\n",
       "      <td>Travelled from Wuhan.\\nStudent from Wuhan</td>\n",
       "      <td>NaN</td>\n",
       "      <td>SRID=4326;POINT (76.21325419999999 10.5256264)</td>\n",
       "      <td>[]</td>\n",
       "    </tr>\n",
       "    <tr>\n",
       "      <th>1</th>\n",
       "      <td>2</td>\n",
       "      <td>2</td>\n",
       "      <td>KL-AL-P1</td>\n",
       "      <td>2020-02-02</td>\n",
       "      <td>NaN</td>\n",
       "      <td>Unknown</td>\n",
       "      <td>Alappuzha</td>\n",
       "      <td>SRID=4326;POINT (76.333482 9.498000100000001)</td>\n",
       "      <td>Alappuzha</td>\n",
       "      <td>Kerala</td>\n",
       "      <td>India</td>\n",
       "      <td>Recovered</td>\n",
       "      <td>2020-02-14</td>\n",
       "      <td>Travelled from Wuhan.\\nStudent from Wuhan</td>\n",
       "      <td>NaN</td>\n",
       "      <td>SRID=4326;POINT (76.333482 9.498000100000001)</td>\n",
       "      <td>[]</td>\n",
       "    </tr>\n",
       "    <tr>\n",
       "      <th>2</th>\n",
       "      <td>3</td>\n",
       "      <td>3</td>\n",
       "      <td>KL-KS-P1</td>\n",
       "      <td>2020-02-03</td>\n",
       "      <td>NaN</td>\n",
       "      <td>Unknown</td>\n",
       "      <td>Kasaragod</td>\n",
       "      <td>SRID=4326;POINT (80 20)</td>\n",
       "      <td>Kasaragod</td>\n",
       "      <td>Kerala</td>\n",
       "      <td>India</td>\n",
       "      <td>Recovered</td>\n",
       "      <td>2020-02-14</td>\n",
       "      <td>Travelled from Wuhan.\\nStudent from Wuhan</td>\n",
       "      <td>NaN</td>\n",
       "      <td>SRID=4326;POINT (80 20)</td>\n",
       "      <td>[]</td>\n",
       "    </tr>\n",
       "    <tr>\n",
       "      <th>3</th>\n",
       "      <td>4</td>\n",
       "      <td>4</td>\n",
       "      <td>DL-P1</td>\n",
       "      <td>2020-03-02</td>\n",
       "      <td>45.0</td>\n",
       "      <td>Male</td>\n",
       "      <td>East Delhi (Mayur Vihar)</td>\n",
       "      <td>SRID=4326;POINT (80 20)</td>\n",
       "      <td>East Delhi</td>\n",
       "      <td>Delhi</td>\n",
       "      <td>India</td>\n",
       "      <td>Recovered</td>\n",
       "      <td>2020-03-15</td>\n",
       "      <td>Travelled from Austria, Italy.\\nTravel history...</td>\n",
       "      <td>NaN</td>\n",
       "      <td>SRID=4326;POINT (80 20)</td>\n",
       "      <td>[22,23,24,25,26,27,47]</td>\n",
       "    </tr>\n",
       "    <tr>\n",
       "      <th>4</th>\n",
       "      <td>5</td>\n",
       "      <td>5</td>\n",
       "      <td>TS-P1</td>\n",
       "      <td>2020-03-02</td>\n",
       "      <td>24.0</td>\n",
       "      <td>Male</td>\n",
       "      <td>Hyderabad</td>\n",
       "      <td>SRID=4326;POINT (78.4349398685041 17.4263524)</td>\n",
       "      <td>Hyderabad</td>\n",
       "      <td>Telangana</td>\n",
       "      <td>India</td>\n",
       "      <td>Recovered</td>\n",
       "      <td>2020-03-02</td>\n",
       "      <td>.\\nTravel history to Dubai, Singapore contact</td>\n",
       "      <td>NaN</td>\n",
       "      <td>SRID=4326;POINT (78.4349398685041 17.4263524)</td>\n",
       "      <td>[]</td>\n",
       "    </tr>\n",
       "  </tbody>\n",
       "</table>\n",
       "</div>"
      ],
      "text/plain": [
       "   id  unique_id government_id diagnosed_date   age   gender  \\\n",
       "0   1          1      KL-TS-P1     2020-01-30  20.0   Female   \n",
       "1   2          2      KL-AL-P1     2020-02-02   NaN  Unknown   \n",
       "2   3          3      KL-KS-P1     2020-02-03   NaN  Unknown   \n",
       "3   4          4         DL-P1     2020-03-02  45.0     Male   \n",
       "4   5          5         TS-P1     2020-03-02  24.0     Male   \n",
       "\n",
       "              detected_city                                detected_city_pt  \\\n",
       "0                  Thrissur  SRID=4326;POINT (76.21325419999999 10.5256264)   \n",
       "1                 Alappuzha   SRID=4326;POINT (76.333482 9.498000100000001)   \n",
       "2                 Kasaragod                         SRID=4326;POINT (80 20)   \n",
       "3  East Delhi (Mayur Vihar)                         SRID=4326;POINT (80 20)   \n",
       "4                 Hyderabad   SRID=4326;POINT (78.4349398685041 17.4263524)   \n",
       "\n",
       "  detected_district detected_state nationality current_status  \\\n",
       "0          Thrissur         Kerala       India      Recovered   \n",
       "1         Alappuzha         Kerala       India      Recovered   \n",
       "2         Kasaragod         Kerala       India      Recovered   \n",
       "3        East Delhi          Delhi       India      Recovered   \n",
       "4         Hyderabad      Telangana       India      Recovered   \n",
       "\n",
       "  status_change_date                                              notes  \\\n",
       "0         2020-02-14          Travelled from Wuhan.\\nStudent from Wuhan   \n",
       "1         2020-02-14          Travelled from Wuhan.\\nStudent from Wuhan   \n",
       "2         2020-02-14          Travelled from Wuhan.\\nStudent from Wuhan   \n",
       "3         2020-03-15  Travelled from Austria, Italy.\\nTravel history...   \n",
       "4         2020-03-02      .\\nTravel history to Dubai, Singapore contact   \n",
       "\n",
       "  current_location                             current_location_pt  \\\n",
       "0              NaN  SRID=4326;POINT (76.21325419999999 10.5256264)   \n",
       "1              NaN   SRID=4326;POINT (76.333482 9.498000100000001)   \n",
       "2              NaN                         SRID=4326;POINT (80 20)   \n",
       "3              NaN                         SRID=4326;POINT (80 20)   \n",
       "4              NaN   SRID=4326;POINT (78.4349398685041 17.4263524)   \n",
       "\n",
       "                 contacts  \n",
       "0                      []  \n",
       "1                      []  \n",
       "2                      []  \n",
       "3  [22,23,24,25,26,27,47]  \n",
       "4                      []  "
      ]
     },
     "execution_count": 8,
     "metadata": {},
     "output_type": "execute_result"
    }
   ],
   "source": [
    "data= pd.read_csv(\"Desktop/data.csv\")\n",
    "data.head()"
   ]
  },
  {
   "cell_type": "code",
   "execution_count": 9,
   "metadata": {},
   "outputs": [],
   "source": [
    "entities = ['schools & other educational organization shutdown','public places shutdown',\n",
    "            'work from home started for employees','country under lockdown','current situation']\n",
    "dates = ['2020-03-10','2020-03-13','2020-03-16','2020-03-21','2020-03-26']"
   ]
  },
  {
   "cell_type": "code",
   "execution_count": 10,
   "metadata": {},
   "outputs": [],
   "source": [
    "data = data.sort_values(by=\"diagnosed_date\")"
   ]
  },
  {
   "cell_type": "code",
   "execution_count": 11,
   "metadata": {},
   "outputs": [],
   "source": [
    "mask1 = (data['diagnosed_date'] > '2020-01-30') & (data['diagnosed_date'] <= '2020-03-09') #before school lockdown\n",
    "mask1 = len(data.loc[mask1])\n",
    "mask2 = (data['diagnosed_date'] > '2020-01-30') & (data['diagnosed_date'] <= '2020-03-12') #before public place shutdown\n",
    "mask2 = len(data.loc[mask2])\n",
    "mask3 = (data['diagnosed_date'] > '2020-01-30') & (data['diagnosed_date'] <= '2020-03-15') #before work from home\n",
    "mask3 = len(data.loc[mask3])\n",
    "mask4 = (data['diagnosed_date'] > '2020-01-30') & (data['diagnosed_date'] <= '2020-03-21') #before lockdown\n",
    "mask4 = len(data.loc[mask4])\n",
    "mask5 = (data['diagnosed_date'] > '2020-01-30') & (data['diagnosed_date'] <= '2020-03-26') #before lockdown\n",
    "mask5 = len(data.loc[mask5])"
   ]
  },
  {
   "cell_type": "code",
   "execution_count": 12,
   "metadata": {},
   "outputs": [
    {
     "data": {
      "text/html": [
       "<div>\n",
       "<style scoped>\n",
       "    .dataframe tbody tr th:only-of-type {\n",
       "        vertical-align: middle;\n",
       "    }\n",
       "\n",
       "    .dataframe tbody tr th {\n",
       "        vertical-align: top;\n",
       "    }\n",
       "\n",
       "    .dataframe thead th {\n",
       "        text-align: right;\n",
       "    }\n",
       "</style>\n",
       "<table border=\"1\" class=\"dataframe\">\n",
       "  <thead>\n",
       "    <tr style=\"text-align: right;\">\n",
       "      <th></th>\n",
       "      <th>dates</th>\n",
       "      <th>counts</th>\n",
       "      <th>entities</th>\n",
       "    </tr>\n",
       "  </thead>\n",
       "  <tbody>\n",
       "    <tr>\n",
       "      <th>0</th>\n",
       "      <td>2020-03-10</td>\n",
       "      <td>47</td>\n",
       "      <td>schools &amp; other educational organization shutdown</td>\n",
       "    </tr>\n",
       "    <tr>\n",
       "      <th>1</th>\n",
       "      <td>2020-03-13</td>\n",
       "      <td>81</td>\n",
       "      <td>public places shutdown</td>\n",
       "    </tr>\n",
       "    <tr>\n",
       "      <th>2</th>\n",
       "      <td>2020-03-16</td>\n",
       "      <td>112</td>\n",
       "      <td>work from home started for employees</td>\n",
       "    </tr>\n",
       "    <tr>\n",
       "      <th>3</th>\n",
       "      <td>2020-03-21</td>\n",
       "      <td>333</td>\n",
       "      <td>country under lockdown</td>\n",
       "    </tr>\n",
       "    <tr>\n",
       "      <th>4</th>\n",
       "      <td>2020-03-26</td>\n",
       "      <td>734</td>\n",
       "      <td>current situation</td>\n",
       "    </tr>\n",
       "  </tbody>\n",
       "</table>\n",
       "</div>"
      ],
      "text/plain": [
       "        dates  counts                                           entities\n",
       "0  2020-03-10      47  schools & other educational organization shutdown\n",
       "1  2020-03-13      81                             public places shutdown\n",
       "2  2020-03-16     112               work from home started for employees\n",
       "3  2020-03-21     333                             country under lockdown\n",
       "4  2020-03-26     734                                  current situation"
      ]
     },
     "execution_count": 12,
     "metadata": {},
     "output_type": "execute_result"
    }
   ],
   "source": [
    "case_counts = [mask1, mask2,mask3,mask4,mask5]\n",
    "plot_data = pd.DataFrame({'dates':dates,'counts':case_counts,'entities': entities})\n",
    "plot_data"
   ]
  },
  {
   "cell_type": "code",
   "execution_count": 13,
   "metadata": {},
   "outputs": [],
   "source": [
    "plot_data['dates'] = pd.to_datetime(plot_data['dates'])"
   ]
  },
  {
   "cell_type": "code",
   "execution_count": 14,
   "metadata": {},
   "outputs": [
    {
     "data": {
      "text/plain": [
       "<matplotlib.legend.Legend at 0x1ea2bd24fa0>"
      ]
     },
     "execution_count": 14,
     "metadata": {},
     "output_type": "execute_result"
    },
    {
     "data": {
      "image/png": "[encoded data removed]",
      "text/plain": [
       "<Figure size 720x432 with 1 Axes>"
      ]
     },
     "metadata": {},
     "output_type": "display_data"
    }
   ],
   "source": [
    "fig, ax = plt.subplots(figsize = (10,6))\n",
    "labels = entities\n",
    "plt.rcParams['font.sans-serif'] = 'Arial'\n",
    "plt.rcParams['font.family'] = 'sans-serif'\n",
    "plt.rcParams['text.color'] = 'black'\n",
    "plt.rcParams['axes.labelcolor']= '#909090'\n",
    "plt.rcParams['xtick.color'] = 'black'\n",
    "plt.rcParams['ytick.color'] = 'black'\n",
    "plt.rcParams['font.size']=14\n",
    "color_palette_list = ['#009ACD', '#ADD8E6', '#63D1F4', '#0EBFE9',   \n",
    "                      '#C1F0F6', '#0099CC']\n",
    "percentages = case_counts\n",
    "explode=(0.1,0.1,0.1,0,0)\n",
    "ax.pie(percentages, explode=explode, labels=labels,  \n",
    "       colors=color_palette_list[0:2], autopct='%1.0f%%', \n",
    "       shadow=False, startangle=0,   \n",
    "       pctdistance=1.2,labeldistance=1.4)\n",
    "ax.axis('equal')\n",
    "ax.legend(frameon=False, bbox_to_anchor=(0.0,0.8))"
   ]
  },
  {
   "cell_type": "code",
   "execution_count": 19,
   "metadata": {},
   "outputs": [
    {
     "data": {
      "text/plain": [
       "Text(0.5, 0, 'Covid19 Case Count')"
      ]
     },
     "execution_count": 19,
     "metadata": {},
     "output_type": "execute_result"
    },
    {
     "data": {
      "image/png": "[encoded data removed]",
      "text/plain": [
       "<Figure size 720x576 with 1 Axes>"
      ]
     },
     "metadata": {},
     "output_type": "display_data"
    }
   ],
   "source": [
    "fig, ax = plt.subplots(figsize=(10,8))\n",
    "plt.hlines(y=plot_data.entities, xmin=0, xmax=plot_data.counts, color='green')\n",
    "plt.plot(plot_data.counts, plot_data.entities, \"D\")\n",
    "# Add titles and axis names\n",
    "ax.xaxis.label.set_color('black')\n",
    "plt.yticks(plot_data.entities)\n",
    "plt.title(\"Case Count-Growth Rate After Lockdown\")\n",
    "plt.xlabel('Covid19 Case Count', fontsize=10)"
   ]
  },
  {
   "cell_type": "code",
   "execution_count": 20,
   "metadata": {},
   "outputs": [],
   "source": [
    "ageGroupDetails = pd.read_csv(\"Desktop/Covid-19/AgeGroupDetails.csv\")\n",
    "hospitalBedDetails = pd.read_csv(\"Desktop/Covid-19/HospitalBedsIndia.csv\")\n",
    "ICMRTestingLabs = pd.read_csv(\"Desktop/Covid-19/ICMRTestingLabs.csv\")\n",
    "individualDetails = pd.read_csv(\"Desktop/Covid-19/IndividualDetails.csv\")\n",
    "statewiseTestingDetails = pd.read_csv(\"Desktop/Covid-19/StatewiseTestingDetails.csv\")\n",
    "covid19India = pd.read_csv(\"Desktop/Covid-19/covid_19_india.csv\")\n",
    "populationIndiaCensus2011 = pd.read_csv(\"Desktop/Covid-19/population_india_census2011.csv\")"
   ]
  },
  {
   "cell_type": "code",
   "execution_count": null,
   "metadata": {},
   "outputs": [],
   "source": [
    "AGE WISE ANALYSIS"
   ]
  },
  {
   "cell_type": "code",
   "execution_count": 24,
   "metadata": {},
   "outputs": [
    {
     "data": {
      "application/vnd.plotly.v1+json": {
       "config": {
        "plotlyServerURL": "https://plot.ly"
       },
       "data": [
        {
         "domain": {
          "x": [
           0,
           1
          ],
          "y": [
           0,
           1
          ]
         },
         "hovertemplate": "AgeGroup=%{label}<br>TotalCases=%{value}<extra></extra>",
         "labels": [
          "0-9",
          "10-19",
          "20-29",
          "30-39",
          "40-49",
          "50-59",
          "60-69",
          "70-79",
          ">=80",
          "Missing"
         ],
         "legendgroup": "",
         "name": "",
         "showlegend": true,
         "type": "pie",
         "values": [
          22,
          27,
          172,
          146,
          112,
          77,
          89,
          28,
          10,
          9
         ]
        }
       ],
       "layout": {
        "legend": {
         "tracegroupgap": 0
        },
        "piecolorway": [
         "#0d0887",
         "#46039f",
         "#7201a8",
         "#9c179e",
         "#bd3786",
         "#d8576b",
         "#ed7953",
         "#fb9f3a",
         "#fdca26",
         "#f0f921"
        ],
        "template": {
         "data": {
          "bar": [
           {
            "error_x": {
             "color": "#2a3f5f"
            },
            "error_y": {
             "color": "#2a3f5f"
            },
            "marker": {
             "line": {
              "color": "#E5ECF6",
              "width": 0.5
             }
            },
            "type": "bar"
           }
          ],
          "barpolar": [
           {
            "marker": {
             "line": {
              "color": "#E5ECF6",
              "width": 0.5
             }
            },
            "type": "barpolar"
           }
          ],
          "carpet": [
           {
            "aaxis": {
             "endlinecolor": "#2a3f5f",
             "gridcolor": "white",
             "linecolor": "white",
             "minorgridcolor": "white",
             "startlinecolor": "#2a3f5f"
            },
            "baxis": {
             "endlinecolor": "#2a3f5f",
             "gridcolor": "white",
             "linecolor": "white",
             "minorgridcolor": "white",
             "startlinecolor": "#2a3f5f"
            },
            "type": "carpet"
           }
          ],
          "choropleth": [
           {
            "colorbar": {
             "outlinewidth": 0,
             "ticks": ""
            },
            "type": "choropleth"
           }
          ],
          "contour": [
           {
            "colorbar": {
             "outlinewidth": 0,
             "ticks": ""
            },
            "colorscale": [
             [
              0,
              "#0d0887"
             ],
             [
              0.1111111111111111,
              "#46039f"
             ],
             [
              0.2222222222222222,
              "#7201a8"
             ],
             [
              0.3333333333333333,
              "#9c179e"
             ],
             [
              0.4444444444444444,
              "#bd3786"
             ],
             [
              0.5555555555555556,
              "#d8576b"
             ],
             [
              0.6666666666666666,
              "#ed7953"
             ],
             [
              0.7777777777777778,
              "#fb9f3a"
             ],
             [
              0.8888888888888888,
              "#fdca26"
             ],
             [
              1,
              "#f0f921"
             ]
            ],
            "type": "contour"
           }
          ],
          "contourcarpet": [
           {
            "colorbar": {
             "outlinewidth": 0,
             "ticks": ""
            },
            "type": "contourcarpet"
           }
          ],
          "heatmap": [
           {
            "colorbar": {
             "outlinewidth": 0,
             "ticks": ""
            },
            "colorscale": [
             [
              0,
              "#0d0887"
             ],
             [
              0.1111111111111111,
              "#46039f"
             ],
             [
              0.2222222222222222,
              "#7201a8"
             ],
             [
              0.3333333333333333,
              "#9c179e"
             ],
             [
              0.4444444444444444,
              "#bd3786"
             ],
             [
              0.5555555555555556,
              "#d8576b"
             ],
             [
              0.6666666666666666,
              "#ed7953"
             ],
             [
              0.7777777777777778,
              "#fb9f3a"
             ],
             [
              0.8888888888888888,
              "#fdca26"
             ],
             [
              1,
              "#f0f921"
             ]
            ],
            "type": "heatmap"
           }
          ],
          "heatmapgl": [
           {
            "colorbar": {
             "outlinewidth": 0,
             "ticks": ""
            },
            "colorscale": [
             [
              0,
              "#0d0887"
             ],
             [
              0.1111111111111111,
              "#46039f"
             ],
             [
              0.2222222222222222,
              "#7201a8"
             ],
             [
              0.3333333333333333,
              "#9c179e"
             ],
             [
              0.4444444444444444,
              "#bd3786"
             ],
             [
              0.5555555555555556,
              "#d8576b"
             ],
             [
              0.6666666666666666,
              "#ed7953"
             ],
             [
              0.7777777777777778,
              "#fb9f3a"
             ],
             [
              0.8888888888888888,
              "#fdca26"
             ],
             [
              1,
              "#f0f921"
             ]
            ],
            "type": "heatmapgl"
           }
          ],
          "histogram": [
           {
            "marker": {
             "colorbar": {
              "outlinewidth": 0,
              "ticks": ""
             }
            },
            "type": "histogram"
           }
          ],
          "histogram2d": [
           {
            "colorbar": {
             "outlinewidth": 0,
             "ticks": ""
            },
            "colorscale": [
             [
              0,
              "#0d0887"
             ],
             [
              0.1111111111111111,
              "#46039f"
             ],
             [
              0.2222222222222222,
              "#7201a8"
             ],
             [
              0.3333333333333333,
              "#9c179e"
             ],
             [
              0.4444444444444444,
              "#bd3786"
             ],
             [
              0.5555555555555556,
              "#d8576b"
             ],
             [
              0.6666666666666666,
              "#ed7953"
             ],
             [
              0.7777777777777778,
              "#fb9f3a"
             ],
             [
              0.8888888888888888,
              "#fdca26"
             ],
             [
              1,
              "#f0f921"
             ]
            ],
            "type": "histogram2d"
           }
          ],
          "histogram2dcontour": [
           {
            "colorbar": {
             "outlinewidth": 0,
             "ticks": ""
            },
            "colorscale": [
             [
              0,
              "#0d0887"
             ],
             [
              0.1111111111111111,
              "#46039f"
             ],
             [
              0.2222222222222222,
              "#7201a8"
             ],
             [
              0.3333333333333333,
              "#9c179e"
             ],
             [
              0.4444444444444444,
              "#bd3786"
             ],
             [
              0.5555555555555556,
              "#d8576b"
             ],
             [
              0.6666666666666666,
              "#ed7953"
             ],
             [
              0.7777777777777778,
              "#fb9f3a"
             ],
             [
              0.8888888888888888,
              "#fdca26"
             ],
             [
              1,
              "#f0f921"
             ]
            ],
            "type": "histogram2dcontour"
           }
          ],
          "mesh3d": [
           {
            "colorbar": {
             "outlinewidth": 0,
             "ticks": ""
            },
            "type": "mesh3d"
           }
          ],
          "parcoords": [
           {
            "line": {
             "colorbar": {
              "outlinewidth": 0,
              "ticks": ""
             }
            },
            "type": "parcoords"
           }
          ],
          "pie": [
           {
            "automargin": true,
            "type": "pie"
           }
          ],
          "scatter": [
           {
            "marker": {
             "colorbar": {
              "outlinewidth": 0,
              "ticks": ""
             }
            },
            "type": "scatter"
           }
          ],
          "scatter3d": [
           {
            "line": {
             "colorbar": {
              "outlinewidth": 0,
              "ticks": ""
             }
            },
            "marker": {
             "colorbar": {
              "outlinewidth": 0,
              "ticks": ""
             }
            },
            "type": "scatter3d"
           }
          ],
          "scattercarpet": [
           {
            "marker": {
             "colorbar": {
              "outlinewidth": 0,
              "ticks": ""
             }
            },
            "type": "scattercarpet"
           }
          ],
          "scattergeo": [
           {
            "marker": {
             "colorbar": {
              "outlinewidth": 0,
              "ticks": ""
             }
            },
            "type": "scattergeo"
           }
          ],
          "scattergl": [
           {
            "marker": {
             "colorbar": {
              "outlinewidth": 0,
              "ticks": ""
             }
            },
            "type": "scattergl"
           }
          ],
          "scattermapbox": [
           {
            "marker": {
             "colorbar": {
              "outlinewidth": 0,
              "ticks": ""
             }
            },
            "type": "scattermapbox"
           }
          ],
          "scatterpolar": [
           {
            "marker": {
             "colorbar": {
              "outlinewidth": 0,
              "ticks": ""
             }
            },
            "type": "scatterpolar"
           }
          ],
          "scatterpolargl": [
           {
            "marker": {
             "colorbar": {
              "outlinewidth": 0,
              "ticks": ""
             }
            },
            "type": "scatterpolargl"
           }
          ],
          "scatterternary": [
           {
            "marker": {
             "colorbar": {
              "outlinewidth": 0,
              "ticks": ""
             }
            },
            "type": "scatterternary"
           }
          ],
          "surface": [
           {
            "colorbar": {
             "outlinewidth": 0,
             "ticks": ""
            },
            "colorscale": [
             [
              0,
              "#0d0887"
             ],
             [
              0.1111111111111111,
              "#46039f"
             ],
             [
              0.2222222222222222,
              "#7201a8"
             ],
             [
              0.3333333333333333,
              "#9c179e"
             ],
             [
              0.4444444444444444,
              "#bd3786"
             ],
             [
              0.5555555555555556,
              "#d8576b"
             ],
             [
              0.6666666666666666,
              "#ed7953"
             ],
             [
              0.7777777777777778,
              "#fb9f3a"
             ],
             [
              0.8888888888888888,
              "#fdca26"
             ],
             [
              1,
              "#f0f921"
             ]
            ],
            "type": "surface"
           }
          ],
          "table": [
           {
            "cells": {
             "fill": {
              "color": "#EBF0F8"
             },
             "line": {
              "color": "white"
             }
            },
            "header": {
             "fill": {
              "color": "#C8D4E3"
             },
             "line": {
              "color": "white"
             }
            },
            "type": "table"
           }
          ]
         },
         "layout": {
          "annotationdefaults": {
           "arrowcolor": "#2a3f5f",
           "arrowhead": 0,
           "arrowwidth": 1
          },
          "coloraxis": {
           "colorbar": {
            "outlinewidth": 0,
            "ticks": ""
           }
          },
          "colorscale": {
           "diverging": [
            [
             0,
             "#8e0152"
            ],
            [
             0.1,
             "#c51b7d"
            ],
            [
             0.2,
             "#de77ae"
            ],
            [
             0.3,
             "#f1b6da"
            ],
            [
             0.4,
             "#fde0ef"
            ],
            [
             0.5,
             "#f7f7f7"
            ],
            [
             0.6,
             "#e6f5d0"
            ],
            [
             0.7,
             "#b8e186"
            ],
            [
             0.8,
             "#7fbc41"
            ],
            [
             0.9,
             "#4d9221"
            ],
            [
             1,
             "#276419"
            ]
           ],
           "sequential": [
            [
             0,
             "#0d0887"
            ],
            [
             0.1111111111111111,
             "#46039f"
            ],
            [
             0.2222222222222222,
             "#7201a8"
            ],
            [
             0.3333333333333333,
             "#9c179e"
            ],
            [
             0.4444444444444444,
             "#bd3786"
            ],
            [
             0.5555555555555556,
             "#d8576b"
            ],
            [
             0.6666666666666666,
             "#ed7953"
            ],
            [
             0.7777777777777778,
             "#fb9f3a"
            ],
            [
             0.8888888888888888,
             "#fdca26"
            ],
            [
             1,
             "#f0f921"
            ]
           ],
           "sequentialminus": [
            [
             0,
             "#0d0887"
            ],
            [
             0.1111111111111111,
             "#46039f"
            ],
            [
             0.2222222222222222,
             "#7201a8"
            ],
            [
             0.3333333333333333,
             "#9c179e"
            ],
            [
             0.4444444444444444,
             "#bd3786"
            ],
            [
             0.5555555555555556,
             "#d8576b"
            ],
            [
             0.6666666666666666,
             "#ed7953"
            ],
            [
             0.7777777777777778,
             "#fb9f3a"
            ],
            [
             0.8888888888888888,
             "#fdca26"
            ],
            [
             1,
             "#f0f921"
            ]
           ]
          },
          "colorway": [
           "#636efa",
           "#EF553B",
           "#00cc96",
           "#ab63fa",
           "#FFA15A",
           "#19d3f3",
           "#FF6692",
           "#B6E880",
           "#FF97FF",
           "#FECB52"
          ],
          "font": {
           "color": "#2a3f5f"
          },
          "geo": {
           "bgcolor": "white",
           "lakecolor": "white",
           "landcolor": "#E5ECF6",
           "showlakes": true,
           "showland": true,
           "subunitcolor": "white"
          },
          "hoverlabel": {
           "align": "left"
          },
          "hovermode": "closest",
          "mapbox": {
           "style": "light"
          },
          "paper_bgcolor": "white",
          "plot_bgcolor": "#E5ECF6",
          "polar": {
           "angularaxis": {
            "gridcolor": "white",
            "linecolor": "white",
            "ticks": ""
           },
           "bgcolor": "#E5ECF6",
           "radialaxis": {
            "gridcolor": "white",
            "linecolor": "white",
            "ticks": ""
           }
          },
          "scene": {
           "xaxis": {
            "backgroundcolor": "#E5ECF6",
            "gridcolor": "white",
            "gridwidth": 2,
            "linecolor": "white",
            "showbackground": true,
            "ticks": "",
            "zerolinecolor": "white"
           },
           "yaxis": {
            "backgroundcolor": "#E5ECF6",
            "gridcolor": "white",
            "gridwidth": 2,
            "linecolor": "white",
            "showbackground": true,
            "ticks": "",
            "zerolinecolor": "white"
           },
           "zaxis": {
            "backgroundcolor": "#E5ECF6",
            "gridcolor": "white",
            "gridwidth": 2,
            "linecolor": "white",
            "showbackground": true,
            "ticks": "",
            "zerolinecolor": "white"
           }
          },
          "shapedefaults": {
           "line": {
            "color": "#2a3f5f"
           }
          },
          "ternary": {
           "aaxis": {
            "gridcolor": "white",
            "linecolor": "white",
            "ticks": ""
           },
           "baxis": {
            "gridcolor": "white",
            "linecolor": "white",
            "ticks": ""
           },
           "bgcolor": "#E5ECF6",
           "caxis": {
            "gridcolor": "white",
            "linecolor": "white",
            "ticks": ""
           }
          },
          "title": {
           "x": 0.05
          },
          "xaxis": {
           "automargin": true,
           "gridcolor": "white",
           "linecolor": "white",
           "ticks": "",
           "title": {
            "standoff": 15
           },
           "zerolinecolor": "white",
           "zerolinewidth": 2
          },
          "yaxis": {
           "automargin": true,
           "gridcolor": "white",
           "linecolor": "white",
           "ticks": "",
           "title": {
            "standoff": 15
           },
           "zerolinecolor": "white",
           "zerolinewidth": 2
          }
         }
        },
        "title": {
         "text": "Total Cases-Age wise distribution in India"
        }
       }
      },
      "text/html": [
       "<div>\n",
       "        \n",
       "        \n",
       "            <div id=\"849a6e9a-459d-48bf-ba4c-123c0ca88e58\" class=\"plotly-graph-div\" style=\"height:525px; width:100%;\"></div>\n",
       "            <script type=\"text/javascript\">\n",
       "                require([\"plotly\"], function(Plotly) {\n",
       "                    window.PLOTLYENV=window.PLOTLYENV || {};\n",
       "                    \n",
       "                if (document.getElementById(\"849a6e9a-459d-48bf-ba4c-123c0ca88e58\")) {\n",
       "                    Plotly.newPlot(\n",
       "                        '849a6e9a-459d-48bf-ba4c-123c0ca88e58',\n",
       "                        [{\"domain\": {\"x\": [0.0, 1.0], \"y\": [0.0, 1.0]}, \"hovertemplate\": \"AgeGroup=%{label}<br>TotalCases=%{value}<extra></extra>\", \"labels\": [\"0-9\", \"10-19\", \"20-29\", \"30-39\", \"40-49\", \"50-59\", \"60-69\", \"70-79\", \">=80\", \"Missing\"], \"legendgroup\": \"\", \"name\": \"\", \"showlegend\": true, \"type\": \"pie\", \"values\": [22, 27, 172, 146, 112, 77, 89, 28, 10, 9]}],\n",
       "                        {\"legend\": {\"tracegroupgap\": 0}, \"piecolorway\": [\"#0d0887\", \"#46039f\", \"#7201a8\", \"#9c179e\", \"#bd3786\", \"#d8576b\", \"#ed7953\", \"#fb9f3a\", \"#fdca26\", \"#f0f921\"], \"template\": {\"data\": {\"bar\": [{\"error_x\": {\"color\": \"#2a3f5f\"}, \"error_y\": {\"color\": \"#2a3f5f\"}, \"marker\": {\"line\": {\"color\": \"#E5ECF6\", \"width\": 0.5}}, \"type\": \"bar\"}], \"barpolar\": [{\"marker\": {\"line\": {\"color\": \"#E5ECF6\", \"width\": 0.5}}, \"type\": \"barpolar\"}], \"carpet\": [{\"aaxis\": {\"endlinecolor\": \"#2a3f5f\", \"gridcolor\": \"white\", \"linecolor\": \"white\", \"minorgridcolor\": \"white\", \"startlinecolor\": \"#2a3f5f\"}, \"baxis\": {\"endlinecolor\": \"#2a3f5f\", \"gridcolor\": \"white\", \"linecolor\": \"white\", \"minorgridcolor\": \"white\", \"startlinecolor\": \"#2a3f5f\"}, \"type\": \"carpet\"}], \"choropleth\": [{\"colorbar\": {\"outlinewidth\": 0, \"ticks\": \"\"}, \"type\": \"choropleth\"}], \"contour\": [{\"colorbar\": {\"outlinewidth\": 0, \"ticks\": \"\"}, \"colorscale\": [[0.0, \"#0d0887\"], [0.1111111111111111, \"#46039f\"], [0.2222222222222222, \"#7201a8\"], [0.3333333333333333, \"#9c179e\"], [0.4444444444444444, \"#bd3786\"], [0.5555555555555556, \"#d8576b\"], [0.6666666666666666, \"#ed7953\"], [0.7777777777777778, \"#fb9f3a\"], [0.8888888888888888, \"#fdca26\"], [1.0, \"#f0f921\"]], \"type\": \"contour\"}], \"contourcarpet\": [{\"colorbar\": {\"outlinewidth\": 0, \"ticks\": \"\"}, \"type\": \"contourcarpet\"}], \"heatmap\": [{\"colorbar\": {\"outlinewidth\": 0, \"ticks\": \"\"}, \"colorscale\": [[0.0, \"#0d0887\"], [0.1111111111111111, \"#46039f\"], [0.2222222222222222, \"#7201a8\"], [0.3333333333333333, \"#9c179e\"], [0.4444444444444444, \"#bd3786\"], [0.5555555555555556, \"#d8576b\"], [0.6666666666666666, \"#ed7953\"], [0.7777777777777778, \"#fb9f3a\"], [0.8888888888888888, \"#fdca26\"], [1.0, \"#f0f921\"]], \"type\": \"heatmap\"}], \"heatmapgl\": [{\"colorbar\": {\"outlinewidth\": 0, \"ticks\": \"\"}, \"colorscale\": [[0.0, \"#0d0887\"], [0.1111111111111111, \"#46039f\"], [0.2222222222222222, \"#7201a8\"], [0.3333333333333333, \"#9c179e\"], [0.4444444444444444, \"#bd3786\"], [0.5555555555555556, \"#d8576b\"], [0.6666666666666666, \"#ed7953\"], [0.7777777777777778, \"#fb9f3a\"], [0.8888888888888888, \"#fdca26\"], [1.0, \"#f0f921\"]], \"type\": \"heatmapgl\"}], \"histogram\": [{\"marker\": {\"colorbar\": {\"outlinewidth\": 0, \"ticks\": \"\"}}, \"type\": \"histogram\"}], \"histogram2d\": [{\"colorbar\": {\"outlinewidth\": 0, \"ticks\": \"\"}, \"colorscale\": [[0.0, \"#0d0887\"], [0.1111111111111111, \"#46039f\"], [0.2222222222222222, \"#7201a8\"], [0.3333333333333333, \"#9c179e\"], [0.4444444444444444, \"#bd3786\"], [0.5555555555555556, \"#d8576b\"], [0.6666666666666666, \"#ed7953\"], [0.7777777777777778, \"#fb9f3a\"], [0.8888888888888888, \"#fdca26\"], [1.0, \"#f0f921\"]], \"type\": \"histogram2d\"}], \"histogram2dcontour\": [{\"colorbar\": {\"outlinewidth\": 0, \"ticks\": \"\"}, \"colorscale\": [[0.0, \"#0d0887\"], [0.1111111111111111, \"#46039f\"], [0.2222222222222222, \"#7201a8\"], [0.3333333333333333, \"#9c179e\"], [0.4444444444444444, \"#bd3786\"], [0.5555555555555556, \"#d8576b\"], [0.6666666666666666, \"#ed7953\"], [0.7777777777777778, \"#fb9f3a\"], [0.8888888888888888, \"#fdca26\"], [1.0, \"#f0f921\"]], \"type\": \"histogram2dcontour\"}], \"mesh3d\": [{\"colorbar\": {\"outlinewidth\": 0, \"ticks\": \"\"}, \"type\": \"mesh3d\"}], \"parcoords\": [{\"line\": {\"colorbar\": {\"outlinewidth\": 0, \"ticks\": \"\"}}, \"type\": \"parcoords\"}], \"pie\": [{\"automargin\": true, \"type\": \"pie\"}], \"scatter\": [{\"marker\": {\"colorbar\": {\"outlinewidth\": 0, \"ticks\": \"\"}}, \"type\": \"scatter\"}], \"scatter3d\": [{\"line\": {\"colorbar\": {\"outlinewidth\": 0, \"ticks\": \"\"}}, \"marker\": {\"colorbar\": {\"outlinewidth\": 0, \"ticks\": \"\"}}, \"type\": \"scatter3d\"}], \"scattercarpet\": [{\"marker\": {\"colorbar\": {\"outlinewidth\": 0, \"ticks\": \"\"}}, \"type\": \"scattercarpet\"}], \"scattergeo\": [{\"marker\": {\"colorbar\": {\"outlinewidth\": 0, \"ticks\": \"\"}}, \"type\": \"scattergeo\"}], \"scattergl\": [{\"marker\": {\"colorbar\": {\"outlinewidth\": 0, \"ticks\": \"\"}}, \"type\": \"scattergl\"}], \"scattermapbox\": [{\"marker\": {\"colorbar\": {\"outlinewidth\": 0, \"ticks\": \"\"}}, \"type\": \"scattermapbox\"}], \"scatterpolar\": [{\"marker\": {\"colorbar\": {\"outlinewidth\": 0, \"ticks\": \"\"}}, \"type\": \"scatterpolar\"}], \"scatterpolargl\": [{\"marker\": {\"colorbar\": {\"outlinewidth\": 0, \"ticks\": \"\"}}, \"type\": \"scatterpolargl\"}], \"scatterternary\": [{\"marker\": {\"colorbar\": {\"outlinewidth\": 0, \"ticks\": \"\"}}, \"type\": \"scatterternary\"}], \"surface\": [{\"colorbar\": {\"outlinewidth\": 0, \"ticks\": \"\"}, \"colorscale\": [[0.0, \"#0d0887\"], [0.1111111111111111, \"#46039f\"], [0.2222222222222222, \"#7201a8\"], [0.3333333333333333, \"#9c179e\"], [0.4444444444444444, \"#bd3786\"], [0.5555555555555556, \"#d8576b\"], [0.6666666666666666, \"#ed7953\"], [0.7777777777777778, \"#fb9f3a\"], [0.8888888888888888, \"#fdca26\"], [1.0, \"#f0f921\"]], \"type\": \"surface\"}], \"table\": [{\"cells\": {\"fill\": {\"color\": \"#EBF0F8\"}, \"line\": {\"color\": \"white\"}}, \"header\": {\"fill\": {\"color\": \"#C8D4E3\"}, \"line\": {\"color\": \"white\"}}, \"type\": \"table\"}]}, \"layout\": {\"annotationdefaults\": {\"arrowcolor\": \"#2a3f5f\", \"arrowhead\": 0, \"arrowwidth\": 1}, \"coloraxis\": {\"colorbar\": {\"outlinewidth\": 0, \"ticks\": \"\"}}, \"colorscale\": {\"diverging\": [[0, \"#8e0152\"], [0.1, \"#c51b7d\"], [0.2, \"#de77ae\"], [0.3, \"#f1b6da\"], [0.4, \"#fde0ef\"], [0.5, \"#f7f7f7\"], [0.6, \"#e6f5d0\"], [0.7, \"#b8e186\"], [0.8, \"#7fbc41\"], [0.9, \"#4d9221\"], [1, \"#276419\"]], \"sequential\": [[0.0, \"#0d0887\"], [0.1111111111111111, \"#46039f\"], [0.2222222222222222, \"#7201a8\"], [0.3333333333333333, \"#9c179e\"], [0.4444444444444444, \"#bd3786\"], [0.5555555555555556, \"#d8576b\"], [0.6666666666666666, \"#ed7953\"], [0.7777777777777778, \"#fb9f3a\"], [0.8888888888888888, \"#fdca26\"], [1.0, \"#f0f921\"]], \"sequentialminus\": [[0.0, \"#0d0887\"], [0.1111111111111111, \"#46039f\"], [0.2222222222222222, \"#7201a8\"], [0.3333333333333333, \"#9c179e\"], [0.4444444444444444, \"#bd3786\"], [0.5555555555555556, \"#d8576b\"], [0.6666666666666666, \"#ed7953\"], [0.7777777777777778, \"#fb9f3a\"], [0.8888888888888888, \"#fdca26\"], [1.0, \"#f0f921\"]]}, \"colorway\": [\"#636efa\", \"#EF553B\", \"#00cc96\", \"#ab63fa\", \"#FFA15A\", \"#19d3f3\", \"#FF6692\", \"#B6E880\", \"#FF97FF\", \"#FECB52\"], \"font\": {\"color\": \"#2a3f5f\"}, \"geo\": {\"bgcolor\": \"white\", \"lakecolor\": \"white\", \"landcolor\": \"#E5ECF6\", \"showlakes\": true, \"showland\": true, \"subunitcolor\": \"white\"}, \"hoverlabel\": {\"align\": \"left\"}, \"hovermode\": \"closest\", \"mapbox\": {\"style\": \"light\"}, \"paper_bgcolor\": \"white\", \"plot_bgcolor\": \"#E5ECF6\", \"polar\": {\"angularaxis\": {\"gridcolor\": \"white\", \"linecolor\": \"white\", \"ticks\": \"\"}, \"bgcolor\": \"#E5ECF6\", \"radialaxis\": {\"gridcolor\": \"white\", \"linecolor\": \"white\", \"ticks\": \"\"}}, \"scene\": {\"xaxis\": {\"backgroundcolor\": \"#E5ECF6\", \"gridcolor\": \"white\", \"gridwidth\": 2, \"linecolor\": \"white\", \"showbackground\": true, \"ticks\": \"\", \"zerolinecolor\": \"white\"}, \"yaxis\": {\"backgroundcolor\": \"#E5ECF6\", \"gridcolor\": \"white\", \"gridwidth\": 2, \"linecolor\": \"white\", \"showbackground\": true, \"ticks\": \"\", \"zerolinecolor\": \"white\"}, \"zaxis\": {\"backgroundcolor\": \"#E5ECF6\", \"gridcolor\": \"white\", \"gridwidth\": 2, \"linecolor\": \"white\", \"showbackground\": true, \"ticks\": \"\", \"zerolinecolor\": \"white\"}}, \"shapedefaults\": {\"line\": {\"color\": \"#2a3f5f\"}}, \"ternary\": {\"aaxis\": {\"gridcolor\": \"white\", \"linecolor\": \"white\", \"ticks\": \"\"}, \"baxis\": {\"gridcolor\": \"white\", \"linecolor\": \"white\", \"ticks\": \"\"}, \"bgcolor\": \"#E5ECF6\", \"caxis\": {\"gridcolor\": \"white\", \"linecolor\": \"white\", \"ticks\": \"\"}}, \"title\": {\"x\": 0.05}, \"xaxis\": {\"automargin\": true, \"gridcolor\": \"white\", \"linecolor\": \"white\", \"ticks\": \"\", \"title\": {\"standoff\": 15}, \"zerolinecolor\": \"white\", \"zerolinewidth\": 2}, \"yaxis\": {\"automargin\": true, \"gridcolor\": \"white\", \"linecolor\": \"white\", \"ticks\": \"\", \"title\": {\"standoff\": 15}, \"zerolinecolor\": \"white\", \"zerolinewidth\": 2}}}, \"title\": {\"text\": \"Total Cases-Age wise distribution in India\"}},\n",
       "                        {\"responsive\": true}\n",
       "                    ).then(function(){\n",
       "                            \n",
       "var gd = document.getElementById('849a6e9a-459d-48bf-ba4c-123c0ca88e58');\n",
       "var x = new MutationObserver(function (mutations, observer) {{\n",
       "        var display = window.getComputedStyle(gd).display;\n",
       "        if (!display || display === 'none') {{\n",
       "            console.log([gd, 'removed!']);\n",
       "            Plotly.purge(gd);\n",
       "            observer.disconnect();\n",
       "        }}\n",
       "}});\n",
       "\n",
       "// Listen for the removal of the full notebook cells\n",
       "var notebookContainer = gd.closest('#notebook-container');\n",
       "if (notebookContainer) {{\n",
       "    x.observe(notebookContainer, {childList: true});\n",
       "}}\n",
       "\n",
       "// Listen for the clearing of the current output cell\n",
       "var outputEl = gd.closest('.output');\n",
       "if (outputEl) {{\n",
       "    x.observe(outputEl, {childList: true});\n",
       "}}\n",
       "\n",
       "                        })\n",
       "                };\n",
       "                });\n",
       "            </script>\n",
       "        </div>"
      ]
     },
     "metadata": {},
     "output_type": "display_data"
    }
   ],
   "source": [
    "fig = px.pie(ageGroupDetails,values=ageGroupDetails.TotalCases,names=ageGroupDetails.AgeGroup,\n",
    "             title='Total Cases-Age wise distribution in India',\n",
    "            color_discrete_sequence=px.colors.sequential.Plasma)\n",
    "fig.show()"
   ]
  },
  {
   "cell_type": "code",
   "execution_count": 28,
   "metadata": {},
   "outputs": [
    {
     "data": {
      "image/png": "[encoded data removed]",
      "text/plain": [
       "<Figure size 1008x576 with 1 Axes>"
      ]
     },
     "metadata": {},
     "output_type": "display_data"
    }
   ],
   "source": [
    "plt.figure(figsize=(14,8))\n",
    "sns.countplot(data=individualDetails,x='gender',order=individualDetails['gender'].value_counts().index,color=sns.color_palette(\"Blues_d\")[2])\n",
    "plt.title('Gender Distribution')\n",
    "plt.xlabel('Gender')\n",
    "plt.ylabel('Total Cases')\n",
    "order2 = individualDetails['gender'].value_counts()\n",
    "\n",
    "for i in range(order2.shape[0]):\n",
    "    count = order2[i]\n",
    "    strt='{:0.1f}%'.format(100*count / individualDetails.gender.dropna().count() )\n",
    "    plt.text(i,count+2,strt,ha='center')"
   ]
  },
  {
   "cell_type": "code",
   "execution_count": null,
   "metadata": {},
   "outputs": [],
   "source": [
    "CASES IN INDIA"
   ]
  },
  {
   "cell_type": "code",
   "execution_count": 29,
   "metadata": {},
   "outputs": [],
   "source": [
    "covid19India['Date'] = pd.to_datetime(covid19India['Date'],dayfirst=True)\n",
    "df1=covid19India.groupby('Date').sum()\n",
    "df1.reset_index(inplace=True)"
   ]
  },
  {
   "cell_type": "code",
   "execution_count": 34,
   "metadata": {},
   "outputs": [
    {
     "data": {
      "image/png": "[encoded data removed]",
      "text/plain": [
       "<Figure size 1008x576 with 1 Axes>"
      ]
     },
     "metadata": {},
     "output_type": "display_data"
    }
   ],
   "source": [
    "plt.figure(figsize= (14,8))\n",
    "plt.xticks(rotation = 90 ,fontsize = 10)\n",
    "plt.yticks(fontsize = 10)\n",
    "plt.xlabel(\"Dates\",fontsize = 20)\n",
    "plt.ylabel(\"Total cases\",fontsize = 20)\n",
    "plt.title(\"Total Confirmed, Active, Death in India\" , fontsize = 20)\n",
    "\n",
    "ax1 = plt.plot_date(data=df1,y= 'Confirmed',x= 'Date',label = 'Confirmed',linestyle ='-',color = 'b')\n",
    "ax2 = plt.plot_date(data=df1,y= 'Cured',x= 'Date',label = 'Cured',linestyle ='-',color = 'g')\n",
    "ax3 = plt.plot_date(data=df1,y= 'Deaths',x= 'Date',label = 'Death',linestyle ='-',color = 'r')\n",
    "plt.legend();\n"
   ]
  },
  {
   "cell_type": "code",
   "execution_count": 64,
   "metadata": {},
   "outputs": [
    {
     "data": {
      "application/vnd.plotly.v1+json": {
       "config": {
        "plotlyServerURL": "https://plot.ly"
       },
       "data": [
        {
         "alignmentgroup": "True",
         "hovertemplate": "variable=Rural population<br>State / Union Territory=%{x}<br>value=%{y}<extra></extra>",
         "legendgroup": "Rural population",
         "marker": {
          "color": "#636efa"
         },
         "name": "Rural population",
         "offsetgroup": "Rural population",
         "orientation": "v",
         "showlegend": true,
         "textposition": "auto",
         "type": "bar",
         "x": [
          "Uttar Pradesh",
          "Maharashtra",
          "Bihar",
          "West Bengal",
          "Madhya Pradesh",
          "Tamil Nadu",
          "Rajasthan",
          "Karnataka",
          "Gujarat",
          "Andhra Pradesh",
          "Odisha",
          "Telengana",
          "Kerala",
          "Jharkhand",
          "Assam",
          "Punjab",
          "Chhattisgarh",
          "Haryana",
          "Uttarakhand",
          "Himachal Pradesh",
          "Tripura",
          "Meghalaya",
          "Manipur",
          "Nagaland",
          "Goa",
          "Arunachal Pradesh",
          "Mizoram",
          "Sikkim",
          "Delhi",
          "Jammu and Kashmir",
          "Puducherry",
          "Chandigarh",
          "Dadra and Nagar Haveli and Daman and Diu",
          "Andaman and Nicobar Islands",
          "Ladakh",
          "Lakshadweep"
         ],
         "xaxis": "x",
         "y": [
          155317278,
          61556074,
          92341436,
          62183113,
          52557404,
          37229590,
          51500352,
          37469335,
          34694609,
          34966693,
          34970562,
          21395009,
          17471135,
          25055073,
          26807034,
          17344192,
          19607961,
          16509359,
          7036954,
          6176050,
          2712464,
          2371439,
          1793875,
          1407536,
          551731,
          1066358,
          525435,
          456999,
          419042,
          9064220,
          395200,
          28991,
          243510,
          237093,
          43840,
          14141
         ],
         "yaxis": "y"
        },
        {
         "alignmentgroup": "True",
         "hovertemplate": "variable=Urban population<br>State / Union Territory=%{x}<br>value=%{y}<extra></extra>",
         "legendgroup": "Urban population",
         "marker": {
          "color": "#EF553B"
         },
         "name": "Urban population",
         "offsetgroup": "Urban population",
         "orientation": "v",
         "showlegend": true,
         "textposition": "auto",
         "type": "bar",
         "x": [
          "Uttar Pradesh",
          "Maharashtra",
          "Bihar",
          "West Bengal",
          "Madhya Pradesh",
          "Tamil Nadu",
          "Rajasthan",
          "Karnataka",
          "Gujarat",
          "Andhra Pradesh",
          "Odisha",
          "Telengana",
          "Kerala",
          "Jharkhand",
          "Assam",
          "Punjab",
          "Chhattisgarh",
          "Haryana",
          "Uttarakhand",
          "Himachal Pradesh",
          "Tripura",
          "Meghalaya",
          "Manipur",
          "Nagaland",
          "Goa",
          "Arunachal Pradesh",
          "Mizoram",
          "Sikkim",
          "Delhi",
          "Jammu and Kashmir",
          "Puducherry",
          "Chandigarh",
          "Dadra and Nagar Haveli and Daman and Diu",
          "Andaman and Nicobar Islands",
          "Ladakh",
          "Lakshadweep"
         ],
         "xaxis": "x",
         "y": [
          44495063,
          50818259,
          11758016,
          29093002,
          20069405,
          34917440,
          17048085,
          23625962,
          25745083,
          14610410,
          7003656,
          13608665,
          15934926,
          7933061,
          4398542,
          10399146,
          5937237,
          8842103,
          3049338,
          688552,
          961453,
          595450,
          776515,
          570966,
          906814,
          317369,
          571771,
          153578,
          16368899,
          3202812,
          852753,
          1026459,
          342254,
          143488,
          230160,
          50332
         ],
         "yaxis": "y"
        }
       ],
       "layout": {
        "barmode": "relative",
        "legend": {
         "title": {
          "text": "variable"
         },
         "tracegroupgap": 0
        },
        "template": {
         "data": {
          "bar": [
           {
            "error_x": {
             "color": "#2a3f5f"
            },
            "error_y": {
             "color": "#2a3f5f"
            },
            "marker": {
             "line": {
              "color": "#E5ECF6",
              "width": 0.5
             }
            },
            "type": "bar"
           }
          ],
          "barpolar": [
           {
            "marker": {
             "line": {
              "color": "#E5ECF6",
              "width": 0.5
             }
            },
            "type": "barpolar"
           }
          ],
          "carpet": [
           {
            "aaxis": {
             "endlinecolor": "#2a3f5f",
             "gridcolor": "white",
             "linecolor": "white",
             "minorgridcolor": "white",
             "startlinecolor": "#2a3f5f"
            },
            "baxis": {
             "endlinecolor": "#2a3f5f",
             "gridcolor": "white",
             "linecolor": "white",
             "minorgridcolor": "white",
             "startlinecolor": "#2a3f5f"
            },
            "type": "carpet"
           }
          ],
          "choropleth": [
           {
            "colorbar": {
             "outlinewidth": 0,
             "ticks": ""
            },
            "type": "choropleth"
           }
          ],
          "contour": [
           {
            "colorbar": {
             "outlinewidth": 0,
             "ticks": ""
            },
            "colorscale": [
             [
              0,
              "#0d0887"
             ],
             [
              0.1111111111111111,
              "#46039f"
             ],
             [
              0.2222222222222222,
              "#7201a8"
             ],
             [
              0.3333333333333333,
              "#9c179e"
             ],
             [
              0.4444444444444444,
              "#bd3786"
             ],
             [
              0.5555555555555556,
              "#d8576b"
             ],
             [
              0.6666666666666666,
              "#ed7953"
             ],
             [
              0.7777777777777778,
              "#fb9f3a"
             ],
             [
              0.8888888888888888,
              "#fdca26"
             ],
             [
              1,
              "#f0f921"
             ]
            ],
            "type": "contour"
           }
          ],
          "contourcarpet": [
           {
            "colorbar": {
             "outlinewidth": 0,
             "ticks": ""
            },
            "type": "contourcarpet"
           }
          ],
          "heatmap": [
           {
            "colorbar": {
             "outlinewidth": 0,
             "ticks": ""
            },
            "colorscale": [
             [
              0,
              "#0d0887"
             ],
             [
              0.1111111111111111,
              "#46039f"
             ],
             [
              0.2222222222222222,
              "#7201a8"
             ],
             [
              0.3333333333333333,
              "#9c179e"
             ],
             [
              0.4444444444444444,
              "#bd3786"
             ],
             [
              0.5555555555555556,
              "#d8576b"
             ],
             [
              0.6666666666666666,
              "#ed7953"
             ],
             [
              0.7777777777777778,
              "#fb9f3a"
             ],
             [
              0.8888888888888888,
              "#fdca26"
             ],
             [
              1,
              "#f0f921"
             ]
            ],
            "type": "heatmap"
           }
          ],
          "heatmapgl": [
           {
            "colorbar": {
             "outlinewidth": 0,
             "ticks": ""
            },
            "colorscale": [
             [
              0,
              "#0d0887"
             ],
             [
              0.1111111111111111,
              "#46039f"
             ],
             [
              0.2222222222222222,
              "#7201a8"
             ],
             [
              0.3333333333333333,
              "#9c179e"
             ],
             [
              0.4444444444444444,
              "#bd3786"
             ],
             [
              0.5555555555555556,
              "#d8576b"
             ],
             [
              0.6666666666666666,
              "#ed7953"
             ],
             [
              0.7777777777777778,
              "#fb9f3a"
             ],
             [
              0.8888888888888888,
              "#fdca26"
             ],
             [
              1,
              "#f0f921"
             ]
            ],
            "type": "heatmapgl"
           }
          ],
          "histogram": [
           {
            "marker": {
             "colorbar": {
              "outlinewidth": 0,
              "ticks": ""
             }
            },
            "type": "histogram"
           }
          ],
          "histogram2d": [
           {
            "colorbar": {
             "outlinewidth": 0,
             "ticks": ""
            },
            "colorscale": [
             [
              0,
              "#0d0887"
             ],
             [
              0.1111111111111111,
              "#46039f"
             ],
             [
              0.2222222222222222,
              "#7201a8"
             ],
             [
              0.3333333333333333,
              "#9c179e"
             ],
             [
              0.4444444444444444,
              "#bd3786"
             ],
             [
              0.5555555555555556,
              "#d8576b"
             ],
             [
              0.6666666666666666,
              "#ed7953"
             ],
             [
              0.7777777777777778,
              "#fb9f3a"
             ],
             [
              0.8888888888888888,
              "#fdca26"
             ],
             [
              1,
              "#f0f921"
             ]
            ],
            "type": "histogram2d"
           }
          ],
          "histogram2dcontour": [
           {
            "colorbar": {
             "outlinewidth": 0,
             "ticks": ""
            },
            "colorscale": [
             [
              0,
              "#0d0887"
             ],
             [
              0.1111111111111111,
              "#46039f"
             ],
             [
              0.2222222222222222,
              "#7201a8"
             ],
             [
              0.3333333333333333,
              "#9c179e"
             ],
             [
              0.4444444444444444,
              "#bd3786"
             ],
             [
              0.5555555555555556,
              "#d8576b"
             ],
             [
              0.6666666666666666,
              "#ed7953"
             ],
             [
              0.7777777777777778,
              "#fb9f3a"
             ],
             [
              0.8888888888888888,
              "#fdca26"
             ],
             [
              1,
              "#f0f921"
             ]
            ],
            "type": "histogram2dcontour"
           }
          ],
          "mesh3d": [
           {
            "colorbar": {
             "outlinewidth": 0,
             "ticks": ""
            },
            "type": "mesh3d"
           }
          ],
          "parcoords": [
           {
            "line": {
             "colorbar": {
              "outlinewidth": 0,
              "ticks": ""
             }
            },
            "type": "parcoords"
           }
          ],
          "pie": [
           {
            "automargin": true,
            "type": "pie"
           }
          ],
          "scatter": [
           {
            "marker": {
             "colorbar": {
              "outlinewidth": 0,
              "ticks": ""
             }
            },
            "type": "scatter"
           }
          ],
          "scatter3d": [
           {
            "line": {
             "colorbar": {
              "outlinewidth": 0,
              "ticks": ""
             }
            },
            "marker": {
             "colorbar": {
              "outlinewidth": 0,
              "ticks": ""
             }
            },
            "type": "scatter3d"
           }
          ],
          "scattercarpet": [
           {
            "marker": {
             "colorbar": {
              "outlinewidth": 0,
              "ticks": ""
             }
            },
            "type": "scattercarpet"
           }
          ],
          "scattergeo": [
           {
            "marker": {
             "colorbar": {
              "outlinewidth": 0,
              "ticks": ""
             }
            },
            "type": "scattergeo"
           }
          ],
          "scattergl": [
           {
            "marker": {
             "colorbar": {
              "outlinewidth": 0,
              "ticks": ""
             }
            },
            "type": "scattergl"
           }
          ],
          "scattermapbox": [
           {
            "marker": {
             "colorbar": {
              "outlinewidth": 0,
              "ticks": ""
             }
            },
            "type": "scattermapbox"
           }
          ],
          "scatterpolar": [
           {
            "marker": {
             "colorbar": {
              "outlinewidth": 0,
              "ticks": ""
             }
            },
            "type": "scatterpolar"
           }
          ],
          "scatterpolargl": [
           {
            "marker": {
             "colorbar": {
              "outlinewidth": 0,
              "ticks": ""
             }
            },
            "type": "scatterpolargl"
           }
          ],
          "scatterternary": [
           {
            "marker": {
             "colorbar": {
              "outlinewidth": 0,
              "ticks": ""
             }
            },
            "type": "scatterternary"
           }
          ],
          "surface": [
           {
            "colorbar": {
             "outlinewidth": 0,
             "ticks": ""
            },
            "colorscale": [
             [
              0,
              "#0d0887"
             ],
             [
              0.1111111111111111,
              "#46039f"
             ],
             [
              0.2222222222222222,
              "#7201a8"
             ],
             [
              0.3333333333333333,
              "#9c179e"
             ],
             [
              0.4444444444444444,
              "#bd3786"
             ],
             [
              0.5555555555555556,
              "#d8576b"
             ],
             [
              0.6666666666666666,
              "#ed7953"
             ],
             [
              0.7777777777777778,
              "#fb9f3a"
             ],
             [
              0.8888888888888888,
              "#fdca26"
             ],
             [
              1,
              "#f0f921"
             ]
            ],
            "type": "surface"
           }
          ],
          "table": [
           {
            "cells": {
             "fill": {
              "color": "#EBF0F8"
             },
             "line": {
              "color": "white"
             }
            },
            "header": {
             "fill": {
              "color": "#C8D4E3"
             },
             "line": {
              "color": "white"
             }
            },
            "type": "table"
           }
          ]
         },
         "layout": {
          "annotationdefaults": {
           "arrowcolor": "#2a3f5f",
           "arrowhead": 0,
           "arrowwidth": 1
          },
          "coloraxis": {
           "colorbar": {
            "outlinewidth": 0,
            "ticks": ""
           }
          },
          "colorscale": {
           "diverging": [
            [
             0,
             "#8e0152"
            ],
            [
             0.1,
             "#c51b7d"
            ],
            [
             0.2,
             "#de77ae"
            ],
            [
             0.3,
             "#f1b6da"
            ],
            [
             0.4,
             "#fde0ef"
            ],
            [
             0.5,
             "#f7f7f7"
            ],
            [
             0.6,
             "#e6f5d0"
            ],
            [
             0.7,
             "#b8e186"
            ],
            [
             0.8,
             "#7fbc41"
            ],
            [
             0.9,
             "#4d9221"
            ],
            [
             1,
             "#276419"
            ]
           ],
           "sequential": [
            [
             0,
             "#0d0887"
            ],
            [
             0.1111111111111111,
             "#46039f"
            ],
            [
             0.2222222222222222,
             "#7201a8"
            ],
            [
             0.3333333333333333,
             "#9c179e"
            ],
            [
             0.4444444444444444,
             "#bd3786"
            ],
            [
             0.5555555555555556,
             "#d8576b"
            ],
            [
             0.6666666666666666,
             "#ed7953"
            ],
            [
             0.7777777777777778,
             "#fb9f3a"
            ],
            [
             0.8888888888888888,
             "#fdca26"
            ],
            [
             1,
             "#f0f921"
            ]
           ],
           "sequentialminus": [
            [
             0,
             "#0d0887"
            ],
            [
             0.1111111111111111,
             "#46039f"
            ],
            [
             0.2222222222222222,
             "#7201a8"
            ],
            [
             0.3333333333333333,
             "#9c179e"
            ],
            [
             0.4444444444444444,
             "#bd3786"
            ],
            [
             0.5555555555555556,
             "#d8576b"
            ],
            [
             0.6666666666666666,
             "#ed7953"
            ],
            [
             0.7777777777777778,
             "#fb9f3a"
            ],
            [
             0.8888888888888888,
             "#fdca26"
            ],
            [
             1,
             "#f0f921"
            ]
           ]
          },
          "colorway": [
           "#636efa",
           "#EF553B",
           "#00cc96",
           "#ab63fa",
           "#FFA15A",
           "#19d3f3",
           "#FF6692",
           "#B6E880",
           "#FF97FF",
           "#FECB52"
          ],
          "font": {
           "color": "#2a3f5f"
          },
          "geo": {
           "bgcolor": "white",
           "lakecolor": "white",
           "landcolor": "#E5ECF6",
           "showlakes": true,
           "showland": true,
           "subunitcolor": "white"
          },
          "hoverlabel": {
           "align": "left"
          },
          "hovermode": "closest",
          "mapbox": {
           "style": "light"
          },
          "paper_bgcolor": "white",
          "plot_bgcolor": "#E5ECF6",
          "polar": {
           "angularaxis": {
            "gridcolor": "white",
            "linecolor": "white",
            "ticks": ""
           },
           "bgcolor": "#E5ECF6",
           "radialaxis": {
            "gridcolor": "white",
            "linecolor": "white",
            "ticks": ""
           }
          },
          "scene": {
           "xaxis": {
            "backgroundcolor": "#E5ECF6",
            "gridcolor": "white",
            "gridwidth": 2,
            "linecolor": "white",
            "showbackground": true,
            "ticks": "",
            "zerolinecolor": "white"
           },
           "yaxis": {
            "backgroundcolor": "#E5ECF6",
            "gridcolor": "white",
            "gridwidth": 2,
            "linecolor": "white",
            "showbackground": true,
            "ticks": "",
            "zerolinecolor": "white"
           },
           "zaxis": {
            "backgroundcolor": "#E5ECF6",
            "gridcolor": "white",
            "gridwidth": 2,
            "linecolor": "white",
            "showbackground": true,
            "ticks": "",
            "zerolinecolor": "white"
           }
          },
          "shapedefaults": {
           "line": {
            "color": "#2a3f5f"
           }
          },
          "ternary": {
           "aaxis": {
            "gridcolor": "white",
            "linecolor": "white",
            "ticks": ""
           },
           "baxis": {
            "gridcolor": "white",
            "linecolor": "white",
            "ticks": ""
           },
           "bgcolor": "#E5ECF6",
           "caxis": {
            "gridcolor": "white",
            "linecolor": "white",
            "ticks": ""
           }
          },
          "title": {
           "x": 0.05
          },
          "xaxis": {
           "automargin": true,
           "gridcolor": "white",
           "linecolor": "white",
           "ticks": "",
           "title": {
            "standoff": 15
           },
           "zerolinecolor": "white",
           "zerolinewidth": 2
          },
          "yaxis": {
           "automargin": true,
           "gridcolor": "white",
           "linecolor": "white",
           "ticks": "",
           "title": {
            "standoff": 15
           },
           "zerolinecolor": "white",
           "zerolinewidth": 2
          }
         }
        },
        "title": {
         "text": "India Population state/union territory wise"
        },
        "xaxis": {
         "anchor": "y",
         "domain": [
          0,
          1
         ],
         "title": {
          "text": "State / Union Territory"
         }
        },
        "yaxis": {
         "anchor": "x",
         "domain": [
          0,
          1
         ],
         "title": {
          "text": "value"
         }
        }
       }
      },
      "text/html": [
       "<div>\n",
       "        \n",
       "        \n",
       "            <div id=\"3bb163bb-22f6-48d4-af60-aae2d6c8ce43\" class=\"plotly-graph-div\" style=\"height:525px; width:100%;\"></div>\n",
       "            <script type=\"text/javascript\">\n",
       "                require([\"plotly\"], function(Plotly) {\n",
       "                    window.PLOTLYENV=window.PLOTLYENV || {};\n",
       "                    \n",
       "                if (document.getElementById(\"3bb163bb-22f6-48d4-af60-aae2d6c8ce43\")) {\n",
       "                    Plotly.newPlot(\n",
       "                        '3bb163bb-22f6-48d4-af60-aae2d6c8ce43',\n",
       "                        [{\"alignmentgroup\": \"True\", \"hovertemplate\": \"variable=Rural population<br>State / Union Territory=%{x}<br>value=%{y}<extra></extra>\", \"legendgroup\": \"Rural population\", \"marker\": {\"color\": \"#636efa\"}, \"name\": \"Rural population\", \"offsetgroup\": \"Rural population\", \"orientation\": \"v\", \"showlegend\": true, \"textposition\": \"auto\", \"type\": \"bar\", \"x\": [\"Uttar Pradesh\", \"Maharashtra\", \"Bihar\", \"West Bengal\", \"Madhya Pradesh\", \"Tamil Nadu\", \"Rajasthan\", \"Karnataka\", \"Gujarat\", \"Andhra Pradesh\", \"Odisha\", \"Telengana\", \"Kerala\", \"Jharkhand\", \"Assam\", \"Punjab\", \"Chhattisgarh\", \"Haryana\", \"Uttarakhand\", \"Himachal Pradesh\", \"Tripura\", \"Meghalaya\", \"Manipur\", \"Nagaland\", \"Goa\", \"Arunachal Pradesh\", \"Mizoram\", \"Sikkim\", \"Delhi\", \"Jammu and Kashmir\", \"Puducherry\", \"Chandigarh\", \"Dadra and Nagar Haveli and Daman and Diu\", \"Andaman and Nicobar Islands\", \"Ladakh\", \"Lakshadweep\"], \"xaxis\": \"x\", \"y\": [155317278, 61556074, 92341436, 62183113, 52557404, 37229590, 51500352, 37469335, 34694609, 34966693, 34970562, 21395009, 17471135, 25055073, 26807034, 17344192, 19607961, 16509359, 7036954, 6176050, 2712464, 2371439, 1793875, 1407536, 551731, 1066358, 525435, 456999, 419042, 9064220, 395200, 28991, 243510, 237093, 43840, 14141], \"yaxis\": \"y\"}, {\"alignmentgroup\": \"True\", \"hovertemplate\": \"variable=Urban population<br>State / Union Territory=%{x}<br>value=%{y}<extra></extra>\", \"legendgroup\": \"Urban population\", \"marker\": {\"color\": \"#EF553B\"}, \"name\": \"Urban population\", \"offsetgroup\": \"Urban population\", \"orientation\": \"v\", \"showlegend\": true, \"textposition\": \"auto\", \"type\": \"bar\", \"x\": [\"Uttar Pradesh\", \"Maharashtra\", \"Bihar\", \"West Bengal\", \"Madhya Pradesh\", \"Tamil Nadu\", \"Rajasthan\", \"Karnataka\", \"Gujarat\", \"Andhra Pradesh\", \"Odisha\", \"Telengana\", \"Kerala\", \"Jharkhand\", \"Assam\", \"Punjab\", \"Chhattisgarh\", \"Haryana\", \"Uttarakhand\", \"Himachal Pradesh\", \"Tripura\", \"Meghalaya\", \"Manipur\", \"Nagaland\", \"Goa\", \"Arunachal Pradesh\", \"Mizoram\", \"Sikkim\", \"Delhi\", \"Jammu and Kashmir\", \"Puducherry\", \"Chandigarh\", \"Dadra and Nagar Haveli and Daman and Diu\", \"Andaman and Nicobar Islands\", \"Ladakh\", \"Lakshadweep\"], \"xaxis\": \"x\", \"y\": [44495063, 50818259, 11758016, 29093002, 20069405, 34917440, 17048085, 23625962, 25745083, 14610410, 7003656, 13608665, 15934926, 7933061, 4398542, 10399146, 5937237, 8842103, 3049338, 688552, 961453, 595450, 776515, 570966, 906814, 317369, 571771, 153578, 16368899, 3202812, 852753, 1026459, 342254, 143488, 230160, 50332], \"yaxis\": \"y\"}],\n",
       "                        {\"barmode\": \"relative\", \"legend\": {\"title\": {\"text\": \"variable\"}, \"tracegroupgap\": 0}, \"template\": {\"data\": {\"bar\": [{\"error_x\": {\"color\": \"#2a3f5f\"}, \"error_y\": {\"color\": \"#2a3f5f\"}, \"marker\": {\"line\": {\"color\": \"#E5ECF6\", \"width\": 0.5}}, \"type\": \"bar\"}], \"barpolar\": [{\"marker\": {\"line\": {\"color\": \"#E5ECF6\", \"width\": 0.5}}, \"type\": \"barpolar\"}], \"carpet\": [{\"aaxis\": {\"endlinecolor\": \"#2a3f5f\", \"gridcolor\": \"white\", \"linecolor\": \"white\", \"minorgridcolor\": \"white\", \"startlinecolor\": \"#2a3f5f\"}, \"baxis\": {\"endlinecolor\": \"#2a3f5f\", \"gridcolor\": \"white\", \"linecolor\": \"white\", \"minorgridcolor\": \"white\", \"startlinecolor\": \"#2a3f5f\"}, \"type\": \"carpet\"}], \"choropleth\": [{\"colorbar\": {\"outlinewidth\": 0, \"ticks\": \"\"}, \"type\": \"choropleth\"}], \"contour\": [{\"colorbar\": {\"outlinewidth\": 0, \"ticks\": \"\"}, \"colorscale\": [[0.0, \"#0d0887\"], [0.1111111111111111, \"#46039f\"], [0.2222222222222222, \"#7201a8\"], [0.3333333333333333, \"#9c179e\"], [0.4444444444444444, \"#bd3786\"], [0.5555555555555556, \"#d8576b\"], [0.6666666666666666, \"#ed7953\"], [0.7777777777777778, \"#fb9f3a\"], [0.8888888888888888, \"#fdca26\"], [1.0, \"#f0f921\"]], \"type\": \"contour\"}], \"contourcarpet\": [{\"colorbar\": {\"outlinewidth\": 0, \"ticks\": \"\"}, \"type\": \"contourcarpet\"}], \"heatmap\": [{\"colorbar\": {\"outlinewidth\": 0, \"ticks\": \"\"}, \"colorscale\": [[0.0, \"#0d0887\"], [0.1111111111111111, \"#46039f\"], [0.2222222222222222, \"#7201a8\"], [0.3333333333333333, \"#9c179e\"], [0.4444444444444444, \"#bd3786\"], [0.5555555555555556, \"#d8576b\"], [0.6666666666666666, \"#ed7953\"], [0.7777777777777778, \"#fb9f3a\"], [0.8888888888888888, \"#fdca26\"], [1.0, \"#f0f921\"]], \"type\": \"heatmap\"}], \"heatmapgl\": [{\"colorbar\": {\"outlinewidth\": 0, \"ticks\": \"\"}, \"colorscale\": [[0.0, \"#0d0887\"], [0.1111111111111111, \"#46039f\"], [0.2222222222222222, \"#7201a8\"], [0.3333333333333333, \"#9c179e\"], [0.4444444444444444, \"#bd3786\"], [0.5555555555555556, \"#d8576b\"], [0.6666666666666666, \"#ed7953\"], [0.7777777777777778, \"#fb9f3a\"], [0.8888888888888888, \"#fdca26\"], [1.0, \"#f0f921\"]], \"type\": \"heatmapgl\"}], \"histogram\": [{\"marker\": {\"colorbar\": {\"outlinewidth\": 0, \"ticks\": \"\"}}, \"type\": \"histogram\"}], \"histogram2d\": [{\"colorbar\": {\"outlinewidth\": 0, \"ticks\": \"\"}, \"colorscale\": [[0.0, \"#0d0887\"], [0.1111111111111111, \"#46039f\"], [0.2222222222222222, \"#7201a8\"], [0.3333333333333333, \"#9c179e\"], [0.4444444444444444, \"#bd3786\"], [0.5555555555555556, \"#d8576b\"], [0.6666666666666666, \"#ed7953\"], [0.7777777777777778, \"#fb9f3a\"], [0.8888888888888888, \"#fdca26\"], [1.0, \"#f0f921\"]], \"type\": \"histogram2d\"}], \"histogram2dcontour\": [{\"colorbar\": {\"outlinewidth\": 0, \"ticks\": \"\"}, \"colorscale\": [[0.0, \"#0d0887\"], [0.1111111111111111, \"#46039f\"], [0.2222222222222222, \"#7201a8\"], [0.3333333333333333, \"#9c179e\"], [0.4444444444444444, \"#bd3786\"], [0.5555555555555556, \"#d8576b\"], [0.6666666666666666, \"#ed7953\"], [0.7777777777777778, \"#fb9f3a\"], [0.8888888888888888, \"#fdca26\"], [1.0, \"#f0f921\"]], \"type\": \"histogram2dcontour\"}], \"mesh3d\": [{\"colorbar\": {\"outlinewidth\": 0, \"ticks\": \"\"}, \"type\": \"mesh3d\"}], \"parcoords\": [{\"line\": {\"colorbar\": {\"outlinewidth\": 0, \"ticks\": \"\"}}, \"type\": \"parcoords\"}], \"pie\": [{\"automargin\": true, \"type\": \"pie\"}], \"scatter\": [{\"marker\": {\"colorbar\": {\"outlinewidth\": 0, \"ticks\": \"\"}}, \"type\": \"scatter\"}], \"scatter3d\": [{\"line\": {\"colorbar\": {\"outlinewidth\": 0, \"ticks\": \"\"}}, \"marker\": {\"colorbar\": {\"outlinewidth\": 0, \"ticks\": \"\"}}, \"type\": \"scatter3d\"}], \"scattercarpet\": [{\"marker\": {\"colorbar\": {\"outlinewidth\": 0, \"ticks\": \"\"}}, \"type\": \"scattercarpet\"}], \"scattergeo\": [{\"marker\": {\"colorbar\": {\"outlinewidth\": 0, \"ticks\": \"\"}}, \"type\": \"scattergeo\"}], \"scattergl\": [{\"marker\": {\"colorbar\": {\"outlinewidth\": 0, \"ticks\": \"\"}}, \"type\": \"scattergl\"}], \"scattermapbox\": [{\"marker\": {\"colorbar\": {\"outlinewidth\": 0, \"ticks\": \"\"}}, \"type\": \"scattermapbox\"}], \"scatterpolar\": [{\"marker\": {\"colorbar\": {\"outlinewidth\": 0, \"ticks\": \"\"}}, \"type\": \"scatterpolar\"}], \"scatterpolargl\": [{\"marker\": {\"colorbar\": {\"outlinewidth\": 0, \"ticks\": \"\"}}, \"type\": \"scatterpolargl\"}], \"scatterternary\": [{\"marker\": {\"colorbar\": {\"outlinewidth\": 0, \"ticks\": \"\"}}, \"type\": \"scatterternary\"}], \"surface\": [{\"colorbar\": {\"outlinewidth\": 0, \"ticks\": \"\"}, \"colorscale\": [[0.0, \"#0d0887\"], [0.1111111111111111, \"#46039f\"], [0.2222222222222222, \"#7201a8\"], [0.3333333333333333, \"#9c179e\"], [0.4444444444444444, \"#bd3786\"], [0.5555555555555556, \"#d8576b\"], [0.6666666666666666, \"#ed7953\"], [0.7777777777777778, \"#fb9f3a\"], [0.8888888888888888, \"#fdca26\"], [1.0, \"#f0f921\"]], \"type\": \"surface\"}], \"table\": [{\"cells\": {\"fill\": {\"color\": \"#EBF0F8\"}, \"line\": {\"color\": \"white\"}}, \"header\": {\"fill\": {\"color\": \"#C8D4E3\"}, \"line\": {\"color\": \"white\"}}, \"type\": \"table\"}]}, \"layout\": {\"annotationdefaults\": {\"arrowcolor\": \"#2a3f5f\", \"arrowhead\": 0, \"arrowwidth\": 1}, \"coloraxis\": {\"colorbar\": {\"outlinewidth\": 0, \"ticks\": \"\"}}, \"colorscale\": {\"diverging\": [[0, \"#8e0152\"], [0.1, \"#c51b7d\"], [0.2, \"#de77ae\"], [0.3, \"#f1b6da\"], [0.4, \"#fde0ef\"], [0.5, \"#f7f7f7\"], [0.6, \"#e6f5d0\"], [0.7, \"#b8e186\"], [0.8, \"#7fbc41\"], [0.9, \"#4d9221\"], [1, \"#276419\"]], \"sequential\": [[0.0, \"#0d0887\"], [0.1111111111111111, \"#46039f\"], [0.2222222222222222, \"#7201a8\"], [0.3333333333333333, \"#9c179e\"], [0.4444444444444444, \"#bd3786\"], [0.5555555555555556, \"#d8576b\"], [0.6666666666666666, \"#ed7953\"], [0.7777777777777778, \"#fb9f3a\"], [0.8888888888888888, \"#fdca26\"], [1.0, \"#f0f921\"]], \"sequentialminus\": [[0.0, \"#0d0887\"], [0.1111111111111111, \"#46039f\"], [0.2222222222222222, \"#7201a8\"], [0.3333333333333333, \"#9c179e\"], [0.4444444444444444, \"#bd3786\"], [0.5555555555555556, \"#d8576b\"], [0.6666666666666666, \"#ed7953\"], [0.7777777777777778, \"#fb9f3a\"], [0.8888888888888888, \"#fdca26\"], [1.0, \"#f0f921\"]]}, \"colorway\": [\"#636efa\", \"#EF553B\", \"#00cc96\", \"#ab63fa\", \"#FFA15A\", \"#19d3f3\", \"#FF6692\", \"#B6E880\", \"#FF97FF\", \"#FECB52\"], \"font\": {\"color\": \"#2a3f5f\"}, \"geo\": {\"bgcolor\": \"white\", \"lakecolor\": \"white\", \"landcolor\": \"#E5ECF6\", \"showlakes\": true, \"showland\": true, \"subunitcolor\": \"white\"}, \"hoverlabel\": {\"align\": \"left\"}, \"hovermode\": \"closest\", \"mapbox\": {\"style\": \"light\"}, \"paper_bgcolor\": \"white\", \"plot_bgcolor\": \"#E5ECF6\", \"polar\": {\"angularaxis\": {\"gridcolor\": \"white\", \"linecolor\": \"white\", \"ticks\": \"\"}, \"bgcolor\": \"#E5ECF6\", \"radialaxis\": {\"gridcolor\": \"white\", \"linecolor\": \"white\", \"ticks\": \"\"}}, \"scene\": {\"xaxis\": {\"backgroundcolor\": \"#E5ECF6\", \"gridcolor\": \"white\", \"gridwidth\": 2, \"linecolor\": \"white\", \"showbackground\": true, \"ticks\": \"\", \"zerolinecolor\": \"white\"}, \"yaxis\": {\"backgroundcolor\": \"#E5ECF6\", \"gridcolor\": \"white\", \"gridwidth\": 2, \"linecolor\": \"white\", \"showbackground\": true, \"ticks\": \"\", \"zerolinecolor\": \"white\"}, \"zaxis\": {\"backgroundcolor\": \"#E5ECF6\", \"gridcolor\": \"white\", \"gridwidth\": 2, \"linecolor\": \"white\", \"showbackground\": true, \"ticks\": \"\", \"zerolinecolor\": \"white\"}}, \"shapedefaults\": {\"line\": {\"color\": \"#2a3f5f\"}}, \"ternary\": {\"aaxis\": {\"gridcolor\": \"white\", \"linecolor\": \"white\", \"ticks\": \"\"}, \"baxis\": {\"gridcolor\": \"white\", \"linecolor\": \"white\", \"ticks\": \"\"}, \"bgcolor\": \"#E5ECF6\", \"caxis\": {\"gridcolor\": \"white\", \"linecolor\": \"white\", \"ticks\": \"\"}}, \"title\": {\"x\": 0.05}, \"xaxis\": {\"automargin\": true, \"gridcolor\": \"white\", \"linecolor\": \"white\", \"ticks\": \"\", \"title\": {\"standoff\": 15}, \"zerolinecolor\": \"white\", \"zerolinewidth\": 2}, \"yaxis\": {\"automargin\": true, \"gridcolor\": \"white\", \"linecolor\": \"white\", \"ticks\": \"\", \"title\": {\"standoff\": 15}, \"zerolinecolor\": \"white\", \"zerolinewidth\": 2}}}, \"title\": {\"text\": \"India Population state/union territory wise\"}, \"xaxis\": {\"anchor\": \"y\", \"domain\": [0.0, 1.0], \"title\": {\"text\": \"State / Union Territory\"}}, \"yaxis\": {\"anchor\": \"x\", \"domain\": [0.0, 1.0], \"title\": {\"text\": \"value\"}}},\n",
       "                        {\"responsive\": true}\n",
       "                    ).then(function(){\n",
       "                            \n",
       "var gd = document.getElementById('3bb163bb-22f6-48d4-af60-aae2d6c8ce43');\n",
       "var x = new MutationObserver(function (mutations, observer) {{\n",
       "        var display = window.getComputedStyle(gd).display;\n",
       "        if (!display || display === 'none') {{\n",
       "            console.log([gd, 'removed!']);\n",
       "            Plotly.purge(gd);\n",
       "            observer.disconnect();\n",
       "        }}\n",
       "}});\n",
       "\n",
       "// Listen for the removal of the full notebook cells\n",
       "var notebookContainer = gd.closest('#notebook-container');\n",
       "if (notebookContainer) {{\n",
       "    x.observe(notebookContainer, {childList: true});\n",
       "}}\n",
       "\n",
       "// Listen for the clearing of the current output cell\n",
       "var outputEl = gd.closest('.output');\n",
       "if (outputEl) {{\n",
       "    x.observe(outputEl, {childList: true});\n",
       "}}\n",
       "\n",
       "                        })\n",
       "                };\n",
       "                });\n",
       "            </script>\n",
       "        </div>"
      ]
     },
     "metadata": {},
     "output_type": "display_data"
    }
   ],
   "source": [
    "fig = px.bar(populationIndiaCensus2011, x = \"State / Union Territory\", y = [\"Rural population\", \"Urban population\"], title = \"India Population state/union territory wise\")\n",
    "fig.show()"
   ]
  },
  {
   "cell_type": "code",
   "execution_count": 65,
   "metadata": {
    "scrolled": false
   },
   "outputs": [
    {
     "data": {
      "text/html": [
       "<style  type=\"text/css\" >\n",
       "    #T_7b1be26c_ea98_11ea_b380_8cec4b2d45a5row0_col1 {\n",
       "            background-color:  #67000d;\n",
       "            color:  #f1f1f1;\n",
       "        }    #T_7b1be26c_ea98_11ea_b380_8cec4b2d45a5row0_col2 {\n",
       "            background-color:  #08306b;\n",
       "            color:  #f1f1f1;\n",
       "        }    #T_7b1be26c_ea98_11ea_b380_8cec4b2d45a5row0_col3 {\n",
       "            background-color:  #00441b;\n",
       "            color:  #f1f1f1;\n",
       "        }    #T_7b1be26c_ea98_11ea_b380_8cec4b2d45a5row0_col4 {\n",
       "            background-color:  #3f007d;\n",
       "            color:  #f1f1f1;\n",
       "        }    #T_7b1be26c_ea98_11ea_b380_8cec4b2d45a5row0_col5 {\n",
       "            background-color:  #0d0d0d;\n",
       "            color:  #f1f1f1;\n",
       "        }    #T_7b1be26c_ea98_11ea_b380_8cec4b2d45a5row0_col6 {\n",
       "            background-color:  #c94202;\n",
       "            color:  #f1f1f1;\n",
       "        }    #T_7b1be26c_ea98_11ea_b380_8cec4b2d45a5row1_col1 {\n",
       "            background-color:  #f4503a;\n",
       "            color:  #000000;\n",
       "        }    #T_7b1be26c_ea98_11ea_b380_8cec4b2d45a5row1_col2 {\n",
       "            background-color:  #b9d6ea;\n",
       "            color:  #000000;\n",
       "        }    #T_7b1be26c_ea98_11ea_b380_8cec4b2d45a5row1_col3 {\n",
       "            background-color:  #38a156;\n",
       "            color:  #000000;\n",
       "        }    #T_7b1be26c_ea98_11ea_b380_8cec4b2d45a5row1_col4 {\n",
       "            background-color:  #c5c6e1;\n",
       "            color:  #000000;\n",
       "        }    #T_7b1be26c_ea98_11ea_b380_8cec4b2d45a5row1_col5 {\n",
       "            background-color:  #9a9a9a;\n",
       "            color:  #000000;\n",
       "        }    #T_7b1be26c_ea98_11ea_b380_8cec4b2d45a5row1_col6 {\n",
       "            background-color:  #993103;\n",
       "            color:  #f1f1f1;\n",
       "        }    #T_7b1be26c_ea98_11ea_b380_8cec4b2d45a5row2_col1 {\n",
       "            background-color:  #fb6d4d;\n",
       "            color:  #000000;\n",
       "        }    #T_7b1be26c_ea98_11ea_b380_8cec4b2d45a5row2_col2 {\n",
       "            background-color:  #dceaf6;\n",
       "            color:  #000000;\n",
       "        }    #T_7b1be26c_ea98_11ea_b380_8cec4b2d45a5row2_col3 {\n",
       "            background-color:  #79c67a;\n",
       "            color:  #000000;\n",
       "        }    #T_7b1be26c_ea98_11ea_b380_8cec4b2d45a5row2_col4 {\n",
       "            background-color:  #a8a6cf;\n",
       "            color:  #000000;\n",
       "        }    #T_7b1be26c_ea98_11ea_b380_8cec4b2d45a5row2_col5 {\n",
       "            background-color:  #d6d6d6;\n",
       "            color:  #000000;\n",
       "        }    #T_7b1be26c_ea98_11ea_b380_8cec4b2d45a5row2_col6 {\n",
       "            background-color:  #cb4302;\n",
       "            color:  #f1f1f1;\n",
       "        }    #T_7b1be26c_ea98_11ea_b380_8cec4b2d45a5row3_col1 {\n",
       "            background-color:  #fc8f6f;\n",
       "            color:  #000000;\n",
       "        }    #T_7b1be26c_ea98_11ea_b380_8cec4b2d45a5row3_col2 {\n",
       "            background-color:  #d0e1f2;\n",
       "            color:  #000000;\n",
       "        }    #T_7b1be26c_ea98_11ea_b380_8cec4b2d45a5row3_col3 {\n",
       "            background-color:  #aadda4;\n",
       "            color:  #000000;\n",
       "        }    #T_7b1be26c_ea98_11ea_b380_8cec4b2d45a5row3_col4 {\n",
       "            background-color:  #aaa8d0;\n",
       "            color:  #000000;\n",
       "        }    #T_7b1be26c_ea98_11ea_b380_8cec4b2d45a5row3_col5 {\n",
       "            background-color:  #989898;\n",
       "            color:  #000000;\n",
       "        }    #T_7b1be26c_ea98_11ea_b380_8cec4b2d45a5row3_col6 {\n",
       "            background-color:  #e15407;\n",
       "            color:  #000000;\n",
       "        }    #T_7b1be26c_ea98_11ea_b380_8cec4b2d45a5row4_col1 {\n",
       "            background-color:  #fcb79c;\n",
       "            color:  #000000;\n",
       "        }    #T_7b1be26c_ea98_11ea_b380_8cec4b2d45a5row4_col2 {\n",
       "            background-color:  #dfebf7;\n",
       "            color:  #000000;\n",
       "        }    #T_7b1be26c_ea98_11ea_b380_8cec4b2d45a5row4_col3 {\n",
       "            background-color:  #c9eac2;\n",
       "            color:  #000000;\n",
       "        }    #T_7b1be26c_ea98_11ea_b380_8cec4b2d45a5row4_col4 {\n",
       "            background-color:  #d2d2e7;\n",
       "            color:  #000000;\n",
       "        }    #T_7b1be26c_ea98_11ea_b380_8cec4b2d45a5row4_col5 {\n",
       "            background-color:  #a5a5a5;\n",
       "            color:  #000000;\n",
       "        }    #T_7b1be26c_ea98_11ea_b380_8cec4b2d45a5row4_col6 {\n",
       "            background-color:  #db4b03;\n",
       "            color:  #f1f1f1;\n",
       "        }    #T_7b1be26c_ea98_11ea_b380_8cec4b2d45a5row5_col1 {\n",
       "            background-color:  #fcbba1;\n",
       "            color:  #000000;\n",
       "        }    #T_7b1be26c_ea98_11ea_b380_8cec4b2d45a5row5_col2 {\n",
       "            background-color:  #cee0f2;\n",
       "            color:  #000000;\n",
       "        }    #T_7b1be26c_ea98_11ea_b380_8cec4b2d45a5row5_col3 {\n",
       "            background-color:  #b1e0ab;\n",
       "            color:  #000000;\n",
       "        }    #T_7b1be26c_ea98_11ea_b380_8cec4b2d45a5row5_col4 {\n",
       "            background-color:  #f2f0f7;\n",
       "            color:  #000000;\n",
       "        }    #T_7b1be26c_ea98_11ea_b380_8cec4b2d45a5row5_col5 {\n",
       "            background-color:  #464646;\n",
       "            color:  #f1f1f1;\n",
       "        }    #T_7b1be26c_ea98_11ea_b380_8cec4b2d45a5row5_col6 {\n",
       "            background-color:  #7f2704;\n",
       "            color:  #f1f1f1;\n",
       "        }    #T_7b1be26c_ea98_11ea_b380_8cec4b2d45a5row6_col1 {\n",
       "            background-color:  #fdcbb6;\n",
       "            color:  #000000;\n",
       "        }    #T_7b1be26c_ea98_11ea_b380_8cec4b2d45a5row6_col2 {\n",
       "            background-color:  #dfebf7;\n",
       "            color:  #000000;\n",
       "        }    #T_7b1be26c_ea98_11ea_b380_8cec4b2d45a5row6_col3 {\n",
       "            background-color:  #d1edcb;\n",
       "            color:  #000000;\n",
       "        }    #T_7b1be26c_ea98_11ea_b380_8cec4b2d45a5row6_col4 {\n",
       "            background-color:  #e8e7f2;\n",
       "            color:  #000000;\n",
       "        }    #T_7b1be26c_ea98_11ea_b380_8cec4b2d45a5row6_col5 {\n",
       "            background-color:  #7d7d7d;\n",
       "            color:  #000000;\n",
       "        }    #T_7b1be26c_ea98_11ea_b380_8cec4b2d45a5row6_col6 {\n",
       "            background-color:  #b83c02;\n",
       "            color:  #f1f1f1;\n",
       "        }    #T_7b1be26c_ea98_11ea_b380_8cec4b2d45a5row7_col1 {\n",
       "            background-color:  #fdd1be;\n",
       "            color:  #000000;\n",
       "        }    #T_7b1be26c_ea98_11ea_b380_8cec4b2d45a5row7_col2 {\n",
       "            background-color:  #f3f8fe;\n",
       "            color:  #000000;\n",
       "        }    #T_7b1be26c_ea98_11ea_b380_8cec4b2d45a5row7_col3 {\n",
       "            background-color:  #d9f0d3;\n",
       "            color:  #000000;\n",
       "        }    #T_7b1be26c_ea98_11ea_b380_8cec4b2d45a5row7_col4 {\n",
       "            background-color:  #eae9f3;\n",
       "            color:  #000000;\n",
       "        }    #T_7b1be26c_ea98_11ea_b380_8cec4b2d45a5row7_col5 {\n",
       "            background-color:  #f0f0f0;\n",
       "            color:  #000000;\n",
       "        }    #T_7b1be26c_ea98_11ea_b380_8cec4b2d45a5row7_col6 {\n",
       "            background-color:  #c54102;\n",
       "            color:  #f1f1f1;\n",
       "        }    #T_7b1be26c_ea98_11ea_b380_8cec4b2d45a5row8_col1 {\n",
       "            background-color:  #fed8c7;\n",
       "            color:  #000000;\n",
       "        }    #T_7b1be26c_ea98_11ea_b380_8cec4b2d45a5row8_col2 {\n",
       "            background-color:  #f1f7fd;\n",
       "            color:  #000000;\n",
       "        }    #T_7b1be26c_ea98_11ea_b380_8cec4b2d45a5row8_col3 {\n",
       "            background-color:  #dbf1d5;\n",
       "            color:  #000000;\n",
       "        }    #T_7b1be26c_ea98_11ea_b380_8cec4b2d45a5row8_col4 {\n",
       "            background-color:  #f0eef6;\n",
       "            color:  #000000;\n",
       "        }    #T_7b1be26c_ea98_11ea_b380_8cec4b2d45a5row8_col5 {\n",
       "            background-color:  #dfdfdf;\n",
       "            color:  #000000;\n",
       "        }    #T_7b1be26c_ea98_11ea_b380_8cec4b2d45a5row8_col6 {\n",
       "            background-color:  #ae3903;\n",
       "            color:  #f1f1f1;\n",
       "        }    #T_7b1be26c_ea98_11ea_b380_8cec4b2d45a5row9_col1 {\n",
       "            background-color:  #fedfd0;\n",
       "            color:  #000000;\n",
       "        }    #T_7b1be26c_ea98_11ea_b380_8cec4b2d45a5row9_col2 {\n",
       "            background-color:  #dce9f6;\n",
       "            color:  #000000;\n",
       "        }    #T_7b1be26c_ea98_11ea_b380_8cec4b2d45a5row9_col3 {\n",
       "            background-color:  #e0f3db;\n",
       "            color:  #000000;\n",
       "        }    #T_7b1be26c_ea98_11ea_b380_8cec4b2d45a5row9_col4 {\n",
       "            background-color:  #f2f0f7;\n",
       "            color:  #000000;\n",
       "        }    #T_7b1be26c_ea98_11ea_b380_8cec4b2d45a5row9_col5 {\n",
       "            background-color:  #000000;\n",
       "            color:  #f1f1f1;\n",
       "        }    #T_7b1be26c_ea98_11ea_b380_8cec4b2d45a5row9_col6 {\n",
       "            background-color:  #a83703;\n",
       "            color:  #f1f1f1;\n",
       "        }    #T_7b1be26c_ea98_11ea_b380_8cec4b2d45a5row10_col1 {\n",
       "            background-color:  #fedfd0;\n",
       "            color:  #000000;\n",
       "        }    #T_7b1be26c_ea98_11ea_b380_8cec4b2d45a5row10_col2 {\n",
       "            background-color:  #f5fafe;\n",
       "            color:  #000000;\n",
       "        }    #T_7b1be26c_ea98_11ea_b380_8cec4b2d45a5row10_col3 {\n",
       "            background-color:  #e4f5df;\n",
       "            color:  #000000;\n",
       "        }    #T_7b1be26c_ea98_11ea_b380_8cec4b2d45a5row10_col4 {\n",
       "            background-color:  #f0eef5;\n",
       "            color:  #000000;\n",
       "        }    #T_7b1be26c_ea98_11ea_b380_8cec4b2d45a5row10_col5 {\n",
       "            background-color:  #f7f7f7;\n",
       "            color:  #000000;\n",
       "        }    #T_7b1be26c_ea98_11ea_b380_8cec4b2d45a5row10_col6 {\n",
       "            background-color:  #c84202;\n",
       "            color:  #f1f1f1;\n",
       "        }    #T_7b1be26c_ea98_11ea_b380_8cec4b2d45a5row11_col1 {\n",
       "            background-color:  #fee4d8;\n",
       "            color:  #000000;\n",
       "        }    #T_7b1be26c_ea98_11ea_b380_8cec4b2d45a5row11_col2 {\n",
       "            background-color:  #eef5fc;\n",
       "            color:  #000000;\n",
       "        }    #T_7b1be26c_ea98_11ea_b380_8cec4b2d45a5row11_col3 {\n",
       "            background-color:  #e7f6e3;\n",
       "            color:  #000000;\n",
       "        }    #T_7b1be26c_ea98_11ea_b380_8cec4b2d45a5row11_col4 {\n",
       "            background-color:  #f4f2f8;\n",
       "            color:  #000000;\n",
       "        }    #T_7b1be26c_ea98_11ea_b380_8cec4b2d45a5row11_col5 {\n",
       "            background-color:  #b4b4b4;\n",
       "            color:  #000000;\n",
       "        }    #T_7b1be26c_ea98_11ea_b380_8cec4b2d45a5row11_col6 {\n",
       "            background-color:  #b13a03;\n",
       "            color:  #f1f1f1;\n",
       "        }    #T_7b1be26c_ea98_11ea_b380_8cec4b2d45a5row12_col1 {\n",
       "            background-color:  #fee4d8;\n",
       "            color:  #000000;\n",
       "        }    #T_7b1be26c_ea98_11ea_b380_8cec4b2d45a5row12_col2 {\n",
       "            background-color:  #f4f9fe;\n",
       "            color:  #000000;\n",
       "        }    #T_7b1be26c_ea98_11ea_b380_8cec4b2d45a5row12_col3 {\n",
       "            background-color:  #e8f6e4;\n",
       "            color:  #000000;\n",
       "        }    #T_7b1be26c_ea98_11ea_b380_8cec4b2d45a5row12_col4 {\n",
       "            background-color:  #f2f0f7;\n",
       "            color:  #000000;\n",
       "        }    #T_7b1be26c_ea98_11ea_b380_8cec4b2d45a5row12_col5 {\n",
       "            background-color:  #e9e9e9;\n",
       "            color:  #000000;\n",
       "        }    #T_7b1be26c_ea98_11ea_b380_8cec4b2d45a5row12_col6 {\n",
       "            background-color:  #cd4401;\n",
       "            color:  #f1f1f1;\n",
       "        }    #T_7b1be26c_ea98_11ea_b380_8cec4b2d45a5row13_col1 {\n",
       "            background-color:  #fee5d9;\n",
       "            color:  #000000;\n",
       "        }    #T_7b1be26c_ea98_11ea_b380_8cec4b2d45a5row13_col2 {\n",
       "            background-color:  #f2f8fd;\n",
       "            color:  #000000;\n",
       "        }    #T_7b1be26c_ea98_11ea_b380_8cec4b2d45a5row13_col3 {\n",
       "            background-color:  #e9f7e5;\n",
       "            color:  #000000;\n",
       "        }    #T_7b1be26c_ea98_11ea_b380_8cec4b2d45a5row13_col4 {\n",
       "            background-color:  #f4f3f8;\n",
       "            color:  #000000;\n",
       "        }    #T_7b1be26c_ea98_11ea_b380_8cec4b2d45a5row13_col5 {\n",
       "            background-color:  #dbdbdb;\n",
       "            color:  #000000;\n",
       "        }    #T_7b1be26c_ea98_11ea_b380_8cec4b2d45a5row13_col6 {\n",
       "            background-color:  #b63c02;\n",
       "            color:  #f1f1f1;\n",
       "        }    #T_7b1be26c_ea98_11ea_b380_8cec4b2d45a5row14_col1 {\n",
       "            background-color:  #fee7db;\n",
       "            color:  #000000;\n",
       "        }    #T_7b1be26c_ea98_11ea_b380_8cec4b2d45a5row14_col2 {\n",
       "            background-color:  #f3f8fe;\n",
       "            color:  #000000;\n",
       "        }    #T_7b1be26c_ea98_11ea_b380_8cec4b2d45a5row14_col3 {\n",
       "            background-color:  #e9f7e5;\n",
       "            color:  #000000;\n",
       "        }    #T_7b1be26c_ea98_11ea_b380_8cec4b2d45a5row14_col4 {\n",
       "            background-color:  #f5f4f9;\n",
       "            color:  #000000;\n",
       "        }    #T_7b1be26c_ea98_11ea_b380_8cec4b2d45a5row14_col5 {\n",
       "            background-color:  #dadada;\n",
       "            color:  #000000;\n",
       "        }    #T_7b1be26c_ea98_11ea_b380_8cec4b2d45a5row14_col6 {\n",
       "            background-color:  #b03903;\n",
       "            color:  #f1f1f1;\n",
       "        }    #T_7b1be26c_ea98_11ea_b380_8cec4b2d45a5row15_col1 {\n",
       "            background-color:  #fee7db;\n",
       "            color:  #000000;\n",
       "        }    #T_7b1be26c_ea98_11ea_b380_8cec4b2d45a5row15_col2 {\n",
       "            background-color:  #f3f8fe;\n",
       "            color:  #000000;\n",
       "        }    #T_7b1be26c_ea98_11ea_b380_8cec4b2d45a5row15_col3 {\n",
       "            background-color:  #e9f7e5;\n",
       "            color:  #000000;\n",
       "        }    #T_7b1be26c_ea98_11ea_b380_8cec4b2d45a5row15_col4 {\n",
       "            background-color:  #f5f4f9;\n",
       "            color:  #000000;\n",
       "        }    #T_7b1be26c_ea98_11ea_b380_8cec4b2d45a5row15_col5 {\n",
       "            background-color:  #dadada;\n",
       "            color:  #000000;\n",
       "        }    #T_7b1be26c_ea98_11ea_b380_8cec4b2d45a5row15_col6 {\n",
       "            background-color:  #ae3903;\n",
       "            color:  #f1f1f1;\n",
       "        }    #T_7b1be26c_ea98_11ea_b380_8cec4b2d45a5row16_col1 {\n",
       "            background-color:  #fee8dd;\n",
       "            color:  #000000;\n",
       "        }    #T_7b1be26c_ea98_11ea_b380_8cec4b2d45a5row16_col2 {\n",
       "            background-color:  #f2f8fd;\n",
       "            color:  #000000;\n",
       "        }    #T_7b1be26c_ea98_11ea_b380_8cec4b2d45a5row16_col3 {\n",
       "            background-color:  #e9f7e5;\n",
       "            color:  #000000;\n",
       "        }    #T_7b1be26c_ea98_11ea_b380_8cec4b2d45a5row16_col4 {\n",
       "            background-color:  #f8f7fa;\n",
       "            color:  #000000;\n",
       "        }    #T_7b1be26c_ea98_11ea_b380_8cec4b2d45a5row16_col5 {\n",
       "            background-color:  #c8c8c8;\n",
       "            color:  #000000;\n",
       "        }    #T_7b1be26c_ea98_11ea_b380_8cec4b2d45a5row16_col6 {\n",
       "            background-color:  #932f03;\n",
       "            color:  #f1f1f1;\n",
       "        }    #T_7b1be26c_ea98_11ea_b380_8cec4b2d45a5row17_col1 {\n",
       "            background-color:  #fee8de;\n",
       "            color:  #000000;\n",
       "        }    #T_7b1be26c_ea98_11ea_b380_8cec4b2d45a5row17_col2 {\n",
       "            background-color:  #ecf4fb;\n",
       "            color:  #000000;\n",
       "        }    #T_7b1be26c_ea98_11ea_b380_8cec4b2d45a5row17_col3 {\n",
       "            background-color:  #ecf8e8;\n",
       "            color:  #000000;\n",
       "        }    #T_7b1be26c_ea98_11ea_b380_8cec4b2d45a5row17_col4 {\n",
       "            background-color:  #f5f4f9;\n",
       "            color:  #000000;\n",
       "        }    #T_7b1be26c_ea98_11ea_b380_8cec4b2d45a5row17_col5 {\n",
       "            background-color:  #616161;\n",
       "            color:  #f1f1f1;\n",
       "        }    #T_7b1be26c_ea98_11ea_b380_8cec4b2d45a5row17_col6 {\n",
       "            background-color:  #b53b02;\n",
       "            color:  #f1f1f1;\n",
       "        }    #T_7b1be26c_ea98_11ea_b380_8cec4b2d45a5row18_col1 {\n",
       "            background-color:  #fee8de;\n",
       "            color:  #000000;\n",
       "        }    #T_7b1be26c_ea98_11ea_b380_8cec4b2d45a5row18_col2 {\n",
       "            background-color:  #f5fafe;\n",
       "            color:  #000000;\n",
       "        }    #T_7b1be26c_ea98_11ea_b380_8cec4b2d45a5row18_col3 {\n",
       "            background-color:  #edf8ea;\n",
       "            color:  #000000;\n",
       "        }    #T_7b1be26c_ea98_11ea_b380_8cec4b2d45a5row18_col4 {\n",
       "            background-color:  #f3f2f8;\n",
       "            color:  #000000;\n",
       "        }    #T_7b1be26c_ea98_11ea_b380_8cec4b2d45a5row18_col5 {\n",
       "            background-color:  #f3f3f3;\n",
       "            color:  #000000;\n",
       "        }    #T_7b1be26c_ea98_11ea_b380_8cec4b2d45a5row18_col6 {\n",
       "            background-color:  #de5005;\n",
       "            color:  #f1f1f1;\n",
       "        }    #T_7b1be26c_ea98_11ea_b380_8cec4b2d45a5row19_col1 {\n",
       "            background-color:  #ffece4;\n",
       "            color:  #000000;\n",
       "        }    #T_7b1be26c_ea98_11ea_b380_8cec4b2d45a5row19_col2 {\n",
       "            background-color:  #eff6fc;\n",
       "            color:  #000000;\n",
       "        }    #T_7b1be26c_ea98_11ea_b380_8cec4b2d45a5row19_col3 {\n",
       "            background-color:  #f0f9ed;\n",
       "            color:  #000000;\n",
       "        }    #T_7b1be26c_ea98_11ea_b380_8cec4b2d45a5row19_col4 {\n",
       "            background-color:  #f5f4f9;\n",
       "            color:  #000000;\n",
       "        }    #T_7b1be26c_ea98_11ea_b380_8cec4b2d45a5row19_col5 {\n",
       "            background-color:  #515151;\n",
       "            color:  #f1f1f1;\n",
       "        }    #T_7b1be26c_ea98_11ea_b380_8cec4b2d45a5row19_col6 {\n",
       "            background-color:  #e5590a;\n",
       "            color:  #000000;\n",
       "        }    #T_7b1be26c_ea98_11ea_b380_8cec4b2d45a5row20_col1 {\n",
       "            background-color:  #ffede5;\n",
       "            color:  #000000;\n",
       "        }    #T_7b1be26c_ea98_11ea_b380_8cec4b2d45a5row20_col2 {\n",
       "            background-color:  #f2f8fd;\n",
       "            color:  #000000;\n",
       "        }    #T_7b1be26c_ea98_11ea_b380_8cec4b2d45a5row20_col3 {\n",
       "            background-color:  #f0f9ed;\n",
       "            color:  #000000;\n",
       "        }    #T_7b1be26c_ea98_11ea_b380_8cec4b2d45a5row20_col4 {\n",
       "            background-color:  #f8f7fa;\n",
       "            color:  #000000;\n",
       "        }    #T_7b1be26c_ea98_11ea_b380_8cec4b2d45a5row20_col5 {\n",
       "            background-color:  #8a8a8a;\n",
       "            color:  #000000;\n",
       "        }    #T_7b1be26c_ea98_11ea_b380_8cec4b2d45a5row20_col6 {\n",
       "            background-color:  #bd3e02;\n",
       "            color:  #f1f1f1;\n",
       "        }    #T_7b1be26c_ea98_11ea_b380_8cec4b2d45a5row21_col1 {\n",
       "            background-color:  #ffeee7;\n",
       "            color:  #000000;\n",
       "        }    #T_7b1be26c_ea98_11ea_b380_8cec4b2d45a5row21_col2 {\n",
       "            background-color:  #f5f9fe;\n",
       "            color:  #000000;\n",
       "        }    #T_7b1be26c_ea98_11ea_b380_8cec4b2d45a5row21_col3 {\n",
       "            background-color:  #f2faf0;\n",
       "            color:  #000000;\n",
       "        }    #T_7b1be26c_ea98_11ea_b380_8cec4b2d45a5row21_col4 {\n",
       "            background-color:  #f8f6fa;\n",
       "            color:  #000000;\n",
       "        }    #T_7b1be26c_ea98_11ea_b380_8cec4b2d45a5row21_col5 {\n",
       "            background-color:  #cecece;\n",
       "            color:  #000000;\n",
       "        }    #T_7b1be26c_ea98_11ea_b380_8cec4b2d45a5row21_col6 {\n",
       "            background-color:  #e25508;\n",
       "            color:  #000000;\n",
       "        }    #T_7b1be26c_ea98_11ea_b380_8cec4b2d45a5row22_col1 {\n",
       "            background-color:  #fff1ea;\n",
       "            color:  #000000;\n",
       "        }    #T_7b1be26c_ea98_11ea_b380_8cec4b2d45a5row22_col2 {\n",
       "            background-color:  #f6faff;\n",
       "            color:  #000000;\n",
       "        }    #T_7b1be26c_ea98_11ea_b380_8cec4b2d45a5row22_col3 {\n",
       "            background-color:  #f4fbf1;\n",
       "            color:  #000000;\n",
       "        }    #T_7b1be26c_ea98_11ea_b380_8cec4b2d45a5row22_col4 {\n",
       "            background-color:  #f9f8fb;\n",
       "            color:  #000000;\n",
       "        }    #T_7b1be26c_ea98_11ea_b380_8cec4b2d45a5row22_col5 {\n",
       "            background-color:  #d5d5d5;\n",
       "            color:  #000000;\n",
       "        }    #T_7b1be26c_ea98_11ea_b380_8cec4b2d45a5row22_col6 {\n",
       "            background-color:  #dc4c03;\n",
       "            color:  #f1f1f1;\n",
       "        }    #T_7b1be26c_ea98_11ea_b380_8cec4b2d45a5row23_col1 {\n",
       "            background-color:  #fff2eb;\n",
       "            color:  #000000;\n",
       "        }    #T_7b1be26c_ea98_11ea_b380_8cec4b2d45a5row23_col2 {\n",
       "            background-color:  #f6faff;\n",
       "            color:  #000000;\n",
       "        }    #T_7b1be26c_ea98_11ea_b380_8cec4b2d45a5row23_col3 {\n",
       "            background-color:  #f4fbf2;\n",
       "            color:  #000000;\n",
       "        }    #T_7b1be26c_ea98_11ea_b380_8cec4b2d45a5row23_col4 {\n",
       "            background-color:  #faf9fc;\n",
       "            color:  #000000;\n",
       "        }    #T_7b1be26c_ea98_11ea_b380_8cec4b2d45a5row23_col5 {\n",
       "            background-color:  #c1c1c1;\n",
       "            color:  #000000;\n",
       "        }    #T_7b1be26c_ea98_11ea_b380_8cec4b2d45a5row23_col6 {\n",
       "            background-color:  #d84801;\n",
       "            color:  #f1f1f1;\n",
       "        }    #T_7b1be26c_ea98_11ea_b380_8cec4b2d45a5row24_col1 {\n",
       "            background-color:  #fff2eb;\n",
       "            color:  #000000;\n",
       "        }    #T_7b1be26c_ea98_11ea_b380_8cec4b2d45a5row24_col2 {\n",
       "            background-color:  #f6faff;\n",
       "            color:  #000000;\n",
       "        }    #T_7b1be26c_ea98_11ea_b380_8cec4b2d45a5row24_col3 {\n",
       "            background-color:  #f5fbf2;\n",
       "            color:  #000000;\n",
       "        }    #T_7b1be26c_ea98_11ea_b380_8cec4b2d45a5row24_col4 {\n",
       "            background-color:  #faf9fc;\n",
       "            color:  #000000;\n",
       "        }    #T_7b1be26c_ea98_11ea_b380_8cec4b2d45a5row24_col5 {\n",
       "            background-color:  #d6d6d6;\n",
       "            color:  #000000;\n",
       "        }    #T_7b1be26c_ea98_11ea_b380_8cec4b2d45a5row24_col6 {\n",
       "            background-color:  #da4902;\n",
       "            color:  #f1f1f1;\n",
       "        }    #T_7b1be26c_ea98_11ea_b380_8cec4b2d45a5row25_col1 {\n",
       "            background-color:  #fff3ed;\n",
       "            color:  #000000;\n",
       "        }    #T_7b1be26c_ea98_11ea_b380_8cec4b2d45a5row25_col2 {\n",
       "            background-color:  #f7fbff;\n",
       "            color:  #000000;\n",
       "        }    #T_7b1be26c_ea98_11ea_b380_8cec4b2d45a5row25_col3 {\n",
       "            background-color:  #f7fcf5;\n",
       "            color:  #000000;\n",
       "        }    #T_7b1be26c_ea98_11ea_b380_8cec4b2d45a5row25_col4 {\n",
       "            background-color:  #f7f6fa;\n",
       "            color:  #000000;\n",
       "        }    #T_7b1be26c_ea98_11ea_b380_8cec4b2d45a5row25_col5 {\n",
       "            background-color:  #ffffff;\n",
       "            color:  #000000;\n",
       "        }    #T_7b1be26c_ea98_11ea_b380_8cec4b2d45a5row25_col6 {\n",
       "            background-color:  #fff5eb;\n",
       "            color:  #000000;\n",
       "        }    #T_7b1be26c_ea98_11ea_b380_8cec4b2d45a5row26_col1 {\n",
       "            background-color:  #fff3ed;\n",
       "            color:  #000000;\n",
       "        }    #T_7b1be26c_ea98_11ea_b380_8cec4b2d45a5row26_col2 {\n",
       "            background-color:  #f6faff;\n",
       "            color:  #000000;\n",
       "        }    #T_7b1be26c_ea98_11ea_b380_8cec4b2d45a5row26_col3 {\n",
       "            background-color:  #f6fcf4;\n",
       "            color:  #000000;\n",
       "        }    #T_7b1be26c_ea98_11ea_b380_8cec4b2d45a5row26_col4 {\n",
       "            background-color:  #faf9fc;\n",
       "            color:  #000000;\n",
       "        }    #T_7b1be26c_ea98_11ea_b380_8cec4b2d45a5row26_col5 {\n",
       "            background-color:  #b4b4b4;\n",
       "            color:  #000000;\n",
       "        }    #T_7b1be26c_ea98_11ea_b380_8cec4b2d45a5row26_col6 {\n",
       "            background-color:  #ee6511;\n",
       "            color:  #000000;\n",
       "        }    #T_7b1be26c_ea98_11ea_b380_8cec4b2d45a5row27_col1 {\n",
       "            background-color:  #fff3ed;\n",
       "            color:  #000000;\n",
       "        }    #T_7b1be26c_ea98_11ea_b380_8cec4b2d45a5row27_col2 {\n",
       "            background-color:  #f7fbff;\n",
       "            color:  #000000;\n",
       "        }    #T_7b1be26c_ea98_11ea_b380_8cec4b2d45a5row27_col3 {\n",
       "            background-color:  #f5fbf3;\n",
       "            color:  #000000;\n",
       "        }    #T_7b1be26c_ea98_11ea_b380_8cec4b2d45a5row27_col4 {\n",
       "            background-color:  #fbfafc;\n",
       "            color:  #000000;\n",
       "        }    #T_7b1be26c_ea98_11ea_b380_8cec4b2d45a5row27_col5 {\n",
       "            background-color:  #dbdbdb;\n",
       "            color:  #000000;\n",
       "        }    #T_7b1be26c_ea98_11ea_b380_8cec4b2d45a5row27_col6 {\n",
       "            background-color:  #c03f02;\n",
       "            color:  #f1f1f1;\n",
       "        }    #T_7b1be26c_ea98_11ea_b380_8cec4b2d45a5row28_col1 {\n",
       "            background-color:  #fff4ef;\n",
       "            color:  #000000;\n",
       "        }    #T_7b1be26c_ea98_11ea_b380_8cec4b2d45a5row28_col2 {\n",
       "            background-color:  #f7fbff;\n",
       "            color:  #000000;\n",
       "        }    #T_7b1be26c_ea98_11ea_b380_8cec4b2d45a5row28_col3 {\n",
       "            background-color:  #f6fcf4;\n",
       "            color:  #000000;\n",
       "        }    #T_7b1be26c_ea98_11ea_b380_8cec4b2d45a5row28_col4 {\n",
       "            background-color:  #fbfafc;\n",
       "            color:  #000000;\n",
       "        }    #T_7b1be26c_ea98_11ea_b380_8cec4b2d45a5row28_col5 {\n",
       "            background-color:  #f3f3f3;\n",
       "            color:  #000000;\n",
       "        }    #T_7b1be26c_ea98_11ea_b380_8cec4b2d45a5row28_col6 {\n",
       "            background-color:  #ed6310;\n",
       "            color:  #000000;\n",
       "        }    #T_7b1be26c_ea98_11ea_b380_8cec4b2d45a5row29_col1 {\n",
       "            background-color:  #fff4ef;\n",
       "            color:  #000000;\n",
       "        }    #T_7b1be26c_ea98_11ea_b380_8cec4b2d45a5row29_col2 {\n",
       "            background-color:  #f7fbff;\n",
       "            color:  #000000;\n",
       "        }    #T_7b1be26c_ea98_11ea_b380_8cec4b2d45a5row29_col3 {\n",
       "            background-color:  #f6fcf4;\n",
       "            color:  #000000;\n",
       "        }    #T_7b1be26c_ea98_11ea_b380_8cec4b2d45a5row29_col4 {\n",
       "            background-color:  #fcfbfd;\n",
       "            color:  #000000;\n",
       "        }    #T_7b1be26c_ea98_11ea_b380_8cec4b2d45a5row29_col5 {\n",
       "            background-color:  #efefef;\n",
       "            color:  #000000;\n",
       "        }    #T_7b1be26c_ea98_11ea_b380_8cec4b2d45a5row29_col6 {\n",
       "            background-color:  #d84801;\n",
       "            color:  #f1f1f1;\n",
       "        }    #T_7b1be26c_ea98_11ea_b380_8cec4b2d45a5row30_col1 {\n",
       "            background-color:  #fff4ef;\n",
       "            color:  #000000;\n",
       "        }    #T_7b1be26c_ea98_11ea_b380_8cec4b2d45a5row30_col2 {\n",
       "            background-color:  #f7fbff;\n",
       "            color:  #000000;\n",
       "        }    #T_7b1be26c_ea98_11ea_b380_8cec4b2d45a5row30_col3 {\n",
       "            background-color:  #f7fcf5;\n",
       "            color:  #000000;\n",
       "        }    #T_7b1be26c_ea98_11ea_b380_8cec4b2d45a5row30_col4 {\n",
       "            background-color:  #fbfafc;\n",
       "            color:  #000000;\n",
       "        }    #T_7b1be26c_ea98_11ea_b380_8cec4b2d45a5row30_col5 {\n",
       "            background-color:  #f7f7f7;\n",
       "            color:  #000000;\n",
       "        }    #T_7b1be26c_ea98_11ea_b380_8cec4b2d45a5row30_col6 {\n",
       "            background-color:  #fd9040;\n",
       "            color:  #000000;\n",
       "        }    #T_7b1be26c_ea98_11ea_b380_8cec4b2d45a5row31_col1 {\n",
       "            background-color:  #fff4ef;\n",
       "            color:  #000000;\n",
       "        }    #T_7b1be26c_ea98_11ea_b380_8cec4b2d45a5row31_col2 {\n",
       "            background-color:  #f7fbff;\n",
       "            color:  #000000;\n",
       "        }    #T_7b1be26c_ea98_11ea_b380_8cec4b2d45a5row31_col3 {\n",
       "            background-color:  #f6fcf4;\n",
       "            color:  #000000;\n",
       "        }    #T_7b1be26c_ea98_11ea_b380_8cec4b2d45a5row31_col4 {\n",
       "            background-color:  #fcfbfd;\n",
       "            color:  #000000;\n",
       "        }    #T_7b1be26c_ea98_11ea_b380_8cec4b2d45a5row31_col5 {\n",
       "            background-color:  #f9f9f9;\n",
       "            color:  #000000;\n",
       "        }    #T_7b1be26c_ea98_11ea_b380_8cec4b2d45a5row31_col6 {\n",
       "            background-color:  #d14501;\n",
       "            color:  #f1f1f1;\n",
       "        }    #T_7b1be26c_ea98_11ea_b380_8cec4b2d45a5row32_col1 {\n",
       "            background-color:  #fff4ef;\n",
       "            color:  #000000;\n",
       "        }    #T_7b1be26c_ea98_11ea_b380_8cec4b2d45a5row32_col2 {\n",
       "            background-color:  #f7fbff;\n",
       "            color:  #000000;\n",
       "        }    #T_7b1be26c_ea98_11ea_b380_8cec4b2d45a5row32_col3 {\n",
       "            background-color:  #f7fcf5;\n",
       "            color:  #000000;\n",
       "        }    #T_7b1be26c_ea98_11ea_b380_8cec4b2d45a5row32_col4 {\n",
       "            background-color:  #fcfbfd;\n",
       "            color:  #000000;\n",
       "        }    #T_7b1be26c_ea98_11ea_b380_8cec4b2d45a5row32_col5 {\n",
       "            background-color:  #c5c5c5;\n",
       "            color:  #000000;\n",
       "        }    #T_7b1be26c_ea98_11ea_b380_8cec4b2d45a5row32_col6 {\n",
       "            background-color:  #f3701b;\n",
       "            color:  #000000;\n",
       "        }    #T_7b1be26c_ea98_11ea_b380_8cec4b2d45a5row33_col1 {\n",
       "            background-color:  #fff5f0;\n",
       "            color:  #000000;\n",
       "        }    #T_7b1be26c_ea98_11ea_b380_8cec4b2d45a5row33_col2 {\n",
       "            background-color:  #f7fbff;\n",
       "            color:  #000000;\n",
       "        }    #T_7b1be26c_ea98_11ea_b380_8cec4b2d45a5row33_col3 {\n",
       "            background-color:  #f7fcf5;\n",
       "            color:  #000000;\n",
       "        }    #T_7b1be26c_ea98_11ea_b380_8cec4b2d45a5row33_col4 {\n",
       "            background-color:  #fcfbfd;\n",
       "            color:  #000000;\n",
       "        }    #T_7b1be26c_ea98_11ea_b380_8cec4b2d45a5row33_col5 {\n",
       "            background-color:  #bababa;\n",
       "            color:  #000000;\n",
       "        }    #T_7b1be26c_ea98_11ea_b380_8cec4b2d45a5row33_col6 {\n",
       "            background-color:  #f4721e;\n",
       "            color:  #000000;\n",
       "        }    #T_7b1be26c_ea98_11ea_b380_8cec4b2d45a5row34_col1 {\n",
       "            background-color:  #fff5f0;\n",
       "            color:  #000000;\n",
       "        }    #T_7b1be26c_ea98_11ea_b380_8cec4b2d45a5row34_col2 {\n",
       "            background-color:  #f7fbff;\n",
       "            color:  #000000;\n",
       "        }    #T_7b1be26c_ea98_11ea_b380_8cec4b2d45a5row34_col3 {\n",
       "            background-color:  #f7fcf5;\n",
       "            color:  #000000;\n",
       "        }    #T_7b1be26c_ea98_11ea_b380_8cec4b2d45a5row34_col4 {\n",
       "            background-color:  #fcfbfd;\n",
       "            color:  #000000;\n",
       "        }    #T_7b1be26c_ea98_11ea_b380_8cec4b2d45a5row34_col5 {\n",
       "            background-color:  #e2e2e2;\n",
       "            color:  #000000;\n",
       "        }    #T_7b1be26c_ea98_11ea_b380_8cec4b2d45a5row34_col6 {\n",
       "            background-color:  #d04501;\n",
       "            color:  #f1f1f1;\n",
       "        }    #T_7b1be26c_ea98_11ea_b380_8cec4b2d45a5row35_col1 {\n",
       "            background-color:  #fff5f0;\n",
       "            color:  #000000;\n",
       "        }    #T_7b1be26c_ea98_11ea_b380_8cec4b2d45a5row35_col2 {\n",
       "            background-color:  #f7fbff;\n",
       "            color:  #000000;\n",
       "        }    #T_7b1be26c_ea98_11ea_b380_8cec4b2d45a5row35_col3 {\n",
       "            background-color:  #f7fcf5;\n",
       "            color:  #000000;\n",
       "        }    #T_7b1be26c_ea98_11ea_b380_8cec4b2d45a5row35_col4 {\n",
       "            background-color:  #fcfbfd;\n",
       "            color:  #000000;\n",
       "        }    #T_7b1be26c_ea98_11ea_b380_8cec4b2d45a5row35_col5 {\n",
       "            background-color:  #fcfcfc;\n",
       "            color:  #000000;\n",
       "        }    #T_7b1be26c_ea98_11ea_b380_8cec4b2d45a5row35_col6 {\n",
       "            background-color:  #b03903;\n",
       "            color:  #f1f1f1;\n",
       "        }    #T_7b1be26c_ea98_11ea_b380_8cec4b2d45a5row36_col1 {\n",
       "            background-color:  #fff5f0;\n",
       "            color:  #000000;\n",
       "        }    #T_7b1be26c_ea98_11ea_b380_8cec4b2d45a5row36_col2 {\n",
       "            background-color:  #f7fbff;\n",
       "            color:  #000000;\n",
       "        }    #T_7b1be26c_ea98_11ea_b380_8cec4b2d45a5row36_col3 {\n",
       "            background-color:  #f7fcf5;\n",
       "            color:  #000000;\n",
       "        }    #T_7b1be26c_ea98_11ea_b380_8cec4b2d45a5row36_col4 {\n",
       "            background-color:  #fcfbfd;\n",
       "            color:  #000000;\n",
       "        }    #T_7b1be26c_ea98_11ea_b380_8cec4b2d45a5row36_col5 {\n",
       "            background-color:  #f1f1f1;\n",
       "            color:  #000000;\n",
       "        }    #T_7b1be26c_ea98_11ea_b380_8cec4b2d45a5row36_col6 {\n",
       "            background-color:  #fa8532;\n",
       "            color:  #000000;\n",
       "        }    #T_7b1be26c_ea98_11ea_b380_8cec4b2d45a5row37_col1 {\n",
       "            background-color:  #fff5f0;\n",
       "            color:  #000000;\n",
       "        }    #T_7b1be26c_ea98_11ea_b380_8cec4b2d45a5row37_col2 {\n",
       "            background-color:  #f7fbff;\n",
       "            color:  #000000;\n",
       "        }    #T_7b1be26c_ea98_11ea_b380_8cec4b2d45a5row37_col3 {\n",
       "            background-color:  #f7fcf5;\n",
       "            color:  #000000;\n",
       "        }    #T_7b1be26c_ea98_11ea_b380_8cec4b2d45a5row37_col4 {\n",
       "            background-color:  #fcfbfd;\n",
       "            color:  #000000;\n",
       "        }    #T_7b1be26c_ea98_11ea_b380_8cec4b2d45a5row37_col5 {\n",
       "            background-color:  #fdfdfd;\n",
       "            color:  #000000;\n",
       "        }    #T_7b1be26c_ea98_11ea_b380_8cec4b2d45a5row37_col6 {\n",
       "            background-color:  #eb610f;\n",
       "            color:  #000000;\n",
       "        }    #T_7b1be26c_ea98_11ea_b380_8cec4b2d45a5row38_col1 {\n",
       "            background-color:  #fff5f0;\n",
       "            color:  #000000;\n",
       "        }    #T_7b1be26c_ea98_11ea_b380_8cec4b2d45a5row38_col2 {\n",
       "            background-color:  #f7fbff;\n",
       "            color:  #000000;\n",
       "        }    #T_7b1be26c_ea98_11ea_b380_8cec4b2d45a5row38_col3 {\n",
       "            background-color:  #f7fcf5;\n",
       "            color:  #000000;\n",
       "        }    #T_7b1be26c_ea98_11ea_b380_8cec4b2d45a5row38_col4 {\n",
       "            background-color:  #fcfbfd;\n",
       "            color:  #000000;\n",
       "        }    #T_7b1be26c_ea98_11ea_b380_8cec4b2d45a5row38_col5 {\n",
       "            background-color:  #ffffff;\n",
       "            color:  #000000;\n",
       "        }    #T_7b1be26c_ea98_11ea_b380_8cec4b2d45a5row38_col6 {\n",
       "            background-color:  #fb8735;\n",
       "            color:  #000000;\n",
       "        }    #T_7b1be26c_ea98_11ea_b380_8cec4b2d45a5row39_col1 {\n",
       "            background-color:  #fff5f0;\n",
       "            color:  #000000;\n",
       "        }    #T_7b1be26c_ea98_11ea_b380_8cec4b2d45a5row39_col2 {\n",
       "            background-color:  #f7fbff;\n",
       "            color:  #000000;\n",
       "        }    #T_7b1be26c_ea98_11ea_b380_8cec4b2d45a5row39_col3 {\n",
       "            background-color:  #f7fcf5;\n",
       "            color:  #000000;\n",
       "        }    #T_7b1be26c_ea98_11ea_b380_8cec4b2d45a5row39_col4 {\n",
       "            background-color:  #fcfbfd;\n",
       "            color:  #000000;\n",
       "        }    #T_7b1be26c_ea98_11ea_b380_8cec4b2d45a5row39_col5 {\n",
       "            background-color:  #ffffff;\n",
       "            color:  #000000;\n",
       "        }    #T_7b1be26c_ea98_11ea_b380_8cec4b2d45a5row39_col6 {\n",
       "            background-color:  #fff5eb;\n",
       "            color:  #000000;\n",
       "        }    #T_7b1be26c_ea98_11ea_b380_8cec4b2d45a5row40_col1 {\n",
       "            background-color:  #fff5f0;\n",
       "            color:  #000000;\n",
       "        }    #T_7b1be26c_ea98_11ea_b380_8cec4b2d45a5row40_col2 {\n",
       "            background-color:  #f7fbff;\n",
       "            color:  #000000;\n",
       "        }    #T_7b1be26c_ea98_11ea_b380_8cec4b2d45a5row40_col3 {\n",
       "            background-color:  #f7fcf5;\n",
       "            color:  #000000;\n",
       "        }    #T_7b1be26c_ea98_11ea_b380_8cec4b2d45a5row40_col4 {\n",
       "            background-color:  #fcfbfd;\n",
       "            color:  #000000;\n",
       "        }    #T_7b1be26c_ea98_11ea_b380_8cec4b2d45a5row40_col5 {\n",
       "            background-color:  #ffffff;\n",
       "            color:  #000000;\n",
       "        }    #T_7b1be26c_ea98_11ea_b380_8cec4b2d45a5row40_col6 {\n",
       "            background-color:  #feebd8;\n",
       "            color:  #000000;\n",
       "        }    #T_7b1be26c_ea98_11ea_b380_8cec4b2d45a5row41_col1 {\n",
       "            background-color:  #fff5f0;\n",
       "            color:  #000000;\n",
       "        }    #T_7b1be26c_ea98_11ea_b380_8cec4b2d45a5row41_col2 {\n",
       "            background-color:  #f7fbff;\n",
       "            color:  #000000;\n",
       "        }    #T_7b1be26c_ea98_11ea_b380_8cec4b2d45a5row41_col3 {\n",
       "            background-color:  #f7fcf5;\n",
       "            color:  #000000;\n",
       "        }    #T_7b1be26c_ea98_11ea_b380_8cec4b2d45a5row41_col4 {\n",
       "            background-color:  #fcfbfd;\n",
       "            color:  #000000;\n",
       "        }    #T_7b1be26c_ea98_11ea_b380_8cec4b2d45a5row41_col5 {\n",
       "            background-color:  #ffffff;\n",
       "            color:  #000000;\n",
       "        }    #T_7b1be26c_ea98_11ea_b380_8cec4b2d45a5row41_col6 {\n",
       "            background-color:  #fff5eb;\n",
       "            color:  #000000;\n",
       "        }</style><table id=\"T_7b1be26c_ea98_11ea_b380_8cec4b2d45a5\" ><thead>    <tr>        <th class=\"blank level0\" ></th>        <th class=\"col_heading level0 col0\" >State/UnionTerritory</th>        <th class=\"col_heading level0 col1\" >Confirmed</th>        <th class=\"col_heading level0 col2\" >Deaths</th>        <th class=\"col_heading level0 col3\" >Cured</th>        <th class=\"col_heading level0 col4\" >Active</th>        <th class=\"col_heading level0 col5\" >Death Rate (per 100)</th>        <th class=\"col_heading level0 col6\" >Cure Rate (per 100)</th>    </tr></thead><tbody>\n",
       "                <tr>\n",
       "                        <th id=\"T_7b1be26c_ea98_11ea_b380_8cec4b2d45a5level0_row0\" class=\"row_heading level0 row0\" >22</th>\n",
       "                        <td id=\"T_7b1be26c_ea98_11ea_b380_8cec4b2d45a5row0_col0\" class=\"data row0 col0\" >Maharashtra</td>\n",
       "                        <td id=\"T_7b1be26c_ea98_11ea_b380_8cec4b2d45a5row0_col1\" class=\"data row0 col1\" >604358</td>\n",
       "                        <td id=\"T_7b1be26c_ea98_11ea_b380_8cec4b2d45a5row0_col2\" class=\"data row0 col2\" >20265</td>\n",
       "                        <td id=\"T_7b1be26c_ea98_11ea_b380_8cec4b2d45a5row0_col3\" class=\"data row0 col3\" >428514</td>\n",
       "                        <td id=\"T_7b1be26c_ea98_11ea_b380_8cec4b2d45a5row0_col4\" class=\"data row0 col4\" >196109</td>\n",
       "                        <td id=\"T_7b1be26c_ea98_11ea_b380_8cec4b2d45a5row0_col5\" class=\"data row0 col5\" >3.350000</td>\n",
       "                        <td id=\"T_7b1be26c_ea98_11ea_b380_8cec4b2d45a5row0_col6\" class=\"data row0 col6\" >70.900000</td>\n",
       "            </tr>\n",
       "            <tr>\n",
       "                        <th id=\"T_7b1be26c_ea98_11ea_b380_8cec4b2d45a5level0_row1\" class=\"row_heading level0 row1\" >32</th>\n",
       "                        <td id=\"T_7b1be26c_ea98_11ea_b380_8cec4b2d45a5row1_col0\" class=\"data row1 col0\" >Tamil Nadu</td>\n",
       "                        <td id=\"T_7b1be26c_ea98_11ea_b380_8cec4b2d45a5row1_col1\" class=\"data row1 col1\" >343945</td>\n",
       "                        <td id=\"T_7b1be26c_ea98_11ea_b380_8cec4b2d45a5row1_col2\" class=\"data row1 col2\" >5886</td>\n",
       "                        <td id=\"T_7b1be26c_ea98_11ea_b380_8cec4b2d45a5row1_col3\" class=\"data row1 col3\" >283937</td>\n",
       "                        <td id=\"T_7b1be26c_ea98_11ea_b380_8cec4b2d45a5row1_col4\" class=\"data row1 col4\" >65894</td>\n",
       "                        <td id=\"T_7b1be26c_ea98_11ea_b380_8cec4b2d45a5row1_col5\" class=\"data row1 col5\" >1.710000</td>\n",
       "                        <td id=\"T_7b1be26c_ea98_11ea_b380_8cec4b2d45a5row1_col6\" class=\"data row1 col6\" >82.550000</td>\n",
       "            </tr>\n",
       "            <tr>\n",
       "                        <th id=\"T_7b1be26c_ea98_11ea_b380_8cec4b2d45a5level0_row2\" class=\"row_heading level0 row2\" >1</th>\n",
       "                        <td id=\"T_7b1be26c_ea98_11ea_b380_8cec4b2d45a5row2_col0\" class=\"data row2 col0\" >Andhra Pradesh</td>\n",
       "                        <td id=\"T_7b1be26c_ea98_11ea_b380_8cec4b2d45a5row2_col1\" class=\"data row2 col1\" >296609</td>\n",
       "                        <td id=\"T_7b1be26c_ea98_11ea_b380_8cec4b2d45a5row2_col2\" class=\"data row2 col2\" >2732</td>\n",
       "                        <td id=\"T_7b1be26c_ea98_11ea_b380_8cec4b2d45a5row2_col3\" class=\"data row2 col3\" >209100</td>\n",
       "                        <td id=\"T_7b1be26c_ea98_11ea_b380_8cec4b2d45a5row2_col4\" class=\"data row2 col4\" >90241</td>\n",
       "                        <td id=\"T_7b1be26c_ea98_11ea_b380_8cec4b2d45a5row2_col5\" class=\"data row2 col5\" >0.920000</td>\n",
       "                        <td id=\"T_7b1be26c_ea98_11ea_b380_8cec4b2d45a5row2_col6\" class=\"data row2 col6\" >70.500000</td>\n",
       "            </tr>\n",
       "            <tr>\n",
       "                        <th id=\"T_7b1be26c_ea98_11ea_b380_8cec4b2d45a5level0_row3\" class=\"row_heading level0 row3\" >18</th>\n",
       "                        <td id=\"T_7b1be26c_ea98_11ea_b380_8cec4b2d45a5row3_col0\" class=\"data row3 col0\" >Karnataka</td>\n",
       "                        <td id=\"T_7b1be26c_ea98_11ea_b380_8cec4b2d45a5row3_col1\" class=\"data row3 col1\" >233283</td>\n",
       "                        <td id=\"T_7b1be26c_ea98_11ea_b380_8cec4b2d45a5row3_col2\" class=\"data row3 col2\" >4062</td>\n",
       "                        <td id=\"T_7b1be26c_ea98_11ea_b380_8cec4b2d45a5row3_col3\" class=\"data row3 col3\" >148562</td>\n",
       "                        <td id=\"T_7b1be26c_ea98_11ea_b380_8cec4b2d45a5row3_col4\" class=\"data row3 col4\" >88783</td>\n",
       "                        <td id=\"T_7b1be26c_ea98_11ea_b380_8cec4b2d45a5row3_col5\" class=\"data row3 col5\" >1.740000</td>\n",
       "                        <td id=\"T_7b1be26c_ea98_11ea_b380_8cec4b2d45a5row3_col6\" class=\"data row3 col6\" >63.680000</td>\n",
       "            </tr>\n",
       "            <tr>\n",
       "                        <th id=\"T_7b1be26c_ea98_11ea_b380_8cec4b2d45a5level0_row4\" class=\"row_heading level0 row4\" >39</th>\n",
       "                        <td id=\"T_7b1be26c_ea98_11ea_b380_8cec4b2d45a5row4_col0\" class=\"data row4 col0\" >Uttar Pradesh</td>\n",
       "                        <td id=\"T_7b1be26c_ea98_11ea_b380_8cec4b2d45a5row4_col1\" class=\"data row4 col1\" >158216</td>\n",
       "                        <td id=\"T_7b1be26c_ea98_11ea_b380_8cec4b2d45a5row4_col2\" class=\"data row4 col2\" >2515</td>\n",
       "                        <td id=\"T_7b1be26c_ea98_11ea_b380_8cec4b2d45a5row4_col3\" class=\"data row4 col3\" >104808</td>\n",
       "                        <td id=\"T_7b1be26c_ea98_11ea_b380_8cec4b2d45a5row4_col4\" class=\"data row4 col4\" >55923</td>\n",
       "                        <td id=\"T_7b1be26c_ea98_11ea_b380_8cec4b2d45a5row4_col5\" class=\"data row4 col5\" >1.590000</td>\n",
       "                        <td id=\"T_7b1be26c_ea98_11ea_b380_8cec4b2d45a5row4_col6\" class=\"data row4 col6\" >66.240000</td>\n",
       "            </tr>\n",
       "            <tr>\n",
       "                        <th id=\"T_7b1be26c_ea98_11ea_b380_8cec4b2d45a5level0_row5\" class=\"row_heading level0 row5\" >11</th>\n",
       "                        <td id=\"T_7b1be26c_ea98_11ea_b380_8cec4b2d45a5row5_col0\" class=\"data row5 col0\" >Delhi</td>\n",
       "                        <td id=\"T_7b1be26c_ea98_11ea_b380_8cec4b2d45a5row5_col1\" class=\"data row5 col1\" >153367</td>\n",
       "                        <td id=\"T_7b1be26c_ea98_11ea_b380_8cec4b2d45a5row5_col2\" class=\"data row5 col2\" >4214</td>\n",
       "                        <td id=\"T_7b1be26c_ea98_11ea_b380_8cec4b2d45a5row5_col3\" class=\"data row5 col3\" >138301</td>\n",
       "                        <td id=\"T_7b1be26c_ea98_11ea_b380_8cec4b2d45a5row5_col4\" class=\"data row5 col4\" >19280</td>\n",
       "                        <td id=\"T_7b1be26c_ea98_11ea_b380_8cec4b2d45a5row5_col5\" class=\"data row5 col5\" >2.750000</td>\n",
       "                        <td id=\"T_7b1be26c_ea98_11ea_b380_8cec4b2d45a5row5_col6\" class=\"data row5 col6\" >90.180000</td>\n",
       "            </tr>\n",
       "            <tr>\n",
       "                        <th id=\"T_7b1be26c_ea98_11ea_b380_8cec4b2d45a5level0_row6\" class=\"row_heading level0 row6\" >41</th>\n",
       "                        <td id=\"T_7b1be26c_ea98_11ea_b380_8cec4b2d45a5row6_col0\" class=\"data row6 col0\" >West Bengal</td>\n",
       "                        <td id=\"T_7b1be26c_ea98_11ea_b380_8cec4b2d45a5row6_col1\" class=\"data row6 col1\" >119578</td>\n",
       "                        <td id=\"T_7b1be26c_ea98_11ea_b380_8cec4b2d45a5row6_col2\" class=\"data row6 col2\" >2473</td>\n",
       "                        <td id=\"T_7b1be26c_ea98_11ea_b380_8cec4b2d45a5row6_col3\" class=\"data row6 col3\" >89703</td>\n",
       "                        <td id=\"T_7b1be26c_ea98_11ea_b380_8cec4b2d45a5row6_col4\" class=\"data row6 col4\" >32348</td>\n",
       "                        <td id=\"T_7b1be26c_ea98_11ea_b380_8cec4b2d45a5row6_col5\" class=\"data row6 col5\" >2.070000</td>\n",
       "                        <td id=\"T_7b1be26c_ea98_11ea_b380_8cec4b2d45a5row6_col6\" class=\"data row6 col6\" >75.020000</td>\n",
       "            </tr>\n",
       "            <tr>\n",
       "                        <th id=\"T_7b1be26c_ea98_11ea_b380_8cec4b2d45a5level0_row7\" class=\"row_heading level0 row7\" >4</th>\n",
       "                        <td id=\"T_7b1be26c_ea98_11ea_b380_8cec4b2d45a5row7_col0\" class=\"data row7 col0\" >Bihar</td>\n",
       "                        <td id=\"T_7b1be26c_ea98_11ea_b380_8cec4b2d45a5row7_col1\" class=\"data row7 col1\" >106307</td>\n",
       "                        <td id=\"T_7b1be26c_ea98_11ea_b380_8cec4b2d45a5row7_col2\" class=\"data row7 col2\" >468</td>\n",
       "                        <td id=\"T_7b1be26c_ea98_11ea_b380_8cec4b2d45a5row7_col3\" class=\"data row7 col3\" >76452</td>\n",
       "                        <td id=\"T_7b1be26c_ea98_11ea_b380_8cec4b2d45a5row7_col4\" class=\"data row7 col4\" >30323</td>\n",
       "                        <td id=\"T_7b1be26c_ea98_11ea_b380_8cec4b2d45a5row7_col5\" class=\"data row7 col5\" >0.440000</td>\n",
       "                        <td id=\"T_7b1be26c_ea98_11ea_b380_8cec4b2d45a5row7_col6\" class=\"data row7 col6\" >71.920000</td>\n",
       "            </tr>\n",
       "            <tr>\n",
       "                        <th id=\"T_7b1be26c_ea98_11ea_b380_8cec4b2d45a5level0_row8\" class=\"row_heading level0 row8\" >35</th>\n",
       "                        <td id=\"T_7b1be26c_ea98_11ea_b380_8cec4b2d45a5row8_col0\" class=\"data row8 col0\" >Telengana</td>\n",
       "                        <td id=\"T_7b1be26c_ea98_11ea_b380_8cec4b2d45a5row8_col1\" class=\"data row8 col1\" >93937</td>\n",
       "                        <td id=\"T_7b1be26c_ea98_11ea_b380_8cec4b2d45a5row8_col2\" class=\"data row8 col2\" >711</td>\n",
       "                        <td id=\"T_7b1be26c_ea98_11ea_b380_8cec4b2d45a5row8_col3\" class=\"data row8 col3\" >72202</td>\n",
       "                        <td id=\"T_7b1be26c_ea98_11ea_b380_8cec4b2d45a5row8_col4\" class=\"data row8 col4\" >22446</td>\n",
       "                        <td id=\"T_7b1be26c_ea98_11ea_b380_8cec4b2d45a5row8_col5\" class=\"data row8 col5\" >0.760000</td>\n",
       "                        <td id=\"T_7b1be26c_ea98_11ea_b380_8cec4b2d45a5row8_col6\" class=\"data row8 col6\" >76.860000</td>\n",
       "            </tr>\n",
       "            <tr>\n",
       "                        <th id=\"T_7b1be26c_ea98_11ea_b380_8cec4b2d45a5level0_row9\" class=\"row_heading level0 row9\" >13</th>\n",
       "                        <td id=\"T_7b1be26c_ea98_11ea_b380_8cec4b2d45a5row9_col0\" class=\"data row9 col0\" >Gujarat</td>\n",
       "                        <td id=\"T_7b1be26c_ea98_11ea_b380_8cec4b2d45a5row9_col1\" class=\"data row9 col1\" >79710</td>\n",
       "                        <td id=\"T_7b1be26c_ea98_11ea_b380_8cec4b2d45a5row9_col2\" class=\"data row9 col2\" >2800</td>\n",
       "                        <td id=\"T_7b1be26c_ea98_11ea_b380_8cec4b2d45a5row9_col3\" class=\"data row9 col3\" >62595</td>\n",
       "                        <td id=\"T_7b1be26c_ea98_11ea_b380_8cec4b2d45a5row9_col4\" class=\"data row9 col4\" >19915</td>\n",
       "                        <td id=\"T_7b1be26c_ea98_11ea_b380_8cec4b2d45a5row9_col5\" class=\"data row9 col5\" >3.510000</td>\n",
       "                        <td id=\"T_7b1be26c_ea98_11ea_b380_8cec4b2d45a5row9_col6\" class=\"data row9 col6\" >78.530000</td>\n",
       "            </tr>\n",
       "            <tr>\n",
       "                        <th id=\"T_7b1be26c_ea98_11ea_b380_8cec4b2d45a5level0_row10\" class=\"row_heading level0 row10\" >3</th>\n",
       "                        <td id=\"T_7b1be26c_ea98_11ea_b380_8cec4b2d45a5row10_col0\" class=\"data row10 col0\" >Assam</td>\n",
       "                        <td id=\"T_7b1be26c_ea98_11ea_b380_8cec4b2d45a5row10_col1\" class=\"data row10 col1\" >79667</td>\n",
       "                        <td id=\"T_7b1be26c_ea98_11ea_b380_8cec4b2d45a5row10_col2\" class=\"data row10 col2\" >197</td>\n",
       "                        <td id=\"T_7b1be26c_ea98_11ea_b380_8cec4b2d45a5row10_col3\" class=\"data row10 col3\" >56734</td>\n",
       "                        <td id=\"T_7b1be26c_ea98_11ea_b380_8cec4b2d45a5row10_col4\" class=\"data row10 col4\" >23130</td>\n",
       "                        <td id=\"T_7b1be26c_ea98_11ea_b380_8cec4b2d45a5row10_col5\" class=\"data row10 col5\" >0.250000</td>\n",
       "                        <td id=\"T_7b1be26c_ea98_11ea_b380_8cec4b2d45a5row10_col6\" class=\"data row10 col6\" >71.210000</td>\n",
       "            </tr>\n",
       "            <tr>\n",
       "                        <th id=\"T_7b1be26c_ea98_11ea_b380_8cec4b2d45a5level0_row11\" class=\"row_heading level0 row11\" >30</th>\n",
       "                        <td id=\"T_7b1be26c_ea98_11ea_b380_8cec4b2d45a5row11_col0\" class=\"data row11 col0\" >Rajasthan</td>\n",
       "                        <td id=\"T_7b1be26c_ea98_11ea_b380_8cec4b2d45a5row11_col1\" class=\"data row11 col1\" >62630</td>\n",
       "                        <td id=\"T_7b1be26c_ea98_11ea_b380_8cec4b2d45a5row11_col2\" class=\"data row11 col2\" >887</td>\n",
       "                        <td id=\"T_7b1be26c_ea98_11ea_b380_8cec4b2d45a5row11_col3\" class=\"data row11 col3\" >47654</td>\n",
       "                        <td id=\"T_7b1be26c_ea98_11ea_b380_8cec4b2d45a5row11_col4\" class=\"data row11 col4\" >15863</td>\n",
       "                        <td id=\"T_7b1be26c_ea98_11ea_b380_8cec4b2d45a5row11_col5\" class=\"data row11 col5\" >1.420000</td>\n",
       "                        <td id=\"T_7b1be26c_ea98_11ea_b380_8cec4b2d45a5row11_col6\" class=\"data row11 col6\" >76.090000</td>\n",
       "            </tr>\n",
       "            <tr>\n",
       "                        <th id=\"T_7b1be26c_ea98_11ea_b380_8cec4b2d45a5level0_row12\" class=\"row_heading level0 row12\" >27</th>\n",
       "                        <td id=\"T_7b1be26c_ea98_11ea_b380_8cec4b2d45a5row12_col0\" class=\"data row12 col0\" >Odisha</td>\n",
       "                        <td id=\"T_7b1be26c_ea98_11ea_b380_8cec4b2d45a5row12_col1\" class=\"data row12 col1\" >62294</td>\n",
       "                        <td id=\"T_7b1be26c_ea98_11ea_b380_8cec4b2d45a5row12_col2\" class=\"data row12 col2\" >353</td>\n",
       "                        <td id=\"T_7b1be26c_ea98_11ea_b380_8cec4b2d45a5row12_col3\" class=\"data row12 col3\" >43780</td>\n",
       "                        <td id=\"T_7b1be26c_ea98_11ea_b380_8cec4b2d45a5row12_col4\" class=\"data row12 col4\" >18867</td>\n",
       "                        <td id=\"T_7b1be26c_ea98_11ea_b380_8cec4b2d45a5row12_col5\" class=\"data row12 col5\" >0.570000</td>\n",
       "                        <td id=\"T_7b1be26c_ea98_11ea_b380_8cec4b2d45a5row12_col6\" class=\"data row12 col6\" >70.280000</td>\n",
       "            </tr>\n",
       "            <tr>\n",
       "                        <th id=\"T_7b1be26c_ea98_11ea_b380_8cec4b2d45a5level0_row13\" class=\"row_heading level0 row13\" >36</th>\n",
       "                        <td id=\"T_7b1be26c_ea98_11ea_b380_8cec4b2d45a5row13_col0\" class=\"data row13 col0\" >Telengana***</td>\n",
       "                        <td id=\"T_7b1be26c_ea98_11ea_b380_8cec4b2d45a5row13_col1\" class=\"data row13 col1\" >57142</td>\n",
       "                        <td id=\"T_7b1be26c_ea98_11ea_b380_8cec4b2d45a5row13_col2\" class=\"data row13 col2\" >480</td>\n",
       "                        <td id=\"T_7b1be26c_ea98_11ea_b380_8cec4b2d45a5row13_col3\" class=\"data row13 col3\" >42909</td>\n",
       "                        <td id=\"T_7b1be26c_ea98_11ea_b380_8cec4b2d45a5row13_col4\" class=\"data row13 col4\" >14713</td>\n",
       "                        <td id=\"T_7b1be26c_ea98_11ea_b380_8cec4b2d45a5row13_col5\" class=\"data row13 col5\" >0.840000</td>\n",
       "                        <td id=\"T_7b1be26c_ea98_11ea_b380_8cec4b2d45a5row13_col6\" class=\"data row13 col6\" >75.090000</td>\n",
       "            </tr>\n",
       "            <tr>\n",
       "                        <th id=\"T_7b1be26c_ea98_11ea_b380_8cec4b2d45a5level0_row14\" class=\"row_heading level0 row14\" >33</th>\n",
       "                        <td id=\"T_7b1be26c_ea98_11ea_b380_8cec4b2d45a5row14_col0\" class=\"data row14 col0\" >Telangana</td>\n",
       "                        <td id=\"T_7b1be26c_ea98_11ea_b380_8cec4b2d45a5row14_col1\" class=\"data row14 col1\" >54059</td>\n",
       "                        <td id=\"T_7b1be26c_ea98_11ea_b380_8cec4b2d45a5row14_col2\" class=\"data row14 col2\" >463</td>\n",
       "                        <td id=\"T_7b1be26c_ea98_11ea_b380_8cec4b2d45a5row14_col3\" class=\"data row14 col3\" >41332</td>\n",
       "                        <td id=\"T_7b1be26c_ea98_11ea_b380_8cec4b2d45a5row14_col4\" class=\"data row14 col4\" >13190</td>\n",
       "                        <td id=\"T_7b1be26c_ea98_11ea_b380_8cec4b2d45a5row14_col5\" class=\"data row14 col5\" >0.860000</td>\n",
       "                        <td id=\"T_7b1be26c_ea98_11ea_b380_8cec4b2d45a5row14_col6\" class=\"data row14 col6\" >76.460000</td>\n",
       "            </tr>\n",
       "            <tr>\n",
       "                        <th id=\"T_7b1be26c_ea98_11ea_b380_8cec4b2d45a5level0_row15\" class=\"row_heading level0 row15\" >34</th>\n",
       "                        <td id=\"T_7b1be26c_ea98_11ea_b380_8cec4b2d45a5row15_col0\" class=\"data row15 col0\" >Telangana***</td>\n",
       "                        <td id=\"T_7b1be26c_ea98_11ea_b380_8cec4b2d45a5row15_col1\" class=\"data row15 col1\" >52466</td>\n",
       "                        <td id=\"T_7b1be26c_ea98_11ea_b380_8cec4b2d45a5row15_col2\" class=\"data row15 col2\" >455</td>\n",
       "                        <td id=\"T_7b1be26c_ea98_11ea_b380_8cec4b2d45a5row15_col3\" class=\"data row15 col3\" >40334</td>\n",
       "                        <td id=\"T_7b1be26c_ea98_11ea_b380_8cec4b2d45a5row15_col4\" class=\"data row15 col4\" >12587</td>\n",
       "                        <td id=\"T_7b1be26c_ea98_11ea_b380_8cec4b2d45a5row15_col5\" class=\"data row15 col5\" >0.870000</td>\n",
       "                        <td id=\"T_7b1be26c_ea98_11ea_b380_8cec4b2d45a5row15_col6\" class=\"data row15 col6\" >76.880000</td>\n",
       "            </tr>\n",
       "            <tr>\n",
       "                        <th id=\"T_7b1be26c_ea98_11ea_b380_8cec4b2d45a5level0_row16\" class=\"row_heading level0 row16\" >14</th>\n",
       "                        <td id=\"T_7b1be26c_ea98_11ea_b380_8cec4b2d45a5row16_col0\" class=\"data row16 col0\" >Haryana</td>\n",
       "                        <td id=\"T_7b1be26c_ea98_11ea_b380_8cec4b2d45a5row16_col1\" class=\"data row16 col1\" >48040</td>\n",
       "                        <td id=\"T_7b1be26c_ea98_11ea_b380_8cec4b2d45a5row16_col2\" class=\"data row16 col2\" >550</td>\n",
       "                        <td id=\"T_7b1be26c_ea98_11ea_b380_8cec4b2d45a5row16_col3\" class=\"data row16 col3\" >40610</td>\n",
       "                        <td id=\"T_7b1be26c_ea98_11ea_b380_8cec4b2d45a5row16_col4\" class=\"data row16 col4\" >7980</td>\n",
       "                        <td id=\"T_7b1be26c_ea98_11ea_b380_8cec4b2d45a5row16_col5\" class=\"data row16 col5\" >1.140000</td>\n",
       "                        <td id=\"T_7b1be26c_ea98_11ea_b380_8cec4b2d45a5row16_col6\" class=\"data row16 col6\" >84.530000</td>\n",
       "            </tr>\n",
       "            <tr>\n",
       "                        <th id=\"T_7b1be26c_ea98_11ea_b380_8cec4b2d45a5level0_row17\" class=\"row_heading level0 row17\" >21</th>\n",
       "                        <td id=\"T_7b1be26c_ea98_11ea_b380_8cec4b2d45a5row17_col0\" class=\"data row17 col0\" >Madhya Pradesh</td>\n",
       "                        <td id=\"T_7b1be26c_ea98_11ea_b380_8cec4b2d45a5row17_col1\" class=\"data row17 col1\" >46385</td>\n",
       "                        <td id=\"T_7b1be26c_ea98_11ea_b380_8cec4b2d45a5row17_col2\" class=\"data row17 col2\" >1128</td>\n",
       "                        <td id=\"T_7b1be26c_ea98_11ea_b380_8cec4b2d45a5row17_col3\" class=\"data row17 col3\" >35025</td>\n",
       "                        <td id=\"T_7b1be26c_ea98_11ea_b380_8cec4b2d45a5row17_col4\" class=\"data row17 col4\" >12488</td>\n",
       "                        <td id=\"T_7b1be26c_ea98_11ea_b380_8cec4b2d45a5row17_col5\" class=\"data row17 col5\" >2.430000</td>\n",
       "                        <td id=\"T_7b1be26c_ea98_11ea_b380_8cec4b2d45a5row17_col6\" class=\"data row17 col6\" >75.510000</td>\n",
       "            </tr>\n",
       "            <tr>\n",
       "                        <th id=\"T_7b1be26c_ea98_11ea_b380_8cec4b2d45a5level0_row18\" class=\"row_heading level0 row18\" >19</th>\n",
       "                        <td id=\"T_7b1be26c_ea98_11ea_b380_8cec4b2d45a5row18_col0\" class=\"data row18 col0\" >Kerala</td>\n",
       "                        <td id=\"T_7b1be26c_ea98_11ea_b380_8cec4b2d45a5row18_col1\" class=\"data row18 col1\" >46140</td>\n",
       "                        <td id=\"T_7b1be26c_ea98_11ea_b380_8cec4b2d45a5row18_col2\" class=\"data row18 col2\" >169</td>\n",
       "                        <td id=\"T_7b1be26c_ea98_11ea_b380_8cec4b2d45a5row18_col3\" class=\"data row18 col3\" >30025</td>\n",
       "                        <td id=\"T_7b1be26c_ea98_11ea_b380_8cec4b2d45a5row18_col4\" class=\"data row18 col4\" >16284</td>\n",
       "                        <td id=\"T_7b1be26c_ea98_11ea_b380_8cec4b2d45a5row18_col5\" class=\"data row18 col5\" >0.370000</td>\n",
       "                        <td id=\"T_7b1be26c_ea98_11ea_b380_8cec4b2d45a5row18_col6\" class=\"data row18 col6\" >65.070000</td>\n",
       "            </tr>\n",
       "            <tr>\n",
       "                        <th id=\"T_7b1be26c_ea98_11ea_b380_8cec4b2d45a5level0_row19\" class=\"row_heading level0 row19\" >29</th>\n",
       "                        <td id=\"T_7b1be26c_ea98_11ea_b380_8cec4b2d45a5row19_col0\" class=\"data row19 col0\" >Punjab</td>\n",
       "                        <td id=\"T_7b1be26c_ea98_11ea_b380_8cec4b2d45a5row19_col1\" class=\"data row19 col1\" >32696</td>\n",
       "                        <td id=\"T_7b1be26c_ea98_11ea_b380_8cec4b2d45a5row19_col2\" class=\"data row19 col2\" >863</td>\n",
       "                        <td id=\"T_7b1be26c_ea98_11ea_b380_8cec4b2d45a5row19_col3\" class=\"data row19 col3\" >20180</td>\n",
       "                        <td id=\"T_7b1be26c_ea98_11ea_b380_8cec4b2d45a5row19_col4\" class=\"data row19 col4\" >13379</td>\n",
       "                        <td id=\"T_7b1be26c_ea98_11ea_b380_8cec4b2d45a5row19_col5\" class=\"data row19 col5\" >2.640000</td>\n",
       "                        <td id=\"T_7b1be26c_ea98_11ea_b380_8cec4b2d45a5row19_col6\" class=\"data row19 col6\" >61.720000</td>\n",
       "            </tr>\n",
       "            <tr>\n",
       "                        <th id=\"T_7b1be26c_ea98_11ea_b380_8cec4b2d45a5level0_row20\" class=\"row_heading level0 row20\" >16</th>\n",
       "                        <td id=\"T_7b1be26c_ea98_11ea_b380_8cec4b2d45a5row20_col0\" class=\"data row20 col0\" >Jammu and Kashmir</td>\n",
       "                        <td id=\"T_7b1be26c_ea98_11ea_b380_8cec4b2d45a5row20_col1\" class=\"data row20 col1\" >28892</td>\n",
       "                        <td id=\"T_7b1be26c_ea98_11ea_b380_8cec4b2d45a5row20_col2\" class=\"data row20 col2\" >548</td>\n",
       "                        <td id=\"T_7b1be26c_ea98_11ea_b380_8cec4b2d45a5row20_col3\" class=\"data row20 col3\" >21296</td>\n",
       "                        <td id=\"T_7b1be26c_ea98_11ea_b380_8cec4b2d45a5row20_col4\" class=\"data row20 col4\" >8144</td>\n",
       "                        <td id=\"T_7b1be26c_ea98_11ea_b380_8cec4b2d45a5row20_col5\" class=\"data row20 col5\" >1.900000</td>\n",
       "                        <td id=\"T_7b1be26c_ea98_11ea_b380_8cec4b2d45a5row20_col6\" class=\"data row20 col6\" >73.710000</td>\n",
       "            </tr>\n",
       "            <tr>\n",
       "                        <th id=\"T_7b1be26c_ea98_11ea_b380_8cec4b2d45a5level0_row21\" class=\"row_heading level0 row21\" >17</th>\n",
       "                        <td id=\"T_7b1be26c_ea98_11ea_b380_8cec4b2d45a5row21_col0\" class=\"data row21 col0\" >Jharkhand</td>\n",
       "                        <td id=\"T_7b1be26c_ea98_11ea_b380_8cec4b2d45a5row21_col1\" class=\"data row21 col1\" >23752</td>\n",
       "                        <td id=\"T_7b1be26c_ea98_11ea_b380_8cec4b2d45a5row21_col2\" class=\"data row21 col2\" >250</td>\n",
       "                        <td id=\"T_7b1be26c_ea98_11ea_b380_8cec4b2d45a5row21_col3\" class=\"data row21 col3\" >15051</td>\n",
       "                        <td id=\"T_7b1be26c_ea98_11ea_b380_8cec4b2d45a5row21_col4\" class=\"data row21 col4\" >8951</td>\n",
       "                        <td id=\"T_7b1be26c_ea98_11ea_b380_8cec4b2d45a5row21_col5\" class=\"data row21 col5\" >1.050000</td>\n",
       "                        <td id=\"T_7b1be26c_ea98_11ea_b380_8cec4b2d45a5row21_col6\" class=\"data row21 col6\" >63.370000</td>\n",
       "            </tr>\n",
       "            <tr>\n",
       "                        <th id=\"T_7b1be26c_ea98_11ea_b380_8cec4b2d45a5level0_row22\" class=\"row_heading level0 row22\" >7</th>\n",
       "                        <td id=\"T_7b1be26c_ea98_11ea_b380_8cec4b2d45a5row22_col0\" class=\"data row22 col0\" >Chhattisgarh</td>\n",
       "                        <td id=\"T_7b1be26c_ea98_11ea_b380_8cec4b2d45a5row22_col1\" class=\"data row22 col1\" >16025</td>\n",
       "                        <td id=\"T_7b1be26c_ea98_11ea_b380_8cec4b2d45a5row22_col2\" class=\"data row22 col2\" >150</td>\n",
       "                        <td id=\"T_7b1be26c_ea98_11ea_b380_8cec4b2d45a5row22_col3\" class=\"data row22 col3\" >10598</td>\n",
       "                        <td id=\"T_7b1be26c_ea98_11ea_b380_8cec4b2d45a5row22_col4\" class=\"data row22 col4\" >5577</td>\n",
       "                        <td id=\"T_7b1be26c_ea98_11ea_b380_8cec4b2d45a5row22_col5\" class=\"data row22 col5\" >0.940000</td>\n",
       "                        <td id=\"T_7b1be26c_ea98_11ea_b380_8cec4b2d45a5row22_col6\" class=\"data row22 col6\" >66.130000</td>\n",
       "            </tr>\n",
       "            <tr>\n",
       "                        <th id=\"T_7b1be26c_ea98_11ea_b380_8cec4b2d45a5level0_row23\" class=\"row_heading level0 row23\" >40</th>\n",
       "                        <td id=\"T_7b1be26c_ea98_11ea_b380_8cec4b2d45a5row23_col0\" class=\"data row23 col0\" >Uttarakhand</td>\n",
       "                        <td id=\"T_7b1be26c_ea98_11ea_b380_8cec4b2d45a5row23_col1\" class=\"data row23 col1\" >12493</td>\n",
       "                        <td id=\"T_7b1be26c_ea98_11ea_b380_8cec4b2d45a5row23_col2\" class=\"data row23 col2\" >158</td>\n",
       "                        <td id=\"T_7b1be26c_ea98_11ea_b380_8cec4b2d45a5row23_col3\" class=\"data row23 col3\" >8485</td>\n",
       "                        <td id=\"T_7b1be26c_ea98_11ea_b380_8cec4b2d45a5row23_col4\" class=\"data row23 col4\" >4166</td>\n",
       "                        <td id=\"T_7b1be26c_ea98_11ea_b380_8cec4b2d45a5row23_col5\" class=\"data row23 col5\" >1.260000</td>\n",
       "                        <td id=\"T_7b1be26c_ea98_11ea_b380_8cec4b2d45a5row23_col6\" class=\"data row23 col6\" >67.920000</td>\n",
       "            </tr>\n",
       "            <tr>\n",
       "                        <th id=\"T_7b1be26c_ea98_11ea_b380_8cec4b2d45a5level0_row24\" class=\"row_heading level0 row24\" >12</th>\n",
       "                        <td id=\"T_7b1be26c_ea98_11ea_b380_8cec4b2d45a5row24_col0\" class=\"data row24 col0\" >Goa</td>\n",
       "                        <td id=\"T_7b1be26c_ea98_11ea_b380_8cec4b2d45a5row24_col1\" class=\"data row24 col1\" >11994</td>\n",
       "                        <td id=\"T_7b1be26c_ea98_11ea_b380_8cec4b2d45a5row24_col2\" class=\"data row24 col2\" >111</td>\n",
       "                        <td id=\"T_7b1be26c_ea98_11ea_b380_8cec4b2d45a5row24_col3\" class=\"data row24 col3\" >8058</td>\n",
       "                        <td id=\"T_7b1be26c_ea98_11ea_b380_8cec4b2d45a5row24_col4\" class=\"data row24 col4\" >4047</td>\n",
       "                        <td id=\"T_7b1be26c_ea98_11ea_b380_8cec4b2d45a5row24_col5\" class=\"data row24 col5\" >0.930000</td>\n",
       "                        <td id=\"T_7b1be26c_ea98_11ea_b380_8cec4b2d45a5row24_col6\" class=\"data row24 col6\" >67.180000</td>\n",
       "            </tr>\n",
       "            <tr>\n",
       "                        <th id=\"T_7b1be26c_ea98_11ea_b380_8cec4b2d45a5level0_row25\" class=\"row_heading level0 row25\" >5</th>\n",
       "                        <td id=\"T_7b1be26c_ea98_11ea_b380_8cec4b2d45a5row25_col0\" class=\"data row25 col0\" >Cases being reassigned to states</td>\n",
       "                        <td id=\"T_7b1be26c_ea98_11ea_b380_8cec4b2d45a5row25_col1\" class=\"data row25 col1\" >9265</td>\n",
       "                        <td id=\"T_7b1be26c_ea98_11ea_b380_8cec4b2d45a5row25_col2\" class=\"data row25 col2\" >0</td>\n",
       "                        <td id=\"T_7b1be26c_ea98_11ea_b380_8cec4b2d45a5row25_col3\" class=\"data row25 col3\" >0</td>\n",
       "                        <td id=\"T_7b1be26c_ea98_11ea_b380_8cec4b2d45a5row25_col4\" class=\"data row25 col4\" >9265</td>\n",
       "                        <td id=\"T_7b1be26c_ea98_11ea_b380_8cec4b2d45a5row25_col5\" class=\"data row25 col5\" >0.000000</td>\n",
       "                        <td id=\"T_7b1be26c_ea98_11ea_b380_8cec4b2d45a5row25_col6\" class=\"data row25 col6\" >0.000000</td>\n",
       "            </tr>\n",
       "            <tr>\n",
       "                        <th id=\"T_7b1be26c_ea98_11ea_b380_8cec4b2d45a5level0_row26\" class=\"row_heading level0 row26\" >28</th>\n",
       "                        <td id=\"T_7b1be26c_ea98_11ea_b380_8cec4b2d45a5row26_col0\" class=\"data row26 col0\" >Puducherry</td>\n",
       "                        <td id=\"T_7b1be26c_ea98_11ea_b380_8cec4b2d45a5row26_col1\" class=\"data row26 col1\" >8029</td>\n",
       "                        <td id=\"T_7b1be26c_ea98_11ea_b380_8cec4b2d45a5row26_col2\" class=\"data row26 col2\" >114</td>\n",
       "                        <td id=\"T_7b1be26c_ea98_11ea_b380_8cec4b2d45a5row26_col3\" class=\"data row26 col3\" >4627</td>\n",
       "                        <td id=\"T_7b1be26c_ea98_11ea_b380_8cec4b2d45a5row26_col4\" class=\"data row26 col4\" >3516</td>\n",
       "                        <td id=\"T_7b1be26c_ea98_11ea_b380_8cec4b2d45a5row26_col5\" class=\"data row26 col5\" >1.420000</td>\n",
       "                        <td id=\"T_7b1be26c_ea98_11ea_b380_8cec4b2d45a5row26_col6\" class=\"data row26 col6\" >57.630000</td>\n",
       "            </tr>\n",
       "            <tr>\n",
       "                        <th id=\"T_7b1be26c_ea98_11ea_b380_8cec4b2d45a5level0_row27\" class=\"row_heading level0 row27\" >37</th>\n",
       "                        <td id=\"T_7b1be26c_ea98_11ea_b380_8cec4b2d45a5row27_col0\" class=\"data row27 col0\" >Tripura</td>\n",
       "                        <td id=\"T_7b1be26c_ea98_11ea_b380_8cec4b2d45a5row27_col1\" class=\"data row27 col1\" >7409</td>\n",
       "                        <td id=\"T_7b1be26c_ea98_11ea_b380_8cec4b2d45a5row27_col2\" class=\"data row27 col2\" >62</td>\n",
       "                        <td id=\"T_7b1be26c_ea98_11ea_b380_8cec4b2d45a5row27_col3\" class=\"data row27 col3\" >5404</td>\n",
       "                        <td id=\"T_7b1be26c_ea98_11ea_b380_8cec4b2d45a5row27_col4\" class=\"data row27 col4\" >2067</td>\n",
       "                        <td id=\"T_7b1be26c_ea98_11ea_b380_8cec4b2d45a5row27_col5\" class=\"data row27 col5\" >0.840000</td>\n",
       "                        <td id=\"T_7b1be26c_ea98_11ea_b380_8cec4b2d45a5row27_col6\" class=\"data row27 col6\" >72.940000</td>\n",
       "            </tr>\n",
       "            <tr>\n",
       "                        <th id=\"T_7b1be26c_ea98_11ea_b380_8cec4b2d45a5level0_row28\" class=\"row_heading level0 row28\" >23</th>\n",
       "                        <td id=\"T_7b1be26c_ea98_11ea_b380_8cec4b2d45a5row28_col0\" class=\"data row28 col0\" >Manipur</td>\n",
       "                        <td id=\"T_7b1be26c_ea98_11ea_b380_8cec4b2d45a5row28_col1\" class=\"data row28 col1\" >4687</td>\n",
       "                        <td id=\"T_7b1be26c_ea98_11ea_b380_8cec4b2d45a5row28_col2\" class=\"data row28 col2\" >17</td>\n",
       "                        <td id=\"T_7b1be26c_ea98_11ea_b380_8cec4b2d45a5row28_col3\" class=\"data row28 col3\" >2734</td>\n",
       "                        <td id=\"T_7b1be26c_ea98_11ea_b380_8cec4b2d45a5row28_col4\" class=\"data row28 col4\" >1970</td>\n",
       "                        <td id=\"T_7b1be26c_ea98_11ea_b380_8cec4b2d45a5row28_col5\" class=\"data row28 col5\" >0.360000</td>\n",
       "                        <td id=\"T_7b1be26c_ea98_11ea_b380_8cec4b2d45a5row28_col6\" class=\"data row28 col6\" >58.330000</td>\n",
       "            </tr>\n",
       "            <tr>\n",
       "                        <th id=\"T_7b1be26c_ea98_11ea_b380_8cec4b2d45a5level0_row29\" class=\"row_heading level0 row29\" >15</th>\n",
       "                        <td id=\"T_7b1be26c_ea98_11ea_b380_8cec4b2d45a5row29_col0\" class=\"data row29 col0\" >Himachal Pradesh</td>\n",
       "                        <td id=\"T_7b1be26c_ea98_11ea_b380_8cec4b2d45a5row29_col1\" class=\"data row29 col1\" >4174</td>\n",
       "                        <td id=\"T_7b1be26c_ea98_11ea_b380_8cec4b2d45a5row29_col2\" class=\"data row29 col2\" >19</td>\n",
       "                        <td id=\"T_7b1be26c_ea98_11ea_b380_8cec4b2d45a5row29_col3\" class=\"data row29 col3\" >2834</td>\n",
       "                        <td id=\"T_7b1be26c_ea98_11ea_b380_8cec4b2d45a5row29_col4\" class=\"data row29 col4\" >1359</td>\n",
       "                        <td id=\"T_7b1be26c_ea98_11ea_b380_8cec4b2d45a5row29_col5\" class=\"data row29 col5\" >0.460000</td>\n",
       "                        <td id=\"T_7b1be26c_ea98_11ea_b380_8cec4b2d45a5row29_col6\" class=\"data row29 col6\" >67.900000</td>\n",
       "            </tr>\n",
       "            <tr>\n",
       "                        <th id=\"T_7b1be26c_ea98_11ea_b380_8cec4b2d45a5level0_row30\" class=\"row_heading level0 row30\" >26</th>\n",
       "                        <td id=\"T_7b1be26c_ea98_11ea_b380_8cec4b2d45a5row30_col0\" class=\"data row30 col0\" >Nagaland</td>\n",
       "                        <td id=\"T_7b1be26c_ea98_11ea_b380_8cec4b2d45a5row30_col1\" class=\"data row30 col1\" >3455</td>\n",
       "                        <td id=\"T_7b1be26c_ea98_11ea_b380_8cec4b2d45a5row30_col2\" class=\"data row30 col2\" >8</td>\n",
       "                        <td id=\"T_7b1be26c_ea98_11ea_b380_8cec4b2d45a5row30_col3\" class=\"data row30 col3\" >1530</td>\n",
       "                        <td id=\"T_7b1be26c_ea98_11ea_b380_8cec4b2d45a5row30_col4\" class=\"data row30 col4\" >1933</td>\n",
       "                        <td id=\"T_7b1be26c_ea98_11ea_b380_8cec4b2d45a5row30_col5\" class=\"data row30 col5\" >0.230000</td>\n",
       "                        <td id=\"T_7b1be26c_ea98_11ea_b380_8cec4b2d45a5row30_col6\" class=\"data row30 col6\" >44.280000</td>\n",
       "            </tr>\n",
       "            <tr>\n",
       "                        <th id=\"T_7b1be26c_ea98_11ea_b380_8cec4b2d45a5level0_row31\" class=\"row_heading level0 row31\" >2</th>\n",
       "                        <td id=\"T_7b1be26c_ea98_11ea_b380_8cec4b2d45a5row31_col0\" class=\"data row31 col0\" >Arunachal Pradesh</td>\n",
       "                        <td id=\"T_7b1be26c_ea98_11ea_b380_8cec4b2d45a5row31_col1\" class=\"data row31 col1\" >2741</td>\n",
       "                        <td id=\"T_7b1be26c_ea98_11ea_b380_8cec4b2d45a5row31_col2\" class=\"data row31 col2\" >5</td>\n",
       "                        <td id=\"T_7b1be26c_ea98_11ea_b380_8cec4b2d45a5row31_col3\" class=\"data row31 col3\" >1893</td>\n",
       "                        <td id=\"T_7b1be26c_ea98_11ea_b380_8cec4b2d45a5row31_col4\" class=\"data row31 col4\" >853</td>\n",
       "                        <td id=\"T_7b1be26c_ea98_11ea_b380_8cec4b2d45a5row31_col5\" class=\"data row31 col5\" >0.180000</td>\n",
       "                        <td id=\"T_7b1be26c_ea98_11ea_b380_8cec4b2d45a5row31_col6\" class=\"data row31 col6\" >69.060000</td>\n",
       "            </tr>\n",
       "            <tr>\n",
       "                        <th id=\"T_7b1be26c_ea98_11ea_b380_8cec4b2d45a5level0_row32\" class=\"row_heading level0 row32\" >0</th>\n",
       "                        <td id=\"T_7b1be26c_ea98_11ea_b380_8cec4b2d45a5row32_col0\" class=\"data row32 col0\" >Andaman and Nicobar Islands</td>\n",
       "                        <td id=\"T_7b1be26c_ea98_11ea_b380_8cec4b2d45a5row32_col1\" class=\"data row32 col1\" >2445</td>\n",
       "                        <td id=\"T_7b1be26c_ea98_11ea_b380_8cec4b2d45a5row32_col2\" class=\"data row32 col2\" >29</td>\n",
       "                        <td id=\"T_7b1be26c_ea98_11ea_b380_8cec4b2d45a5row32_col3\" class=\"data row32 col3\" >1325</td>\n",
       "                        <td id=\"T_7b1be26c_ea98_11ea_b380_8cec4b2d45a5row32_col4\" class=\"data row32 col4\" >1149</td>\n",
       "                        <td id=\"T_7b1be26c_ea98_11ea_b380_8cec4b2d45a5row32_col5\" class=\"data row32 col5\" >1.190000</td>\n",
       "                        <td id=\"T_7b1be26c_ea98_11ea_b380_8cec4b2d45a5row32_col6\" class=\"data row32 col6\" >54.190000</td>\n",
       "            </tr>\n",
       "            <tr>\n",
       "                        <th id=\"T_7b1be26c_ea98_11ea_b380_8cec4b2d45a5level0_row33\" class=\"row_heading level0 row33\" >6</th>\n",
       "                        <td id=\"T_7b1be26c_ea98_11ea_b380_8cec4b2d45a5row33_col0\" class=\"data row33 col0\" >Chandigarh</td>\n",
       "                        <td id=\"T_7b1be26c_ea98_11ea_b380_8cec4b2d45a5row33_col1\" class=\"data row33 col1\" >2216</td>\n",
       "                        <td id=\"T_7b1be26c_ea98_11ea_b380_8cec4b2d45a5row33_col2\" class=\"data row33 col2\" >30</td>\n",
       "                        <td id=\"T_7b1be26c_ea98_11ea_b380_8cec4b2d45a5row33_col3\" class=\"data row33 col3\" >1183</td>\n",
       "                        <td id=\"T_7b1be26c_ea98_11ea_b380_8cec4b2d45a5row33_col4\" class=\"data row33 col4\" >1063</td>\n",
       "                        <td id=\"T_7b1be26c_ea98_11ea_b380_8cec4b2d45a5row33_col5\" class=\"data row33 col5\" >1.350000</td>\n",
       "                        <td id=\"T_7b1be26c_ea98_11ea_b380_8cec4b2d45a5row33_col6\" class=\"data row33 col6\" >53.380000</td>\n",
       "            </tr>\n",
       "            <tr>\n",
       "                        <th id=\"T_7b1be26c_ea98_11ea_b380_8cec4b2d45a5level0_row34\" class=\"row_heading level0 row34\" >20</th>\n",
       "                        <td id=\"T_7b1be26c_ea98_11ea_b380_8cec4b2d45a5row34_col0\" class=\"data row34 col0\" >Ladakh</td>\n",
       "                        <td id=\"T_7b1be26c_ea98_11ea_b380_8cec4b2d45a5row34_col1\" class=\"data row34 col1\" >1966</td>\n",
       "                        <td id=\"T_7b1be26c_ea98_11ea_b380_8cec4b2d45a5row34_col2\" class=\"data row34 col2\" >14</td>\n",
       "                        <td id=\"T_7b1be26c_ea98_11ea_b380_8cec4b2d45a5row34_col3\" class=\"data row34 col3\" >1368</td>\n",
       "                        <td id=\"T_7b1be26c_ea98_11ea_b380_8cec4b2d45a5row34_col4\" class=\"data row34 col4\" >612</td>\n",
       "                        <td id=\"T_7b1be26c_ea98_11ea_b380_8cec4b2d45a5row34_col5\" class=\"data row34 col5\" >0.710000</td>\n",
       "                        <td id=\"T_7b1be26c_ea98_11ea_b380_8cec4b2d45a5row34_col6\" class=\"data row34 col6\" >69.580000</td>\n",
       "            </tr>\n",
       "            <tr>\n",
       "                        <th id=\"T_7b1be26c_ea98_11ea_b380_8cec4b2d45a5level0_row35\" class=\"row_heading level0 row35\" >9</th>\n",
       "                        <td id=\"T_7b1be26c_ea98_11ea_b380_8cec4b2d45a5row35_col0\" class=\"data row35 col0\" >Dadra and Nagar Haveli and Daman and Diu</td>\n",
       "                        <td id=\"T_7b1be26c_ea98_11ea_b380_8cec4b2d45a5row35_col1\" class=\"data row35 col1\" >1908</td>\n",
       "                        <td id=\"T_7b1be26c_ea98_11ea_b380_8cec4b2d45a5row35_col2\" class=\"data row35 col2\" >2</td>\n",
       "                        <td id=\"T_7b1be26c_ea98_11ea_b380_8cec4b2d45a5row35_col3\" class=\"data row35 col3\" >1459</td>\n",
       "                        <td id=\"T_7b1be26c_ea98_11ea_b380_8cec4b2d45a5row35_col4\" class=\"data row35 col4\" >451</td>\n",
       "                        <td id=\"T_7b1be26c_ea98_11ea_b380_8cec4b2d45a5row35_col5\" class=\"data row35 col5\" >0.100000</td>\n",
       "                        <td id=\"T_7b1be26c_ea98_11ea_b380_8cec4b2d45a5row35_col6\" class=\"data row35 col6\" >76.470000</td>\n",
       "            </tr>\n",
       "            <tr>\n",
       "                        <th id=\"T_7b1be26c_ea98_11ea_b380_8cec4b2d45a5level0_row36\" class=\"row_heading level0 row36\" >24</th>\n",
       "                        <td id=\"T_7b1be26c_ea98_11ea_b380_8cec4b2d45a5row36_col0\" class=\"data row36 col0\" >Meghalaya</td>\n",
       "                        <td id=\"T_7b1be26c_ea98_11ea_b380_8cec4b2d45a5row36_col1\" class=\"data row36 col1\" >1418</td>\n",
       "                        <td id=\"T_7b1be26c_ea98_11ea_b380_8cec4b2d45a5row36_col2\" class=\"data row36 col2\" >6</td>\n",
       "                        <td id=\"T_7b1be26c_ea98_11ea_b380_8cec4b2d45a5row36_col3\" class=\"data row36 col3\" >679</td>\n",
       "                        <td id=\"T_7b1be26c_ea98_11ea_b380_8cec4b2d45a5row36_col4\" class=\"data row36 col4\" >745</td>\n",
       "                        <td id=\"T_7b1be26c_ea98_11ea_b380_8cec4b2d45a5row36_col5\" class=\"data row36 col5\" >0.420000</td>\n",
       "                        <td id=\"T_7b1be26c_ea98_11ea_b380_8cec4b2d45a5row36_col6\" class=\"data row36 col6\" >47.880000</td>\n",
       "            </tr>\n",
       "            <tr>\n",
       "                        <th id=\"T_7b1be26c_ea98_11ea_b380_8cec4b2d45a5level0_row37\" class=\"row_heading level0 row37\" >31</th>\n",
       "                        <td id=\"T_7b1be26c_ea98_11ea_b380_8cec4b2d45a5row37_col0\" class=\"data row37 col0\" >Sikkim</td>\n",
       "                        <td id=\"T_7b1be26c_ea98_11ea_b380_8cec4b2d45a5row37_col1\" class=\"data row37 col1\" >1187</td>\n",
       "                        <td id=\"T_7b1be26c_ea98_11ea_b380_8cec4b2d45a5row37_col2\" class=\"data row37 col2\" >1</td>\n",
       "                        <td id=\"T_7b1be26c_ea98_11ea_b380_8cec4b2d45a5row37_col3\" class=\"data row37 col3\" >701</td>\n",
       "                        <td id=\"T_7b1be26c_ea98_11ea_b380_8cec4b2d45a5row37_col4\" class=\"data row37 col4\" >487</td>\n",
       "                        <td id=\"T_7b1be26c_ea98_11ea_b380_8cec4b2d45a5row37_col5\" class=\"data row37 col5\" >0.080000</td>\n",
       "                        <td id=\"T_7b1be26c_ea98_11ea_b380_8cec4b2d45a5row37_col6\" class=\"data row37 col6\" >59.060000</td>\n",
       "            </tr>\n",
       "            <tr>\n",
       "                        <th id=\"T_7b1be26c_ea98_11ea_b380_8cec4b2d45a5level0_row38\" class=\"row_heading level0 row38\" >25</th>\n",
       "                        <td id=\"T_7b1be26c_ea98_11ea_b380_8cec4b2d45a5row38_col0\" class=\"data row38 col0\" >Mizoram</td>\n",
       "                        <td id=\"T_7b1be26c_ea98_11ea_b380_8cec4b2d45a5row38_col1\" class=\"data row38 col1\" >789</td>\n",
       "                        <td id=\"T_7b1be26c_ea98_11ea_b380_8cec4b2d45a5row38_col2\" class=\"data row38 col2\" >0</td>\n",
       "                        <td id=\"T_7b1be26c_ea98_11ea_b380_8cec4b2d45a5row38_col3\" class=\"data row38 col3\" >372</td>\n",
       "                        <td id=\"T_7b1be26c_ea98_11ea_b380_8cec4b2d45a5row38_col4\" class=\"data row38 col4\" >417</td>\n",
       "                        <td id=\"T_7b1be26c_ea98_11ea_b380_8cec4b2d45a5row38_col5\" class=\"data row38 col5\" >0.000000</td>\n",
       "                        <td id=\"T_7b1be26c_ea98_11ea_b380_8cec4b2d45a5row38_col6\" class=\"data row38 col6\" >47.150000</td>\n",
       "            </tr>\n",
       "            <tr>\n",
       "                        <th id=\"T_7b1be26c_ea98_11ea_b380_8cec4b2d45a5level0_row39\" class=\"row_heading level0 row39\" >38</th>\n",
       "                        <td id=\"T_7b1be26c_ea98_11ea_b380_8cec4b2d45a5row39_col0\" class=\"data row39 col0\" >Unassigned</td>\n",
       "                        <td id=\"T_7b1be26c_ea98_11ea_b380_8cec4b2d45a5row39_col1\" class=\"data row39 col1\" >77</td>\n",
       "                        <td id=\"T_7b1be26c_ea98_11ea_b380_8cec4b2d45a5row39_col2\" class=\"data row39 col2\" >0</td>\n",
       "                        <td id=\"T_7b1be26c_ea98_11ea_b380_8cec4b2d45a5row39_col3\" class=\"data row39 col3\" >0</td>\n",
       "                        <td id=\"T_7b1be26c_ea98_11ea_b380_8cec4b2d45a5row39_col4\" class=\"data row39 col4\" >77</td>\n",
       "                        <td id=\"T_7b1be26c_ea98_11ea_b380_8cec4b2d45a5row39_col5\" class=\"data row39 col5\" >0.000000</td>\n",
       "                        <td id=\"T_7b1be26c_ea98_11ea_b380_8cec4b2d45a5row39_col6\" class=\"data row39 col6\" >0.000000</td>\n",
       "            </tr>\n",
       "            <tr>\n",
       "                        <th id=\"T_7b1be26c_ea98_11ea_b380_8cec4b2d45a5level0_row40\" class=\"row_heading level0 row40\" >8</th>\n",
       "                        <td id=\"T_7b1be26c_ea98_11ea_b380_8cec4b2d45a5row40_col0\" class=\"data row40 col0\" >Dadar Nagar Haveli</td>\n",
       "                        <td id=\"T_7b1be26c_ea98_11ea_b380_8cec4b2d45a5row40_col1\" class=\"data row40 col1\" >26</td>\n",
       "                        <td id=\"T_7b1be26c_ea98_11ea_b380_8cec4b2d45a5row40_col2\" class=\"data row40 col2\" >0</td>\n",
       "                        <td id=\"T_7b1be26c_ea98_11ea_b380_8cec4b2d45a5row40_col3\" class=\"data row40 col3\" >2</td>\n",
       "                        <td id=\"T_7b1be26c_ea98_11ea_b380_8cec4b2d45a5row40_col4\" class=\"data row40 col4\" >24</td>\n",
       "                        <td id=\"T_7b1be26c_ea98_11ea_b380_8cec4b2d45a5row40_col5\" class=\"data row40 col5\" >0.000000</td>\n",
       "                        <td id=\"T_7b1be26c_ea98_11ea_b380_8cec4b2d45a5row40_col6\" class=\"data row40 col6\" >7.690000</td>\n",
       "            </tr>\n",
       "            <tr>\n",
       "                        <th id=\"T_7b1be26c_ea98_11ea_b380_8cec4b2d45a5level0_row41\" class=\"row_heading level0 row41\" >10</th>\n",
       "                        <td id=\"T_7b1be26c_ea98_11ea_b380_8cec4b2d45a5row41_col0\" class=\"data row41 col0\" >Daman & Diu</td>\n",
       "                        <td id=\"T_7b1be26c_ea98_11ea_b380_8cec4b2d45a5row41_col1\" class=\"data row41 col1\" >2</td>\n",
       "                        <td id=\"T_7b1be26c_ea98_11ea_b380_8cec4b2d45a5row41_col2\" class=\"data row41 col2\" >0</td>\n",
       "                        <td id=\"T_7b1be26c_ea98_11ea_b380_8cec4b2d45a5row41_col3\" class=\"data row41 col3\" >0</td>\n",
       "                        <td id=\"T_7b1be26c_ea98_11ea_b380_8cec4b2d45a5row41_col4\" class=\"data row41 col4\" >2</td>\n",
       "                        <td id=\"T_7b1be26c_ea98_11ea_b380_8cec4b2d45a5row41_col5\" class=\"data row41 col5\" >0.000000</td>\n",
       "                        <td id=\"T_7b1be26c_ea98_11ea_b380_8cec4b2d45a5row41_col6\" class=\"data row41 col6\" >0.000000</td>\n",
       "            </tr>\n",
       "    </tbody></table>"
      ],
      "text/plain": [
       "<pandas.io.formats.style.Styler at 0x1ea2d21b6d0>"
      ]
     },
     "execution_count": 65,
     "metadata": {},
     "output_type": "execute_result"
    }
   ],
   "source": [
    "state_cases=covid19India.groupby('State/UnionTerritory')['Confirmed','Deaths','Cured'].max().reset_index()\n",
    "state_cases['Active'] = state_cases['Confirmed'] - abs((state_cases['Deaths']- state_cases['Cured']))\n",
    "state_cases[\"Death Rate (per 100)\"] = np.round(100*state_cases[\"Deaths\"]/state_cases[\"Confirmed\"],2)\n",
    "state_cases[\"Cure Rate (per 100)\"] = np.round(100*state_cases[\"Cured\"]/state_cases[\"Confirmed\"],2)\n",
    "state_cases.sort_values('Confirmed', ascending= False).fillna(0).style.background_gradient(cmap='Reds',subset=[\"Confirmed\"])\\\n",
    "                        .background_gradient(cmap='Blues',subset=[\"Deaths\"])\\\n",
    "                        .background_gradient(cmap='Greens',subset=[\"Cured\"])\\\n",
    "                        .background_gradient(cmap='Purples',subset=[\"Active\"])\\\n",
    "                        .background_gradient(cmap='Greys',subset=[\"Death Rate (per 100)\"])\\\n",
    "                        .background_gradient(cmap='Oranges',subset=[\"Cure Rate (per 100)\"])"
   ]
  },
  {
   "cell_type": "code",
   "execution_count": 68,
   "metadata": {},
   "outputs": [
    {
     "data": {
      "text/html": [
       "<div>\n",
       "<style scoped>\n",
       "    .dataframe tbody tr th:only-of-type {\n",
       "        vertical-align: middle;\n",
       "    }\n",
       "\n",
       "    .dataframe tbody tr th {\n",
       "        vertical-align: top;\n",
       "    }\n",
       "\n",
       "    .dataframe thead th {\n",
       "        text-align: right;\n",
       "    }\n",
       "</style>\n",
       "<table border=\"1\" class=\"dataframe\">\n",
       "  <thead>\n",
       "    <tr style=\"text-align: right;\">\n",
       "      <th></th>\n",
       "      <th>Date</th>\n",
       "      <th>State</th>\n",
       "      <th>TotalSamples</th>\n",
       "      <th>Negative</th>\n",
       "      <th>Positive</th>\n",
       "    </tr>\n",
       "  </thead>\n",
       "  <tbody>\n",
       "    <tr>\n",
       "      <th>4245</th>\n",
       "      <td>2020-08-08</td>\n",
       "      <td>West Bengal</td>\n",
       "      <td>1079657.0</td>\n",
       "      <td>0</td>\n",
       "      <td>92615.0</td>\n",
       "    </tr>\n",
       "    <tr>\n",
       "      <th>4246</th>\n",
       "      <td>2020-08-09</td>\n",
       "      <td>West Bengal</td>\n",
       "      <td>1105899.0</td>\n",
       "      <td>0</td>\n",
       "      <td>95554.0</td>\n",
       "    </tr>\n",
       "    <tr>\n",
       "      <th>4247</th>\n",
       "      <td>2020-08-10</td>\n",
       "      <td>West Bengal</td>\n",
       "      <td>1132196.0</td>\n",
       "      <td>0</td>\n",
       "      <td>98459.0</td>\n",
       "    </tr>\n",
       "    <tr>\n",
       "      <th>4248</th>\n",
       "      <td>2020-08-11</td>\n",
       "      <td>West Bengal</td>\n",
       "      <td>1159211.0</td>\n",
       "      <td>0</td>\n",
       "      <td>0.0</td>\n",
       "    </tr>\n",
       "    <tr>\n",
       "      <th>4249</th>\n",
       "      <td>2020-08-12</td>\n",
       "      <td>West Bengal</td>\n",
       "      <td>1186923.0</td>\n",
       "      <td>0</td>\n",
       "      <td>0.0</td>\n",
       "    </tr>\n",
       "    <tr>\n",
       "      <th>4250</th>\n",
       "      <td>2020-08-13</td>\n",
       "      <td>West Bengal</td>\n",
       "      <td>1216955.0</td>\n",
       "      <td>0</td>\n",
       "      <td>107323.0</td>\n",
       "    </tr>\n",
       "    <tr>\n",
       "      <th>4251</th>\n",
       "      <td>2020-08-14</td>\n",
       "      <td>West Bengal</td>\n",
       "      <td>1248272.0</td>\n",
       "      <td>0</td>\n",
       "      <td>110358.0</td>\n",
       "    </tr>\n",
       "    <tr>\n",
       "      <th>4252</th>\n",
       "      <td>2020-08-15</td>\n",
       "      <td>West Bengal</td>\n",
       "      <td>1282486.0</td>\n",
       "      <td>0</td>\n",
       "      <td>113432.0</td>\n",
       "    </tr>\n",
       "    <tr>\n",
       "      <th>4253</th>\n",
       "      <td>2020-08-16</td>\n",
       "      <td>West Bengal</td>\n",
       "      <td>1314772.0</td>\n",
       "      <td>0</td>\n",
       "      <td>116498.0</td>\n",
       "    </tr>\n",
       "    <tr>\n",
       "      <th>4254</th>\n",
       "      <td>2020-08-17</td>\n",
       "      <td>West Bengal</td>\n",
       "      <td>1347091.0</td>\n",
       "      <td>0</td>\n",
       "      <td>119578.0</td>\n",
       "    </tr>\n",
       "  </tbody>\n",
       "</table>\n",
       "</div>"
      ],
      "text/plain": [
       "            Date        State  TotalSamples Negative  Positive\n",
       "4245  2020-08-08  West Bengal     1079657.0        0   92615.0\n",
       "4246  2020-08-09  West Bengal     1105899.0        0   95554.0\n",
       "4247  2020-08-10  West Bengal     1132196.0        0   98459.0\n",
       "4248  2020-08-11  West Bengal     1159211.0        0       0.0\n",
       "4249  2020-08-12  West Bengal     1186923.0        0       0.0\n",
       "4250  2020-08-13  West Bengal     1216955.0        0  107323.0\n",
       "4251  2020-08-14  West Bengal     1248272.0        0  110358.0\n",
       "4252  2020-08-15  West Bengal     1282486.0        0  113432.0\n",
       "4253  2020-08-16  West Bengal     1314772.0        0  116498.0\n",
       "4254  2020-08-17  West Bengal     1347091.0        0  119578.0"
      ]
     },
     "execution_count": 68,
     "metadata": {},
     "output_type": "execute_result"
    }
   ],
   "source": [
    "statewiseTestingDetails[\"TotalSamples\"] = statewiseTestingDetails[\"TotalSamples\"].fillna(0)\n",
    "statewiseTestingDetails[\"Negative\"] = statewiseTestingDetails[\"Negative\"].fillna(0)\n",
    "statewiseTestingDetails[\"Positive\"] = statewiseTestingDetails[\"Positive\"].fillna(0)\n",
    "\n",
    "statewiseTestingDetails.tail(10)"
   ]
  },
  {
   "cell_type": "code",
   "execution_count": null,
   "metadata": {},
   "outputs": [],
   "source": [
    "TESTING AND HEALTHCARE INSIGHTS"
   ]
  },
  {
   "cell_type": "code",
   "execution_count": 53,
   "metadata": {},
   "outputs": [
    {
     "data": {
      "image/png": "[encoded data removed]",
      "text/plain": [
       "<Figure size 1008x576 with 1 Axes>"
      ]
     },
     "metadata": {},
     "output_type": "display_data"
    }
   ],
   "source": [
    "state=list(ICMRTestingLabs['state'].value_counts().index)\n",
    "count=list(ICMRTestingLabs['state'].value_counts())\n",
    "plt.figure(figsize=(14,8))\n",
    "sns.barplot(x=count,y=state,color=sns.color_palette('Set3')[4])\n",
    "plt.xlabel('Counts')\n",
    "plt.ylabel('States')\n",
    "plt.title('ICMR Test labs per States')\n",
    "plt.tight_layout()"
   ]
  },
  {
   "cell_type": "code",
   "execution_count": 56,
   "metadata": {},
   "outputs": [],
   "source": [
    "hospitalBedDetails.drop(labels=36,inplace=True)"
   ]
  },
  {
   "cell_type": "code",
   "execution_count": 58,
   "metadata": {},
   "outputs": [
    {
     "data": {
      "image/png": "[encoded data removed]",
      "text/plain": [
       "<Figure size 1440x4320 with 2 Axes>"
      ]
     },
     "metadata": {},
     "output_type": "display_data"
    }
   ],
   "source": [
    "plt.figure(figsize=(20,60))\n",
    "plt.subplot(4,1,1)\n",
    "hospitalBedDetails=hospitalBedDetails.sort_values('NumUrbanHospitals_NHP18', ascending= False)\n",
    "sns.barplot(data=hospitalBedDetails,y='State/UT',x='NumUrbanHospitals_NHP18',color=sns.color_palette('Pastel2')[0])\n",
    "plt.title('Urban Hospitals per states')\n",
    "plt.xlabel('Count')\n",
    "plt.ylabel('States')\n",
    "for i in range(hospitalBedDetails.shape[0]):\n",
    "    count = hospitalBedDetails.iloc[i]['NumUrbanHospitals_NHP18']\n",
    "    plt.text(count+10,i,count,ha='center',va='center')\n",
    "\n",
    "plt.subplot(4,1,2)\n",
    "hospitalBedDetails=hospitalBedDetails.sort_values('NumRuralHospitals_NHP18', ascending= False)\n",
    "sns.barplot(data=hospitalBedDetails,y='State/UT',x='NumRuralHospitals_NHP18',color=sns.color_palette('Pastel2')[1])\n",
    "plt.title('Rural Hospitals per states')\n",
    "plt.xlabel('Count')\n",
    "plt.ylabel('States')\n",
    "for i in range(hospitalBedDetails.shape[0]):\n",
    "    count = hospitalBedDetails.iloc[i]['NumRuralHospitals_NHP18']\n",
    "    plt.text(count+100,i,count,ha='center',va='center')\n",
    "\n"
   ]
  },
  {
   "cell_type": "code",
   "execution_count": 62,
   "metadata": {},
   "outputs": [
    {
     "data": {
      "application/vnd.plotly.v1+json": {
       "config": {
        "plotlyServerURL": "https://plot.ly"
       },
       "data": [
        {
         "name": "NumberOfPrimaryHealthCenters",
         "type": "bar",
         "x": [
          "Uttar Pradesh",
          "Karnataka",
          "Odisha",
          "West Bengal",
          "Assam",
          "Kerala",
          "Bihar",
          "Telangana",
          "Himachal Pradesh",
          "Tamil Nadu",
          "Haryana",
          "Rajasthan",
          "Jharkhand",
          "Punjab",
          "Uttarakhand",
          "Gujarat",
          "Madhya Pradesh",
          "Maharashtra",
          "Arunachal Pradesh",
          "Andhra Pradesh",
          "Chhattisgarh",
          "Meghalaya",
          "Tripura",
          "Mizoram",
          "Jammu & Kashmir",
          "Andaman & Nicobar Islands",
          "Sikkim",
          "Manipur",
          "Nagaland",
          "Goa",
          "Dadra & Nagar Haveli",
          "Lakshadweep",
          "Daman & Diu",
          "Puducherry",
          "Delhi",
          "Chandigarh"
         ],
         "y": [
          "3277",
          "2547",
          "1360",
          "1374",
          "1007",
          "933",
          "2007",
          "788",
          "516",
          "1854",
          "500",
          "2463",
          "343",
          "521",
          "275",
          "1770",
          "1420",
          "2638",
          "122",
          "1417",
          "813",
          "138",
          "114",
          "65",
          "702",
          "27",
          "25",
          "87",
          "134",
          "31",
          "9",
          "4",
          "4",
          "40",
          "534",
          "40"
         ]
        },
        {
         "name": "NumberOfCommunityHealthCenters",
         "type": "bar",
         "x": [
          "Uttar Pradesh",
          "Karnataka",
          "Odisha",
          "West Bengal",
          "Assam",
          "Kerala",
          "Bihar",
          "Telangana",
          "Himachal Pradesh",
          "Tamil Nadu",
          "Haryana",
          "Rajasthan",
          "Jharkhand",
          "Punjab",
          "Uttarakhand",
          "Gujarat",
          "Madhya Pradesh",
          "Maharashtra",
          "Arunachal Pradesh",
          "Andhra Pradesh",
          "Chhattisgarh",
          "Meghalaya",
          "Tripura",
          "Mizoram",
          "Jammu & Kashmir",
          "Andaman & Nicobar Islands",
          "Sikkim",
          "Manipur",
          "Nagaland",
          "Goa",
          "Dadra & Nagar Haveli",
          "Lakshadweep",
          "Daman & Diu",
          "Puducherry",
          "Delhi",
          "Chandigarh"
         ],
         "y": [
          671,
          207,
          377,
          406,
          166,
          229,
          63,
          82,
          79,
          385,
          131,
          579,
          179,
          146,
          69,
          385,
          324,
          430,
          62,
          198,
          166,
          29,
          22,
          10,
          87,
          4,
          2,
          17,
          21,
          4,
          2,
          3,
          2,
          4,
          25,
          2
         ]
        },
        {
         "name": "NumberOfSubDistrictHealthCenters",
         "type": "bar",
         "x": [
          "Uttar Pradesh",
          "Karnataka",
          "Odisha",
          "West Bengal",
          "Assam",
          "Kerala",
          "Bihar",
          "Telangana",
          "Himachal Pradesh",
          "Tamil Nadu",
          "Haryana",
          "Rajasthan",
          "Jharkhand",
          "Punjab",
          "Uttarakhand",
          "Gujarat",
          "Madhya Pradesh",
          "Maharashtra",
          "Arunachal Pradesh",
          "Andhra Pradesh",
          "Chhattisgarh",
          "Meghalaya",
          "Tripura",
          "Mizoram",
          "Jammu & Kashmir",
          "Andaman & Nicobar Islands",
          "Sikkim",
          "Manipur",
          "Nagaland",
          "Goa",
          "Dadra & Nagar Haveli",
          "Lakshadweep",
          "Daman & Diu",
          "Puducherry",
          "Delhi",
          "Chandigarh"
         ],
         "y": [
          null,
          147,
          27,
          70,
          14,
          82,
          33,
          47,
          61,
          310,
          24,
          64,
          13,
          47,
          19,
          44,
          72,
          101,
          null,
          31,
          12,
          null,
          12,
          3,
          null,
          null,
          1,
          1,
          null,
          2,
          1,
          2,
          null,
          5,
          9,
          1
         ]
        },
        {
         "name": "NumberOfDistrictHealthCenters",
         "type": "bar",
         "x": [
          "Uttar Pradesh",
          "Karnataka",
          "Odisha",
          "West Bengal",
          "Assam",
          "Kerala",
          "Bihar",
          "Telangana",
          "Himachal Pradesh",
          "Tamil Nadu",
          "Haryana",
          "Rajasthan",
          "Jharkhand",
          "Punjab",
          "Uttarakhand",
          "Gujarat",
          "Madhya Pradesh",
          "Maharashtra",
          "Arunachal Pradesh",
          "Andhra Pradesh",
          "Chhattisgarh",
          "Meghalaya",
          "Tripura",
          "Mizoram",
          "Jammu & Kashmir",
          "Andaman & Nicobar Islands",
          "Sikkim",
          "Manipur",
          "Nagaland",
          "Goa",
          "Dadra & Nagar Haveli",
          "Lakshadweep",
          "Daman & Diu",
          "Puducherry",
          "Delhi",
          "Chandigarh"
         ],
         "y": [
          174,
          42,
          35,
          55,
          33,
          53,
          43,
          15,
          15,
          32,
          28,
          33,
          23,
          28,
          20,
          37,
          51,
          70,
          15,
          20,
          32,
          13,
          9,
          9,
          29,
          3,
          4,
          9,
          11,
          3,
          1,
          1,
          2,
          4,
          47,
          4
         ]
        },
        {
         "name": "TotalPublicHealthFacilities",
         "type": "bar",
         "x": [
          "Uttar Pradesh",
          "Karnataka",
          "Odisha",
          "West Bengal",
          "Assam",
          "Kerala",
          "Bihar",
          "Telangana",
          "Himachal Pradesh",
          "Tamil Nadu",
          "Haryana",
          "Rajasthan",
          "Jharkhand",
          "Punjab",
          "Uttarakhand",
          "Gujarat",
          "Madhya Pradesh",
          "Maharashtra",
          "Arunachal Pradesh",
          "Andhra Pradesh",
          "Chhattisgarh",
          "Meghalaya",
          "Tripura",
          "Mizoram",
          "Jammu & Kashmir",
          "Andaman & Nicobar Islands",
          "Sikkim",
          "Manipur",
          "Nagaland",
          "Goa",
          "Dadra & Nagar Haveli",
          "Lakshadweep",
          "Daman & Diu",
          "Puducherry",
          "Delhi",
          "Chandigarh"
         ],
         "y": [
          4122,
          2943,
          1799,
          1905,
          1220,
          1297,
          2146,
          932,
          671,
          2581,
          683,
          3139,
          558,
          742,
          383,
          2236,
          1867,
          3239,
          199,
          1666,
          1023,
          180,
          157,
          87,
          818,
          34,
          32,
          114,
          166,
          40,
          13,
          10,
          8,
          53,
          615,
          47
         ]
        },
        {
         "name": "NumberOfPubicBeds",
         "type": "bar",
         "x": [
          "Uttar Pradesh",
          "Karnataka",
          "Odisha",
          "West Bengal",
          "Assam",
          "Kerala",
          "Bihar",
          "Telangana",
          "Himachal Pradesh",
          "Tamil Nadu",
          "Haryana",
          "Rajasthan",
          "Jharkhand",
          "Punjab",
          "Uttarakhand",
          "Gujarat",
          "Madhya Pradesh",
          "Maharashtra",
          "Arunachal Pradesh",
          "Andhra Pradesh",
          "Chhattisgarh",
          "Meghalaya",
          "Tripura",
          "Mizoram",
          "Jammu & Kashmir",
          "Andaman & Nicobar Islands",
          "Sikkim",
          "Manipur",
          "Nagaland",
          "Goa",
          "Dadra & Nagar Haveli",
          "Lakshadweep",
          "Daman & Diu",
          "Puducherry",
          "Delhi",
          "Chandigarh"
         ],
         "y": [
          58310,
          56333,
          16497,
          51163,
          19115,
          39511,
          17796,
          17358,
          8706,
          72616,
          13841,
          51844,
          7404,
          13527,
          6660,
          41129,
          38140,
          68998,
          2320,
          60799,
          14354,
          4585,
          4895,
          2312,
          11342,
          1246,
          1145,
          2562,
          1944,
          2666,
          568,
          250,
          298,
          4462,
          20572,
          3756
         ]
        },
        {
         "name": "NumberRuralHospitals",
         "type": "bar",
         "x": [
          "Uttar Pradesh",
          "Karnataka",
          "Odisha",
          "West Bengal",
          "Assam",
          "Kerala",
          "Bihar",
          "Telangana",
          "Himachal Pradesh",
          "Tamil Nadu",
          "Haryana",
          "Rajasthan",
          "Jharkhand",
          "Punjab",
          "Uttarakhand",
          "Gujarat",
          "Madhya Pradesh",
          "Maharashtra",
          "Arunachal Pradesh",
          "Andhra Pradesh",
          "Chhattisgarh",
          "Meghalaya",
          "Tripura",
          "Mizoram",
          "Jammu & Kashmir",
          "Andaman & Nicobar Islands",
          "Sikkim",
          "Manipur",
          "Nagaland",
          "Goa",
          "Dadra & Nagar Haveli",
          "Lakshadweep",
          "Daman & Diu",
          "Puducherry",
          "Delhi",
          "Chandigarh"
         ],
         "y": [
          4442,
          2471,
          1655,
          1272,
          1176,
          981,
          930,
          802,
          705,
          692,
          609,
          602,
          519,
          510,
          410,
          364,
          334,
          273,
          208,
          193,
          169,
          143,
          99,
          56,
          56,
          27,
          24,
          23,
          21,
          17,
          10,
          9,
          5,
          3,
          0,
          0
         ]
        },
        {
         "name": "NumberUrbanHospitals",
         "type": "bar",
         "x": [
          "Uttar Pradesh",
          "Karnataka",
          "Odisha",
          "West Bengal",
          "Assam",
          "Kerala",
          "Bihar",
          "Telangana",
          "Himachal Pradesh",
          "Tamil Nadu",
          "Haryana",
          "Rajasthan",
          "Jharkhand",
          "Punjab",
          "Uttarakhand",
          "Gujarat",
          "Madhya Pradesh",
          "Maharashtra",
          "Arunachal Pradesh",
          "Andhra Pradesh",
          "Chhattisgarh",
          "Meghalaya",
          "Tripura",
          "Mizoram",
          "Jammu & Kashmir",
          "Andaman & Nicobar Islands",
          "Sikkim",
          "Manipur",
          "Nagaland",
          "Goa",
          "Dadra & Nagar Haveli",
          "Lakshadweep",
          "Daman & Diu",
          "Puducherry",
          "Delhi",
          "Chandigarh"
         ],
         "y": [
          193,
          374,
          149,
          294,
          50,
          299,
          103,
          61,
          96,
          525,
          59,
          150,
          36,
          172,
          50,
          122,
          117,
          438,
          10,
          65,
          45,
          14,
          56,
          34,
          76,
          3,
          9,
          7,
          15,
          25,
          1,
          0,
          0,
          11,
          109,
          4
         ]
        },
        {
         "name": "NumberOfUrbanBeds",
         "type": "bar",
         "x": [
          "Uttar Pradesh",
          "Karnataka",
          "Odisha",
          "West Bengal",
          "Assam",
          "Kerala",
          "Bihar",
          "Telangana",
          "Himachal Pradesh",
          "Tamil Nadu",
          "Haryana",
          "Rajasthan",
          "Jharkhand",
          "Punjab",
          "Uttarakhand",
          "Gujarat",
          "Madhya Pradesh",
          "Maharashtra",
          "Arunachal Pradesh",
          "Andhra Pradesh",
          "Chhattisgarh",
          "Meghalaya",
          "Tripura",
          "Mizoram",
          "Jammu & Kashmir",
          "Andaman & Nicobar Islands",
          "Sikkim",
          "Manipur",
          "Nagaland",
          "Goa",
          "Dadra & Nagar Haveli",
          "Lakshadweep",
          "Daman & Diu",
          "Puducherry",
          "Delhi",
          "Chandigarh"
         ],
         "y": [
          37156,
          49093,
          12180,
          58882,
          6198,
          21139,
          5936,
          13315,
          6734,
          37353,
          4550,
          10760,
          4942,
          12128,
          5228,
          20565,
          18819,
          39048,
          268,
          16658,
          4342,
          2487,
          3277,
          1393,
          4417,
          500,
          1300,
          697,
          1250,
          1608,
          316,
          0,
          0,
          3473,
          24383,
          778
         ]
        }
       ],
       "layout": {
        "barmode": "stack",
        "template": {
         "data": {
          "bar": [
           {
            "error_x": {
             "color": "#2a3f5f"
            },
            "error_y": {
             "color": "#2a3f5f"
            },
            "marker": {
             "line": {
              "color": "#E5ECF6",
              "width": 0.5
             }
            },
            "type": "bar"
           }
          ],
          "barpolar": [
           {
            "marker": {
             "line": {
              "color": "#E5ECF6",
              "width": 0.5
             }
            },
            "type": "barpolar"
           }
          ],
          "carpet": [
           {
            "aaxis": {
             "endlinecolor": "#2a3f5f",
             "gridcolor": "white",
             "linecolor": "white",
             "minorgridcolor": "white",
             "startlinecolor": "#2a3f5f"
            },
            "baxis": {
             "endlinecolor": "#2a3f5f",
             "gridcolor": "white",
             "linecolor": "white",
             "minorgridcolor": "white",
             "startlinecolor": "#2a3f5f"
            },
            "type": "carpet"
           }
          ],
          "choropleth": [
           {
            "colorbar": {
             "outlinewidth": 0,
             "ticks": ""
            },
            "type": "choropleth"
           }
          ],
          "contour": [
           {
            "colorbar": {
             "outlinewidth": 0,
             "ticks": ""
            },
            "colorscale": [
             [
              0,
              "#0d0887"
             ],
             [
              0.1111111111111111,
              "#46039f"
             ],
             [
              0.2222222222222222,
              "#7201a8"
             ],
             [
              0.3333333333333333,
              "#9c179e"
             ],
             [
              0.4444444444444444,
              "#bd3786"
             ],
             [
              0.5555555555555556,
              "#d8576b"
             ],
             [
              0.6666666666666666,
              "#ed7953"
             ],
             [
              0.7777777777777778,
              "#fb9f3a"
             ],
             [
              0.8888888888888888,
              "#fdca26"
             ],
             [
              1,
              "#f0f921"
             ]
            ],
            "type": "contour"
           }
          ],
          "contourcarpet": [
           {
            "colorbar": {
             "outlinewidth": 0,
             "ticks": ""
            },
            "type": "contourcarpet"
           }
          ],
          "heatmap": [
           {
            "colorbar": {
             "outlinewidth": 0,
             "ticks": ""
            },
            "colorscale": [
             [
              0,
              "#0d0887"
             ],
             [
              0.1111111111111111,
              "#46039f"
             ],
             [
              0.2222222222222222,
              "#7201a8"
             ],
             [
              0.3333333333333333,
              "#9c179e"
             ],
             [
              0.4444444444444444,
              "#bd3786"
             ],
             [
              0.5555555555555556,
              "#d8576b"
             ],
             [
              0.6666666666666666,
              "#ed7953"
             ],
             [
              0.7777777777777778,
              "#fb9f3a"
             ],
             [
              0.8888888888888888,
              "#fdca26"
             ],
             [
              1,
              "#f0f921"
             ]
            ],
            "type": "heatmap"
           }
          ],
          "heatmapgl": [
           {
            "colorbar": {
             "outlinewidth": 0,
             "ticks": ""
            },
            "colorscale": [
             [
              0,
              "#0d0887"
             ],
             [
              0.1111111111111111,
              "#46039f"
             ],
             [
              0.2222222222222222,
              "#7201a8"
             ],
             [
              0.3333333333333333,
              "#9c179e"
             ],
             [
              0.4444444444444444,
              "#bd3786"
             ],
             [
              0.5555555555555556,
              "#d8576b"
             ],
             [
              0.6666666666666666,
              "#ed7953"
             ],
             [
              0.7777777777777778,
              "#fb9f3a"
             ],
             [
              0.8888888888888888,
              "#fdca26"
             ],
             [
              1,
              "#f0f921"
             ]
            ],
            "type": "heatmapgl"
           }
          ],
          "histogram": [
           {
            "marker": {
             "colorbar": {
              "outlinewidth": 0,
              "ticks": ""
             }
            },
            "type": "histogram"
           }
          ],
          "histogram2d": [
           {
            "colorbar": {
             "outlinewidth": 0,
             "ticks": ""
            },
            "colorscale": [
             [
              0,
              "#0d0887"
             ],
             [
              0.1111111111111111,
              "#46039f"
             ],
             [
              0.2222222222222222,
              "#7201a8"
             ],
             [
              0.3333333333333333,
              "#9c179e"
             ],
             [
              0.4444444444444444,
              "#bd3786"
             ],
             [
              0.5555555555555556,
              "#d8576b"
             ],
             [
              0.6666666666666666,
              "#ed7953"
             ],
             [
              0.7777777777777778,
              "#fb9f3a"
             ],
             [
              0.8888888888888888,
              "#fdca26"
             ],
             [
              1,
              "#f0f921"
             ]
            ],
            "type": "histogram2d"
           }
          ],
          "histogram2dcontour": [
           {
            "colorbar": {
             "outlinewidth": 0,
             "ticks": ""
            },
            "colorscale": [
             [
              0,
              "#0d0887"
             ],
             [
              0.1111111111111111,
              "#46039f"
             ],
             [
              0.2222222222222222,
              "#7201a8"
             ],
             [
              0.3333333333333333,
              "#9c179e"
             ],
             [
              0.4444444444444444,
              "#bd3786"
             ],
             [
              0.5555555555555556,
              "#d8576b"
             ],
             [
              0.6666666666666666,
              "#ed7953"
             ],
             [
              0.7777777777777778,
              "#fb9f3a"
             ],
             [
              0.8888888888888888,
              "#fdca26"
             ],
             [
              1,
              "#f0f921"
             ]
            ],
            "type": "histogram2dcontour"
           }
          ],
          "mesh3d": [
           {
            "colorbar": {
             "outlinewidth": 0,
             "ticks": ""
            },
            "type": "mesh3d"
           }
          ],
          "parcoords": [
           {
            "line": {
             "colorbar": {
              "outlinewidth": 0,
              "ticks": ""
             }
            },
            "type": "parcoords"
           }
          ],
          "pie": [
           {
            "automargin": true,
            "type": "pie"
           }
          ],
          "scatter": [
           {
            "marker": {
             "colorbar": {
              "outlinewidth": 0,
              "ticks": ""
             }
            },
            "type": "scatter"
           }
          ],
          "scatter3d": [
           {
            "line": {
             "colorbar": {
              "outlinewidth": 0,
              "ticks": ""
             }
            },
            "marker": {
             "colorbar": {
              "outlinewidth": 0,
              "ticks": ""
             }
            },
            "type": "scatter3d"
           }
          ],
          "scattercarpet": [
           {
            "marker": {
             "colorbar": {
              "outlinewidth": 0,
              "ticks": ""
             }
            },
            "type": "scattercarpet"
           }
          ],
          "scattergeo": [
           {
            "marker": {
             "colorbar": {
              "outlinewidth": 0,
              "ticks": ""
             }
            },
            "type": "scattergeo"
           }
          ],
          "scattergl": [
           {
            "marker": {
             "colorbar": {
              "outlinewidth": 0,
              "ticks": ""
             }
            },
            "type": "scattergl"
           }
          ],
          "scattermapbox": [
           {
            "marker": {
             "colorbar": {
              "outlinewidth": 0,
              "ticks": ""
             }
            },
            "type": "scattermapbox"
           }
          ],
          "scatterpolar": [
           {
            "marker": {
             "colorbar": {
              "outlinewidth": 0,
              "ticks": ""
             }
            },
            "type": "scatterpolar"
           }
          ],
          "scatterpolargl": [
           {
            "marker": {
             "colorbar": {
              "outlinewidth": 0,
              "ticks": ""
             }
            },
            "type": "scatterpolargl"
           }
          ],
          "scatterternary": [
           {
            "marker": {
             "colorbar": {
              "outlinewidth": 0,
              "ticks": ""
             }
            },
            "type": "scatterternary"
           }
          ],
          "surface": [
           {
            "colorbar": {
             "outlinewidth": 0,
             "ticks": ""
            },
            "colorscale": [
             [
              0,
              "#0d0887"
             ],
             [
              0.1111111111111111,
              "#46039f"
             ],
             [
              0.2222222222222222,
              "#7201a8"
             ],
             [
              0.3333333333333333,
              "#9c179e"
             ],
             [
              0.4444444444444444,
              "#bd3786"
             ],
             [
              0.5555555555555556,
              "#d8576b"
             ],
             [
              0.6666666666666666,
              "#ed7953"
             ],
             [
              0.7777777777777778,
              "#fb9f3a"
             ],
             [
              0.8888888888888888,
              "#fdca26"
             ],
             [
              1,
              "#f0f921"
             ]
            ],
            "type": "surface"
           }
          ],
          "table": [
           {
            "cells": {
             "fill": {
              "color": "#EBF0F8"
             },
             "line": {
              "color": "white"
             }
            },
            "header": {
             "fill": {
              "color": "#C8D4E3"
             },
             "line": {
              "color": "white"
             }
            },
            "type": "table"
           }
          ]
         },
         "layout": {
          "annotationdefaults": {
           "arrowcolor": "#2a3f5f",
           "arrowhead": 0,
           "arrowwidth": 1
          },
          "coloraxis": {
           "colorbar": {
            "outlinewidth": 0,
            "ticks": ""
           }
          },
          "colorscale": {
           "diverging": [
            [
             0,
             "#8e0152"
            ],
            [
             0.1,
             "#c51b7d"
            ],
            [
             0.2,
             "#de77ae"
            ],
            [
             0.3,
             "#f1b6da"
            ],
            [
             0.4,
             "#fde0ef"
            ],
            [
             0.5,
             "#f7f7f7"
            ],
            [
             0.6,
             "#e6f5d0"
            ],
            [
             0.7,
             "#b8e186"
            ],
            [
             0.8,
             "#7fbc41"
            ],
            [
             0.9,
             "#4d9221"
            ],
            [
             1,
             "#276419"
            ]
           ],
           "sequential": [
            [
             0,
             "#0d0887"
            ],
            [
             0.1111111111111111,
             "#46039f"
            ],
            [
             0.2222222222222222,
             "#7201a8"
            ],
            [
             0.3333333333333333,
             "#9c179e"
            ],
            [
             0.4444444444444444,
             "#bd3786"
            ],
            [
             0.5555555555555556,
             "#d8576b"
            ],
            [
             0.6666666666666666,
             "#ed7953"
            ],
            [
             0.7777777777777778,
             "#fb9f3a"
            ],
            [
             0.8888888888888888,
             "#fdca26"
            ],
            [
             1,
             "#f0f921"
            ]
           ],
           "sequentialminus": [
            [
             0,
             "#0d0887"
            ],
            [
             0.1111111111111111,
             "#46039f"
            ],
            [
             0.2222222222222222,
             "#7201a8"
            ],
            [
             0.3333333333333333,
             "#9c179e"
            ],
            [
             0.4444444444444444,
             "#bd3786"
            ],
            [
             0.5555555555555556,
             "#d8576b"
            ],
            [
             0.6666666666666666,
             "#ed7953"
            ],
            [
             0.7777777777777778,
             "#fb9f3a"
            ],
            [
             0.8888888888888888,
             "#fdca26"
            ],
            [
             1,
             "#f0f921"
            ]
           ]
          },
          "colorway": [
           "#636efa",
           "#EF553B",
           "#00cc96",
           "#ab63fa",
           "#FFA15A",
           "#19d3f3",
           "#FF6692",
           "#B6E880",
           "#FF97FF",
           "#FECB52"
          ],
          "font": {
           "color": "#2a3f5f"
          },
          "geo": {
           "bgcolor": "white",
           "lakecolor": "white",
           "landcolor": "#E5ECF6",
           "showlakes": true,
           "showland": true,
           "subunitcolor": "white"
          },
          "hoverlabel": {
           "align": "left"
          },
          "hovermode": "closest",
          "mapbox": {
           "style": "light"
          },
          "paper_bgcolor": "white",
          "plot_bgcolor": "#E5ECF6",
          "polar": {
           "angularaxis": {
            "gridcolor": "white",
            "linecolor": "white",
            "ticks": ""
           },
           "bgcolor": "#E5ECF6",
           "radialaxis": {
            "gridcolor": "white",
            "linecolor": "white",
            "ticks": ""
           }
          },
          "scene": {
           "xaxis": {
            "backgroundcolor": "#E5ECF6",
            "gridcolor": "white",
            "gridwidth": 2,
            "linecolor": "white",
            "showbackground": true,
            "ticks": "",
            "zerolinecolor": "white"
           },
           "yaxis": {
            "backgroundcolor": "#E5ECF6",
            "gridcolor": "white",
            "gridwidth": 2,
            "linecolor": "white",
            "showbackground": true,
            "ticks": "",
            "zerolinecolor": "white"
           },
           "zaxis": {
            "backgroundcolor": "#E5ECF6",
            "gridcolor": "white",
            "gridwidth": 2,
            "linecolor": "white",
            "showbackground": true,
            "ticks": "",
            "zerolinecolor": "white"
           }
          },
          "shapedefaults": {
           "line": {
            "color": "#2a3f5f"
           }
          },
          "ternary": {
           "aaxis": {
            "gridcolor": "white",
            "linecolor": "white",
            "ticks": ""
           },
           "baxis": {
            "gridcolor": "white",
            "linecolor": "white",
            "ticks": ""
           },
           "bgcolor": "#E5ECF6",
           "caxis": {
            "gridcolor": "white",
            "linecolor": "white",
            "ticks": ""
           }
          },
          "title": {
           "x": 0.05
          },
          "xaxis": {
           "automargin": true,
           "gridcolor": "white",
           "linecolor": "white",
           "ticks": "",
           "title": {
            "standoff": 15
           },
           "zerolinecolor": "white",
           "zerolinewidth": 2
          },
          "yaxis": {
           "automargin": true,
           "gridcolor": "white",
           "linecolor": "white",
           "ticks": "",
           "title": {
            "standoff": 15
           },
           "zerolinecolor": "white",
           "zerolinewidth": 2
          }
         }
        },
        "xaxis": {
         "categoryorder": "category ascending"
        }
       }
      },
      "text/html": [
       "<div>\n",
       "        \n",
       "        \n",
       "            <div id=\"e6b211a4-5dfa-4b3f-a923-0249909395aa\" class=\"plotly-graph-div\" style=\"height:525px; width:100%;\"></div>\n",
       "            <script type=\"text/javascript\">\n",
       "                require([\"plotly\"], function(Plotly) {\n",
       "                    window.PLOTLYENV=window.PLOTLYENV || {};\n",
       "                    \n",
       "                if (document.getElementById(\"e6b211a4-5dfa-4b3f-a923-0249909395aa\")) {\n",
       "                    Plotly.newPlot(\n",
       "                        'e6b211a4-5dfa-4b3f-a923-0249909395aa',\n",
       "                        [{\"name\": \"NumberOfPrimaryHealthCenters\", \"type\": \"bar\", \"x\": [\"Uttar Pradesh\", \"Karnataka\", \"Odisha\", \"West Bengal\", \"Assam\", \"Kerala\", \"Bihar\", \"Telangana\", \"Himachal Pradesh\", \"Tamil Nadu\", \"Haryana\", \"Rajasthan\", \"Jharkhand\", \"Punjab\", \"Uttarakhand\", \"Gujarat\", \"Madhya Pradesh\", \"Maharashtra\", \"Arunachal Pradesh\", \"Andhra Pradesh\", \"Chhattisgarh\", \"Meghalaya\", \"Tripura\", \"Mizoram\", \"Jammu & Kashmir\", \"Andaman & Nicobar Islands\", \"Sikkim\", \"Manipur\", \"Nagaland\", \"Goa\", \"Dadra & Nagar Haveli\", \"Lakshadweep\", \"Daman & Diu\", \"Puducherry\", \"Delhi\", \"Chandigarh\"], \"y\": [\"3277\", \"2547\", \"1360\", \"1374\", \"1007\", \"933\", \"2007\", \"788\", \"516\", \"1854\", \"500\", \"2463\", \"343\", \"521\", \"275\", \"1770\", \"1420\", \"2638\", \"122\", \"1417\", \"813\", \"138\", \"114\", \"65\", \"702\", \"27\", \"25\", \"87\", \"134\", \"31\", \"9\", \"4\", \"4\", \"40\", \"534\", \"40\"]}, {\"name\": \"NumberOfCommunityHealthCenters\", \"type\": \"bar\", \"x\": [\"Uttar Pradesh\", \"Karnataka\", \"Odisha\", \"West Bengal\", \"Assam\", \"Kerala\", \"Bihar\", \"Telangana\", \"Himachal Pradesh\", \"Tamil Nadu\", \"Haryana\", \"Rajasthan\", \"Jharkhand\", \"Punjab\", \"Uttarakhand\", \"Gujarat\", \"Madhya Pradesh\", \"Maharashtra\", \"Arunachal Pradesh\", \"Andhra Pradesh\", \"Chhattisgarh\", \"Meghalaya\", \"Tripura\", \"Mizoram\", \"Jammu & Kashmir\", \"Andaman & Nicobar Islands\", \"Sikkim\", \"Manipur\", \"Nagaland\", \"Goa\", \"Dadra & Nagar Haveli\", \"Lakshadweep\", \"Daman & Diu\", \"Puducherry\", \"Delhi\", \"Chandigarh\"], \"y\": [671, 207, 377, 406, 166, 229, 63, 82, 79, 385, 131, 579, 179, 146, 69, 385, 324, 430, 62, 198, 166, 29, 22, 10, 87, 4, 2, 17, 21, 4, 2, 3, 2, 4, 25, 2]}, {\"name\": \"NumberOfSubDistrictHealthCenters\", \"type\": \"bar\", \"x\": [\"Uttar Pradesh\", \"Karnataka\", \"Odisha\", \"West Bengal\", \"Assam\", \"Kerala\", \"Bihar\", \"Telangana\", \"Himachal Pradesh\", \"Tamil Nadu\", \"Haryana\", \"Rajasthan\", \"Jharkhand\", \"Punjab\", \"Uttarakhand\", \"Gujarat\", \"Madhya Pradesh\", \"Maharashtra\", \"Arunachal Pradesh\", \"Andhra Pradesh\", \"Chhattisgarh\", \"Meghalaya\", \"Tripura\", \"Mizoram\", \"Jammu & Kashmir\", \"Andaman & Nicobar Islands\", \"Sikkim\", \"Manipur\", \"Nagaland\", \"Goa\", \"Dadra & Nagar Haveli\", \"Lakshadweep\", \"Daman & Diu\", \"Puducherry\", \"Delhi\", \"Chandigarh\"], \"y\": [null, 147.0, 27.0, 70.0, 14.0, 82.0, 33.0, 47.0, 61.0, 310.0, 24.0, 64.0, 13.0, 47.0, 19.0, 44.0, 72.0, 101.0, null, 31.0, 12.0, null, 12.0, 3.0, null, null, 1.0, 1.0, null, 2.0, 1.0, 2.0, null, 5.0, 9.0, 1.0]}, {\"name\": \"NumberOfDistrictHealthCenters\", \"type\": \"bar\", \"x\": [\"Uttar Pradesh\", \"Karnataka\", \"Odisha\", \"West Bengal\", \"Assam\", \"Kerala\", \"Bihar\", \"Telangana\", \"Himachal Pradesh\", \"Tamil Nadu\", \"Haryana\", \"Rajasthan\", \"Jharkhand\", \"Punjab\", \"Uttarakhand\", \"Gujarat\", \"Madhya Pradesh\", \"Maharashtra\", \"Arunachal Pradesh\", \"Andhra Pradesh\", \"Chhattisgarh\", \"Meghalaya\", \"Tripura\", \"Mizoram\", \"Jammu & Kashmir\", \"Andaman & Nicobar Islands\", \"Sikkim\", \"Manipur\", \"Nagaland\", \"Goa\", \"Dadra & Nagar Haveli\", \"Lakshadweep\", \"Daman & Diu\", \"Puducherry\", \"Delhi\", \"Chandigarh\"], \"y\": [174, 42, 35, 55, 33, 53, 43, 15, 15, 32, 28, 33, 23, 28, 20, 37, 51, 70, 15, 20, 32, 13, 9, 9, 29, 3, 4, 9, 11, 3, 1, 1, 2, 4, 47, 4]}, {\"name\": \"TotalPublicHealthFacilities\", \"type\": \"bar\", \"x\": [\"Uttar Pradesh\", \"Karnataka\", \"Odisha\", \"West Bengal\", \"Assam\", \"Kerala\", \"Bihar\", \"Telangana\", \"Himachal Pradesh\", \"Tamil Nadu\", \"Haryana\", \"Rajasthan\", \"Jharkhand\", \"Punjab\", \"Uttarakhand\", \"Gujarat\", \"Madhya Pradesh\", \"Maharashtra\", \"Arunachal Pradesh\", \"Andhra Pradesh\", \"Chhattisgarh\", \"Meghalaya\", \"Tripura\", \"Mizoram\", \"Jammu & Kashmir\", \"Andaman & Nicobar Islands\", \"Sikkim\", \"Manipur\", \"Nagaland\", \"Goa\", \"Dadra & Nagar Haveli\", \"Lakshadweep\", \"Daman & Diu\", \"Puducherry\", \"Delhi\", \"Chandigarh\"], \"y\": [4122, 2943, 1799, 1905, 1220, 1297, 2146, 932, 671, 2581, 683, 3139, 558, 742, 383, 2236, 1867, 3239, 199, 1666, 1023, 180, 157, 87, 818, 34, 32, 114, 166, 40, 13, 10, 8, 53, 615, 47]}, {\"name\": \"NumberOfPubicBeds\", \"type\": \"bar\", \"x\": [\"Uttar Pradesh\", \"Karnataka\", \"Odisha\", \"West Bengal\", \"Assam\", \"Kerala\", \"Bihar\", \"Telangana\", \"Himachal Pradesh\", \"Tamil Nadu\", \"Haryana\", \"Rajasthan\", \"Jharkhand\", \"Punjab\", \"Uttarakhand\", \"Gujarat\", \"Madhya Pradesh\", \"Maharashtra\", \"Arunachal Pradesh\", \"Andhra Pradesh\", \"Chhattisgarh\", \"Meghalaya\", \"Tripura\", \"Mizoram\", \"Jammu & Kashmir\", \"Andaman & Nicobar Islands\", \"Sikkim\", \"Manipur\", \"Nagaland\", \"Goa\", \"Dadra & Nagar Haveli\", \"Lakshadweep\", \"Daman & Diu\", \"Puducherry\", \"Delhi\", \"Chandigarh\"], \"y\": [58310, 56333, 16497, 51163, 19115, 39511, 17796, 17358, 8706, 72616, 13841, 51844, 7404, 13527, 6660, 41129, 38140, 68998, 2320, 60799, 14354, 4585, 4895, 2312, 11342, 1246, 1145, 2562, 1944, 2666, 568, 250, 298, 4462, 20572, 3756]}, {\"name\": \"NumberRuralHospitals\", \"type\": \"bar\", \"x\": [\"Uttar Pradesh\", \"Karnataka\", \"Odisha\", \"West Bengal\", \"Assam\", \"Kerala\", \"Bihar\", \"Telangana\", \"Himachal Pradesh\", \"Tamil Nadu\", \"Haryana\", \"Rajasthan\", \"Jharkhand\", \"Punjab\", \"Uttarakhand\", \"Gujarat\", \"Madhya Pradesh\", \"Maharashtra\", \"Arunachal Pradesh\", \"Andhra Pradesh\", \"Chhattisgarh\", \"Meghalaya\", \"Tripura\", \"Mizoram\", \"Jammu & Kashmir\", \"Andaman & Nicobar Islands\", \"Sikkim\", \"Manipur\", \"Nagaland\", \"Goa\", \"Dadra & Nagar Haveli\", \"Lakshadweep\", \"Daman & Diu\", \"Puducherry\", \"Delhi\", \"Chandigarh\"], \"y\": [4442, 2471, 1655, 1272, 1176, 981, 930, 802, 705, 692, 609, 602, 519, 510, 410, 364, 334, 273, 208, 193, 169, 143, 99, 56, 56, 27, 24, 23, 21, 17, 10, 9, 5, 3, 0, 0]}, {\"name\": \"NumberUrbanHospitals\", \"type\": \"bar\", \"x\": [\"Uttar Pradesh\", \"Karnataka\", \"Odisha\", \"West Bengal\", \"Assam\", \"Kerala\", \"Bihar\", \"Telangana\", \"Himachal Pradesh\", \"Tamil Nadu\", \"Haryana\", \"Rajasthan\", \"Jharkhand\", \"Punjab\", \"Uttarakhand\", \"Gujarat\", \"Madhya Pradesh\", \"Maharashtra\", \"Arunachal Pradesh\", \"Andhra Pradesh\", \"Chhattisgarh\", \"Meghalaya\", \"Tripura\", \"Mizoram\", \"Jammu & Kashmir\", \"Andaman & Nicobar Islands\", \"Sikkim\", \"Manipur\", \"Nagaland\", \"Goa\", \"Dadra & Nagar Haveli\", \"Lakshadweep\", \"Daman & Diu\", \"Puducherry\", \"Delhi\", \"Chandigarh\"], \"y\": [193, 374, 149, 294, 50, 299, 103, 61, 96, 525, 59, 150, 36, 172, 50, 122, 117, 438, 10, 65, 45, 14, 56, 34, 76, 3, 9, 7, 15, 25, 1, 0, 0, 11, 109, 4]}, {\"name\": \"NumberOfUrbanBeds\", \"type\": \"bar\", \"x\": [\"Uttar Pradesh\", \"Karnataka\", \"Odisha\", \"West Bengal\", \"Assam\", \"Kerala\", \"Bihar\", \"Telangana\", \"Himachal Pradesh\", \"Tamil Nadu\", \"Haryana\", \"Rajasthan\", \"Jharkhand\", \"Punjab\", \"Uttarakhand\", \"Gujarat\", \"Madhya Pradesh\", \"Maharashtra\", \"Arunachal Pradesh\", \"Andhra Pradesh\", \"Chhattisgarh\", \"Meghalaya\", \"Tripura\", \"Mizoram\", \"Jammu & Kashmir\", \"Andaman & Nicobar Islands\", \"Sikkim\", \"Manipur\", \"Nagaland\", \"Goa\", \"Dadra & Nagar Haveli\", \"Lakshadweep\", \"Daman & Diu\", \"Puducherry\", \"Delhi\", \"Chandigarh\"], \"y\": [37156, 49093, 12180, 58882, 6198, 21139, 5936, 13315, 6734, 37353, 4550, 10760, 4942, 12128, 5228, 20565, 18819, 39048, 268, 16658, 4342, 2487, 3277, 1393, 4417, 500, 1300, 697, 1250, 1608, 316, 0, 0, 3473, 24383, 778]}],\n",
       "                        {\"barmode\": \"stack\", \"template\": {\"data\": {\"bar\": [{\"error_x\": {\"color\": \"#2a3f5f\"}, \"error_y\": {\"color\": \"#2a3f5f\"}, \"marker\": {\"line\": {\"color\": \"#E5ECF6\", \"width\": 0.5}}, \"type\": \"bar\"}], \"barpolar\": [{\"marker\": {\"line\": {\"color\": \"#E5ECF6\", \"width\": 0.5}}, \"type\": \"barpolar\"}], \"carpet\": [{\"aaxis\": {\"endlinecolor\": \"#2a3f5f\", \"gridcolor\": \"white\", \"linecolor\": \"white\", \"minorgridcolor\": \"white\", \"startlinecolor\": \"#2a3f5f\"}, \"baxis\": {\"endlinecolor\": \"#2a3f5f\", \"gridcolor\": \"white\", \"linecolor\": \"white\", \"minorgridcolor\": \"white\", \"startlinecolor\": \"#2a3f5f\"}, \"type\": \"carpet\"}], \"choropleth\": [{\"colorbar\": {\"outlinewidth\": 0, \"ticks\": \"\"}, \"type\": \"choropleth\"}], \"contour\": [{\"colorbar\": {\"outlinewidth\": 0, \"ticks\": \"\"}, \"colorscale\": [[0.0, \"#0d0887\"], [0.1111111111111111, \"#46039f\"], [0.2222222222222222, \"#7201a8\"], [0.3333333333333333, \"#9c179e\"], [0.4444444444444444, \"#bd3786\"], [0.5555555555555556, \"#d8576b\"], [0.6666666666666666, \"#ed7953\"], [0.7777777777777778, \"#fb9f3a\"], [0.8888888888888888, \"#fdca26\"], [1.0, \"#f0f921\"]], \"type\": \"contour\"}], \"contourcarpet\": [{\"colorbar\": {\"outlinewidth\": 0, \"ticks\": \"\"}, \"type\": \"contourcarpet\"}], \"heatmap\": [{\"colorbar\": {\"outlinewidth\": 0, \"ticks\": \"\"}, \"colorscale\": [[0.0, \"#0d0887\"], [0.1111111111111111, \"#46039f\"], [0.2222222222222222, \"#7201a8\"], [0.3333333333333333, \"#9c179e\"], [0.4444444444444444, \"#bd3786\"], [0.5555555555555556, \"#d8576b\"], [0.6666666666666666, \"#ed7953\"], [0.7777777777777778, \"#fb9f3a\"], [0.8888888888888888, \"#fdca26\"], [1.0, \"#f0f921\"]], \"type\": \"heatmap\"}], \"heatmapgl\": [{\"colorbar\": {\"outlinewidth\": 0, \"ticks\": \"\"}, \"colorscale\": [[0.0, \"#0d0887\"], [0.1111111111111111, \"#46039f\"], [0.2222222222222222, \"#7201a8\"], [0.3333333333333333, \"#9c179e\"], [0.4444444444444444, \"#bd3786\"], [0.5555555555555556, \"#d8576b\"], [0.6666666666666666, \"#ed7953\"], [0.7777777777777778, \"#fb9f3a\"], [0.8888888888888888, \"#fdca26\"], [1.0, \"#f0f921\"]], \"type\": \"heatmapgl\"}], \"histogram\": [{\"marker\": {\"colorbar\": {\"outlinewidth\": 0, \"ticks\": \"\"}}, \"type\": \"histogram\"}], \"histogram2d\": [{\"colorbar\": {\"outlinewidth\": 0, \"ticks\": \"\"}, \"colorscale\": [[0.0, \"#0d0887\"], [0.1111111111111111, \"#46039f\"], [0.2222222222222222, \"#7201a8\"], [0.3333333333333333, \"#9c179e\"], [0.4444444444444444, \"#bd3786\"], [0.5555555555555556, \"#d8576b\"], [0.6666666666666666, \"#ed7953\"], [0.7777777777777778, \"#fb9f3a\"], [0.8888888888888888, \"#fdca26\"], [1.0, \"#f0f921\"]], \"type\": \"histogram2d\"}], \"histogram2dcontour\": [{\"colorbar\": {\"outlinewidth\": 0, \"ticks\": \"\"}, \"colorscale\": [[0.0, \"#0d0887\"], [0.1111111111111111, \"#46039f\"], [0.2222222222222222, \"#7201a8\"], [0.3333333333333333, \"#9c179e\"], [0.4444444444444444, \"#bd3786\"], [0.5555555555555556, \"#d8576b\"], [0.6666666666666666, \"#ed7953\"], [0.7777777777777778, \"#fb9f3a\"], [0.8888888888888888, \"#fdca26\"], [1.0, \"#f0f921\"]], \"type\": \"histogram2dcontour\"}], \"mesh3d\": [{\"colorbar\": {\"outlinewidth\": 0, \"ticks\": \"\"}, \"type\": \"mesh3d\"}], \"parcoords\": [{\"line\": {\"colorbar\": {\"outlinewidth\": 0, \"ticks\": \"\"}}, \"type\": \"parcoords\"}], \"pie\": [{\"automargin\": true, \"type\": \"pie\"}], \"scatter\": [{\"marker\": {\"colorbar\": {\"outlinewidth\": 0, \"ticks\": \"\"}}, \"type\": \"scatter\"}], \"scatter3d\": [{\"line\": {\"colorbar\": {\"outlinewidth\": 0, \"ticks\": \"\"}}, \"marker\": {\"colorbar\": {\"outlinewidth\": 0, \"ticks\": \"\"}}, \"type\": \"scatter3d\"}], \"scattercarpet\": [{\"marker\": {\"colorbar\": {\"outlinewidth\": 0, \"ticks\": \"\"}}, \"type\": \"scattercarpet\"}], \"scattergeo\": [{\"marker\": {\"colorbar\": {\"outlinewidth\": 0, \"ticks\": \"\"}}, \"type\": \"scattergeo\"}], \"scattergl\": [{\"marker\": {\"colorbar\": {\"outlinewidth\": 0, \"ticks\": \"\"}}, \"type\": \"scattergl\"}], \"scattermapbox\": [{\"marker\": {\"colorbar\": {\"outlinewidth\": 0, \"ticks\": \"\"}}, \"type\": \"scattermapbox\"}], \"scatterpolar\": [{\"marker\": {\"colorbar\": {\"outlinewidth\": 0, \"ticks\": \"\"}}, \"type\": \"scatterpolar\"}], \"scatterpolargl\": [{\"marker\": {\"colorbar\": {\"outlinewidth\": 0, \"ticks\": \"\"}}, \"type\": \"scatterpolargl\"}], \"scatterternary\": [{\"marker\": {\"colorbar\": {\"outlinewidth\": 0, \"ticks\": \"\"}}, \"type\": \"scatterternary\"}], \"surface\": [{\"colorbar\": {\"outlinewidth\": 0, \"ticks\": \"\"}, \"colorscale\": [[0.0, \"#0d0887\"], [0.1111111111111111, \"#46039f\"], [0.2222222222222222, \"#7201a8\"], [0.3333333333333333, \"#9c179e\"], [0.4444444444444444, \"#bd3786\"], [0.5555555555555556, \"#d8576b\"], [0.6666666666666666, \"#ed7953\"], [0.7777777777777778, \"#fb9f3a\"], [0.8888888888888888, \"#fdca26\"], [1.0, \"#f0f921\"]], \"type\": \"surface\"}], \"table\": [{\"cells\": {\"fill\": {\"color\": \"#EBF0F8\"}, \"line\": {\"color\": \"white\"}}, \"header\": {\"fill\": {\"color\": \"#C8D4E3\"}, \"line\": {\"color\": \"white\"}}, \"type\": \"table\"}]}, \"layout\": {\"annotationdefaults\": {\"arrowcolor\": \"#2a3f5f\", \"arrowhead\": 0, \"arrowwidth\": 1}, \"coloraxis\": {\"colorbar\": {\"outlinewidth\": 0, \"ticks\": \"\"}}, \"colorscale\": {\"diverging\": [[0, \"#8e0152\"], [0.1, \"#c51b7d\"], [0.2, \"#de77ae\"], [0.3, \"#f1b6da\"], [0.4, \"#fde0ef\"], [0.5, \"#f7f7f7\"], [0.6, \"#e6f5d0\"], [0.7, \"#b8e186\"], [0.8, \"#7fbc41\"], [0.9, \"#4d9221\"], [1, \"#276419\"]], \"sequential\": [[0.0, \"#0d0887\"], [0.1111111111111111, \"#46039f\"], [0.2222222222222222, \"#7201a8\"], [0.3333333333333333, \"#9c179e\"], [0.4444444444444444, \"#bd3786\"], [0.5555555555555556, \"#d8576b\"], [0.6666666666666666, \"#ed7953\"], [0.7777777777777778, \"#fb9f3a\"], [0.8888888888888888, \"#fdca26\"], [1.0, \"#f0f921\"]], \"sequentialminus\": [[0.0, \"#0d0887\"], [0.1111111111111111, \"#46039f\"], [0.2222222222222222, \"#7201a8\"], [0.3333333333333333, \"#9c179e\"], [0.4444444444444444, \"#bd3786\"], [0.5555555555555556, \"#d8576b\"], [0.6666666666666666, \"#ed7953\"], [0.7777777777777778, \"#fb9f3a\"], [0.8888888888888888, \"#fdca26\"], [1.0, \"#f0f921\"]]}, \"colorway\": [\"#636efa\", \"#EF553B\", \"#00cc96\", \"#ab63fa\", \"#FFA15A\", \"#19d3f3\", \"#FF6692\", \"#B6E880\", \"#FF97FF\", \"#FECB52\"], \"font\": {\"color\": \"#2a3f5f\"}, \"geo\": {\"bgcolor\": \"white\", \"lakecolor\": \"white\", \"landcolor\": \"#E5ECF6\", \"showlakes\": true, \"showland\": true, \"subunitcolor\": \"white\"}, \"hoverlabel\": {\"align\": \"left\"}, \"hovermode\": \"closest\", \"mapbox\": {\"style\": \"light\"}, \"paper_bgcolor\": \"white\", \"plot_bgcolor\": \"#E5ECF6\", \"polar\": {\"angularaxis\": {\"gridcolor\": \"white\", \"linecolor\": \"white\", \"ticks\": \"\"}, \"bgcolor\": \"#E5ECF6\", \"radialaxis\": {\"gridcolor\": \"white\", \"linecolor\": \"white\", \"ticks\": \"\"}}, \"scene\": {\"xaxis\": {\"backgroundcolor\": \"#E5ECF6\", \"gridcolor\": \"white\", \"gridwidth\": 2, \"linecolor\": \"white\", \"showbackground\": true, \"ticks\": \"\", \"zerolinecolor\": \"white\"}, \"yaxis\": {\"backgroundcolor\": \"#E5ECF6\", \"gridcolor\": \"white\", \"gridwidth\": 2, \"linecolor\": \"white\", \"showbackground\": true, \"ticks\": \"\", \"zerolinecolor\": \"white\"}, \"zaxis\": {\"backgroundcolor\": \"#E5ECF6\", \"gridcolor\": \"white\", \"gridwidth\": 2, \"linecolor\": \"white\", \"showbackground\": true, \"ticks\": \"\", \"zerolinecolor\": \"white\"}}, \"shapedefaults\": {\"line\": {\"color\": \"#2a3f5f\"}}, \"ternary\": {\"aaxis\": {\"gridcolor\": \"white\", \"linecolor\": \"white\", \"ticks\": \"\"}, \"baxis\": {\"gridcolor\": \"white\", \"linecolor\": \"white\", \"ticks\": \"\"}, \"bgcolor\": \"#E5ECF6\", \"caxis\": {\"gridcolor\": \"white\", \"linecolor\": \"white\", \"ticks\": \"\"}}, \"title\": {\"x\": 0.05}, \"xaxis\": {\"automargin\": true, \"gridcolor\": \"white\", \"linecolor\": \"white\", \"ticks\": \"\", \"title\": {\"standoff\": 15}, \"zerolinecolor\": \"white\", \"zerolinewidth\": 2}, \"yaxis\": {\"automargin\": true, \"gridcolor\": \"white\", \"linecolor\": \"white\", \"ticks\": \"\", \"title\": {\"standoff\": 15}, \"zerolinecolor\": \"white\", \"zerolinewidth\": 2}}}, \"xaxis\": {\"categoryorder\": \"category ascending\"}},\n",
       "                        {\"responsive\": true}\n",
       "                    ).then(function(){\n",
       "                            \n",
       "var gd = document.getElementById('e6b211a4-5dfa-4b3f-a923-0249909395aa');\n",
       "var x = new MutationObserver(function (mutations, observer) {{\n",
       "        var display = window.getComputedStyle(gd).display;\n",
       "        if (!display || display === 'none') {{\n",
       "            console.log([gd, 'removed!']);\n",
       "            Plotly.purge(gd);\n",
       "            observer.disconnect();\n",
       "        }}\n",
       "}});\n",
       "\n",
       "// Listen for the removal of the full notebook cells\n",
       "var notebookContainer = gd.closest('#notebook-container');\n",
       "if (notebookContainer) {{\n",
       "    x.observe(notebookContainer, {childList: true});\n",
       "}}\n",
       "\n",
       "// Listen for the clearing of the current output cell\n",
       "var outputEl = gd.closest('.output');\n",
       "if (outputEl) {{\n",
       "    x.observe(outputEl, {childList: true});\n",
       "}}\n",
       "\n",
       "                        })\n",
       "                };\n",
       "                });\n",
       "            </script>\n",
       "        </div>"
      ]
     },
     "metadata": {},
     "output_type": "display_data"
    }
   ],
   "source": [
    "fig = go.Figure(go.Bar(x = hospitalBedDetails[\"State/UT\"], y = hospitalBedDetails[\"NumPrimaryHealthCenters_HMIS\"], name = \"NumberOfPrimaryHealthCenters\"))\n",
    "fig.add_trace(go.Bar(x = hospitalBedDetails[\"State/UT\"], y = hospitalBedDetails[\"NumCommunityHealthCenters_HMIS\"], name = \"NumberOfCommunityHealthCenters\"))\n",
    "fig.add_trace(go.Bar(x = hospitalBedDetails[\"State/UT\"], y = hospitalBedDetails[\"NumSubDistrictHospitals_HMIS\"], name = \"NumberOfSubDistrictHealthCenters\"))\n",
    "fig.add_trace(go.Bar(x = hospitalBedDetails[\"State/UT\"], y = hospitalBedDetails[\"NumDistrictHospitals_HMIS\"], name = \"NumberOfDistrictHealthCenters\"))\n",
    "fig.add_trace(go.Bar(x = hospitalBedDetails[\"State/UT\"], y = hospitalBedDetails[\"TotalPublicHealthFacilities_HMIS\"], name = \"TotalPublicHealthFacilities\"))\n",
    "fig.add_trace(go.Bar(x = hospitalBedDetails[\"State/UT\"], y = hospitalBedDetails[\"NumPublicBeds_HMIS\"], name = \"NumberOfPubicBeds\"))\n",
    "fig.add_trace(go.Bar(x = hospitalBedDetails[\"State/UT\"], y = hospitalBedDetails[\"NumRuralHospitals_NHP18\"], name=\"NumberRuralHospitals\"))\n",
    "fig.add_trace(go.Bar(x = hospitalBedDetails[\"State/UT\"], y = hospitalBedDetails[\"NumUrbanHospitals_NHP18\"], name=\"NumberUrbanHospitals\"))\n",
    "fig.add_trace(go.Bar(x = hospitalBedDetails[\"State/UT\"], y = hospitalBedDetails[\"NumUrbanBeds_NHP18\"], name=\"NumberOfUrbanBeds\"))\n",
    "fig.update_layout(barmode='stack', xaxis={'categoryorder':'category ascending'})\n",
    "fig.show()"
   ]
  },
  {
   "cell_type": "code",
   "execution_count": 115,
   "metadata": {},
   "outputs": [],
   "source": [
    "df_confirmed = pd.read_csv('https://raw.githubusercontent.com/CSSEGISandData/COVID-19/master/csse_covid_19_data/csse_covid_19_time_series/time_series_covid19_confirmed_global.csv')\n",
    "df_deaths = pd.read_csv('https://raw.githubusercontent.com/CSSEGISandData/COVID-19/master/csse_covid_19_data/csse_covid_19_time_series/time_series_covid19_deaths_global.csv')\n",
    "\n",
    "# Depricated\n",
    "# df_recovered = pd.read_csv('https://raw.githubusercontent.com/CSSEGISandData/COVID-19/master/csse_covid_19_data/csse_covid_19_time_series/time_series_19-covid-Recovered.csv')\n",
    "df_covid19 = pd.read_csv(\"https://raw.githubusercontent.com/CSSEGISandData/COVID-19/web-data/data/cases_country.csv\")\n",
    "df_table = pd.read_csv(\"https://raw.githubusercontent.com/CSSEGISandData/COVID-19/web-data/data/cases_time.csv\",parse_dates=['Last_Update'])"
   ]
  },
  {
   "cell_type": "code",
   "execution_count": 116,
   "metadata": {},
   "outputs": [],
   "source": [
    "df_covid19 = df_covid19.drop([\"People_Tested\",\"People_Hospitalized\",\"UID\",\"ISO3\",\"Mortality_Rate\"],axis =1)"
   ]
  },
  {
   "cell_type": "code",
   "execution_count": 117,
   "metadata": {},
   "outputs": [],
   "source": [
    "df_confirmed = df_confirmed.rename(columns={\"Province/State\":\"state\",\"Country/Region\": \"country\"})\n",
    "df_deaths = df_deaths.rename(columns={\"Province/State\":\"state\",\"Country/Region\": \"country\"})\n",
    "df_covid19 = df_covid19.rename(columns={\"Country_Region\": \"country\"})\n",
    "df_covid19[\"Active\"] = df_covid19[\"Confirmed\"]-df_covid19[\"Recovered\"]-df_covid19[\"Deaths\"]\n",
    "# df_recovered = df_recovered.rename(columns={\"Province/State\":\"state\",\"Country/Region\": \"country\"})"
   ]
  },
  {
   "cell_type": "code",
   "execution_count": 120,
   "metadata": {},
   "outputs": [],
   "source": [
    "df_countries_cases = df_covid19.copy().drop(['Lat','Long_','Last_Update'],axis =1)\n",
    "df_countries_cases.index = df_countries_cases[\"country\"]\n",
    "df_countries_cases = df_countries_cases.drop(['country'],axis=1)\n",
    "\n",
    "\n",
    "df_countries_cases.fillna(0,inplace=True)\n"
   ]
  },
  {
   "cell_type": "code",
   "execution_count": null,
   "metadata": {},
   "outputs": [],
   "source": [
    "CONFIRMED CASES - HEAT MAP"
   ]
  },
  {
   "cell_type": "code",
   "execution_count": 122,
   "metadata": {},
   "outputs": [
    {
     "data": {
      "application/vnd.plotly.v1+json": {
       "config": {
        "plotlyServerURL": "https://plot.ly"
       },
       "data": [
        {
         "coloraxis": "coloraxis",
         "customdata": [
          [
           38162
          ],
          [
           9279
          ],
          [
           43781
          ],
          [
           1124
          ],
          [
           2551
          ],
          [
           94
          ],
          [
           401239
          ],
          [
           43750
          ],
          [
           25670
          ],
          [
           26985
          ],
          [
           36174
          ],
          [
           2135
          ],
          [
           51391
          ],
          [
           308925
          ],
          [
           170
          ],
          [
           71523
          ],
          [
           84599
          ],
          [
           964
          ],
          [
           2145
          ],
          [
           195
          ],
          [
           115354
          ],
          [
           19550
          ],
          [
           1562
          ],
          [
           3846153
          ],
          [
           144
          ],
          [
           16164
          ],
          [
           1352
          ],
          [
           749
          ],
          [
           445
          ],
          [
           3778
          ],
          [
           273
          ],
          [
           19142
          ],
          [
           129639
          ],
          [
           4700
          ],
          [
           1008
          ],
          [
           408009
          ],
          [
           89863
          ],
          [
           599884
          ],
          [
           423
          ],
          [
           3979
          ],
          [
           10007
          ],
          [
           39699
          ],
          [
           17893
          ],
          [
           10123
          ],
          [
           3925
          ],
          [
           1483
          ],
          [
           24094
          ],
          [
           17204
          ],
          [
           712
          ],
          [
           5385
          ],
          [
           20
          ],
          [
           93732
          ],
          [
           112906
          ],
          [
           98497
          ],
          [
           25635
          ],
          [
           4941
          ],
          [
           318
          ],
          [
           2373
          ],
          [
           4510
          ],
          [
           49654
          ],
          [
           28
          ],
          [
           8049
          ],
          [
           304947
          ],
          [
           8505
          ],
          [
           2895
          ],
          [
           1469
          ],
          [
           242835
          ],
          [
           44118
          ],
          [
           9977
          ],
          [
           24
          ],
          [
           73679
          ],
          [
           9251
          ],
          [
           2205
          ],
          [
           1184
          ],
          [
           8174
          ],
          [
           12
          ],
          [
           59645
          ],
          [
           5961
          ],
          [
           2100
          ],
          [
           3542733
          ],
          [
           169195
          ],
          [
           371816
          ],
          [
           227446
          ],
          [
           28720
          ],
          [
           113623
          ],
          [
           266853
          ],
          [
           2113
          ],
          [
           67558
          ],
          [
           1893
          ],
          [
           105684
          ],
          [
           33794
          ],
          [
           19699
          ],
          [
           12683
          ],
          [
           84224
          ],
          [
           43820
          ],
          [
           22
          ],
          [
           1393
          ],
          [
           16275
          ],
          [
           1051
          ],
          [
           1304
          ],
          [
           12958
          ],
          [
           107
          ],
          [
           2839
          ],
          [
           6625
          ],
          [
           9
          ],
          [
           14791
          ],
          [
           5528
          ],
          [
           9317
          ],
          [
           7578
          ],
          [
           2757
          ],
          [
           1847
          ],
          [
           7012
          ],
          [
           355
          ],
          [
           591712
          ],
          [
           36404
          ],
          [
           154
          ],
          [
           301
          ],
          [
           4727
          ],
          [
           60056
          ],
          [
           3760
          ],
          [
           7116
          ],
          [
           37340
          ],
          [
           72144
          ],
          [
           1729
          ],
          [
           4494
          ],
          [
           1175
          ],
          [
           53727
          ],
          [
           14293
          ],
          [
           10611
          ],
          [
           85005
          ],
          [
           295636
          ],
          [
           91337
          ],
          [
           453
          ],
          [
           16474
          ],
          [
           639435
          ],
          [
           213131
          ],
          [
           66239
          ],
          [
           57448
          ],
          [
           118407
          ],
          [
           85833
          ],
          [
           987470
          ],
          [
           3843
          ],
          [
           17
          ],
          [
           26
          ],
          [
           60
          ],
          [
           710
          ],
          [
           895
          ],
          [
           313911
          ],
          [
           13456
          ],
          [
           31282
          ],
          [
           136
          ],
          [
           2019
          ],
          [
           56771
          ],
          [
           3842
          ],
          [
           2834
          ],
          [
           3310
          ],
          [
           622551
          ],
          [
           2519
          ],
          [
           439286
          ],
          [
           2998
          ],
          [
           13189
          ],
          [
           3954
          ],
          [
           83958
          ],
          [
           41722
          ],
          [
           2628
          ],
          [
           488
          ],
          [
           8516
          ],
          [
           509
          ],
          [
           3411
          ],
          [
           27
          ],
          [
           1390
          ],
          [
           1645
          ],
          [
           3572
          ],
          [
           267064
          ],
          [
           5961582
          ],
          [
           2847
          ],
          [
           121930
          ],
          [
           69328
          ],
          [
           334916
          ],
          [
           1570
          ],
          [
           41303
          ],
          [
           44946
          ],
          [
           1040
          ],
          [
           21668
          ],
          [
           10
          ],
          [
           1946
          ],
          [
           11902
          ],
          [
           6406
          ]
         ],
         "geo": "geo",
         "hovertemplate": "<b>%{hovertext}</b><br><br>country=%{location}<br>Confirmed=%{customdata[0]}<br>color=%{z}<extra></extra>",
         "hovertext": [
          "Afghanistan",
          "Albania",
          "Algeria",
          "Andorra",
          "Angola",
          "Antigua and Barbuda",
          "Argentina",
          "Armenia",
          "Australia",
          "Austria",
          "Azerbaijan",
          "Bahamas",
          "Bahrain",
          "Bangladesh",
          "Barbados",
          "Belarus",
          "Belgium",
          "Belize",
          "Benin",
          "Bhutan",
          "Bolivia",
          "Bosnia and Herzegovina",
          "Botswana",
          "Brazil",
          "Brunei",
          "Bulgaria",
          "Burkina Faso",
          "Burma",
          "Burundi",
          "Cabo Verde",
          "Cambodia",
          "Cameroon",
          "Canada",
          "Central African Republic",
          "Chad",
          "Chile",
          "China",
          "Colombia",
          "Comoros",
          "Congo (Brazzaville)",
          "Congo (Kinshasa)",
          "Costa Rica",
          "Cote d'Ivoire",
          "Croatia",
          "Cuba",
          "Cyprus",
          "Czechia",
          "Denmark",
          "Diamond Princess",
          "Djibouti",
          "Dominica",
          "Dominican Republic",
          "Ecuador",
          "Egypt",
          "El Salvador",
          "Equatorial Guinea",
          "Eritrea",
          "Estonia",
          "Eswatini",
          "Ethiopia",
          "Fiji",
          "Finland",
          "France",
          "Gabon",
          "Gambia",
          "Georgia",
          "Germany",
          "Ghana",
          "Greece",
          "Grenada",
          "Guatemala",
          "Guinea",
          "Guinea-Bissau",
          "Guyana",
          "Haiti",
          "Holy See",
          "Honduras",
          "Hungary",
          "Iceland",
          "India",
          "Indonesia",
          "Iran",
          "Iraq",
          "Ireland",
          "Israel",
          "Italy",
          "Jamaica",
          "Japan",
          "Jordan",
          "Kazakhstan",
          "Kenya",
          "Korea, South",
          "Kosovo",
          "Kuwait",
          "Kyrgyzstan",
          "Laos",
          "Latvia",
          "Lebanon",
          "Lesotho",
          "Liberia",
          "Libya",
          "Liechtenstein",
          "Lithuania",
          "Luxembourg",
          "MS Zaandam",
          "Madagascar",
          "Malawi",
          "Malaysia",
          "Maldives",
          "Mali",
          "Malta",
          "Mauritania",
          "Mauritius",
          "Mexico",
          "Moldova",
          "Monaco",
          "Mongolia",
          "Montenegro",
          "Morocco",
          "Mozambique",
          "Namibia",
          "Nepal",
          "Netherlands",
          "New Zealand",
          "Nicaragua",
          "Niger",
          "Nigeria",
          "North Macedonia",
          "Norway",
          "Oman",
          "Pakistan",
          "Panama",
          "Papua New Guinea",
          "Paraguay",
          "Peru",
          "Philippines",
          "Poland",
          "Portugal",
          "Qatar",
          "Romania",
          "Russia",
          "Rwanda",
          "Saint Kitts and Nevis",
          "Saint Lucia",
          "Saint Vincent and the Grenadines",
          "San Marino",
          "Sao Tome and Principe",
          "Saudi Arabia",
          "Senegal",
          "Serbia",
          "Seychelles",
          "Sierra Leone",
          "Singapore",
          "Slovakia",
          "Slovenia",
          "Somalia",
          "South Africa",
          "South Sudan",
          "Spain",
          "Sri Lanka",
          "Sudan",
          "Suriname",
          "Sweden",
          "Switzerland",
          "Syria",
          "Taiwan*",
          "Tajikistan",
          "Tanzania",
          "Thailand",
          "Timor-Leste",
          "Togo",
          "Trinidad and Tobago",
          "Tunisia",
          "Turkey",
          "US",
          "Uganda",
          "Ukraine",
          "United Arab Emirates",
          "United Kingdom",
          "Uruguay",
          "Uzbekistan",
          "Venezuela",
          "Vietnam",
          "West Bank and Gaza",
          "Western Sahara",
          "Yemen",
          "Zambia",
          "Zimbabwe"
         ],
         "locationmode": "country names",
         "locations": [
          "Afghanistan",
          "Albania",
          "Algeria",
          "Andorra",
          "Angola",
          "Antigua and Barbuda",
          "Argentina",
          "Armenia",
          "Australia",
          "Austria",
          "Azerbaijan",
          "Bahamas",
          "Bahrain",
          "Bangladesh",
          "Barbados",
          "Belarus",
          "Belgium",
          "Belize",
          "Benin",
          "Bhutan",
          "Bolivia",
          "Bosnia and Herzegovina",
          "Botswana",
          "Brazil",
          "Brunei",
          "Bulgaria",
          "Burkina Faso",
          "Burma",
          "Burundi",
          "Cabo Verde",
          "Cambodia",
          "Cameroon",
          "Canada",
          "Central African Republic",
          "Chad",
          "Chile",
          "China",
          "Colombia",
          "Comoros",
          "Congo (Brazzaville)",
          "Congo (Kinshasa)",
          "Costa Rica",
          "Cote d'Ivoire",
          "Croatia",
          "Cuba",
          "Cyprus",
          "Czechia",
          "Denmark",
          "Diamond Princess",
          "Djibouti",
          "Dominica",
          "Dominican Republic",
          "Ecuador",
          "Egypt",
          "El Salvador",
          "Equatorial Guinea",
          "Eritrea",
          "Estonia",
          "Eswatini",
          "Ethiopia",
          "Fiji",
          "Finland",
          "France",
          "Gabon",
          "Gambia",
          "Georgia",
          "Germany",
          "Ghana",
          "Greece",
          "Grenada",
          "Guatemala",
          "Guinea",
          "Guinea-Bissau",
          "Guyana",
          "Haiti",
          "Holy See",
          "Honduras",
          "Hungary",
          "Iceland",
          "India",
          "Indonesia",
          "Iran",
          "Iraq",
          "Ireland",
          "Israel",
          "Italy",
          "Jamaica",
          "Japan",
          "Jordan",
          "Kazakhstan",
          "Kenya",
          "Korea, South",
          "Kosovo",
          "Kuwait",
          "Kyrgyzstan",
          "Laos",
          "Latvia",
          "Lebanon",
          "Lesotho",
          "Liberia",
          "Libya",
          "Liechtenstein",
          "Lithuania",
          "Luxembourg",
          "MS Zaandam",
          "Madagascar",
          "Malawi",
          "Malaysia",
          "Maldives",
          "Mali",
          "Malta",
          "Mauritania",
          "Mauritius",
          "Mexico",
          "Moldova",
          "Monaco",
          "Mongolia",
          "Montenegro",
          "Morocco",
          "Mozambique",
          "Namibia",
          "Nepal",
          "Netherlands",
          "New Zealand",
          "Nicaragua",
          "Niger",
          "Nigeria",
          "North Macedonia",
          "Norway",
          "Oman",
          "Pakistan",
          "Panama",
          "Papua New Guinea",
          "Paraguay",
          "Peru",
          "Philippines",
          "Poland",
          "Portugal",
          "Qatar",
          "Romania",
          "Russia",
          "Rwanda",
          "Saint Kitts and Nevis",
          "Saint Lucia",
          "Saint Vincent and the Grenadines",
          "San Marino",
          "Sao Tome and Principe",
          "Saudi Arabia",
          "Senegal",
          "Serbia",
          "Seychelles",
          "Sierra Leone",
          "Singapore",
          "Slovakia",
          "Slovenia",
          "Somalia",
          "South Africa",
          "South Sudan",
          "Spain",
          "Sri Lanka",
          "Sudan",
          "Suriname",
          "Sweden",
          "Switzerland",
          "Syria",
          "Taiwan*",
          "Tajikistan",
          "Tanzania",
          "Thailand",
          "Timor-Leste",
          "Togo",
          "Trinidad and Tobago",
          "Tunisia",
          "Turkey",
          "US",
          "Uganda",
          "Ukraine",
          "United Arab Emirates",
          "United Kingdom",
          "Uruguay",
          "Uzbekistan",
          "Venezuela",
          "Vietnam",
          "West Bank and Gaza",
          "Western Sahara",
          "Yemen",
          "Zambia",
          "Zimbabwe"
         ],
         "name": "",
         "type": "choropleth",
         "z": [
          4.581631127200895,
          3.9675011747228415,
          4.641285677047399,
          3.0507663112330423,
          3.40671045860979,
          1.9731278535996986,
          5.603403139357391,
          4.640978057358332,
          4.409425868671443,
          4.431122422401232,
          4.558396534248996,
          3.329397879361043,
          4.710887068556091,
          5.489853055348117,
          2.230448921378274,
          4.8544457224562185,
          4.927365229504169,
          2.984077033902831,
          3.331427296520743,
          2.290034611362518,
          5.062032658656056,
          4.291146761731886,
          3.1936810295412816,
          6.585026556484386,
          2.1583624920952498,
          4.20854884177061,
          3.130976691605617,
          2.8744818176994666,
          2.6483600109809315,
          3.577261953585815,
          2.436162647040756,
          4.281987311893602,
          5.112735672343534,
          3.6720978579357175,
          3.0034605321095067,
          5.610669743009556,
          4.9535809130517725,
          5.778067278666281,
          2.6263403673750423,
          3.599773939146388,
          4.000303899784813,
          4.598779567217732,
          4.252683161932198,
          4.005309236848516,
          3.5938396610812715,
          3.1711411510283822,
          4.3819089060057985,
          4.235629433882054,
          2.8524799936368566,
          3.7311857076340003,
          1.3010299956639813,
          4.971887883853291,
          5.052717021620742,
          4.993423003053074,
          4.408833321776418,
          3.6938148538894167,
          2.5024271199844326,
          3.375297738217339,
          3.6541765418779604,
          4.695954239899968,
          1.4471580313422192,
          3.9057419273916016,
          5.484224365223301,
          3.929674317948588,
          3.4616485680634552,
          3.1670217957902564,
          5.385311282120674,
          4.644615816355384,
          3.9989999722183205,
          1.380211241711606,
          4.867343722815433,
          3.966188680956137,
          3.3434085938038574,
          3.073351702386901,
          3.912434633375575,
          1.0791812460476249,
          4.775574042919629,
          3.7753191218294777,
          3.322219294733919,
          6.549338422726594,
          5.228387524752091,
          5.570328074414362,
          5.356878303473281,
          4.458184435570263,
          5.05546625181543,
          5.4262720895683945,
          3.3248994970523134,
          4.8296767841520705,
          3.277150613963797,
          5.024009242390841,
          4.528839599739197,
          4.294444180196873,
          4.103221992452924,
          4.925435863261824,
          4.6416723732246865,
          1.3424226808222062,
          3.1439511164239633,
          4.211520997240229,
          3.021602716028242,
          3.1152775913959014,
          4.112537975609308,
          2.0293837776852097,
          3.4531653925258574,
          3.8211858826088454,
          0.9542425094393249,
          4.16999753706657,
          3.742568034366142,
          3.969276095488932,
          3.8795546009389743,
          3.4404367661057735,
          3.2664668954402414,
          3.8458419074217574,
          2.550228353055094,
          5.772110376917602,
          4.561149105695354,
          2.187520720836463,
          2.4785664955938436,
          3.6745856023029138,
          4.778556402858329,
          3.575187844927661,
          3.8522359394118872,
          4.5721743136130595,
          4.858200217962495,
          3.2377949932739227,
          3.65263306808311,
          3.070037866607755,
          4.730192591176918,
          4.155123393710713,
          4.025756314534414,
          4.9294444716971775,
          5.470757317575923,
          4.960646742930689,
          2.656098202012832,
          4.216799061647666,
          5.8057964040514936,
          5.3286466226366915,
          4.821113767349286,
          4.759274913719113,
          5.073377377821953,
          4.9336542920737605,
          5.99452391034167,
          3.584670384464349,
          1.2304489213782739,
          1.414973347970818,
          1.7781512503836436,
          2.8512583487190755,
          2.951823035315912,
          5.4968065344181,
          4.128915978453837,
          4.495294511689498,
          2.1335389083702174,
          3.305136318943639,
          4.754126544228177,
          3.584557360525675,
          3.4523998459114416,
          3.519827993775719,
          5.794174935063063,
          3.401228167498113,
          5.642747362565043,
          3.4768316285122607,
          4.120211868257074,
          3.5970366649776535,
          4.9240620845160175,
          4.620365118741669,
          3.419625360887743,
          2.6884198220027105,
          3.930235652766285,
          2.7067177823367587,
          3.5328817194073974,
          1.4313637641589874,
          3.143014800254095,
          3.216165902285993,
          3.552911450216509,
          5.426615349440068,
          6.775361521938559,
          3.454387467146955,
          5.08611057380132,
          4.8409086716903,
          5.524935895660879,
          3.1958996524092336,
          4.615981597325354,
          4.6526910474546535,
          3.0170333392987803,
          4.335818826915165,
          1,
          3.289142835932333,
          4.075619945928776,
          3.806586934327803
         ]
        }
       ],
       "layout": {
        "coloraxis": {
         "colorbar": {
          "title": {
           "text": "Confirmed Cases(Log Scale)"
          }
         },
         "colorscale": [
          [
           0,
           "rgb(247,251,255)"
          ],
          [
           0.125,
           "rgb(222,235,247)"
          ],
          [
           0.25,
           "rgb(198,219,239)"
          ],
          [
           0.375,
           "rgb(158,202,225)"
          ],
          [
           0.5,
           "rgb(107,174,214)"
          ],
          [
           0.625,
           "rgb(66,146,198)"
          ],
          [
           0.75,
           "rgb(33,113,181)"
          ],
          [
           0.875,
           "rgb(8,81,156)"
          ],
          [
           1,
           "rgb(8,48,107)"
          ]
         ]
        },
        "geo": {
         "center": {},
         "domain": {
          "x": [
           0,
           1
          ],
          "y": [
           0,
           1
          ]
         },
         "fitbounds": "locations",
         "visible": false
        },
        "legend": {
         "tracegroupgap": 0
        },
        "margin": {
         "t": 60
        },
        "template": {
         "data": {
          "bar": [
           {
            "error_x": {
             "color": "#2a3f5f"
            },
            "error_y": {
             "color": "#2a3f5f"
            },
            "marker": {
             "line": {
              "color": "#E5ECF6",
              "width": 0.5
             }
            },
            "type": "bar"
           }
          ],
          "barpolar": [
           {
            "marker": {
             "line": {
              "color": "#E5ECF6",
              "width": 0.5
             }
            },
            "type": "barpolar"
           }
          ],
          "carpet": [
           {
            "aaxis": {
             "endlinecolor": "#2a3f5f",
             "gridcolor": "white",
             "linecolor": "white",
             "minorgridcolor": "white",
             "startlinecolor": "#2a3f5f"
            },
            "baxis": {
             "endlinecolor": "#2a3f5f",
             "gridcolor": "white",
             "linecolor": "white",
             "minorgridcolor": "white",
             "startlinecolor": "#2a3f5f"
            },
            "type": "carpet"
           }
          ],
          "choropleth": [
           {
            "colorbar": {
             "outlinewidth": 0,
             "ticks": ""
            },
            "type": "choropleth"
           }
          ],
          "contour": [
           {
            "colorbar": {
             "outlinewidth": 0,
             "ticks": ""
            },
            "colorscale": [
             [
              0,
              "#0d0887"
             ],
             [
              0.1111111111111111,
              "#46039f"
             ],
             [
              0.2222222222222222,
              "#7201a8"
             ],
             [
              0.3333333333333333,
              "#9c179e"
             ],
             [
              0.4444444444444444,
              "#bd3786"
             ],
             [
              0.5555555555555556,
              "#d8576b"
             ],
             [
              0.6666666666666666,
              "#ed7953"
             ],
             [
              0.7777777777777778,
              "#fb9f3a"
             ],
             [
              0.8888888888888888,
              "#fdca26"
             ],
             [
              1,
              "#f0f921"
             ]
            ],
            "type": "contour"
           }
          ],
          "contourcarpet": [
           {
            "colorbar": {
             "outlinewidth": 0,
             "ticks": ""
            },
            "type": "contourcarpet"
           }
          ],
          "heatmap": [
           {
            "colorbar": {
             "outlinewidth": 0,
             "ticks": ""
            },
            "colorscale": [
             [
              0,
              "#0d0887"
             ],
             [
              0.1111111111111111,
              "#46039f"
             ],
             [
              0.2222222222222222,
              "#7201a8"
             ],
             [
              0.3333333333333333,
              "#9c179e"
             ],
             [
              0.4444444444444444,
              "#bd3786"
             ],
             [
              0.5555555555555556,
              "#d8576b"
             ],
             [
              0.6666666666666666,
              "#ed7953"
             ],
             [
              0.7777777777777778,
              "#fb9f3a"
             ],
             [
              0.8888888888888888,
              "#fdca26"
             ],
             [
              1,
              "#f0f921"
             ]
            ],
            "type": "heatmap"
           }
          ],
          "heatmapgl": [
           {
            "colorbar": {
             "outlinewidth": 0,
             "ticks": ""
            },
            "colorscale": [
             [
              0,
              "#0d0887"
             ],
             [
              0.1111111111111111,
              "#46039f"
             ],
             [
              0.2222222222222222,
              "#7201a8"
             ],
             [
              0.3333333333333333,
              "#9c179e"
             ],
             [
              0.4444444444444444,
              "#bd3786"
             ],
             [
              0.5555555555555556,
              "#d8576b"
             ],
             [
              0.6666666666666666,
              "#ed7953"
             ],
             [
              0.7777777777777778,
              "#fb9f3a"
             ],
             [
              0.8888888888888888,
              "#fdca26"
             ],
             [
              1,
              "#f0f921"
             ]
            ],
            "type": "heatmapgl"
           }
          ],
          "histogram": [
           {
            "marker": {
             "colorbar": {
              "outlinewidth": 0,
              "ticks": ""
             }
            },
            "type": "histogram"
           }
          ],
          "histogram2d": [
           {
            "colorbar": {
             "outlinewidth": 0,
             "ticks": ""
            },
            "colorscale": [
             [
              0,
              "#0d0887"
             ],
             [
              0.1111111111111111,
              "#46039f"
             ],
             [
              0.2222222222222222,
              "#7201a8"
             ],
             [
              0.3333333333333333,
              "#9c179e"
             ],
             [
              0.4444444444444444,
              "#bd3786"
             ],
             [
              0.5555555555555556,
              "#d8576b"
             ],
             [
              0.6666666666666666,
              "#ed7953"
             ],
             [
              0.7777777777777778,
              "#fb9f3a"
             ],
             [
              0.8888888888888888,
              "#fdca26"
             ],
             [
              1,
              "#f0f921"
             ]
            ],
            "type": "histogram2d"
           }
          ],
          "histogram2dcontour": [
           {
            "colorbar": {
             "outlinewidth": 0,
             "ticks": ""
            },
            "colorscale": [
             [
              0,
              "#0d0887"
             ],
             [
              0.1111111111111111,
              "#46039f"
             ],
             [
              0.2222222222222222,
              "#7201a8"
             ],
             [
              0.3333333333333333,
              "#9c179e"
             ],
             [
              0.4444444444444444,
              "#bd3786"
             ],
             [
              0.5555555555555556,
              "#d8576b"
             ],
             [
              0.6666666666666666,
              "#ed7953"
             ],
             [
              0.7777777777777778,
              "#fb9f3a"
             ],
             [
              0.8888888888888888,
              "#fdca26"
             ],
             [
              1,
              "#f0f921"
             ]
            ],
            "type": "histogram2dcontour"
           }
          ],
          "mesh3d": [
           {
            "colorbar": {
             "outlinewidth": 0,
             "ticks": ""
            },
            "type": "mesh3d"
           }
          ],
          "parcoords": [
           {
            "line": {
             "colorbar": {
              "outlinewidth": 0,
              "ticks": ""
             }
            },
            "type": "parcoords"
           }
          ],
          "pie": [
           {
            "automargin": true,
            "type": "pie"
           }
          ],
          "scatter": [
           {
            "marker": {
             "colorbar": {
              "outlinewidth": 0,
              "ticks": ""
             }
            },
            "type": "scatter"
           }
          ],
          "scatter3d": [
           {
            "line": {
             "colorbar": {
              "outlinewidth": 0,
              "ticks": ""
             }
            },
            "marker": {
             "colorbar": {
              "outlinewidth": 0,
              "ticks": ""
             }
            },
            "type": "scatter3d"
           }
          ],
          "scattercarpet": [
           {
            "marker": {
             "colorbar": {
              "outlinewidth": 0,
              "ticks": ""
             }
            },
            "type": "scattercarpet"
           }
          ],
          "scattergeo": [
           {
            "marker": {
             "colorbar": {
              "outlinewidth": 0,
              "ticks": ""
             }
            },
            "type": "scattergeo"
           }
          ],
          "scattergl": [
           {
            "marker": {
             "colorbar": {
              "outlinewidth": 0,
              "ticks": ""
             }
            },
            "type": "scattergl"
           }
          ],
          "scattermapbox": [
           {
            "marker": {
             "colorbar": {
              "outlinewidth": 0,
              "ticks": ""
             }
            },
            "type": "scattermapbox"
           }
          ],
          "scatterpolar": [
           {
            "marker": {
             "colorbar": {
              "outlinewidth": 0,
              "ticks": ""
             }
            },
            "type": "scatterpolar"
           }
          ],
          "scatterpolargl": [
           {
            "marker": {
             "colorbar": {
              "outlinewidth": 0,
              "ticks": ""
             }
            },
            "type": "scatterpolargl"
           }
          ],
          "scatterternary": [
           {
            "marker": {
             "colorbar": {
              "outlinewidth": 0,
              "ticks": ""
             }
            },
            "type": "scatterternary"
           }
          ],
          "surface": [
           {
            "colorbar": {
             "outlinewidth": 0,
             "ticks": ""
            },
            "colorscale": [
             [
              0,
              "#0d0887"
             ],
             [
              0.1111111111111111,
              "#46039f"
             ],
             [
              0.2222222222222222,
              "#7201a8"
             ],
             [
              0.3333333333333333,
              "#9c179e"
             ],
             [
              0.4444444444444444,
              "#bd3786"
             ],
             [
              0.5555555555555556,
              "#d8576b"
             ],
             [
              0.6666666666666666,
              "#ed7953"
             ],
             [
              0.7777777777777778,
              "#fb9f3a"
             ],
             [
              0.8888888888888888,
              "#fdca26"
             ],
             [
              1,
              "#f0f921"
             ]
            ],
            "type": "surface"
           }
          ],
          "table": [
           {
            "cells": {
             "fill": {
              "color": "#EBF0F8"
             },
             "line": {
              "color": "white"
             }
            },
            "header": {
             "fill": {
              "color": "#C8D4E3"
             },
             "line": {
              "color": "white"
             }
            },
            "type": "table"
           }
          ]
         },
         "layout": {
          "annotationdefaults": {
           "arrowcolor": "#2a3f5f",
           "arrowhead": 0,
           "arrowwidth": 1
          },
          "coloraxis": {
           "colorbar": {
            "outlinewidth": 0,
            "ticks": ""
           }
          },
          "colorscale": {
           "diverging": [
            [
             0,
             "#8e0152"
            ],
            [
             0.1,
             "#c51b7d"
            ],
            [
             0.2,
             "#de77ae"
            ],
            [
             0.3,
             "#f1b6da"
            ],
            [
             0.4,
             "#fde0ef"
            ],
            [
             0.5,
             "#f7f7f7"
            ],
            [
             0.6,
             "#e6f5d0"
            ],
            [
             0.7,
             "#b8e186"
            ],
            [
             0.8,
             "#7fbc41"
            ],
            [
             0.9,
             "#4d9221"
            ],
            [
             1,
             "#276419"
            ]
           ],
           "sequential": [
            [
             0,
             "#0d0887"
            ],
            [
             0.1111111111111111,
             "#46039f"
            ],
            [
             0.2222222222222222,
             "#7201a8"
            ],
            [
             0.3333333333333333,
             "#9c179e"
            ],
            [
             0.4444444444444444,
             "#bd3786"
            ],
            [
             0.5555555555555556,
             "#d8576b"
            ],
            [
             0.6666666666666666,
             "#ed7953"
            ],
            [
             0.7777777777777778,
             "#fb9f3a"
            ],
            [
             0.8888888888888888,
             "#fdca26"
            ],
            [
             1,
             "#f0f921"
            ]
           ],
           "sequentialminus": [
            [
             0,
             "#0d0887"
            ],
            [
             0.1111111111111111,
             "#46039f"
            ],
            [
             0.2222222222222222,
             "#7201a8"
            ],
            [
             0.3333333333333333,
             "#9c179e"
            ],
            [
             0.4444444444444444,
             "#bd3786"
            ],
            [
             0.5555555555555556,
             "#d8576b"
            ],
            [
             0.6666666666666666,
             "#ed7953"
            ],
            [
             0.7777777777777778,
             "#fb9f3a"
            ],
            [
             0.8888888888888888,
             "#fdca26"
            ],
            [
             1,
             "#f0f921"
            ]
           ]
          },
          "colorway": [
           "#636efa",
           "#EF553B",
           "#00cc96",
           "#ab63fa",
           "#FFA15A",
           "#19d3f3",
           "#FF6692",
           "#B6E880",
           "#FF97FF",
           "#FECB52"
          ],
          "font": {
           "color": "#2a3f5f"
          },
          "geo": {
           "bgcolor": "white",
           "lakecolor": "white",
           "landcolor": "#E5ECF6",
           "showlakes": true,
           "showland": true,
           "subunitcolor": "white"
          },
          "hoverlabel": {
           "align": "left"
          },
          "hovermode": "closest",
          "mapbox": {
           "style": "light"
          },
          "paper_bgcolor": "white",
          "plot_bgcolor": "#E5ECF6",
          "polar": {
           "angularaxis": {
            "gridcolor": "white",
            "linecolor": "white",
            "ticks": ""
           },
           "bgcolor": "#E5ECF6",
           "radialaxis": {
            "gridcolor": "white",
            "linecolor": "white",
            "ticks": ""
           }
          },
          "scene": {
           "xaxis": {
            "backgroundcolor": "#E5ECF6",
            "gridcolor": "white",
            "gridwidth": 2,
            "linecolor": "white",
            "showbackground": true,
            "ticks": "",
            "zerolinecolor": "white"
           },
           "yaxis": {
            "backgroundcolor": "#E5ECF6",
            "gridcolor": "white",
            "gridwidth": 2,
            "linecolor": "white",
            "showbackground": true,
            "ticks": "",
            "zerolinecolor": "white"
           },
           "zaxis": {
            "backgroundcolor": "#E5ECF6",
            "gridcolor": "white",
            "gridwidth": 2,
            "linecolor": "white",
            "showbackground": true,
            "ticks": "",
            "zerolinecolor": "white"
           }
          },
          "shapedefaults": {
           "line": {
            "color": "#2a3f5f"
           }
          },
          "ternary": {
           "aaxis": {
            "gridcolor": "white",
            "linecolor": "white",
            "ticks": ""
           },
           "baxis": {
            "gridcolor": "white",
            "linecolor": "white",
            "ticks": ""
           },
           "bgcolor": "#E5ECF6",
           "caxis": {
            "gridcolor": "white",
            "linecolor": "white",
            "ticks": ""
           }
          },
          "title": {
           "x": 0.05
          },
          "xaxis": {
           "automargin": true,
           "gridcolor": "white",
           "linecolor": "white",
           "ticks": "",
           "title": {
            "standoff": 15
           },
           "zerolinecolor": "white",
           "zerolinewidth": 2
          },
          "yaxis": {
           "automargin": true,
           "gridcolor": "white",
           "linecolor": "white",
           "ticks": "",
           "title": {
            "standoff": 15
           },
           "zerolinecolor": "white",
           "zerolinewidth": 2
          }
         }
        },
        "title": {
         "text": "Confirmed Cases Heat Map (Log Scale)"
        }
       }
      },
      "text/html": [
       "<div>\n",
       "        \n",
       "        \n",
       "            <div id=\"47761bcd-8de9-49ed-8678-14a14ae76d38\" class=\"plotly-graph-div\" style=\"height:525px; width:100%;\"></div>\n",
       "            <script type=\"text/javascript\">\n",
       "                require([\"plotly\"], function(Plotly) {\n",
       "                    window.PLOTLYENV=window.PLOTLYENV || {};\n",
       "                    \n",
       "                if (document.getElementById(\"47761bcd-8de9-49ed-8678-14a14ae76d38\")) {\n",
       "                    Plotly.newPlot(\n",
       "                        '47761bcd-8de9-49ed-8678-14a14ae76d38',\n",
       "                        [{\"coloraxis\": \"coloraxis\", \"customdata\": [[38162.0], [9279.0], [43781.0], [1124.0], [2551.0], [94.0], [401239.0], [43750.0], [25670.0], [26985.0], [36174.0], [2135.0], [51391.0], [308925.0], [170.0], [71523.0], [84599.0], [964.0], [2145.0], [195.0], [115354.0], [19550.0], [1562.0], [3846153.0], [144.0], [16164.0], [1352.0], [749.0], [445.0], [3778.0], [273.0], [19142.0], [129639.0], [4700.0], [1008.0], [408009.0], [89863.0], [599884.0], [423.0], [3979.0], [10007.0], [39699.0], [17893.0], [10123.0], [3925.0], [1483.0], [24094.0], [17204.0], [712.0], [5385.0], [20.0], [93732.0], [112906.0], [98497.0], [25635.0], [4941.0], [318.0], [2373.0], [4510.0], [49654.0], [28.0], [8049.0], [304947.0], [8505.0], [2895.0], [1469.0], [242835.0], [44118.0], [9977.0], [24.0], [73679.0], [9251.0], [2205.0], [1184.0], [8174.0], [12.0], [59645.0], [5961.0], [2100.0], [3542733.0], [169195.0], [371816.0], [227446.0], [28720.0], [113623.0], [266853.0], [2113.0], [67558.0], [1893.0], [105684.0], [33794.0], [19699.0], [12683.0], [84224.0], [43820.0], [22.0], [1393.0], [16275.0], [1051.0], [1304.0], [12958.0], [107.0], [2839.0], [6625.0], [9.0], [14791.0], [5528.0], [9317.0], [7578.0], [2757.0], [1847.0], [7012.0], [355.0], [591712.0], [36404.0], [154.0], [301.0], [4727.0], [60056.0], [3760.0], [7116.0], [37340.0], [72144.0], [1729.0], [4494.0], [1175.0], [53727.0], [14293.0], [10611.0], [85005.0], [295636.0], [91337.0], [453.0], [16474.0], [639435.0], [213131.0], [66239.0], [57448.0], [118407.0], [85833.0], [987470.0], [3843.0], [17.0], [26.0], [60.0], [710.0], [895.0], [313911.0], [13456.0], [31282.0], [136.0], [2019.0], [56771.0], [3842.0], [2834.0], [3310.0], [622551.0], [2519.0], [439286.0], [2998.0], [13189.0], [3954.0], [83958.0], [41722.0], [2628.0], [488.0], [8516.0], [509.0], [3411.0], [27.0], [1390.0], [1645.0], [3572.0], [267064.0], [5961582.0], [2847.0], [121930.0], [69328.0], [334916.0], [1570.0], [41303.0], [44946.0], [1040.0], [21668.0], [10.0], [1946.0], [11902.0], [6406.0]], \"geo\": \"geo\", \"hovertemplate\": \"<b>%{hovertext}</b><br><br>country=%{location}<br>Confirmed=%{customdata[0]}<br>color=%{z}<extra></extra>\", \"hovertext\": [\"Afghanistan\", \"Albania\", \"Algeria\", \"Andorra\", \"Angola\", \"Antigua and Barbuda\", \"Argentina\", \"Armenia\", \"Australia\", \"Austria\", \"Azerbaijan\", \"Bahamas\", \"Bahrain\", \"Bangladesh\", \"Barbados\", \"Belarus\", \"Belgium\", \"Belize\", \"Benin\", \"Bhutan\", \"Bolivia\", \"Bosnia and Herzegovina\", \"Botswana\", \"Brazil\", \"Brunei\", \"Bulgaria\", \"Burkina Faso\", \"Burma\", \"Burundi\", \"Cabo Verde\", \"Cambodia\", \"Cameroon\", \"Canada\", \"Central African Republic\", \"Chad\", \"Chile\", \"China\", \"Colombia\", \"Comoros\", \"Congo (Brazzaville)\", \"Congo (Kinshasa)\", \"Costa Rica\", \"Cote d'Ivoire\", \"Croatia\", \"Cuba\", \"Cyprus\", \"Czechia\", \"Denmark\", \"Diamond Princess\", \"Djibouti\", \"Dominica\", \"Dominican Republic\", \"Ecuador\", \"Egypt\", \"El Salvador\", \"Equatorial Guinea\", \"Eritrea\", \"Estonia\", \"Eswatini\", \"Ethiopia\", \"Fiji\", \"Finland\", \"France\", \"Gabon\", \"Gambia\", \"Georgia\", \"Germany\", \"Ghana\", \"Greece\", \"Grenada\", \"Guatemala\", \"Guinea\", \"Guinea-Bissau\", \"Guyana\", \"Haiti\", \"Holy See\", \"Honduras\", \"Hungary\", \"Iceland\", \"India\", \"Indonesia\", \"Iran\", \"Iraq\", \"Ireland\", \"Israel\", \"Italy\", \"Jamaica\", \"Japan\", \"Jordan\", \"Kazakhstan\", \"Kenya\", \"Korea, South\", \"Kosovo\", \"Kuwait\", \"Kyrgyzstan\", \"Laos\", \"Latvia\", \"Lebanon\", \"Lesotho\", \"Liberia\", \"Libya\", \"Liechtenstein\", \"Lithuania\", \"Luxembourg\", \"MS Zaandam\", \"Madagascar\", \"Malawi\", \"Malaysia\", \"Maldives\", \"Mali\", \"Malta\", \"Mauritania\", \"Mauritius\", \"Mexico\", \"Moldova\", \"Monaco\", \"Mongolia\", \"Montenegro\", \"Morocco\", \"Mozambique\", \"Namibia\", \"Nepal\", \"Netherlands\", \"New Zealand\", \"Nicaragua\", \"Niger\", \"Nigeria\", \"North Macedonia\", \"Norway\", \"Oman\", \"Pakistan\", \"Panama\", \"Papua New Guinea\", \"Paraguay\", \"Peru\", \"Philippines\", \"Poland\", \"Portugal\", \"Qatar\", \"Romania\", \"Russia\", \"Rwanda\", \"Saint Kitts and Nevis\", \"Saint Lucia\", \"Saint Vincent and the Grenadines\", \"San Marino\", \"Sao Tome and Principe\", \"Saudi Arabia\", \"Senegal\", \"Serbia\", \"Seychelles\", \"Sierra Leone\", \"Singapore\", \"Slovakia\", \"Slovenia\", \"Somalia\", \"South Africa\", \"South Sudan\", \"Spain\", \"Sri Lanka\", \"Sudan\", \"Suriname\", \"Sweden\", \"Switzerland\", \"Syria\", \"Taiwan*\", \"Tajikistan\", \"Tanzania\", \"Thailand\", \"Timor-Leste\", \"Togo\", \"Trinidad and Tobago\", \"Tunisia\", \"Turkey\", \"US\", \"Uganda\", \"Ukraine\", \"United Arab Emirates\", \"United Kingdom\", \"Uruguay\", \"Uzbekistan\", \"Venezuela\", \"Vietnam\", \"West Bank and Gaza\", \"Western Sahara\", \"Yemen\", \"Zambia\", \"Zimbabwe\"], \"locationmode\": \"country names\", \"locations\": [\"Afghanistan\", \"Albania\", \"Algeria\", \"Andorra\", \"Angola\", \"Antigua and Barbuda\", \"Argentina\", \"Armenia\", \"Australia\", \"Austria\", \"Azerbaijan\", \"Bahamas\", \"Bahrain\", \"Bangladesh\", \"Barbados\", \"Belarus\", \"Belgium\", \"Belize\", \"Benin\", \"Bhutan\", \"Bolivia\", \"Bosnia and Herzegovina\", \"Botswana\", \"Brazil\", \"Brunei\", \"Bulgaria\", \"Burkina Faso\", \"Burma\", \"Burundi\", \"Cabo Verde\", \"Cambodia\", \"Cameroon\", \"Canada\", \"Central African Republic\", \"Chad\", \"Chile\", \"China\", \"Colombia\", \"Comoros\", \"Congo (Brazzaville)\", \"Congo (Kinshasa)\", \"Costa Rica\", \"Cote d'Ivoire\", \"Croatia\", \"Cuba\", \"Cyprus\", \"Czechia\", \"Denmark\", \"Diamond Princess\", \"Djibouti\", \"Dominica\", \"Dominican Republic\", \"Ecuador\", \"Egypt\", \"El Salvador\", \"Equatorial Guinea\", \"Eritrea\", \"Estonia\", \"Eswatini\", \"Ethiopia\", \"Fiji\", \"Finland\", \"France\", \"Gabon\", \"Gambia\", \"Georgia\", \"Germany\", \"Ghana\", \"Greece\", \"Grenada\", \"Guatemala\", \"Guinea\", \"Guinea-Bissau\", \"Guyana\", \"Haiti\", \"Holy See\", \"Honduras\", \"Hungary\", \"Iceland\", \"India\", \"Indonesia\", \"Iran\", \"Iraq\", \"Ireland\", \"Israel\", \"Italy\", \"Jamaica\", \"Japan\", \"Jordan\", \"Kazakhstan\", \"Kenya\", \"Korea, South\", \"Kosovo\", \"Kuwait\", \"Kyrgyzstan\", \"Laos\", \"Latvia\", \"Lebanon\", \"Lesotho\", \"Liberia\", \"Libya\", \"Liechtenstein\", \"Lithuania\", \"Luxembourg\", \"MS Zaandam\", \"Madagascar\", \"Malawi\", \"Malaysia\", \"Maldives\", \"Mali\", \"Malta\", \"Mauritania\", \"Mauritius\", \"Mexico\", \"Moldova\", \"Monaco\", \"Mongolia\", \"Montenegro\", \"Morocco\", \"Mozambique\", \"Namibia\", \"Nepal\", \"Netherlands\", \"New Zealand\", \"Nicaragua\", \"Niger\", \"Nigeria\", \"North Macedonia\", \"Norway\", \"Oman\", \"Pakistan\", \"Panama\", \"Papua New Guinea\", \"Paraguay\", \"Peru\", \"Philippines\", \"Poland\", \"Portugal\", \"Qatar\", \"Romania\", \"Russia\", \"Rwanda\", \"Saint Kitts and Nevis\", \"Saint Lucia\", \"Saint Vincent and the Grenadines\", \"San Marino\", \"Sao Tome and Principe\", \"Saudi Arabia\", \"Senegal\", \"Serbia\", \"Seychelles\", \"Sierra Leone\", \"Singapore\", \"Slovakia\", \"Slovenia\", \"Somalia\", \"South Africa\", \"South Sudan\", \"Spain\", \"Sri Lanka\", \"Sudan\", \"Suriname\", \"Sweden\", \"Switzerland\", \"Syria\", \"Taiwan*\", \"Tajikistan\", \"Tanzania\", \"Thailand\", \"Timor-Leste\", \"Togo\", \"Trinidad and Tobago\", \"Tunisia\", \"Turkey\", \"US\", \"Uganda\", \"Ukraine\", \"United Arab Emirates\", \"United Kingdom\", \"Uruguay\", \"Uzbekistan\", \"Venezuela\", \"Vietnam\", \"West Bank and Gaza\", \"Western Sahara\", \"Yemen\", \"Zambia\", \"Zimbabwe\"], \"name\": \"\", \"type\": \"choropleth\", \"z\": [4.581631127200895, 3.9675011747228415, 4.641285677047399, 3.0507663112330423, 3.40671045860979, 1.9731278535996986, 5.603403139357391, 4.640978057358332, 4.409425868671443, 4.431122422401232, 4.558396534248996, 3.329397879361043, 4.710887068556091, 5.489853055348117, 2.230448921378274, 4.8544457224562185, 4.927365229504169, 2.984077033902831, 3.331427296520743, 2.290034611362518, 5.062032658656056, 4.291146761731886, 3.1936810295412816, 6.585026556484386, 2.1583624920952498, 4.20854884177061, 3.130976691605617, 2.8744818176994666, 2.6483600109809315, 3.577261953585815, 2.436162647040756, 4.281987311893602, 5.112735672343534, 3.6720978579357175, 3.0034605321095067, 5.610669743009556, 4.9535809130517725, 5.778067278666281, 2.6263403673750423, 3.599773939146388, 4.000303899784813, 4.598779567217732, 4.252683161932198, 4.005309236848516, 3.5938396610812715, 3.1711411510283822, 4.3819089060057985, 4.235629433882054, 2.8524799936368566, 3.7311857076340003, 1.3010299956639813, 4.971887883853291, 5.052717021620742, 4.993423003053074, 4.408833321776418, 3.6938148538894167, 2.5024271199844326, 3.375297738217339, 3.6541765418779604, 4.695954239899968, 1.4471580313422192, 3.9057419273916016, 5.484224365223301, 3.929674317948588, 3.4616485680634552, 3.1670217957902564, 5.385311282120674, 4.644615816355384, 3.9989999722183205, 1.380211241711606, 4.867343722815433, 3.966188680956137, 3.3434085938038574, 3.073351702386901, 3.912434633375575, 1.0791812460476249, 4.775574042919629, 3.7753191218294777, 3.322219294733919, 6.549338422726594, 5.228387524752091, 5.570328074414362, 5.356878303473281, 4.458184435570263, 5.05546625181543, 5.4262720895683945, 3.3248994970523134, 4.8296767841520705, 3.277150613963797, 5.024009242390841, 4.528839599739197, 4.294444180196873, 4.103221992452924, 4.925435863261824, 4.6416723732246865, 1.3424226808222062, 3.1439511164239633, 4.211520997240229, 3.021602716028242, 3.1152775913959014, 4.112537975609308, 2.0293837776852097, 3.4531653925258574, 3.8211858826088454, 0.9542425094393249, 4.16999753706657, 3.742568034366142, 3.969276095488932, 3.8795546009389743, 3.4404367661057735, 3.2664668954402414, 3.8458419074217574, 2.550228353055094, 5.772110376917602, 4.561149105695354, 2.187520720836463, 2.4785664955938436, 3.6745856023029138, 4.778556402858329, 3.575187844927661, 3.8522359394118872, 4.5721743136130595, 4.858200217962495, 3.2377949932739227, 3.65263306808311, 3.070037866607755, 4.730192591176918, 4.155123393710713, 4.025756314534414, 4.9294444716971775, 5.470757317575923, 4.960646742930689, 2.656098202012832, 4.216799061647666, 5.8057964040514936, 5.3286466226366915, 4.821113767349286, 4.759274913719113, 5.073377377821953, 4.9336542920737605, 5.99452391034167, 3.584670384464349, 1.2304489213782739, 1.414973347970818, 1.7781512503836436, 2.8512583487190755, 2.951823035315912, 5.4968065344181, 4.128915978453837, 4.495294511689498, 2.1335389083702174, 3.305136318943639, 4.754126544228177, 3.584557360525675, 3.4523998459114416, 3.519827993775719, 5.794174935063063, 3.401228167498113, 5.642747362565043, 3.4768316285122607, 4.120211868257074, 3.5970366649776535, 4.9240620845160175, 4.620365118741669, 3.419625360887743, 2.6884198220027105, 3.930235652766285, 2.7067177823367587, 3.5328817194073974, 1.4313637641589874, 3.143014800254095, 3.216165902285993, 3.552911450216509, 5.426615349440068, 6.775361521938559, 3.454387467146955, 5.08611057380132, 4.8409086716903, 5.524935895660879, 3.1958996524092336, 4.615981597325354, 4.6526910474546535, 3.0170333392987803, 4.335818826915165, 1.0, 3.289142835932333, 4.075619945928776, 3.806586934327803]}],\n",
       "                        {\"coloraxis\": {\"colorbar\": {\"title\": {\"text\": \"Confirmed Cases(Log Scale)\"}}, \"colorscale\": [[0.0, \"rgb(247,251,255)\"], [0.125, \"rgb(222,235,247)\"], [0.25, \"rgb(198,219,239)\"], [0.375, \"rgb(158,202,225)\"], [0.5, \"rgb(107,174,214)\"], [0.625, \"rgb(66,146,198)\"], [0.75, \"rgb(33,113,181)\"], [0.875, \"rgb(8,81,156)\"], [1.0, \"rgb(8,48,107)\"]]}, \"geo\": {\"center\": {}, \"domain\": {\"x\": [0.0, 1.0], \"y\": [0.0, 1.0]}, \"fitbounds\": \"locations\", \"visible\": false}, \"legend\": {\"tracegroupgap\": 0}, \"margin\": {\"t\": 60}, \"template\": {\"data\": {\"bar\": [{\"error_x\": {\"color\": \"#2a3f5f\"}, \"error_y\": {\"color\": \"#2a3f5f\"}, \"marker\": {\"line\": {\"color\": \"#E5ECF6\", \"width\": 0.5}}, \"type\": \"bar\"}], \"barpolar\": [{\"marker\": {\"line\": {\"color\": \"#E5ECF6\", \"width\": 0.5}}, \"type\": \"barpolar\"}], \"carpet\": [{\"aaxis\": {\"endlinecolor\": \"#2a3f5f\", \"gridcolor\": \"white\", \"linecolor\": \"white\", \"minorgridcolor\": \"white\", \"startlinecolor\": \"#2a3f5f\"}, \"baxis\": {\"endlinecolor\": \"#2a3f5f\", \"gridcolor\": \"white\", \"linecolor\": \"white\", \"minorgridcolor\": \"white\", \"startlinecolor\": \"#2a3f5f\"}, \"type\": \"carpet\"}], \"choropleth\": [{\"colorbar\": {\"outlinewidth\": 0, \"ticks\": \"\"}, \"type\": \"choropleth\"}], \"contour\": [{\"colorbar\": {\"outlinewidth\": 0, \"ticks\": \"\"}, \"colorscale\": [[0.0, \"#0d0887\"], [0.1111111111111111, \"#46039f\"], [0.2222222222222222, \"#7201a8\"], [0.3333333333333333, \"#9c179e\"], [0.4444444444444444, \"#bd3786\"], [0.5555555555555556, \"#d8576b\"], [0.6666666666666666, \"#ed7953\"], [0.7777777777777778, \"#fb9f3a\"], [0.8888888888888888, \"#fdca26\"], [1.0, \"#f0f921\"]], \"type\": \"contour\"}], \"contourcarpet\": [{\"colorbar\": {\"outlinewidth\": 0, \"ticks\": \"\"}, \"type\": \"contourcarpet\"}], \"heatmap\": [{\"colorbar\": {\"outlinewidth\": 0, \"ticks\": \"\"}, \"colorscale\": [[0.0, \"#0d0887\"], [0.1111111111111111, \"#46039f\"], [0.2222222222222222, \"#7201a8\"], [0.3333333333333333, \"#9c179e\"], [0.4444444444444444, \"#bd3786\"], [0.5555555555555556, \"#d8576b\"], [0.6666666666666666, \"#ed7953\"], [0.7777777777777778, \"#fb9f3a\"], [0.8888888888888888, \"#fdca26\"], [1.0, \"#f0f921\"]], \"type\": \"heatmap\"}], \"heatmapgl\": [{\"colorbar\": {\"outlinewidth\": 0, \"ticks\": \"\"}, \"colorscale\": [[0.0, \"#0d0887\"], [0.1111111111111111, \"#46039f\"], [0.2222222222222222, \"#7201a8\"], [0.3333333333333333, \"#9c179e\"], [0.4444444444444444, \"#bd3786\"], [0.5555555555555556, \"#d8576b\"], [0.6666666666666666, \"#ed7953\"], [0.7777777777777778, \"#fb9f3a\"], [0.8888888888888888, \"#fdca26\"], [1.0, \"#f0f921\"]], \"type\": \"heatmapgl\"}], \"histogram\": [{\"marker\": {\"colorbar\": {\"outlinewidth\": 0, \"ticks\": \"\"}}, \"type\": \"histogram\"}], \"histogram2d\": [{\"colorbar\": {\"outlinewidth\": 0, \"ticks\": \"\"}, \"colorscale\": [[0.0, \"#0d0887\"], [0.1111111111111111, \"#46039f\"], [0.2222222222222222, \"#7201a8\"], [0.3333333333333333, \"#9c179e\"], [0.4444444444444444, \"#bd3786\"], [0.5555555555555556, \"#d8576b\"], [0.6666666666666666, \"#ed7953\"], [0.7777777777777778, \"#fb9f3a\"], [0.8888888888888888, \"#fdca26\"], [1.0, \"#f0f921\"]], \"type\": \"histogram2d\"}], \"histogram2dcontour\": [{\"colorbar\": {\"outlinewidth\": 0, \"ticks\": \"\"}, \"colorscale\": [[0.0, \"#0d0887\"], [0.1111111111111111, \"#46039f\"], [0.2222222222222222, \"#7201a8\"], [0.3333333333333333, \"#9c179e\"], [0.4444444444444444, \"#bd3786\"], [0.5555555555555556, \"#d8576b\"], [0.6666666666666666, \"#ed7953\"], [0.7777777777777778, \"#fb9f3a\"], [0.8888888888888888, \"#fdca26\"], [1.0, \"#f0f921\"]], \"type\": \"histogram2dcontour\"}], \"mesh3d\": [{\"colorbar\": {\"outlinewidth\": 0, \"ticks\": \"\"}, \"type\": \"mesh3d\"}], \"parcoords\": [{\"line\": {\"colorbar\": {\"outlinewidth\": 0, \"ticks\": \"\"}}, \"type\": \"parcoords\"}], \"pie\": [{\"automargin\": true, \"type\": \"pie\"}], \"scatter\": [{\"marker\": {\"colorbar\": {\"outlinewidth\": 0, \"ticks\": \"\"}}, \"type\": \"scatter\"}], \"scatter3d\": [{\"line\": {\"colorbar\": {\"outlinewidth\": 0, \"ticks\": \"\"}}, \"marker\": {\"colorbar\": {\"outlinewidth\": 0, \"ticks\": \"\"}}, \"type\": \"scatter3d\"}], \"scattercarpet\": [{\"marker\": {\"colorbar\": {\"outlinewidth\": 0, \"ticks\": \"\"}}, \"type\": \"scattercarpet\"}], \"scattergeo\": [{\"marker\": {\"colorbar\": {\"outlinewidth\": 0, \"ticks\": \"\"}}, \"type\": \"scattergeo\"}], \"scattergl\": [{\"marker\": {\"colorbar\": {\"outlinewidth\": 0, \"ticks\": \"\"}}, \"type\": \"scattergl\"}], \"scattermapbox\": [{\"marker\": {\"colorbar\": {\"outlinewidth\": 0, \"ticks\": \"\"}}, \"type\": \"scattermapbox\"}], \"scatterpolar\": [{\"marker\": {\"colorbar\": {\"outlinewidth\": 0, \"ticks\": \"\"}}, \"type\": \"scatterpolar\"}], \"scatterpolargl\": [{\"marker\": {\"colorbar\": {\"outlinewidth\": 0, \"ticks\": \"\"}}, \"type\": \"scatterpolargl\"}], \"scatterternary\": [{\"marker\": {\"colorbar\": {\"outlinewidth\": 0, \"ticks\": \"\"}}, \"type\": \"scatterternary\"}], \"surface\": [{\"colorbar\": {\"outlinewidth\": 0, \"ticks\": \"\"}, \"colorscale\": [[0.0, \"#0d0887\"], [0.1111111111111111, \"#46039f\"], [0.2222222222222222, \"#7201a8\"], [0.3333333333333333, \"#9c179e\"], [0.4444444444444444, \"#bd3786\"], [0.5555555555555556, \"#d8576b\"], [0.6666666666666666, \"#ed7953\"], [0.7777777777777778, \"#fb9f3a\"], [0.8888888888888888, \"#fdca26\"], [1.0, \"#f0f921\"]], \"type\": \"surface\"}], \"table\": [{\"cells\": {\"fill\": {\"color\": \"#EBF0F8\"}, \"line\": {\"color\": \"white\"}}, \"header\": {\"fill\": {\"color\": \"#C8D4E3\"}, \"line\": {\"color\": \"white\"}}, \"type\": \"table\"}]}, \"layout\": {\"annotationdefaults\": {\"arrowcolor\": \"#2a3f5f\", \"arrowhead\": 0, \"arrowwidth\": 1}, \"coloraxis\": {\"colorbar\": {\"outlinewidth\": 0, \"ticks\": \"\"}}, \"colorscale\": {\"diverging\": [[0, \"#8e0152\"], [0.1, \"#c51b7d\"], [0.2, \"#de77ae\"], [0.3, \"#f1b6da\"], [0.4, \"#fde0ef\"], [0.5, \"#f7f7f7\"], [0.6, \"#e6f5d0\"], [0.7, \"#b8e186\"], [0.8, \"#7fbc41\"], [0.9, \"#4d9221\"], [1, \"#276419\"]], \"sequential\": [[0.0, \"#0d0887\"], [0.1111111111111111, \"#46039f\"], [0.2222222222222222, \"#7201a8\"], [0.3333333333333333, \"#9c179e\"], [0.4444444444444444, \"#bd3786\"], [0.5555555555555556, \"#d8576b\"], [0.6666666666666666, \"#ed7953\"], [0.7777777777777778, \"#fb9f3a\"], [0.8888888888888888, \"#fdca26\"], [1.0, \"#f0f921\"]], \"sequentialminus\": [[0.0, \"#0d0887\"], [0.1111111111111111, \"#46039f\"], [0.2222222222222222, \"#7201a8\"], [0.3333333333333333, \"#9c179e\"], [0.4444444444444444, \"#bd3786\"], [0.5555555555555556, \"#d8576b\"], [0.6666666666666666, \"#ed7953\"], [0.7777777777777778, \"#fb9f3a\"], [0.8888888888888888, \"#fdca26\"], [1.0, \"#f0f921\"]]}, \"colorway\": [\"#636efa\", \"#EF553B\", \"#00cc96\", \"#ab63fa\", \"#FFA15A\", \"#19d3f3\", \"#FF6692\", \"#B6E880\", \"#FF97FF\", \"#FECB52\"], \"font\": {\"color\": \"#2a3f5f\"}, \"geo\": {\"bgcolor\": \"white\", \"lakecolor\": \"white\", \"landcolor\": \"#E5ECF6\", \"showlakes\": true, \"showland\": true, \"subunitcolor\": \"white\"}, \"hoverlabel\": {\"align\": \"left\"}, \"hovermode\": \"closest\", \"mapbox\": {\"style\": \"light\"}, \"paper_bgcolor\": \"white\", \"plot_bgcolor\": \"#E5ECF6\", \"polar\": {\"angularaxis\": {\"gridcolor\": \"white\", \"linecolor\": \"white\", \"ticks\": \"\"}, \"bgcolor\": \"#E5ECF6\", \"radialaxis\": {\"gridcolor\": \"white\", \"linecolor\": \"white\", \"ticks\": \"\"}}, \"scene\": {\"xaxis\": {\"backgroundcolor\": \"#E5ECF6\", \"gridcolor\": \"white\", \"gridwidth\": 2, \"linecolor\": \"white\", \"showbackground\": true, \"ticks\": \"\", \"zerolinecolor\": \"white\"}, \"yaxis\": {\"backgroundcolor\": \"#E5ECF6\", \"gridcolor\": \"white\", \"gridwidth\": 2, \"linecolor\": \"white\", \"showbackground\": true, \"ticks\": \"\", \"zerolinecolor\": \"white\"}, \"zaxis\": {\"backgroundcolor\": \"#E5ECF6\", \"gridcolor\": \"white\", \"gridwidth\": 2, \"linecolor\": \"white\", \"showbackground\": true, \"ticks\": \"\", \"zerolinecolor\": \"white\"}}, \"shapedefaults\": {\"line\": {\"color\": \"#2a3f5f\"}}, \"ternary\": {\"aaxis\": {\"gridcolor\": \"white\", \"linecolor\": \"white\", \"ticks\": \"\"}, \"baxis\": {\"gridcolor\": \"white\", \"linecolor\": \"white\", \"ticks\": \"\"}, \"bgcolor\": \"#E5ECF6\", \"caxis\": {\"gridcolor\": \"white\", \"linecolor\": \"white\", \"ticks\": \"\"}}, \"title\": {\"x\": 0.05}, \"xaxis\": {\"automargin\": true, \"gridcolor\": \"white\", \"linecolor\": \"white\", \"ticks\": \"\", \"title\": {\"standoff\": 15}, \"zerolinecolor\": \"white\", \"zerolinewidth\": 2}, \"yaxis\": {\"automargin\": true, \"gridcolor\": \"white\", \"linecolor\": \"white\", \"ticks\": \"\", \"title\": {\"standoff\": 15}, \"zerolinecolor\": \"white\", \"zerolinewidth\": 2}}}, \"title\": {\"text\": \"Confirmed Cases Heat Map (Log Scale)\"}},\n",
       "                        {\"responsive\": true}\n",
       "                    ).then(function(){\n",
       "                            \n",
       "var gd = document.getElementById('47761bcd-8de9-49ed-8678-14a14ae76d38');\n",
       "var x = new MutationObserver(function (mutations, observer) {{\n",
       "        var display = window.getComputedStyle(gd).display;\n",
       "        if (!display || display === 'none') {{\n",
       "            console.log([gd, 'removed!']);\n",
       "            Plotly.purge(gd);\n",
       "            observer.disconnect();\n",
       "        }}\n",
       "}});\n",
       "\n",
       "// Listen for the removal of the full notebook cells\n",
       "var notebookContainer = gd.closest('#notebook-container');\n",
       "if (notebookContainer) {{\n",
       "    x.observe(notebookContainer, {childList: true});\n",
       "}}\n",
       "\n",
       "// Listen for the clearing of the current output cell\n",
       "var outputEl = gd.closest('.output');\n",
       "if (outputEl) {{\n",
       "    x.observe(outputEl, {childList: true});\n",
       "}}\n",
       "\n",
       "                        })\n",
       "                };\n",
       "                });\n",
       "            </script>\n",
       "        </div>"
      ]
     },
     "metadata": {},
     "output_type": "display_data"
    }
   ],
   "source": [
    "temp_df = pd.DataFrame(df_countries_cases['Confirmed'])\n",
    "temp_df = temp_df.reset_index()\n",
    "fig = px.choropleth(temp_df, locations=\"country\",\n",
    "                    color=np.log10(temp_df[\"Confirmed\"]), # lifeExp is a column of gapminder\n",
    "                    hover_name=\"country\", # column to add to hover information\n",
    "                    hover_data=[\"Confirmed\"],\n",
    "                    color_continuous_scale=px.colors.sequential.Plasma,locationmode=\"country names\")\n",
    "fig.update_geos(fitbounds=\"locations\", visible=False)\n",
    "fig.update_layout(title_text=\"Confirmed Cases Heat Map (Log Scale)\")\n",
    "fig.update_coloraxes(colorbar_title=\"Confirmed Cases(Log Scale)\",colorscale=\"Blues\")\n",
    "# fig.to_image(\"Global Heat Map confirmed.png\")\n",
    "fig.show()"
   ]
  },
  {
   "cell_type": "code",
   "execution_count": null,
   "metadata": {},
   "outputs": [],
   "source": [
    "DEATH CASES - HEAT MAP"
   ]
  },
  {
   "cell_type": "code",
   "execution_count": 123,
   "metadata": {},
   "outputs": [
    {
     "data": {
      "application/vnd.plotly.v1+json": {
       "config": {
        "plotlyServerURL": "https://plot.ly"
       },
       "data": [
        {
         "coloraxis": "coloraxis",
         "customdata": [
          [
           1402
          ],
          [
           275
          ],
          [
           1491
          ],
          [
           53
          ],
          [
           107
          ],
          [
           3
          ],
          [
           8353
          ],
          [
           877
          ],
          [
           611
          ],
          [
           733
          ],
          [
           529
          ],
          [
           50
          ],
          [
           189
          ],
          [
           4206
          ],
          [
           7
          ],
          [
           671
          ],
          [
           9891
          ],
          [
           13
          ],
          [
           40
          ],
          [
           0
          ],
          [
           4938
          ],
          [
           594
          ],
          [
           3
          ],
          [
           120262
          ],
          [
           3
          ],
          [
           605
          ],
          [
           55
          ],
          [
           6
          ],
          [
           1
          ],
          [
           39
          ],
          [
           0
          ],
          [
           411
          ],
          [
           9161
          ],
          [
           61
          ],
          [
           77
          ],
          [
           11181
          ],
          [
           4721
          ],
          [
           19063
          ],
          [
           7
          ],
          [
           78
          ],
          [
           258
          ],
          [
           418
          ],
          [
           115
          ],
          [
           184
          ],
          [
           94
          ],
          [
           20
          ],
          [
           421
          ],
          [
           624
          ],
          [
           13
          ],
          [
           60
          ],
          [
           0
          ],
          [
           1673
          ],
          [
           6537
          ],
          [
           5376
          ],
          [
           713
          ],
          [
           83
          ],
          [
           0
          ],
          [
           64
          ],
          [
           91
          ],
          [
           770
          ],
          [
           2
          ],
          [
           335
          ],
          [
           30601
          ],
          [
           53
          ],
          [
           96
          ],
          [
           19
          ],
          [
           9300
          ],
          [
           270
          ],
          [
           260
          ],
          [
           0
          ],
          [
           2728
          ],
          [
           59
          ],
          [
           34
          ],
          [
           35
          ],
          [
           201
          ],
          [
           0
          ],
          [
           1842
          ],
          [
           614
          ],
          [
           10
          ],
          [
           63498
          ],
          [
           7261
          ],
          [
           21359
          ],
          [
           6891
          ],
          [
           1777
          ],
          [
           906
          ],
          [
           35473
          ],
          [
           20
          ],
          [
           1272
          ],
          [
           15
          ],
          [
           1523
          ],
          [
           572
          ],
          [
           323
          ],
          [
           488
          ],
          [
           528
          ],
          [
           1058
          ],
          [
           0
          ],
          [
           34
          ],
          [
           155
          ],
          [
           31
          ],
          [
           82
          ],
          [
           231
          ],
          [
           1
          ],
          [
           86
          ],
          [
           124
          ],
          [
           2
          ],
          [
           190
          ],
          [
           174
          ],
          [
           125
          ],
          [
           28
          ],
          [
           126
          ],
          [
           10
          ],
          [
           158
          ],
          [
           10
          ],
          [
           63819
          ],
          [
           990
          ],
          [
           4
          ],
          [
           0
          ],
          [
           93
          ],
          [
           1078
          ],
          [
           22
          ],
          [
           69
          ],
          [
           207
          ],
          [
           6252
          ],
          [
           22
          ],
          [
           137
          ],
          [
           69
          ],
          [
           1011
          ],
          [
           596
          ],
          [
           264
          ],
          [
           650
          ],
          [
           6288
          ],
          [
           1983
          ],
          [
           5
          ],
          [
           294
          ],
          [
           28607
          ],
          [
           3419
          ],
          [
           2032
          ],
          [
           1818
          ],
          [
           196
          ],
          [
           3539
          ],
          [
           17045
          ],
          [
           16
          ],
          [
           0
          ],
          [
           0
          ],
          [
           0
          ],
          [
           42
          ],
          [
           15
          ],
          [
           3840
          ],
          [
           282
          ],
          [
           710
          ],
          [
           0
          ],
          [
           70
          ],
          [
           27
          ],
          [
           33
          ],
          [
           133
          ],
          [
           97
          ],
          [
           13981
          ],
          [
           47
          ],
          [
           29011
          ],
          [
           12
          ],
          [
           823
          ],
          [
           67
          ],
          [
           5821
          ],
          [
           2005
          ],
          [
           106
          ],
          [
           7
          ],
          [
           68
          ],
          [
           21
          ],
          [
           58
          ],
          [
           0
          ],
          [
           27
          ],
          [
           19
          ],
          [
           76
          ],
          [
           6284
          ],
          [
           182779
          ],
          [
           29
          ],
          [
           2575
          ],
          [
           379
          ],
          [
           41585
          ],
          [
           44
          ],
          [
           311
          ],
          [
           375
          ],
          [
           32
          ],
          [
           147
          ],
          [
           1
          ],
          [
           563
          ],
          [
           284
          ],
          [
           196
          ]
         ],
         "geo": "geo",
         "hovertemplate": "<b>%{hovertext}</b><br><br>country=%{location}<br>Deaths=%{customdata[0]}<br>color=%{z}<extra></extra>",
         "hovertext": [
          "Afghanistan",
          "Albania",
          "Algeria",
          "Andorra",
          "Angola",
          "Antigua and Barbuda",
          "Argentina",
          "Armenia",
          "Australia",
          "Austria",
          "Azerbaijan",
          "Bahamas",
          "Bahrain",
          "Bangladesh",
          "Barbados",
          "Belarus",
          "Belgium",
          "Belize",
          "Benin",
          "Bhutan",
          "Bolivia",
          "Bosnia and Herzegovina",
          "Botswana",
          "Brazil",
          "Brunei",
          "Bulgaria",
          "Burkina Faso",
          "Burma",
          "Burundi",
          "Cabo Verde",
          "Cambodia",
          "Cameroon",
          "Canada",
          "Central African Republic",
          "Chad",
          "Chile",
          "China",
          "Colombia",
          "Comoros",
          "Congo (Brazzaville)",
          "Congo (Kinshasa)",
          "Costa Rica",
          "Cote d'Ivoire",
          "Croatia",
          "Cuba",
          "Cyprus",
          "Czechia",
          "Denmark",
          "Diamond Princess",
          "Djibouti",
          "Dominica",
          "Dominican Republic",
          "Ecuador",
          "Egypt",
          "El Salvador",
          "Equatorial Guinea",
          "Eritrea",
          "Estonia",
          "Eswatini",
          "Ethiopia",
          "Fiji",
          "Finland",
          "France",
          "Gabon",
          "Gambia",
          "Georgia",
          "Germany",
          "Ghana",
          "Greece",
          "Grenada",
          "Guatemala",
          "Guinea",
          "Guinea-Bissau",
          "Guyana",
          "Haiti",
          "Holy See",
          "Honduras",
          "Hungary",
          "Iceland",
          "India",
          "Indonesia",
          "Iran",
          "Iraq",
          "Ireland",
          "Israel",
          "Italy",
          "Jamaica",
          "Japan",
          "Jordan",
          "Kazakhstan",
          "Kenya",
          "Korea, South",
          "Kosovo",
          "Kuwait",
          "Kyrgyzstan",
          "Laos",
          "Latvia",
          "Lebanon",
          "Lesotho",
          "Liberia",
          "Libya",
          "Liechtenstein",
          "Lithuania",
          "Luxembourg",
          "MS Zaandam",
          "Madagascar",
          "Malawi",
          "Malaysia",
          "Maldives",
          "Mali",
          "Malta",
          "Mauritania",
          "Mauritius",
          "Mexico",
          "Moldova",
          "Monaco",
          "Mongolia",
          "Montenegro",
          "Morocco",
          "Mozambique",
          "Namibia",
          "Nepal",
          "Netherlands",
          "New Zealand",
          "Nicaragua",
          "Niger",
          "Nigeria",
          "North Macedonia",
          "Norway",
          "Oman",
          "Pakistan",
          "Panama",
          "Papua New Guinea",
          "Paraguay",
          "Peru",
          "Philippines",
          "Poland",
          "Portugal",
          "Qatar",
          "Romania",
          "Russia",
          "Rwanda",
          "Saint Kitts and Nevis",
          "Saint Lucia",
          "Saint Vincent and the Grenadines",
          "San Marino",
          "Sao Tome and Principe",
          "Saudi Arabia",
          "Senegal",
          "Serbia",
          "Seychelles",
          "Sierra Leone",
          "Singapore",
          "Slovakia",
          "Slovenia",
          "Somalia",
          "South Africa",
          "South Sudan",
          "Spain",
          "Sri Lanka",
          "Sudan",
          "Suriname",
          "Sweden",
          "Switzerland",
          "Syria",
          "Taiwan*",
          "Tajikistan",
          "Tanzania",
          "Thailand",
          "Timor-Leste",
          "Togo",
          "Trinidad and Tobago",
          "Tunisia",
          "Turkey",
          "US",
          "Uganda",
          "Ukraine",
          "United Arab Emirates",
          "United Kingdom",
          "Uruguay",
          "Uzbekistan",
          "Venezuela",
          "Vietnam",
          "West Bank and Gaza",
          "Western Sahara",
          "Yemen",
          "Zambia",
          "Zimbabwe"
         ],
         "locationmode": "country names",
         "locations": [
          "Afghanistan",
          "Albania",
          "Algeria",
          "Andorra",
          "Angola",
          "Antigua and Barbuda",
          "Argentina",
          "Armenia",
          "Australia",
          "Austria",
          "Azerbaijan",
          "Bahamas",
          "Bahrain",
          "Bangladesh",
          "Barbados",
          "Belarus",
          "Belgium",
          "Belize",
          "Benin",
          "Bhutan",
          "Bolivia",
          "Bosnia and Herzegovina",
          "Botswana",
          "Brazil",
          "Brunei",
          "Bulgaria",
          "Burkina Faso",
          "Burma",
          "Burundi",
          "Cabo Verde",
          "Cambodia",
          "Cameroon",
          "Canada",
          "Central African Republic",
          "Chad",
          "Chile",
          "China",
          "Colombia",
          "Comoros",
          "Congo (Brazzaville)",
          "Congo (Kinshasa)",
          "Costa Rica",
          "Cote d'Ivoire",
          "Croatia",
          "Cuba",
          "Cyprus",
          "Czechia",
          "Denmark",
          "Diamond Princess",
          "Djibouti",
          "Dominica",
          "Dominican Republic",
          "Ecuador",
          "Egypt",
          "El Salvador",
          "Equatorial Guinea",
          "Eritrea",
          "Estonia",
          "Eswatini",
          "Ethiopia",
          "Fiji",
          "Finland",
          "France",
          "Gabon",
          "Gambia",
          "Georgia",
          "Germany",
          "Ghana",
          "Greece",
          "Grenada",
          "Guatemala",
          "Guinea",
          "Guinea-Bissau",
          "Guyana",
          "Haiti",
          "Holy See",
          "Honduras",
          "Hungary",
          "Iceland",
          "India",
          "Indonesia",
          "Iran",
          "Iraq",
          "Ireland",
          "Israel",
          "Italy",
          "Jamaica",
          "Japan",
          "Jordan",
          "Kazakhstan",
          "Kenya",
          "Korea, South",
          "Kosovo",
          "Kuwait",
          "Kyrgyzstan",
          "Laos",
          "Latvia",
          "Lebanon",
          "Lesotho",
          "Liberia",
          "Libya",
          "Liechtenstein",
          "Lithuania",
          "Luxembourg",
          "MS Zaandam",
          "Madagascar",
          "Malawi",
          "Malaysia",
          "Maldives",
          "Mali",
          "Malta",
          "Mauritania",
          "Mauritius",
          "Mexico",
          "Moldova",
          "Monaco",
          "Mongolia",
          "Montenegro",
          "Morocco",
          "Mozambique",
          "Namibia",
          "Nepal",
          "Netherlands",
          "New Zealand",
          "Nicaragua",
          "Niger",
          "Nigeria",
          "North Macedonia",
          "Norway",
          "Oman",
          "Pakistan",
          "Panama",
          "Papua New Guinea",
          "Paraguay",
          "Peru",
          "Philippines",
          "Poland",
          "Portugal",
          "Qatar",
          "Romania",
          "Russia",
          "Rwanda",
          "Saint Kitts and Nevis",
          "Saint Lucia",
          "Saint Vincent and the Grenadines",
          "San Marino",
          "Sao Tome and Principe",
          "Saudi Arabia",
          "Senegal",
          "Serbia",
          "Seychelles",
          "Sierra Leone",
          "Singapore",
          "Slovakia",
          "Slovenia",
          "Somalia",
          "South Africa",
          "South Sudan",
          "Spain",
          "Sri Lanka",
          "Sudan",
          "Suriname",
          "Sweden",
          "Switzerland",
          "Syria",
          "Taiwan*",
          "Tajikistan",
          "Tanzania",
          "Thailand",
          "Timor-Leste",
          "Togo",
          "Trinidad and Tobago",
          "Tunisia",
          "Turkey",
          "US",
          "Uganda",
          "Ukraine",
          "United Arab Emirates",
          "United Kingdom",
          "Uruguay",
          "Uzbekistan",
          "Venezuela",
          "Vietnam",
          "West Bank and Gaza",
          "Western Sahara",
          "Yemen",
          "Zambia",
          "Zimbabwe"
         ],
         "name": "",
         "type": "choropleth",
         "z": [
          3.1470576710283598,
          2.4409090820652177,
          3.17376882313665,
          1.7323937598229686,
          2.03342375548695,
          0.6020599913279624,
          3.9218944709291024,
          2.9434945159061026,
          2.7867514221455614,
          2.8656960599160706,
          2.724275869600789,
          1.7075701760979363,
          2.278753600952829,
          3.6239725120169965,
          0.9030899869919435,
          2.8273692730538253,
          3.9952841076892596,
          1.146128035678238,
          1.6127838567197355,
          0,
          3.693639026161548,
          2.7745169657285498,
          0.6020599913279624,
          5.080132033262974,
          0.6020599913279624,
          2.782472624166286,
          1.7481880270062005,
          0.8450980400142568,
          0.3010299956639812,
          1.6020599913279623,
          0,
          2.6148972160331345,
          3.9619902874400648,
          1.792391689498254,
          1.8920946026904804,
          4.048519487922654,
          3.674125982742708,
          4.2802140293384,
          0.9030899869919435,
          1.8976270912904414,
          2.413299764081252,
          2.622214022966295,
          2.0644579892269186,
          2.2671717284030137,
          1.9777236052888478,
          1.3222192947339193,
          2.625312450961674,
          2.7958800173440754,
          1.146128035678238,
          1.7853298350107671,
          0,
          3.2237554536572413,
          3.81544491624435,
          3.730540036477119,
          2.8536982117761744,
          1.9242792860618816,
          0,
          1.8129133566428555,
          1.9637878273455553,
          2.8870543780509568,
          0.47712125471966244,
          2.526339277389844,
          4.485749810814252,
          1.7323937598229686,
          1.9867717342662448,
          1.3010299956639813,
          3.9685296443748395,
          2.432969290874406,
          2.416640507338281,
          0,
          3.4360035356698964,
          1.7781512503836436,
          1.5440680443502757,
          1.5563025007672873,
          2.305351369446624,
          0,
          3.2655253352190736,
          2.788875115775417,
          1.0413926851582251,
          4.802766885954943,
          3.8610562445768735,
          4.329601248356519,
          3.8383452687759907,
          3.249931756634195,
          2.957607287060095,
          4.549910161688267,
          1.3222192947339193,
          3.1048284036536553,
          1.2041199826559248,
          3.182984967003582,
          2.75815462196739,
          2.510545010206612,
          2.6893088591236203,
          2.7234556720351857,
          3.024895960107485,
          0,
          1.5440680443502757,
          2.1931245983544616,
          1.505149978319906,
          1.919078092376074,
          2.3654879848909,
          0.3010299956639812,
          1.9395192526186185,
          2.0969100130080562,
          0.47712125471966244,
          2.2810333672477277,
          2.2430380486862944,
          2.100370545117563,
          1.462397997898956,
          2.103803720955957,
          1.0413926851582251,
          2.2013971243204513,
          1.0413926851582251,
          4.804956799857492,
          2.9960736544852753,
          0.6989700043360189,
          0,
          1.9731278535996986,
          3.0330214446829107,
          1.3617278360175928,
          1.845098040014257,
          2.3180633349627615,
          3.7960884286806684,
          1.3617278360175928,
          2.1398790864012365,
          1.845098040014257,
          3.0051805125037805,
          2.775974331129369,
          2.423245873936808,
          2.813580988568192,
          3.7985815947285477,
          3.2975416678181597,
          0.7781512503836436,
          2.469822015978163,
          4.456487497115823,
          3.534026106056135,
          3.3081373786380386,
          3.2598326990634834,
          2.294466226161593,
          3.5490032620257876,
          4.2316224841065795,
          1.2304489213782739,
          0,
          0,
          0,
          1.6334684555795864,
          1.2041199826559248,
          3.5844443071651764,
          2.45178643552429,
          2.851869600729766,
          0,
          1.8512583487190752,
          1.4471580313422192,
          1.5314789170422551,
          2.1271047983648077,
          1.9912260756924949,
          4.145569297792989,
          1.6812412373755872,
          4.4625776687897085,
          1.1139433523068367,
          2.9159272116971158,
          1.8325089127062364,
          3.765072201102792,
          3.302330928684399,
          2.0293837776852097,
          0.9030899869919435,
          1.8388490907372552,
          1.3424226808222062,
          1.7708520116421442,
          0,
          1.4471580313422192,
          1.3010299956639813,
          1.8864907251724818,
          3.7983052820219765,
          5.261928672990642,
          1.4771212547196624,
          3.4109458586877746,
          2.57978359661681,
          4.6189471492307375,
          1.6532125137753437,
          2.494154594018443,
          2.575187844927661,
          1.5185139398778875,
          2.1702617153949575,
          0.3010299956639812,
          2.751279103983342,
          2.45484486000851,
          2.294466226161593
         ]
        }
       ],
       "layout": {
        "coloraxis": {
         "colorbar": {
          "title": {
           "text": "Deaths (Log Scale)"
          }
         },
         "colorscale": [
          [
           0,
           "rgb(255,245,240)"
          ],
          [
           0.125,
           "rgb(254,224,210)"
          ],
          [
           0.25,
           "rgb(252,187,161)"
          ],
          [
           0.375,
           "rgb(252,146,114)"
          ],
          [
           0.5,
           "rgb(251,106,74)"
          ],
          [
           0.625,
           "rgb(239,59,44)"
          ],
          [
           0.75,
           "rgb(203,24,29)"
          ],
          [
           0.875,
           "rgb(165,15,21)"
          ],
          [
           1,
           "rgb(103,0,13)"
          ]
         ]
        },
        "geo": {
         "center": {},
         "domain": {
          "x": [
           0,
           1
          ],
          "y": [
           0,
           1
          ]
         },
         "fitbounds": "locations",
         "visible": false
        },
        "legend": {
         "tracegroupgap": 0
        },
        "margin": {
         "t": 60
        },
        "template": {
         "data": {
          "bar": [
           {
            "error_x": {
             "color": "#2a3f5f"
            },
            "error_y": {
             "color": "#2a3f5f"
            },
            "marker": {
             "line": {
              "color": "#E5ECF6",
              "width": 0.5
             }
            },
            "type": "bar"
           }
          ],
          "barpolar": [
           {
            "marker": {
             "line": {
              "color": "#E5ECF6",
              "width": 0.5
             }
            },
            "type": "barpolar"
           }
          ],
          "carpet": [
           {
            "aaxis": {
             "endlinecolor": "#2a3f5f",
             "gridcolor": "white",
             "linecolor": "white",
             "minorgridcolor": "white",
             "startlinecolor": "#2a3f5f"
            },
            "baxis": {
             "endlinecolor": "#2a3f5f",
             "gridcolor": "white",
             "linecolor": "white",
             "minorgridcolor": "white",
             "startlinecolor": "#2a3f5f"
            },
            "type": "carpet"
           }
          ],
          "choropleth": [
           {
            "colorbar": {
             "outlinewidth": 0,
             "ticks": ""
            },
            "type": "choropleth"
           }
          ],
          "contour": [
           {
            "colorbar": {
             "outlinewidth": 0,
             "ticks": ""
            },
            "colorscale": [
             [
              0,
              "#0d0887"
             ],
             [
              0.1111111111111111,
              "#46039f"
             ],
             [
              0.2222222222222222,
              "#7201a8"
             ],
             [
              0.3333333333333333,
              "#9c179e"
             ],
             [
              0.4444444444444444,
              "#bd3786"
             ],
             [
              0.5555555555555556,
              "#d8576b"
             ],
             [
              0.6666666666666666,
              "#ed7953"
             ],
             [
              0.7777777777777778,
              "#fb9f3a"
             ],
             [
              0.8888888888888888,
              "#fdca26"
             ],
             [
              1,
              "#f0f921"
             ]
            ],
            "type": "contour"
           }
          ],
          "contourcarpet": [
           {
            "colorbar": {
             "outlinewidth": 0,
             "ticks": ""
            },
            "type": "contourcarpet"
           }
          ],
          "heatmap": [
           {
            "colorbar": {
             "outlinewidth": 0,
             "ticks": ""
            },
            "colorscale": [
             [
              0,
              "#0d0887"
             ],
             [
              0.1111111111111111,
              "#46039f"
             ],
             [
              0.2222222222222222,
              "#7201a8"
             ],
             [
              0.3333333333333333,
              "#9c179e"
             ],
             [
              0.4444444444444444,
              "#bd3786"
             ],
             [
              0.5555555555555556,
              "#d8576b"
             ],
             [
              0.6666666666666666,
              "#ed7953"
             ],
             [
              0.7777777777777778,
              "#fb9f3a"
             ],
             [
              0.8888888888888888,
              "#fdca26"
             ],
             [
              1,
              "#f0f921"
             ]
            ],
            "type": "heatmap"
           }
          ],
          "heatmapgl": [
           {
            "colorbar": {
             "outlinewidth": 0,
             "ticks": ""
            },
            "colorscale": [
             [
              0,
              "#0d0887"
             ],
             [
              0.1111111111111111,
              "#46039f"
             ],
             [
              0.2222222222222222,
              "#7201a8"
             ],
             [
              0.3333333333333333,
              "#9c179e"
             ],
             [
              0.4444444444444444,
              "#bd3786"
             ],
             [
              0.5555555555555556,
              "#d8576b"
             ],
             [
              0.6666666666666666,
              "#ed7953"
             ],
             [
              0.7777777777777778,
              "#fb9f3a"
             ],
             [
              0.8888888888888888,
              "#fdca26"
             ],
             [
              1,
              "#f0f921"
             ]
            ],
            "type": "heatmapgl"
           }
          ],
          "histogram": [
           {
            "marker": {
             "colorbar": {
              "outlinewidth": 0,
              "ticks": ""
             }
            },
            "type": "histogram"
           }
          ],
          "histogram2d": [
           {
            "colorbar": {
             "outlinewidth": 0,
             "ticks": ""
            },
            "colorscale": [
             [
              0,
              "#0d0887"
             ],
             [
              0.1111111111111111,
              "#46039f"
             ],
             [
              0.2222222222222222,
              "#7201a8"
             ],
             [
              0.3333333333333333,
              "#9c179e"
             ],
             [
              0.4444444444444444,
              "#bd3786"
             ],
             [
              0.5555555555555556,
              "#d8576b"
             ],
             [
              0.6666666666666666,
              "#ed7953"
             ],
             [
              0.7777777777777778,
              "#fb9f3a"
             ],
             [
              0.8888888888888888,
              "#fdca26"
             ],
             [
              1,
              "#f0f921"
             ]
            ],
            "type": "histogram2d"
           }
          ],
          "histogram2dcontour": [
           {
            "colorbar": {
             "outlinewidth": 0,
             "ticks": ""
            },
            "colorscale": [
             [
              0,
              "#0d0887"
             ],
             [
              0.1111111111111111,
              "#46039f"
             ],
             [
              0.2222222222222222,
              "#7201a8"
             ],
             [
              0.3333333333333333,
              "#9c179e"
             ],
             [
              0.4444444444444444,
              "#bd3786"
             ],
             [
              0.5555555555555556,
              "#d8576b"
             ],
             [
              0.6666666666666666,
              "#ed7953"
             ],
             [
              0.7777777777777778,
              "#fb9f3a"
             ],
             [
              0.8888888888888888,
              "#fdca26"
             ],
             [
              1,
              "#f0f921"
             ]
            ],
            "type": "histogram2dcontour"
           }
          ],
          "mesh3d": [
           {
            "colorbar": {
             "outlinewidth": 0,
             "ticks": ""
            },
            "type": "mesh3d"
           }
          ],
          "parcoords": [
           {
            "line": {
             "colorbar": {
              "outlinewidth": 0,
              "ticks": ""
             }
            },
            "type": "parcoords"
           }
          ],
          "pie": [
           {
            "automargin": true,
            "type": "pie"
           }
          ],
          "scatter": [
           {
            "marker": {
             "colorbar": {
              "outlinewidth": 0,
              "ticks": ""
             }
            },
            "type": "scatter"
           }
          ],
          "scatter3d": [
           {
            "line": {
             "colorbar": {
              "outlinewidth": 0,
              "ticks": ""
             }
            },
            "marker": {
             "colorbar": {
              "outlinewidth": 0,
              "ticks": ""
             }
            },
            "type": "scatter3d"
           }
          ],
          "scattercarpet": [
           {
            "marker": {
             "colorbar": {
              "outlinewidth": 0,
              "ticks": ""
             }
            },
            "type": "scattercarpet"
           }
          ],
          "scattergeo": [
           {
            "marker": {
             "colorbar": {
              "outlinewidth": 0,
              "ticks": ""
             }
            },
            "type": "scattergeo"
           }
          ],
          "scattergl": [
           {
            "marker": {
             "colorbar": {
              "outlinewidth": 0,
              "ticks": ""
             }
            },
            "type": "scattergl"
           }
          ],
          "scattermapbox": [
           {
            "marker": {
             "colorbar": {
              "outlinewidth": 0,
              "ticks": ""
             }
            },
            "type": "scattermapbox"
           }
          ],
          "scatterpolar": [
           {
            "marker": {
             "colorbar": {
              "outlinewidth": 0,
              "ticks": ""
             }
            },
            "type": "scatterpolar"
           }
          ],
          "scatterpolargl": [
           {
            "marker": {
             "colorbar": {
              "outlinewidth": 0,
              "ticks": ""
             }
            },
            "type": "scatterpolargl"
           }
          ],
          "scatterternary": [
           {
            "marker": {
             "colorbar": {
              "outlinewidth": 0,
              "ticks": ""
             }
            },
            "type": "scatterternary"
           }
          ],
          "surface": [
           {
            "colorbar": {
             "outlinewidth": 0,
             "ticks": ""
            },
            "colorscale": [
             [
              0,
              "#0d0887"
             ],
             [
              0.1111111111111111,
              "#46039f"
             ],
             [
              0.2222222222222222,
              "#7201a8"
             ],
             [
              0.3333333333333333,
              "#9c179e"
             ],
             [
              0.4444444444444444,
              "#bd3786"
             ],
             [
              0.5555555555555556,
              "#d8576b"
             ],
             [
              0.6666666666666666,
              "#ed7953"
             ],
             [
              0.7777777777777778,
              "#fb9f3a"
             ],
             [
              0.8888888888888888,
              "#fdca26"
             ],
             [
              1,
              "#f0f921"
             ]
            ],
            "type": "surface"
           }
          ],
          "table": [
           {
            "cells": {
             "fill": {
              "color": "#EBF0F8"
             },
             "line": {
              "color": "white"
             }
            },
            "header": {
             "fill": {
              "color": "#C8D4E3"
             },
             "line": {
              "color": "white"
             }
            },
            "type": "table"
           }
          ]
         },
         "layout": {
          "annotationdefaults": {
           "arrowcolor": "#2a3f5f",
           "arrowhead": 0,
           "arrowwidth": 1
          },
          "coloraxis": {
           "colorbar": {
            "outlinewidth": 0,
            "ticks": ""
           }
          },
          "colorscale": {
           "diverging": [
            [
             0,
             "#8e0152"
            ],
            [
             0.1,
             "#c51b7d"
            ],
            [
             0.2,
             "#de77ae"
            ],
            [
             0.3,
             "#f1b6da"
            ],
            [
             0.4,
             "#fde0ef"
            ],
            [
             0.5,
             "#f7f7f7"
            ],
            [
             0.6,
             "#e6f5d0"
            ],
            [
             0.7,
             "#b8e186"
            ],
            [
             0.8,
             "#7fbc41"
            ],
            [
             0.9,
             "#4d9221"
            ],
            [
             1,
             "#276419"
            ]
           ],
           "sequential": [
            [
             0,
             "#0d0887"
            ],
            [
             0.1111111111111111,
             "#46039f"
            ],
            [
             0.2222222222222222,
             "#7201a8"
            ],
            [
             0.3333333333333333,
             "#9c179e"
            ],
            [
             0.4444444444444444,
             "#bd3786"
            ],
            [
             0.5555555555555556,
             "#d8576b"
            ],
            [
             0.6666666666666666,
             "#ed7953"
            ],
            [
             0.7777777777777778,
             "#fb9f3a"
            ],
            [
             0.8888888888888888,
             "#fdca26"
            ],
            [
             1,
             "#f0f921"
            ]
           ],
           "sequentialminus": [
            [
             0,
             "#0d0887"
            ],
            [
             0.1111111111111111,
             "#46039f"
            ],
            [
             0.2222222222222222,
             "#7201a8"
            ],
            [
             0.3333333333333333,
             "#9c179e"
            ],
            [
             0.4444444444444444,
             "#bd3786"
            ],
            [
             0.5555555555555556,
             "#d8576b"
            ],
            [
             0.6666666666666666,
             "#ed7953"
            ],
            [
             0.7777777777777778,
             "#fb9f3a"
            ],
            [
             0.8888888888888888,
             "#fdca26"
            ],
            [
             1,
             "#f0f921"
            ]
           ]
          },
          "colorway": [
           "#636efa",
           "#EF553B",
           "#00cc96",
           "#ab63fa",
           "#FFA15A",
           "#19d3f3",
           "#FF6692",
           "#B6E880",
           "#FF97FF",
           "#FECB52"
          ],
          "font": {
           "color": "#2a3f5f"
          },
          "geo": {
           "bgcolor": "white",
           "lakecolor": "white",
           "landcolor": "#E5ECF6",
           "showlakes": true,
           "showland": true,
           "subunitcolor": "white"
          },
          "hoverlabel": {
           "align": "left"
          },
          "hovermode": "closest",
          "mapbox": {
           "style": "light"
          },
          "paper_bgcolor": "white",
          "plot_bgcolor": "#E5ECF6",
          "polar": {
           "angularaxis": {
            "gridcolor": "white",
            "linecolor": "white",
            "ticks": ""
           },
           "bgcolor": "#E5ECF6",
           "radialaxis": {
            "gridcolor": "white",
            "linecolor": "white",
            "ticks": ""
           }
          },
          "scene": {
           "xaxis": {
            "backgroundcolor": "#E5ECF6",
            "gridcolor": "white",
            "gridwidth": 2,
            "linecolor": "white",
            "showbackground": true,
            "ticks": "",
            "zerolinecolor": "white"
           },
           "yaxis": {
            "backgroundcolor": "#E5ECF6",
            "gridcolor": "white",
            "gridwidth": 2,
            "linecolor": "white",
            "showbackground": true,
            "ticks": "",
            "zerolinecolor": "white"
           },
           "zaxis": {
            "backgroundcolor": "#E5ECF6",
            "gridcolor": "white",
            "gridwidth": 2,
            "linecolor": "white",
            "showbackground": true,
            "ticks": "",
            "zerolinecolor": "white"
           }
          },
          "shapedefaults": {
           "line": {
            "color": "#2a3f5f"
           }
          },
          "ternary": {
           "aaxis": {
            "gridcolor": "white",
            "linecolor": "white",
            "ticks": ""
           },
           "baxis": {
            "gridcolor": "white",
            "linecolor": "white",
            "ticks": ""
           },
           "bgcolor": "#E5ECF6",
           "caxis": {
            "gridcolor": "white",
            "linecolor": "white",
            "ticks": ""
           }
          },
          "title": {
           "x": 0.05
          },
          "xaxis": {
           "automargin": true,
           "gridcolor": "white",
           "linecolor": "white",
           "ticks": "",
           "title": {
            "standoff": 15
           },
           "zerolinecolor": "white",
           "zerolinewidth": 2
          },
          "yaxis": {
           "automargin": true,
           "gridcolor": "white",
           "linecolor": "white",
           "ticks": "",
           "title": {
            "standoff": 15
           },
           "zerolinecolor": "white",
           "zerolinewidth": 2
          }
         }
        },
        "title": {
         "text": "Deaths Heat Map (Log Scale)"
        }
       }
      },
      "text/html": [
       "<div>\n",
       "        \n",
       "        \n",
       "            <div id=\"f203ea81-d3ba-4a47-b393-f82e5f40894d\" class=\"plotly-graph-div\" style=\"height:525px; width:100%;\"></div>\n",
       "            <script type=\"text/javascript\">\n",
       "                require([\"plotly\"], function(Plotly) {\n",
       "                    window.PLOTLYENV=window.PLOTLYENV || {};\n",
       "                    \n",
       "                if (document.getElementById(\"f203ea81-d3ba-4a47-b393-f82e5f40894d\")) {\n",
       "                    Plotly.newPlot(\n",
       "                        'f203ea81-d3ba-4a47-b393-f82e5f40894d',\n",
       "                        [{\"coloraxis\": \"coloraxis\", \"customdata\": [[1402.0], [275.0], [1491.0], [53.0], [107.0], [3.0], [8353.0], [877.0], [611.0], [733.0], [529.0], [50.0], [189.0], [4206.0], [7.0], [671.0], [9891.0], [13.0], [40.0], [0.0], [4938.0], [594.0], [3.0], [120262.0], [3.0], [605.0], [55.0], [6.0], [1.0], [39.0], [0.0], [411.0], [9161.0], [61.0], [77.0], [11181.0], [4721.0], [19063.0], [7.0], [78.0], [258.0], [418.0], [115.0], [184.0], [94.0], [20.0], [421.0], [624.0], [13.0], [60.0], [0.0], [1673.0], [6537.0], [5376.0], [713.0], [83.0], [0.0], [64.0], [91.0], [770.0], [2.0], [335.0], [30601.0], [53.0], [96.0], [19.0], [9300.0], [270.0], [260.0], [0.0], [2728.0], [59.0], [34.0], [35.0], [201.0], [0.0], [1842.0], [614.0], [10.0], [63498.0], [7261.0], [21359.0], [6891.0], [1777.0], [906.0], [35473.0], [20.0], [1272.0], [15.0], [1523.0], [572.0], [323.0], [488.0], [528.0], [1058.0], [0.0], [34.0], [155.0], [31.0], [82.0], [231.0], [1.0], [86.0], [124.0], [2.0], [190.0], [174.0], [125.0], [28.0], [126.0], [10.0], [158.0], [10.0], [63819.0], [990.0], [4.0], [0.0], [93.0], [1078.0], [22.0], [69.0], [207.0], [6252.0], [22.0], [137.0], [69.0], [1011.0], [596.0], [264.0], [650.0], [6288.0], [1983.0], [5.0], [294.0], [28607.0], [3419.0], [2032.0], [1818.0], [196.0], [3539.0], [17045.0], [16.0], [0.0], [0.0], [0.0], [42.0], [15.0], [3840.0], [282.0], [710.0], [0.0], [70.0], [27.0], [33.0], [133.0], [97.0], [13981.0], [47.0], [29011.0], [12.0], [823.0], [67.0], [5821.0], [2005.0], [106.0], [7.0], [68.0], [21.0], [58.0], [0.0], [27.0], [19.0], [76.0], [6284.0], [182779.0], [29.0], [2575.0], [379.0], [41585.0], [44.0], [311.0], [375.0], [32.0], [147.0], [1.0], [563.0], [284.0], [196.0]], \"geo\": \"geo\", \"hovertemplate\": \"<b>%{hovertext}</b><br><br>country=%{location}<br>Deaths=%{customdata[0]}<br>color=%{z}<extra></extra>\", \"hovertext\": [\"Afghanistan\", \"Albania\", \"Algeria\", \"Andorra\", \"Angola\", \"Antigua and Barbuda\", \"Argentina\", \"Armenia\", \"Australia\", \"Austria\", \"Azerbaijan\", \"Bahamas\", \"Bahrain\", \"Bangladesh\", \"Barbados\", \"Belarus\", \"Belgium\", \"Belize\", \"Benin\", \"Bhutan\", \"Bolivia\", \"Bosnia and Herzegovina\", \"Botswana\", \"Brazil\", \"Brunei\", \"Bulgaria\", \"Burkina Faso\", \"Burma\", \"Burundi\", \"Cabo Verde\", \"Cambodia\", \"Cameroon\", \"Canada\", \"Central African Republic\", \"Chad\", \"Chile\", \"China\", \"Colombia\", \"Comoros\", \"Congo (Brazzaville)\", \"Congo (Kinshasa)\", \"Costa Rica\", \"Cote d'Ivoire\", \"Croatia\", \"Cuba\", \"Cyprus\", \"Czechia\", \"Denmark\", \"Diamond Princess\", \"Djibouti\", \"Dominica\", \"Dominican Republic\", \"Ecuador\", \"Egypt\", \"El Salvador\", \"Equatorial Guinea\", \"Eritrea\", \"Estonia\", \"Eswatini\", \"Ethiopia\", \"Fiji\", \"Finland\", \"France\", \"Gabon\", \"Gambia\", \"Georgia\", \"Germany\", \"Ghana\", \"Greece\", \"Grenada\", \"Guatemala\", \"Guinea\", \"Guinea-Bissau\", \"Guyana\", \"Haiti\", \"Holy See\", \"Honduras\", \"Hungary\", \"Iceland\", \"India\", \"Indonesia\", \"Iran\", \"Iraq\", \"Ireland\", \"Israel\", \"Italy\", \"Jamaica\", \"Japan\", \"Jordan\", \"Kazakhstan\", \"Kenya\", \"Korea, South\", \"Kosovo\", \"Kuwait\", \"Kyrgyzstan\", \"Laos\", \"Latvia\", \"Lebanon\", \"Lesotho\", \"Liberia\", \"Libya\", \"Liechtenstein\", \"Lithuania\", \"Luxembourg\", \"MS Zaandam\", \"Madagascar\", \"Malawi\", \"Malaysia\", \"Maldives\", \"Mali\", \"Malta\", \"Mauritania\", \"Mauritius\", \"Mexico\", \"Moldova\", \"Monaco\", \"Mongolia\", \"Montenegro\", \"Morocco\", \"Mozambique\", \"Namibia\", \"Nepal\", \"Netherlands\", \"New Zealand\", \"Nicaragua\", \"Niger\", \"Nigeria\", \"North Macedonia\", \"Norway\", \"Oman\", \"Pakistan\", \"Panama\", \"Papua New Guinea\", \"Paraguay\", \"Peru\", \"Philippines\", \"Poland\", \"Portugal\", \"Qatar\", \"Romania\", \"Russia\", \"Rwanda\", \"Saint Kitts and Nevis\", \"Saint Lucia\", \"Saint Vincent and the Grenadines\", \"San Marino\", \"Sao Tome and Principe\", \"Saudi Arabia\", \"Senegal\", \"Serbia\", \"Seychelles\", \"Sierra Leone\", \"Singapore\", \"Slovakia\", \"Slovenia\", \"Somalia\", \"South Africa\", \"South Sudan\", \"Spain\", \"Sri Lanka\", \"Sudan\", \"Suriname\", \"Sweden\", \"Switzerland\", \"Syria\", \"Taiwan*\", \"Tajikistan\", \"Tanzania\", \"Thailand\", \"Timor-Leste\", \"Togo\", \"Trinidad and Tobago\", \"Tunisia\", \"Turkey\", \"US\", \"Uganda\", \"Ukraine\", \"United Arab Emirates\", \"United Kingdom\", \"Uruguay\", \"Uzbekistan\", \"Venezuela\", \"Vietnam\", \"West Bank and Gaza\", \"Western Sahara\", \"Yemen\", \"Zambia\", \"Zimbabwe\"], \"locationmode\": \"country names\", \"locations\": [\"Afghanistan\", \"Albania\", \"Algeria\", \"Andorra\", \"Angola\", \"Antigua and Barbuda\", \"Argentina\", \"Armenia\", \"Australia\", \"Austria\", \"Azerbaijan\", \"Bahamas\", \"Bahrain\", \"Bangladesh\", \"Barbados\", \"Belarus\", \"Belgium\", \"Belize\", \"Benin\", \"Bhutan\", \"Bolivia\", \"Bosnia and Herzegovina\", \"Botswana\", \"Brazil\", \"Brunei\", \"Bulgaria\", \"Burkina Faso\", \"Burma\", \"Burundi\", \"Cabo Verde\", \"Cambodia\", \"Cameroon\", \"Canada\", \"Central African Republic\", \"Chad\", \"Chile\", \"China\", \"Colombia\", \"Comoros\", \"Congo (Brazzaville)\", \"Congo (Kinshasa)\", \"Costa Rica\", \"Cote d'Ivoire\", \"Croatia\", \"Cuba\", \"Cyprus\", \"Czechia\", \"Denmark\", \"Diamond Princess\", \"Djibouti\", \"Dominica\", \"Dominican Republic\", \"Ecuador\", \"Egypt\", \"El Salvador\", \"Equatorial Guinea\", \"Eritrea\", \"Estonia\", \"Eswatini\", \"Ethiopia\", \"Fiji\", \"Finland\", \"France\", \"Gabon\", \"Gambia\", \"Georgia\", \"Germany\", \"Ghana\", \"Greece\", \"Grenada\", \"Guatemala\", \"Guinea\", \"Guinea-Bissau\", \"Guyana\", \"Haiti\", \"Holy See\", \"Honduras\", \"Hungary\", \"Iceland\", \"India\", \"Indonesia\", \"Iran\", \"Iraq\", \"Ireland\", \"Israel\", \"Italy\", \"Jamaica\", \"Japan\", \"Jordan\", \"Kazakhstan\", \"Kenya\", \"Korea, South\", \"Kosovo\", \"Kuwait\", \"Kyrgyzstan\", \"Laos\", \"Latvia\", \"Lebanon\", \"Lesotho\", \"Liberia\", \"Libya\", \"Liechtenstein\", \"Lithuania\", \"Luxembourg\", \"MS Zaandam\", \"Madagascar\", \"Malawi\", \"Malaysia\", \"Maldives\", \"Mali\", \"Malta\", \"Mauritania\", \"Mauritius\", \"Mexico\", \"Moldova\", \"Monaco\", \"Mongolia\", \"Montenegro\", \"Morocco\", \"Mozambique\", \"Namibia\", \"Nepal\", \"Netherlands\", \"New Zealand\", \"Nicaragua\", \"Niger\", \"Nigeria\", \"North Macedonia\", \"Norway\", \"Oman\", \"Pakistan\", \"Panama\", \"Papua New Guinea\", \"Paraguay\", \"Peru\", \"Philippines\", \"Poland\", \"Portugal\", \"Qatar\", \"Romania\", \"Russia\", \"Rwanda\", \"Saint Kitts and Nevis\", \"Saint Lucia\", \"Saint Vincent and the Grenadines\", \"San Marino\", \"Sao Tome and Principe\", \"Saudi Arabia\", \"Senegal\", \"Serbia\", \"Seychelles\", \"Sierra Leone\", \"Singapore\", \"Slovakia\", \"Slovenia\", \"Somalia\", \"South Africa\", \"South Sudan\", \"Spain\", \"Sri Lanka\", \"Sudan\", \"Suriname\", \"Sweden\", \"Switzerland\", \"Syria\", \"Taiwan*\", \"Tajikistan\", \"Tanzania\", \"Thailand\", \"Timor-Leste\", \"Togo\", \"Trinidad and Tobago\", \"Tunisia\", \"Turkey\", \"US\", \"Uganda\", \"Ukraine\", \"United Arab Emirates\", \"United Kingdom\", \"Uruguay\", \"Uzbekistan\", \"Venezuela\", \"Vietnam\", \"West Bank and Gaza\", \"Western Sahara\", \"Yemen\", \"Zambia\", \"Zimbabwe\"], \"name\": \"\", \"type\": \"choropleth\", \"z\": [3.1470576710283598, 2.4409090820652177, 3.17376882313665, 1.7323937598229686, 2.03342375548695, 0.6020599913279624, 3.9218944709291024, 2.9434945159061026, 2.7867514221455614, 2.8656960599160706, 2.724275869600789, 1.7075701760979363, 2.278753600952829, 3.6239725120169965, 0.9030899869919435, 2.8273692730538253, 3.9952841076892596, 1.146128035678238, 1.6127838567197355, 0.0, 3.693639026161548, 2.7745169657285498, 0.6020599913279624, 5.080132033262974, 0.6020599913279624, 2.782472624166286, 1.7481880270062005, 0.8450980400142568, 0.3010299956639812, 1.6020599913279623, 0.0, 2.6148972160331345, 3.9619902874400648, 1.792391689498254, 1.8920946026904804, 4.048519487922654, 3.674125982742708, 4.2802140293384, 0.9030899869919435, 1.8976270912904414, 2.413299764081252, 2.622214022966295, 2.0644579892269186, 2.2671717284030137, 1.9777236052888478, 1.3222192947339193, 2.625312450961674, 2.7958800173440754, 1.146128035678238, 1.7853298350107671, 0.0, 3.2237554536572413, 3.81544491624435, 3.730540036477119, 2.8536982117761744, 1.9242792860618816, 0.0, 1.8129133566428555, 1.9637878273455553, 2.8870543780509568, 0.47712125471966244, 2.526339277389844, 4.485749810814252, 1.7323937598229686, 1.9867717342662448, 1.3010299956639813, 3.9685296443748395, 2.432969290874406, 2.416640507338281, 0.0, 3.4360035356698964, 1.7781512503836436, 1.5440680443502757, 1.5563025007672873, 2.305351369446624, 0.0, 3.2655253352190736, 2.788875115775417, 1.0413926851582251, 4.802766885954943, 3.8610562445768735, 4.329601248356519, 3.8383452687759907, 3.249931756634195, 2.957607287060095, 4.549910161688267, 1.3222192947339193, 3.1048284036536553, 1.2041199826559248, 3.182984967003582, 2.75815462196739, 2.510545010206612, 2.6893088591236203, 2.7234556720351857, 3.024895960107485, 0.0, 1.5440680443502757, 2.1931245983544616, 1.505149978319906, 1.919078092376074, 2.3654879848909, 0.3010299956639812, 1.9395192526186185, 2.0969100130080562, 0.47712125471966244, 2.2810333672477277, 2.2430380486862944, 2.100370545117563, 1.462397997898956, 2.103803720955957, 1.0413926851582251, 2.2013971243204513, 1.0413926851582251, 4.804956799857492, 2.9960736544852753, 0.6989700043360189, 0.0, 1.9731278535996986, 3.0330214446829107, 1.3617278360175928, 1.845098040014257, 2.3180633349627615, 3.7960884286806684, 1.3617278360175928, 2.1398790864012365, 1.845098040014257, 3.0051805125037805, 2.775974331129369, 2.423245873936808, 2.813580988568192, 3.7985815947285477, 3.2975416678181597, 0.7781512503836436, 2.469822015978163, 4.456487497115823, 3.534026106056135, 3.3081373786380386, 3.2598326990634834, 2.294466226161593, 3.5490032620257876, 4.2316224841065795, 1.2304489213782739, 0.0, 0.0, 0.0, 1.6334684555795864, 1.2041199826559248, 3.5844443071651764, 2.45178643552429, 2.851869600729766, 0.0, 1.8512583487190752, 1.4471580313422192, 1.5314789170422551, 2.1271047983648077, 1.9912260756924949, 4.145569297792989, 1.6812412373755872, 4.4625776687897085, 1.1139433523068367, 2.9159272116971158, 1.8325089127062364, 3.765072201102792, 3.302330928684399, 2.0293837776852097, 0.9030899869919435, 1.8388490907372552, 1.3424226808222062, 1.7708520116421442, 0.0, 1.4471580313422192, 1.3010299956639813, 1.8864907251724818, 3.7983052820219765, 5.261928672990642, 1.4771212547196624, 3.4109458586877746, 2.57978359661681, 4.6189471492307375, 1.6532125137753437, 2.494154594018443, 2.575187844927661, 1.5185139398778875, 2.1702617153949575, 0.3010299956639812, 2.751279103983342, 2.45484486000851, 2.294466226161593]}],\n",
       "                        {\"coloraxis\": {\"colorbar\": {\"title\": {\"text\": \"Deaths (Log Scale)\"}}, \"colorscale\": [[0.0, \"rgb(255,245,240)\"], [0.125, \"rgb(254,224,210)\"], [0.25, \"rgb(252,187,161)\"], [0.375, \"rgb(252,146,114)\"], [0.5, \"rgb(251,106,74)\"], [0.625, \"rgb(239,59,44)\"], [0.75, \"rgb(203,24,29)\"], [0.875, \"rgb(165,15,21)\"], [1.0, \"rgb(103,0,13)\"]]}, \"geo\": {\"center\": {}, \"domain\": {\"x\": [0.0, 1.0], \"y\": [0.0, 1.0]}, \"fitbounds\": \"locations\", \"visible\": false}, \"legend\": {\"tracegroupgap\": 0}, \"margin\": {\"t\": 60}, \"template\": {\"data\": {\"bar\": [{\"error_x\": {\"color\": \"#2a3f5f\"}, \"error_y\": {\"color\": \"#2a3f5f\"}, \"marker\": {\"line\": {\"color\": \"#E5ECF6\", \"width\": 0.5}}, \"type\": \"bar\"}], \"barpolar\": [{\"marker\": {\"line\": {\"color\": \"#E5ECF6\", \"width\": 0.5}}, \"type\": \"barpolar\"}], \"carpet\": [{\"aaxis\": {\"endlinecolor\": \"#2a3f5f\", \"gridcolor\": \"white\", \"linecolor\": \"white\", \"minorgridcolor\": \"white\", \"startlinecolor\": \"#2a3f5f\"}, \"baxis\": {\"endlinecolor\": \"#2a3f5f\", \"gridcolor\": \"white\", \"linecolor\": \"white\", \"minorgridcolor\": \"white\", \"startlinecolor\": \"#2a3f5f\"}, \"type\": \"carpet\"}], \"choropleth\": [{\"colorbar\": {\"outlinewidth\": 0, \"ticks\": \"\"}, \"type\": \"choropleth\"}], \"contour\": [{\"colorbar\": {\"outlinewidth\": 0, \"ticks\": \"\"}, \"colorscale\": [[0.0, \"#0d0887\"], [0.1111111111111111, \"#46039f\"], [0.2222222222222222, \"#7201a8\"], [0.3333333333333333, \"#9c179e\"], [0.4444444444444444, \"#bd3786\"], [0.5555555555555556, \"#d8576b\"], [0.6666666666666666, \"#ed7953\"], [0.7777777777777778, \"#fb9f3a\"], [0.8888888888888888, \"#fdca26\"], [1.0, \"#f0f921\"]], \"type\": \"contour\"}], \"contourcarpet\": [{\"colorbar\": {\"outlinewidth\": 0, \"ticks\": \"\"}, \"type\": \"contourcarpet\"}], \"heatmap\": [{\"colorbar\": {\"outlinewidth\": 0, \"ticks\": \"\"}, \"colorscale\": [[0.0, \"#0d0887\"], [0.1111111111111111, \"#46039f\"], [0.2222222222222222, \"#7201a8\"], [0.3333333333333333, \"#9c179e\"], [0.4444444444444444, \"#bd3786\"], [0.5555555555555556, \"#d8576b\"], [0.6666666666666666, \"#ed7953\"], [0.7777777777777778, \"#fb9f3a\"], [0.8888888888888888, \"#fdca26\"], [1.0, \"#f0f921\"]], \"type\": \"heatmap\"}], \"heatmapgl\": [{\"colorbar\": {\"outlinewidth\": 0, \"ticks\": \"\"}, \"colorscale\": [[0.0, \"#0d0887\"], [0.1111111111111111, \"#46039f\"], [0.2222222222222222, \"#7201a8\"], [0.3333333333333333, \"#9c179e\"], [0.4444444444444444, \"#bd3786\"], [0.5555555555555556, \"#d8576b\"], [0.6666666666666666, \"#ed7953\"], [0.7777777777777778, \"#fb9f3a\"], [0.8888888888888888, \"#fdca26\"], [1.0, \"#f0f921\"]], \"type\": \"heatmapgl\"}], \"histogram\": [{\"marker\": {\"colorbar\": {\"outlinewidth\": 0, \"ticks\": \"\"}}, \"type\": \"histogram\"}], \"histogram2d\": [{\"colorbar\": {\"outlinewidth\": 0, \"ticks\": \"\"}, \"colorscale\": [[0.0, \"#0d0887\"], [0.1111111111111111, \"#46039f\"], [0.2222222222222222, \"#7201a8\"], [0.3333333333333333, \"#9c179e\"], [0.4444444444444444, \"#bd3786\"], [0.5555555555555556, \"#d8576b\"], [0.6666666666666666, \"#ed7953\"], [0.7777777777777778, \"#fb9f3a\"], [0.8888888888888888, \"#fdca26\"], [1.0, \"#f0f921\"]], \"type\": \"histogram2d\"}], \"histogram2dcontour\": [{\"colorbar\": {\"outlinewidth\": 0, \"ticks\": \"\"}, \"colorscale\": [[0.0, \"#0d0887\"], [0.1111111111111111, \"#46039f\"], [0.2222222222222222, \"#7201a8\"], [0.3333333333333333, \"#9c179e\"], [0.4444444444444444, \"#bd3786\"], [0.5555555555555556, \"#d8576b\"], [0.6666666666666666, \"#ed7953\"], [0.7777777777777778, \"#fb9f3a\"], [0.8888888888888888, \"#fdca26\"], [1.0, \"#f0f921\"]], \"type\": \"histogram2dcontour\"}], \"mesh3d\": [{\"colorbar\": {\"outlinewidth\": 0, \"ticks\": \"\"}, \"type\": \"mesh3d\"}], \"parcoords\": [{\"line\": {\"colorbar\": {\"outlinewidth\": 0, \"ticks\": \"\"}}, \"type\": \"parcoords\"}], \"pie\": [{\"automargin\": true, \"type\": \"pie\"}], \"scatter\": [{\"marker\": {\"colorbar\": {\"outlinewidth\": 0, \"ticks\": \"\"}}, \"type\": \"scatter\"}], \"scatter3d\": [{\"line\": {\"colorbar\": {\"outlinewidth\": 0, \"ticks\": \"\"}}, \"marker\": {\"colorbar\": {\"outlinewidth\": 0, \"ticks\": \"\"}}, \"type\": \"scatter3d\"}], \"scattercarpet\": [{\"marker\": {\"colorbar\": {\"outlinewidth\": 0, \"ticks\": \"\"}}, \"type\": \"scattercarpet\"}], \"scattergeo\": [{\"marker\": {\"colorbar\": {\"outlinewidth\": 0, \"ticks\": \"\"}}, \"type\": \"scattergeo\"}], \"scattergl\": [{\"marker\": {\"colorbar\": {\"outlinewidth\": 0, \"ticks\": \"\"}}, \"type\": \"scattergl\"}], \"scattermapbox\": [{\"marker\": {\"colorbar\": {\"outlinewidth\": 0, \"ticks\": \"\"}}, \"type\": \"scattermapbox\"}], \"scatterpolar\": [{\"marker\": {\"colorbar\": {\"outlinewidth\": 0, \"ticks\": \"\"}}, \"type\": \"scatterpolar\"}], \"scatterpolargl\": [{\"marker\": {\"colorbar\": {\"outlinewidth\": 0, \"ticks\": \"\"}}, \"type\": \"scatterpolargl\"}], \"scatterternary\": [{\"marker\": {\"colorbar\": {\"outlinewidth\": 0, \"ticks\": \"\"}}, \"type\": \"scatterternary\"}], \"surface\": [{\"colorbar\": {\"outlinewidth\": 0, \"ticks\": \"\"}, \"colorscale\": [[0.0, \"#0d0887\"], [0.1111111111111111, \"#46039f\"], [0.2222222222222222, \"#7201a8\"], [0.3333333333333333, \"#9c179e\"], [0.4444444444444444, \"#bd3786\"], [0.5555555555555556, \"#d8576b\"], [0.6666666666666666, \"#ed7953\"], [0.7777777777777778, \"#fb9f3a\"], [0.8888888888888888, \"#fdca26\"], [1.0, \"#f0f921\"]], \"type\": \"surface\"}], \"table\": [{\"cells\": {\"fill\": {\"color\": \"#EBF0F8\"}, \"line\": {\"color\": \"white\"}}, \"header\": {\"fill\": {\"color\": \"#C8D4E3\"}, \"line\": {\"color\": \"white\"}}, \"type\": \"table\"}]}, \"layout\": {\"annotationdefaults\": {\"arrowcolor\": \"#2a3f5f\", \"arrowhead\": 0, \"arrowwidth\": 1}, \"coloraxis\": {\"colorbar\": {\"outlinewidth\": 0, \"ticks\": \"\"}}, \"colorscale\": {\"diverging\": [[0, \"#8e0152\"], [0.1, \"#c51b7d\"], [0.2, \"#de77ae\"], [0.3, \"#f1b6da\"], [0.4, \"#fde0ef\"], [0.5, \"#f7f7f7\"], [0.6, \"#e6f5d0\"], [0.7, \"#b8e186\"], [0.8, \"#7fbc41\"], [0.9, \"#4d9221\"], [1, \"#276419\"]], \"sequential\": [[0.0, \"#0d0887\"], [0.1111111111111111, \"#46039f\"], [0.2222222222222222, \"#7201a8\"], [0.3333333333333333, \"#9c179e\"], [0.4444444444444444, \"#bd3786\"], [0.5555555555555556, \"#d8576b\"], [0.6666666666666666, \"#ed7953\"], [0.7777777777777778, \"#fb9f3a\"], [0.8888888888888888, \"#fdca26\"], [1.0, \"#f0f921\"]], \"sequentialminus\": [[0.0, \"#0d0887\"], [0.1111111111111111, \"#46039f\"], [0.2222222222222222, \"#7201a8\"], [0.3333333333333333, \"#9c179e\"], [0.4444444444444444, \"#bd3786\"], [0.5555555555555556, \"#d8576b\"], [0.6666666666666666, \"#ed7953\"], [0.7777777777777778, \"#fb9f3a\"], [0.8888888888888888, \"#fdca26\"], [1.0, \"#f0f921\"]]}, \"colorway\": [\"#636efa\", \"#EF553B\", \"#00cc96\", \"#ab63fa\", \"#FFA15A\", \"#19d3f3\", \"#FF6692\", \"#B6E880\", \"#FF97FF\", \"#FECB52\"], \"font\": {\"color\": \"#2a3f5f\"}, \"geo\": {\"bgcolor\": \"white\", \"lakecolor\": \"white\", \"landcolor\": \"#E5ECF6\", \"showlakes\": true, \"showland\": true, \"subunitcolor\": \"white\"}, \"hoverlabel\": {\"align\": \"left\"}, \"hovermode\": \"closest\", \"mapbox\": {\"style\": \"light\"}, \"paper_bgcolor\": \"white\", \"plot_bgcolor\": \"#E5ECF6\", \"polar\": {\"angularaxis\": {\"gridcolor\": \"white\", \"linecolor\": \"white\", \"ticks\": \"\"}, \"bgcolor\": \"#E5ECF6\", \"radialaxis\": {\"gridcolor\": \"white\", \"linecolor\": \"white\", \"ticks\": \"\"}}, \"scene\": {\"xaxis\": {\"backgroundcolor\": \"#E5ECF6\", \"gridcolor\": \"white\", \"gridwidth\": 2, \"linecolor\": \"white\", \"showbackground\": true, \"ticks\": \"\", \"zerolinecolor\": \"white\"}, \"yaxis\": {\"backgroundcolor\": \"#E5ECF6\", \"gridcolor\": \"white\", \"gridwidth\": 2, \"linecolor\": \"white\", \"showbackground\": true, \"ticks\": \"\", \"zerolinecolor\": \"white\"}, \"zaxis\": {\"backgroundcolor\": \"#E5ECF6\", \"gridcolor\": \"white\", \"gridwidth\": 2, \"linecolor\": \"white\", \"showbackground\": true, \"ticks\": \"\", \"zerolinecolor\": \"white\"}}, \"shapedefaults\": {\"line\": {\"color\": \"#2a3f5f\"}}, \"ternary\": {\"aaxis\": {\"gridcolor\": \"white\", \"linecolor\": \"white\", \"ticks\": \"\"}, \"baxis\": {\"gridcolor\": \"white\", \"linecolor\": \"white\", \"ticks\": \"\"}, \"bgcolor\": \"#E5ECF6\", \"caxis\": {\"gridcolor\": \"white\", \"linecolor\": \"white\", \"ticks\": \"\"}}, \"title\": {\"x\": 0.05}, \"xaxis\": {\"automargin\": true, \"gridcolor\": \"white\", \"linecolor\": \"white\", \"ticks\": \"\", \"title\": {\"standoff\": 15}, \"zerolinecolor\": \"white\", \"zerolinewidth\": 2}, \"yaxis\": {\"automargin\": true, \"gridcolor\": \"white\", \"linecolor\": \"white\", \"ticks\": \"\", \"title\": {\"standoff\": 15}, \"zerolinecolor\": \"white\", \"zerolinewidth\": 2}}}, \"title\": {\"text\": \"Deaths Heat Map (Log Scale)\"}},\n",
       "                        {\"responsive\": true}\n",
       "                    ).then(function(){\n",
       "                            \n",
       "var gd = document.getElementById('f203ea81-d3ba-4a47-b393-f82e5f40894d');\n",
       "var x = new MutationObserver(function (mutations, observer) {{\n",
       "        var display = window.getComputedStyle(gd).display;\n",
       "        if (!display || display === 'none') {{\n",
       "            console.log([gd, 'removed!']);\n",
       "            Plotly.purge(gd);\n",
       "            observer.disconnect();\n",
       "        }}\n",
       "}});\n",
       "\n",
       "// Listen for the removal of the full notebook cells\n",
       "var notebookContainer = gd.closest('#notebook-container');\n",
       "if (notebookContainer) {{\n",
       "    x.observe(notebookContainer, {childList: true});\n",
       "}}\n",
       "\n",
       "// Listen for the clearing of the current output cell\n",
       "var outputEl = gd.closest('.output');\n",
       "if (outputEl) {{\n",
       "    x.observe(outputEl, {childList: true});\n",
       "}}\n",
       "\n",
       "                        })\n",
       "                };\n",
       "                });\n",
       "            </script>\n",
       "        </div>"
      ]
     },
     "metadata": {},
     "output_type": "display_data"
    }
   ],
   "source": [
    "temp_df = pd.DataFrame(df_countries_cases['Deaths'])\n",
    "temp_df = temp_df.reset_index()\n",
    "fig = px.choropleth(temp_df, locations=\"country\",\n",
    "                    color=np.log10(temp_df[\"Deaths\"]+1), # lifeExp is a column of gapminder\n",
    "                    hover_name=\"country\", # column to add to hover information\n",
    "                    hover_data=[\"Deaths\"],\n",
    "                    color_continuous_scale=px.colors.sequential.Plasma,locationmode=\"country names\")\n",
    "fig.update_geos(fitbounds=\"locations\", visible=False)\n",
    "fig.update_layout(title_text=\"Deaths Heat Map (Log Scale)\")\n",
    "fig.update_coloraxes(colorbar_title=\"Deaths (Log Scale)\",colorscale=\"Reds\")\n",
    "# fig.to_image(\"Global Heat Map deaths.png\")\n",
    "fig.show()"
   ]
  },
  {
   "cell_type": "code",
   "execution_count": null,
   "metadata": {},
   "outputs": [],
   "source": [
    "RECOVERED CASES - HEAT MAP"
   ]
  },
  {
   "cell_type": "code",
   "execution_count": 124,
   "metadata": {},
   "outputs": [
    {
     "data": {
      "application/vnd.plotly.v1+json": {
       "config": {
        "plotlyServerURL": "https://plot.ly"
       },
       "data": [
        {
         "coloraxis": "coloraxis",
         "customdata": [
          [
           29089
          ],
          [
           5020
          ],
          [
           30717
          ],
          [
           902
          ],
          [
           1041
          ],
          [
           89
          ],
          [
           287220
          ],
          [
           37650
          ],
          [
           21114
          ],
          [
           22866
          ],
          [
           33576
          ],
          [
           782
          ],
          [
           48275
          ],
          [
           198863
          ],
          [
           141
          ],
          [
           70207
          ],
          [
           18403
          ],
          [
           115
          ],
          [
           1738
          ],
          [
           135
          ],
          [
           56749
          ],
          [
           12858
          ],
          [
           199
          ],
          [
           3202185
          ],
          [
           139
          ],
          [
           11253
          ],
          [
           1058
          ],
          [
           351
          ],
          [
           357
          ],
          [
           2855
          ],
          [
           265
          ],
          [
           17651
          ],
          [
           115294
          ],
          [
           1784
          ],
          [
           878
          ],
          [
           381183
          ],
          [
           84484
          ],
          [
           440562
          ],
          [
           399
          ],
          [
           1742
          ],
          [
           9068
          ],
          [
           15737
          ],
          [
           16440
          ],
          [
           7212
          ],
          [
           3273
          ],
          [
           935
          ],
          [
           17541
          ],
          [
           15365
          ],
          [
           651
          ],
          [
           5314
          ],
          [
           18
          ],
          [
           66320
          ],
          [
           95429
          ],
          [
           71302
          ],
          [
           14013
          ],
          [
           3884
          ],
          [
           284
          ],
          [
           2088
          ],
          [
           3359
          ],
          [
           18116
          ],
          [
           23
          ],
          [
           7200
          ],
          [
           86495
          ],
          [
           7187
          ],
          [
           751
          ],
          [
           1221
          ],
          [
           215247
          ],
          [
           42581
          ],
          [
           1347
          ],
          [
           24
          ],
          [
           61163
          ],
          [
           8282
          ],
          [
           1127
          ],
          [
           636
          ],
          [
           5743
          ],
          [
           12
          ],
          [
           10156
          ],
          [
           3759
          ],
          [
           1979
          ],
          [
           2713933
          ],
          [
           122802
          ],
          [
           319847
          ],
          [
           169020
          ],
          [
           23364
          ],
          [
           92587
          ],
          [
           208224
          ],
          [
           890
          ],
          [
           54883
          ],
          [
           1447
          ],
          [
           96135
          ],
          [
           19590
          ],
          [
           14903
          ],
          [
           8788
          ],
          [
           75993
          ],
          [
           38198
          ],
          [
           21
          ],
          [
           1163
          ],
          [
           4484
          ],
          [
           526
          ],
          [
           872
          ],
          [
           1333
          ],
          [
           97
          ],
          [
           1833
          ],
          [
           7140
          ],
          [
           0
          ],
          [
           13753
          ],
          [
           3143
          ],
          [
           9038
          ],
          [
           4925
          ],
          [
           2121
          ],
          [
           1244
          ],
          [
           6407
          ],
          [
           335
          ],
          [
           484283
          ],
          [
           25139
          ],
          [
           116
          ],
          [
           295
          ],
          [
           3839
          ],
          [
           44618
          ],
          [
           2078
          ],
          [
           2817
          ],
          [
           20555
          ],
          [
           986
          ],
          [
           1570
          ],
          [
           2913
          ],
          [
           1085
          ],
          [
           41314
          ],
          [
           11014
          ],
          [
           9348
          ],
          [
           79608
          ],
          [
           280547
          ],
          [
           65119
          ],
          [
           232
          ],
          [
           8854
          ],
          [
           438017
          ],
          [
           135101
          ],
          [
           45536
          ],
          [
           41766
          ],
          [
           115251
          ],
          [
           37388
          ],
          [
           804941
          ],
          [
           1904
          ],
          [
           17
          ],
          [
           25
          ],
          [
           57
          ],
          [
           658
          ],
          [
           848
          ],
          [
           288441
          ],
          [
           9233
          ],
          [
           0
          ],
          [
           127
          ],
          [
           1591
          ],
          [
           55447
          ],
          [
           2254
          ],
          [
           2268
          ],
          [
           2481
          ],
          [
           536694
          ],
          [
           1290
          ],
          [
           150376
          ],
          [
           2860
          ],
          [
           6612
          ],
          [
           2991
          ],
          [
           0
          ],
          [
           35200
          ],
          [
           599
          ],
          [
           462
          ],
          [
           7309
          ],
          [
           183
          ],
          [
           3252
          ],
          [
           25
          ],
          [
           990
          ],
          [
           894
          ],
          [
           1536
          ],
          [
           242812
          ],
          [
           2140614
          ],
          [
           1288
          ],
          [
           58775
          ],
          [
           60202
          ],
          [
           1622
          ],
          [
           1364
          ],
          [
           38359
          ],
          [
           36175
          ],
          [
           677
          ],
          [
           14631
          ],
          [
           8
          ],
          [
           1113
          ],
          [
           11092
          ],
          [
           5056
          ]
         ],
         "geo": "geo",
         "hovertemplate": "<b>%{hovertext}</b><br><br>country=%{location}<br>Recovered=%{customdata[0]}<br>color=%{z}<extra></extra>",
         "hovertext": [
          "Afghanistan",
          "Albania",
          "Algeria",
          "Andorra",
          "Angola",
          "Antigua and Barbuda",
          "Argentina",
          "Armenia",
          "Australia",
          "Austria",
          "Azerbaijan",
          "Bahamas",
          "Bahrain",
          "Bangladesh",
          "Barbados",
          "Belarus",
          "Belgium",
          "Belize",
          "Benin",
          "Bhutan",
          "Bolivia",
          "Bosnia and Herzegovina",
          "Botswana",
          "Brazil",
          "Brunei",
          "Bulgaria",
          "Burkina Faso",
          "Burma",
          "Burundi",
          "Cabo Verde",
          "Cambodia",
          "Cameroon",
          "Canada",
          "Central African Republic",
          "Chad",
          "Chile",
          "China",
          "Colombia",
          "Comoros",
          "Congo (Brazzaville)",
          "Congo (Kinshasa)",
          "Costa Rica",
          "Cote d'Ivoire",
          "Croatia",
          "Cuba",
          "Cyprus",
          "Czechia",
          "Denmark",
          "Diamond Princess",
          "Djibouti",
          "Dominica",
          "Dominican Republic",
          "Ecuador",
          "Egypt",
          "El Salvador",
          "Equatorial Guinea",
          "Eritrea",
          "Estonia",
          "Eswatini",
          "Ethiopia",
          "Fiji",
          "Finland",
          "France",
          "Gabon",
          "Gambia",
          "Georgia",
          "Germany",
          "Ghana",
          "Greece",
          "Grenada",
          "Guatemala",
          "Guinea",
          "Guinea-Bissau",
          "Guyana",
          "Haiti",
          "Holy See",
          "Honduras",
          "Hungary",
          "Iceland",
          "India",
          "Indonesia",
          "Iran",
          "Iraq",
          "Ireland",
          "Israel",
          "Italy",
          "Jamaica",
          "Japan",
          "Jordan",
          "Kazakhstan",
          "Kenya",
          "Korea, South",
          "Kosovo",
          "Kuwait",
          "Kyrgyzstan",
          "Laos",
          "Latvia",
          "Lebanon",
          "Lesotho",
          "Liberia",
          "Libya",
          "Liechtenstein",
          "Lithuania",
          "Luxembourg",
          "MS Zaandam",
          "Madagascar",
          "Malawi",
          "Malaysia",
          "Maldives",
          "Mali",
          "Malta",
          "Mauritania",
          "Mauritius",
          "Mexico",
          "Moldova",
          "Monaco",
          "Mongolia",
          "Montenegro",
          "Morocco",
          "Mozambique",
          "Namibia",
          "Nepal",
          "Netherlands",
          "New Zealand",
          "Nicaragua",
          "Niger",
          "Nigeria",
          "North Macedonia",
          "Norway",
          "Oman",
          "Pakistan",
          "Panama",
          "Papua New Guinea",
          "Paraguay",
          "Peru",
          "Philippines",
          "Poland",
          "Portugal",
          "Qatar",
          "Romania",
          "Russia",
          "Rwanda",
          "Saint Kitts and Nevis",
          "Saint Lucia",
          "Saint Vincent and the Grenadines",
          "San Marino",
          "Sao Tome and Principe",
          "Saudi Arabia",
          "Senegal",
          "Serbia",
          "Seychelles",
          "Sierra Leone",
          "Singapore",
          "Slovakia",
          "Slovenia",
          "Somalia",
          "South Africa",
          "South Sudan",
          "Spain",
          "Sri Lanka",
          "Sudan",
          "Suriname",
          "Sweden",
          "Switzerland",
          "Syria",
          "Taiwan*",
          "Tajikistan",
          "Tanzania",
          "Thailand",
          "Timor-Leste",
          "Togo",
          "Trinidad and Tobago",
          "Tunisia",
          "Turkey",
          "US",
          "Uganda",
          "Ukraine",
          "United Arab Emirates",
          "United Kingdom",
          "Uruguay",
          "Uzbekistan",
          "Venezuela",
          "Vietnam",
          "West Bank and Gaza",
          "Western Sahara",
          "Yemen",
          "Zambia",
          "Zimbabwe"
         ],
         "locationmode": "country names",
         "locations": [
          "Afghanistan",
          "Albania",
          "Algeria",
          "Andorra",
          "Angola",
          "Antigua and Barbuda",
          "Argentina",
          "Armenia",
          "Australia",
          "Austria",
          "Azerbaijan",
          "Bahamas",
          "Bahrain",
          "Bangladesh",
          "Barbados",
          "Belarus",
          "Belgium",
          "Belize",
          "Benin",
          "Bhutan",
          "Bolivia",
          "Bosnia and Herzegovina",
          "Botswana",
          "Brazil",
          "Brunei",
          "Bulgaria",
          "Burkina Faso",
          "Burma",
          "Burundi",
          "Cabo Verde",
          "Cambodia",
          "Cameroon",
          "Canada",
          "Central African Republic",
          "Chad",
          "Chile",
          "China",
          "Colombia",
          "Comoros",
          "Congo (Brazzaville)",
          "Congo (Kinshasa)",
          "Costa Rica",
          "Cote d'Ivoire",
          "Croatia",
          "Cuba",
          "Cyprus",
          "Czechia",
          "Denmark",
          "Diamond Princess",
          "Djibouti",
          "Dominica",
          "Dominican Republic",
          "Ecuador",
          "Egypt",
          "El Salvador",
          "Equatorial Guinea",
          "Eritrea",
          "Estonia",
          "Eswatini",
          "Ethiopia",
          "Fiji",
          "Finland",
          "France",
          "Gabon",
          "Gambia",
          "Georgia",
          "Germany",
          "Ghana",
          "Greece",
          "Grenada",
          "Guatemala",
          "Guinea",
          "Guinea-Bissau",
          "Guyana",
          "Haiti",
          "Holy See",
          "Honduras",
          "Hungary",
          "Iceland",
          "India",
          "Indonesia",
          "Iran",
          "Iraq",
          "Ireland",
          "Israel",
          "Italy",
          "Jamaica",
          "Japan",
          "Jordan",
          "Kazakhstan",
          "Kenya",
          "Korea, South",
          "Kosovo",
          "Kuwait",
          "Kyrgyzstan",
          "Laos",
          "Latvia",
          "Lebanon",
          "Lesotho",
          "Liberia",
          "Libya",
          "Liechtenstein",
          "Lithuania",
          "Luxembourg",
          "MS Zaandam",
          "Madagascar",
          "Malawi",
          "Malaysia",
          "Maldives",
          "Mali",
          "Malta",
          "Mauritania",
          "Mauritius",
          "Mexico",
          "Moldova",
          "Monaco",
          "Mongolia",
          "Montenegro",
          "Morocco",
          "Mozambique",
          "Namibia",
          "Nepal",
          "Netherlands",
          "New Zealand",
          "Nicaragua",
          "Niger",
          "Nigeria",
          "North Macedonia",
          "Norway",
          "Oman",
          "Pakistan",
          "Panama",
          "Papua New Guinea",
          "Paraguay",
          "Peru",
          "Philippines",
          "Poland",
          "Portugal",
          "Qatar",
          "Romania",
          "Russia",
          "Rwanda",
          "Saint Kitts and Nevis",
          "Saint Lucia",
          "Saint Vincent and the Grenadines",
          "San Marino",
          "Sao Tome and Principe",
          "Saudi Arabia",
          "Senegal",
          "Serbia",
          "Seychelles",
          "Sierra Leone",
          "Singapore",
          "Slovakia",
          "Slovenia",
          "Somalia",
          "South Africa",
          "South Sudan",
          "Spain",
          "Sri Lanka",
          "Sudan",
          "Suriname",
          "Sweden",
          "Switzerland",
          "Syria",
          "Taiwan*",
          "Tajikistan",
          "Tanzania",
          "Thailand",
          "Timor-Leste",
          "Togo",
          "Trinidad and Tobago",
          "Tunisia",
          "Turkey",
          "US",
          "Uganda",
          "Ukraine",
          "United Arab Emirates",
          "United Kingdom",
          "Uruguay",
          "Uzbekistan",
          "Venezuela",
          "Vietnam",
          "West Bank and Gaza",
          "Western Sahara",
          "Yemen",
          "Zambia",
          "Zimbabwe"
         ],
         "name": "",
         "type": "choropleth",
         "z": [
          4.463743721247059,
          3.700790221374347,
          4.487392936058712,
          2.9556877503135057,
          3.0178677189635055,
          1.954242509439325,
          5.458216189925079,
          4.575776515429534,
          4.324591085760926,
          4.359209191764298,
          4.526041890680879,
          2.8937617620579434,
          4.683731278618886,
          5.298556170673881,
          2.1522883443830563,
          4.846386601558598,
          4.264912224592758,
          2.0644579892269186,
          3.2402995820027125,
          2.1335389083702174,
          4.75396586586516,
          4.109207196320066,
          2.3010299956639813,
          6.505446554450101,
          2.146128035678238,
          4.051306910817974,
          3.024895960107485,
          2.546542663478131,
          2.5538830266438746,
          3.455758203104137,
          2.424881636631067,
          4.246793918775155,
          5.061810473647744,
          3.251638220448212,
          2.9439888750737717,
          5.5811346630640255,
          4.926779608411234,
          5.644008020798017,
          2.6020599913279625,
          3.2412973871099933,
          3.9575594018974796,
          4.196949540973997,
          4.215928229339918,
          3.858115932190066,
          3.5150786750759226,
          2.971275848738105,
          4.244079106672388,
          4.186560828852073,
          2.81424759573192,
          3.7255032688593155,
          1.2787536009528289,
          4.821651065962116,
          4.979684923827026,
          4.853107802727554,
          4.1465621131575565,
          3.5893910231369333,
          2.45484486000851,
          3.3199384399803087,
          3.526339277389844,
          4.258086284327979,
          1.380211241711606,
          3.8573928109209015,
          4.936996024018631,
          3.856608068436936,
          2.876217840591642,
          3.0870712059065353,
          5.332939124850435,
          4.629226055612531,
          3.129689892199301,
          1.3979400086720377,
          4.786495879636333,
          3.9181876613589255,
          3.0523090996473234,
          2.8041394323353503,
          3.759214431234244,
          1.1139433523068367,
          4.006765452451993,
          3.575187844927661,
          3.296665190261531,
          6.433599281870389,
          5.089208976475599,
          5.504943639431636,
          5.2279406668475685,
          4.368565785360332,
          4.9665547029725134,
          5.318532870756846,
          2.949877704036875,
          4.739445755661932,
          3.1607685618611283,
          4.982886048164303,
          4.292056604621469,
          4.173302841888186,
          3.9439394644722165,
          4.880779304520844,
          4.5820519937974025,
          1.3424226808222062,
          3.06595298031387,
          3.651762447380111,
          2.7218106152125467,
          2.9410142437055695,
          3.12515582958053,
          1.9912260756924949,
          3.263399331334002,
          3.853759033074769,
          0,
          4.138429020006003,
          3.4974825373673704,
          3.9561203863930197,
          3.6924944075030846,
          3.3267453795653217,
          3.095169351431755,
          3.8067225030761813,
          2.526339277389844,
          5.685100120860505,
          4.400365273349939,
          2.0681858617461617,
          2.4712917110589387,
          3.584331224367531,
          4.649519832658967,
          3.317854489331469,
          3.4499409887733377,
          4.312938609013135,
          2.9943171526696366,
          3.1961761850399735,
          3.4644895474339714,
          3.035829825252828,
          4.616107757092463,
          4.041984501486787,
          3.970765159780768,
          4.90096216860937,
          5.4480071770064695,
          4.8137143918811445,
          2.367355921026019,
          3.9471885655260937,
          5.64149195785581,
          5.130661778204375,
          4.658364415687071,
          4.6208332822980225,
          5.0616484705599705,
          4.5727438497412844,
          5.905764588458021,
          3.279894980011638,
          1.255272505103306,
          1.414973347970818,
          1.7634279935629373,
          2.8188854145940097,
          2.928907690243953,
          5.4600584982117,
          3.9653898702151222,
          0,
          2.1072099696478683,
          3.20194306340165,
          4.743885885839037,
          3.3531465462139796,
          3.355834495884936,
          3.394801777162711,
          5.7297275492976105,
          3.1109262422664203,
          5.1771814164622,
          3.4565178578052627,
          3.820398522703982,
          3.4759615891924236,
          0,
          4.546555001214298,
          2.7781512503836434,
          2.6655809910179533,
          3.8639173769578603,
          2.2648178230095364,
          3.5122840632818537,
          1.414973347970818,
          2.9960736544852753,
          2.951823035315912,
          3.1866738674997452,
          5.385271934780179,
          6.330538564346844,
          3.110252917353403,
          4.76920002683632,
          4.77961813330073,
          3.210318519826232,
          3.1351326513767748,
          4.583878598498626,
          4.558420545001285,
          2.8312296938670634,
          4.165303692468361,
          0.9542425094393249,
          3.04688519083771,
          4.045049012988961,
          3.7038929536325447
         ]
        }
       ],
       "layout": {
        "coloraxis": {
         "colorbar": {
          "title": {
           "text": "Recovered"
          }
         },
         "colorscale": [
          [
           0,
           "rgb(247,252,245)"
          ],
          [
           0.125,
           "rgb(229,245,224)"
          ],
          [
           0.25,
           "rgb(199,233,192)"
          ],
          [
           0.375,
           "rgb(161,217,155)"
          ],
          [
           0.5,
           "rgb(116,196,118)"
          ],
          [
           0.625,
           "rgb(65,171,93)"
          ],
          [
           0.75,
           "rgb(35,139,69)"
          ],
          [
           0.875,
           "rgb(0,109,44)"
          ],
          [
           1,
           "rgb(0,68,27)"
          ]
         ]
        },
        "geo": {
         "center": {},
         "domain": {
          "x": [
           0,
           1
          ],
          "y": [
           0,
           1
          ]
         },
         "fitbounds": "locations",
         "visible": false
        },
        "legend": {
         "tracegroupgap": 0
        },
        "margin": {
         "t": 60
        },
        "template": {
         "data": {
          "bar": [
           {
            "error_x": {
             "color": "#2a3f5f"
            },
            "error_y": {
             "color": "#2a3f5f"
            },
            "marker": {
             "line": {
              "color": "#E5ECF6",
              "width": 0.5
             }
            },
            "type": "bar"
           }
          ],
          "barpolar": [
           {
            "marker": {
             "line": {
              "color": "#E5ECF6",
              "width": 0.5
             }
            },
            "type": "barpolar"
           }
          ],
          "carpet": [
           {
            "aaxis": {
             "endlinecolor": "#2a3f5f",
             "gridcolor": "white",
             "linecolor": "white",
             "minorgridcolor": "white",
             "startlinecolor": "#2a3f5f"
            },
            "baxis": {
             "endlinecolor": "#2a3f5f",
             "gridcolor": "white",
             "linecolor": "white",
             "minorgridcolor": "white",
             "startlinecolor": "#2a3f5f"
            },
            "type": "carpet"
           }
          ],
          "choropleth": [
           {
            "colorbar": {
             "outlinewidth": 0,
             "ticks": ""
            },
            "type": "choropleth"
           }
          ],
          "contour": [
           {
            "colorbar": {
             "outlinewidth": 0,
             "ticks": ""
            },
            "colorscale": [
             [
              0,
              "#0d0887"
             ],
             [
              0.1111111111111111,
              "#46039f"
             ],
             [
              0.2222222222222222,
              "#7201a8"
             ],
             [
              0.3333333333333333,
              "#9c179e"
             ],
             [
              0.4444444444444444,
              "#bd3786"
             ],
             [
              0.5555555555555556,
              "#d8576b"
             ],
             [
              0.6666666666666666,
              "#ed7953"
             ],
             [
              0.7777777777777778,
              "#fb9f3a"
             ],
             [
              0.8888888888888888,
              "#fdca26"
             ],
             [
              1,
              "#f0f921"
             ]
            ],
            "type": "contour"
           }
          ],
          "contourcarpet": [
           {
            "colorbar": {
             "outlinewidth": 0,
             "ticks": ""
            },
            "type": "contourcarpet"
           }
          ],
          "heatmap": [
           {
            "colorbar": {
             "outlinewidth": 0,
             "ticks": ""
            },
            "colorscale": [
             [
              0,
              "#0d0887"
             ],
             [
              0.1111111111111111,
              "#46039f"
             ],
             [
              0.2222222222222222,
              "#7201a8"
             ],
             [
              0.3333333333333333,
              "#9c179e"
             ],
             [
              0.4444444444444444,
              "#bd3786"
             ],
             [
              0.5555555555555556,
              "#d8576b"
             ],
             [
              0.6666666666666666,
              "#ed7953"
             ],
             [
              0.7777777777777778,
              "#fb9f3a"
             ],
             [
              0.8888888888888888,
              "#fdca26"
             ],
             [
              1,
              "#f0f921"
             ]
            ],
            "type": "heatmap"
           }
          ],
          "heatmapgl": [
           {
            "colorbar": {
             "outlinewidth": 0,
             "ticks": ""
            },
            "colorscale": [
             [
              0,
              "#0d0887"
             ],
             [
              0.1111111111111111,
              "#46039f"
             ],
             [
              0.2222222222222222,
              "#7201a8"
             ],
             [
              0.3333333333333333,
              "#9c179e"
             ],
             [
              0.4444444444444444,
              "#bd3786"
             ],
             [
              0.5555555555555556,
              "#d8576b"
             ],
             [
              0.6666666666666666,
              "#ed7953"
             ],
             [
              0.7777777777777778,
              "#fb9f3a"
             ],
             [
              0.8888888888888888,
              "#fdca26"
             ],
             [
              1,
              "#f0f921"
             ]
            ],
            "type": "heatmapgl"
           }
          ],
          "histogram": [
           {
            "marker": {
             "colorbar": {
              "outlinewidth": 0,
              "ticks": ""
             }
            },
            "type": "histogram"
           }
          ],
          "histogram2d": [
           {
            "colorbar": {
             "outlinewidth": 0,
             "ticks": ""
            },
            "colorscale": [
             [
              0,
              "#0d0887"
             ],
             [
              0.1111111111111111,
              "#46039f"
             ],
             [
              0.2222222222222222,
              "#7201a8"
             ],
             [
              0.3333333333333333,
              "#9c179e"
             ],
             [
              0.4444444444444444,
              "#bd3786"
             ],
             [
              0.5555555555555556,
              "#d8576b"
             ],
             [
              0.6666666666666666,
              "#ed7953"
             ],
             [
              0.7777777777777778,
              "#fb9f3a"
             ],
             [
              0.8888888888888888,
              "#fdca26"
             ],
             [
              1,
              "#f0f921"
             ]
            ],
            "type": "histogram2d"
           }
          ],
          "histogram2dcontour": [
           {
            "colorbar": {
             "outlinewidth": 0,
             "ticks": ""
            },
            "colorscale": [
             [
              0,
              "#0d0887"
             ],
             [
              0.1111111111111111,
              "#46039f"
             ],
             [
              0.2222222222222222,
              "#7201a8"
             ],
             [
              0.3333333333333333,
              "#9c179e"
             ],
             [
              0.4444444444444444,
              "#bd3786"
             ],
             [
              0.5555555555555556,
              "#d8576b"
             ],
             [
              0.6666666666666666,
              "#ed7953"
             ],
             [
              0.7777777777777778,
              "#fb9f3a"
             ],
             [
              0.8888888888888888,
              "#fdca26"
             ],
             [
              1,
              "#f0f921"
             ]
            ],
            "type": "histogram2dcontour"
           }
          ],
          "mesh3d": [
           {
            "colorbar": {
             "outlinewidth": 0,
             "ticks": ""
            },
            "type": "mesh3d"
           }
          ],
          "parcoords": [
           {
            "line": {
             "colorbar": {
              "outlinewidth": 0,
              "ticks": ""
             }
            },
            "type": "parcoords"
           }
          ],
          "pie": [
           {
            "automargin": true,
            "type": "pie"
           }
          ],
          "scatter": [
           {
            "marker": {
             "colorbar": {
              "outlinewidth": 0,
              "ticks": ""
             }
            },
            "type": "scatter"
           }
          ],
          "scatter3d": [
           {
            "line": {
             "colorbar": {
              "outlinewidth": 0,
              "ticks": ""
             }
            },
            "marker": {
             "colorbar": {
              "outlinewidth": 0,
              "ticks": ""
             }
            },
            "type": "scatter3d"
           }
          ],
          "scattercarpet": [
           {
            "marker": {
             "colorbar": {
              "outlinewidth": 0,
              "ticks": ""
             }
            },
            "type": "scattercarpet"
           }
          ],
          "scattergeo": [
           {
            "marker": {
             "colorbar": {
              "outlinewidth": 0,
              "ticks": ""
             }
            },
            "type": "scattergeo"
           }
          ],
          "scattergl": [
           {
            "marker": {
             "colorbar": {
              "outlinewidth": 0,
              "ticks": ""
             }
            },
            "type": "scattergl"
           }
          ],
          "scattermapbox": [
           {
            "marker": {
             "colorbar": {
              "outlinewidth": 0,
              "ticks": ""
             }
            },
            "type": "scattermapbox"
           }
          ],
          "scatterpolar": [
           {
            "marker": {
             "colorbar": {
              "outlinewidth": 0,
              "ticks": ""
             }
            },
            "type": "scatterpolar"
           }
          ],
          "scatterpolargl": [
           {
            "marker": {
             "colorbar": {
              "outlinewidth": 0,
              "ticks": ""
             }
            },
            "type": "scatterpolargl"
           }
          ],
          "scatterternary": [
           {
            "marker": {
             "colorbar": {
              "outlinewidth": 0,
              "ticks": ""
             }
            },
            "type": "scatterternary"
           }
          ],
          "surface": [
           {
            "colorbar": {
             "outlinewidth": 0,
             "ticks": ""
            },
            "colorscale": [
             [
              0,
              "#0d0887"
             ],
             [
              0.1111111111111111,
              "#46039f"
             ],
             [
              0.2222222222222222,
              "#7201a8"
             ],
             [
              0.3333333333333333,
              "#9c179e"
             ],
             [
              0.4444444444444444,
              "#bd3786"
             ],
             [
              0.5555555555555556,
              "#d8576b"
             ],
             [
              0.6666666666666666,
              "#ed7953"
             ],
             [
              0.7777777777777778,
              "#fb9f3a"
             ],
             [
              0.8888888888888888,
              "#fdca26"
             ],
             [
              1,
              "#f0f921"
             ]
            ],
            "type": "surface"
           }
          ],
          "table": [
           {
            "cells": {
             "fill": {
              "color": "#EBF0F8"
             },
             "line": {
              "color": "white"
             }
            },
            "header": {
             "fill": {
              "color": "#C8D4E3"
             },
             "line": {
              "color": "white"
             }
            },
            "type": "table"
           }
          ]
         },
         "layout": {
          "annotationdefaults": {
           "arrowcolor": "#2a3f5f",
           "arrowhead": 0,
           "arrowwidth": 1
          },
          "coloraxis": {
           "colorbar": {
            "outlinewidth": 0,
            "ticks": ""
           }
          },
          "colorscale": {
           "diverging": [
            [
             0,
             "#8e0152"
            ],
            [
             0.1,
             "#c51b7d"
            ],
            [
             0.2,
             "#de77ae"
            ],
            [
             0.3,
             "#f1b6da"
            ],
            [
             0.4,
             "#fde0ef"
            ],
            [
             0.5,
             "#f7f7f7"
            ],
            [
             0.6,
             "#e6f5d0"
            ],
            [
             0.7,
             "#b8e186"
            ],
            [
             0.8,
             "#7fbc41"
            ],
            [
             0.9,
             "#4d9221"
            ],
            [
             1,
             "#276419"
            ]
           ],
           "sequential": [
            [
             0,
             "#0d0887"
            ],
            [
             0.1111111111111111,
             "#46039f"
            ],
            [
             0.2222222222222222,
             "#7201a8"
            ],
            [
             0.3333333333333333,
             "#9c179e"
            ],
            [
             0.4444444444444444,
             "#bd3786"
            ],
            [
             0.5555555555555556,
             "#d8576b"
            ],
            [
             0.6666666666666666,
             "#ed7953"
            ],
            [
             0.7777777777777778,
             "#fb9f3a"
            ],
            [
             0.8888888888888888,
             "#fdca26"
            ],
            [
             1,
             "#f0f921"
            ]
           ],
           "sequentialminus": [
            [
             0,
             "#0d0887"
            ],
            [
             0.1111111111111111,
             "#46039f"
            ],
            [
             0.2222222222222222,
             "#7201a8"
            ],
            [
             0.3333333333333333,
             "#9c179e"
            ],
            [
             0.4444444444444444,
             "#bd3786"
            ],
            [
             0.5555555555555556,
             "#d8576b"
            ],
            [
             0.6666666666666666,
             "#ed7953"
            ],
            [
             0.7777777777777778,
             "#fb9f3a"
            ],
            [
             0.8888888888888888,
             "#fdca26"
            ],
            [
             1,
             "#f0f921"
            ]
           ]
          },
          "colorway": [
           "#636efa",
           "#EF553B",
           "#00cc96",
           "#ab63fa",
           "#FFA15A",
           "#19d3f3",
           "#FF6692",
           "#B6E880",
           "#FF97FF",
           "#FECB52"
          ],
          "font": {
           "color": "#2a3f5f"
          },
          "geo": {
           "bgcolor": "white",
           "lakecolor": "white",
           "landcolor": "#E5ECF6",
           "showlakes": true,
           "showland": true,
           "subunitcolor": "white"
          },
          "hoverlabel": {
           "align": "left"
          },
          "hovermode": "closest",
          "mapbox": {
           "style": "light"
          },
          "paper_bgcolor": "white",
          "plot_bgcolor": "#E5ECF6",
          "polar": {
           "angularaxis": {
            "gridcolor": "white",
            "linecolor": "white",
            "ticks": ""
           },
           "bgcolor": "#E5ECF6",
           "radialaxis": {
            "gridcolor": "white",
            "linecolor": "white",
            "ticks": ""
           }
          },
          "scene": {
           "xaxis": {
            "backgroundcolor": "#E5ECF6",
            "gridcolor": "white",
            "gridwidth": 2,
            "linecolor": "white",
            "showbackground": true,
            "ticks": "",
            "zerolinecolor": "white"
           },
           "yaxis": {
            "backgroundcolor": "#E5ECF6",
            "gridcolor": "white",
            "gridwidth": 2,
            "linecolor": "white",
            "showbackground": true,
            "ticks": "",
            "zerolinecolor": "white"
           },
           "zaxis": {
            "backgroundcolor": "#E5ECF6",
            "gridcolor": "white",
            "gridwidth": 2,
            "linecolor": "white",
            "showbackground": true,
            "ticks": "",
            "zerolinecolor": "white"
           }
          },
          "shapedefaults": {
           "line": {
            "color": "#2a3f5f"
           }
          },
          "ternary": {
           "aaxis": {
            "gridcolor": "white",
            "linecolor": "white",
            "ticks": ""
           },
           "baxis": {
            "gridcolor": "white",
            "linecolor": "white",
            "ticks": ""
           },
           "bgcolor": "#E5ECF6",
           "caxis": {
            "gridcolor": "white",
            "linecolor": "white",
            "ticks": ""
           }
          },
          "title": {
           "x": 0.05
          },
          "xaxis": {
           "automargin": true,
           "gridcolor": "white",
           "linecolor": "white",
           "ticks": "",
           "title": {
            "standoff": 15
           },
           "zerolinecolor": "white",
           "zerolinewidth": 2
          },
          "yaxis": {
           "automargin": true,
           "gridcolor": "white",
           "linecolor": "white",
           "ticks": "",
           "title": {
            "standoff": 15
           },
           "zerolinecolor": "white",
           "zerolinewidth": 2
          }
         }
        },
        "title": {
         "text": "Recovered Heat Map (Log Scale)"
        }
       }
      },
      "text/html": [
       "<div>\n",
       "        \n",
       "        \n",
       "            <div id=\"db45c547-7973-46fd-893b-c2f34b236379\" class=\"plotly-graph-div\" style=\"height:525px; width:100%;\"></div>\n",
       "            <script type=\"text/javascript\">\n",
       "                require([\"plotly\"], function(Plotly) {\n",
       "                    window.PLOTLYENV=window.PLOTLYENV || {};\n",
       "                    \n",
       "                if (document.getElementById(\"db45c547-7973-46fd-893b-c2f34b236379\")) {\n",
       "                    Plotly.newPlot(\n",
       "                        'db45c547-7973-46fd-893b-c2f34b236379',\n",
       "                        [{\"coloraxis\": \"coloraxis\", \"customdata\": [[29089.0], [5020.0], [30717.0], [902.0], [1041.0], [89.0], [287220.0], [37650.0], [21114.0], [22866.0], [33576.0], [782.0], [48275.0], [198863.0], [141.0], [70207.0], [18403.0], [115.0], [1738.0], [135.0], [56749.0], [12858.0], [199.0], [3202185.0], [139.0], [11253.0], [1058.0], [351.0], [357.0], [2855.0], [265.0], [17651.0], [115294.0], [1784.0], [878.0], [381183.0], [84484.0], [440562.0], [399.0], [1742.0], [9068.0], [15737.0], [16440.0], [7212.0], [3273.0], [935.0], [17541.0], [15365.0], [651.0], [5314.0], [18.0], [66320.0], [95429.0], [71302.0], [14013.0], [3884.0], [284.0], [2088.0], [3359.0], [18116.0], [23.0], [7200.0], [86495.0], [7187.0], [751.0], [1221.0], [215247.0], [42581.0], [1347.0], [24.0], [61163.0], [8282.0], [1127.0], [636.0], [5743.0], [12.0], [10156.0], [3759.0], [1979.0], [2713933.0], [122802.0], [319847.0], [169020.0], [23364.0], [92587.0], [208224.0], [890.0], [54883.0], [1447.0], [96135.0], [19590.0], [14903.0], [8788.0], [75993.0], [38198.0], [21.0], [1163.0], [4484.0], [526.0], [872.0], [1333.0], [97.0], [1833.0], [7140.0], [0.0], [13753.0], [3143.0], [9038.0], [4925.0], [2121.0], [1244.0], [6407.0], [335.0], [484283.0], [25139.0], [116.0], [295.0], [3839.0], [44618.0], [2078.0], [2817.0], [20555.0], [986.0], [1570.0], [2913.0], [1085.0], [41314.0], [11014.0], [9348.0], [79608.0], [280547.0], [65119.0], [232.0], [8854.0], [438017.0], [135101.0], [45536.0], [41766.0], [115251.0], [37388.0], [804941.0], [1904.0], [17.0], [25.0], [57.0], [658.0], [848.0], [288441.0], [9233.0], [0.0], [127.0], [1591.0], [55447.0], [2254.0], [2268.0], [2481.0], [536694.0], [1290.0], [150376.0], [2860.0], [6612.0], [2991.0], [0.0], [35200.0], [599.0], [462.0], [7309.0], [183.0], [3252.0], [25.0], [990.0], [894.0], [1536.0], [242812.0], [2140614.0], [1288.0], [58775.0], [60202.0], [1622.0], [1364.0], [38359.0], [36175.0], [677.0], [14631.0], [8.0], [1113.0], [11092.0], [5056.0]], \"geo\": \"geo\", \"hovertemplate\": \"<b>%{hovertext}</b><br><br>country=%{location}<br>Recovered=%{customdata[0]}<br>color=%{z}<extra></extra>\", \"hovertext\": [\"Afghanistan\", \"Albania\", \"Algeria\", \"Andorra\", \"Angola\", \"Antigua and Barbuda\", \"Argentina\", \"Armenia\", \"Australia\", \"Austria\", \"Azerbaijan\", \"Bahamas\", \"Bahrain\", \"Bangladesh\", \"Barbados\", \"Belarus\", \"Belgium\", \"Belize\", \"Benin\", \"Bhutan\", \"Bolivia\", \"Bosnia and Herzegovina\", \"Botswana\", \"Brazil\", \"Brunei\", \"Bulgaria\", \"Burkina Faso\", \"Burma\", \"Burundi\", \"Cabo Verde\", \"Cambodia\", \"Cameroon\", \"Canada\", \"Central African Republic\", \"Chad\", \"Chile\", \"China\", \"Colombia\", \"Comoros\", \"Congo (Brazzaville)\", \"Congo (Kinshasa)\", \"Costa Rica\", \"Cote d'Ivoire\", \"Croatia\", \"Cuba\", \"Cyprus\", \"Czechia\", \"Denmark\", \"Diamond Princess\", \"Djibouti\", \"Dominica\", \"Dominican Republic\", \"Ecuador\", \"Egypt\", \"El Salvador\", \"Equatorial Guinea\", \"Eritrea\", \"Estonia\", \"Eswatini\", \"Ethiopia\", \"Fiji\", \"Finland\", \"France\", \"Gabon\", \"Gambia\", \"Georgia\", \"Germany\", \"Ghana\", \"Greece\", \"Grenada\", \"Guatemala\", \"Guinea\", \"Guinea-Bissau\", \"Guyana\", \"Haiti\", \"Holy See\", \"Honduras\", \"Hungary\", \"Iceland\", \"India\", \"Indonesia\", \"Iran\", \"Iraq\", \"Ireland\", \"Israel\", \"Italy\", \"Jamaica\", \"Japan\", \"Jordan\", \"Kazakhstan\", \"Kenya\", \"Korea, South\", \"Kosovo\", \"Kuwait\", \"Kyrgyzstan\", \"Laos\", \"Latvia\", \"Lebanon\", \"Lesotho\", \"Liberia\", \"Libya\", \"Liechtenstein\", \"Lithuania\", \"Luxembourg\", \"MS Zaandam\", \"Madagascar\", \"Malawi\", \"Malaysia\", \"Maldives\", \"Mali\", \"Malta\", \"Mauritania\", \"Mauritius\", \"Mexico\", \"Moldova\", \"Monaco\", \"Mongolia\", \"Montenegro\", \"Morocco\", \"Mozambique\", \"Namibia\", \"Nepal\", \"Netherlands\", \"New Zealand\", \"Nicaragua\", \"Niger\", \"Nigeria\", \"North Macedonia\", \"Norway\", \"Oman\", \"Pakistan\", \"Panama\", \"Papua New Guinea\", \"Paraguay\", \"Peru\", \"Philippines\", \"Poland\", \"Portugal\", \"Qatar\", \"Romania\", \"Russia\", \"Rwanda\", \"Saint Kitts and Nevis\", \"Saint Lucia\", \"Saint Vincent and the Grenadines\", \"San Marino\", \"Sao Tome and Principe\", \"Saudi Arabia\", \"Senegal\", \"Serbia\", \"Seychelles\", \"Sierra Leone\", \"Singapore\", \"Slovakia\", \"Slovenia\", \"Somalia\", \"South Africa\", \"South Sudan\", \"Spain\", \"Sri Lanka\", \"Sudan\", \"Suriname\", \"Sweden\", \"Switzerland\", \"Syria\", \"Taiwan*\", \"Tajikistan\", \"Tanzania\", \"Thailand\", \"Timor-Leste\", \"Togo\", \"Trinidad and Tobago\", \"Tunisia\", \"Turkey\", \"US\", \"Uganda\", \"Ukraine\", \"United Arab Emirates\", \"United Kingdom\", \"Uruguay\", \"Uzbekistan\", \"Venezuela\", \"Vietnam\", \"West Bank and Gaza\", \"Western Sahara\", \"Yemen\", \"Zambia\", \"Zimbabwe\"], \"locationmode\": \"country names\", \"locations\": [\"Afghanistan\", \"Albania\", \"Algeria\", \"Andorra\", \"Angola\", \"Antigua and Barbuda\", \"Argentina\", \"Armenia\", \"Australia\", \"Austria\", \"Azerbaijan\", \"Bahamas\", \"Bahrain\", \"Bangladesh\", \"Barbados\", \"Belarus\", \"Belgium\", \"Belize\", \"Benin\", \"Bhutan\", \"Bolivia\", \"Bosnia and Herzegovina\", \"Botswana\", \"Brazil\", \"Brunei\", \"Bulgaria\", \"Burkina Faso\", \"Burma\", \"Burundi\", \"Cabo Verde\", \"Cambodia\", \"Cameroon\", \"Canada\", \"Central African Republic\", \"Chad\", \"Chile\", \"China\", \"Colombia\", \"Comoros\", \"Congo (Brazzaville)\", \"Congo (Kinshasa)\", \"Costa Rica\", \"Cote d'Ivoire\", \"Croatia\", \"Cuba\", \"Cyprus\", \"Czechia\", \"Denmark\", \"Diamond Princess\", \"Djibouti\", \"Dominica\", \"Dominican Republic\", \"Ecuador\", \"Egypt\", \"El Salvador\", \"Equatorial Guinea\", \"Eritrea\", \"Estonia\", \"Eswatini\", \"Ethiopia\", \"Fiji\", \"Finland\", \"France\", \"Gabon\", \"Gambia\", \"Georgia\", \"Germany\", \"Ghana\", \"Greece\", \"Grenada\", \"Guatemala\", \"Guinea\", \"Guinea-Bissau\", \"Guyana\", \"Haiti\", \"Holy See\", \"Honduras\", \"Hungary\", \"Iceland\", \"India\", \"Indonesia\", \"Iran\", \"Iraq\", \"Ireland\", \"Israel\", \"Italy\", \"Jamaica\", \"Japan\", \"Jordan\", \"Kazakhstan\", \"Kenya\", \"Korea, South\", \"Kosovo\", \"Kuwait\", \"Kyrgyzstan\", \"Laos\", \"Latvia\", \"Lebanon\", \"Lesotho\", \"Liberia\", \"Libya\", \"Liechtenstein\", \"Lithuania\", \"Luxembourg\", \"MS Zaandam\", \"Madagascar\", \"Malawi\", \"Malaysia\", \"Maldives\", \"Mali\", \"Malta\", \"Mauritania\", \"Mauritius\", \"Mexico\", \"Moldova\", \"Monaco\", \"Mongolia\", \"Montenegro\", \"Morocco\", \"Mozambique\", \"Namibia\", \"Nepal\", \"Netherlands\", \"New Zealand\", \"Nicaragua\", \"Niger\", \"Nigeria\", \"North Macedonia\", \"Norway\", \"Oman\", \"Pakistan\", \"Panama\", \"Papua New Guinea\", \"Paraguay\", \"Peru\", \"Philippines\", \"Poland\", \"Portugal\", \"Qatar\", \"Romania\", \"Russia\", \"Rwanda\", \"Saint Kitts and Nevis\", \"Saint Lucia\", \"Saint Vincent and the Grenadines\", \"San Marino\", \"Sao Tome and Principe\", \"Saudi Arabia\", \"Senegal\", \"Serbia\", \"Seychelles\", \"Sierra Leone\", \"Singapore\", \"Slovakia\", \"Slovenia\", \"Somalia\", \"South Africa\", \"South Sudan\", \"Spain\", \"Sri Lanka\", \"Sudan\", \"Suriname\", \"Sweden\", \"Switzerland\", \"Syria\", \"Taiwan*\", \"Tajikistan\", \"Tanzania\", \"Thailand\", \"Timor-Leste\", \"Togo\", \"Trinidad and Tobago\", \"Tunisia\", \"Turkey\", \"US\", \"Uganda\", \"Ukraine\", \"United Arab Emirates\", \"United Kingdom\", \"Uruguay\", \"Uzbekistan\", \"Venezuela\", \"Vietnam\", \"West Bank and Gaza\", \"Western Sahara\", \"Yemen\", \"Zambia\", \"Zimbabwe\"], \"name\": \"\", \"type\": \"choropleth\", \"z\": [4.463743721247059, 3.700790221374347, 4.487392936058712, 2.9556877503135057, 3.0178677189635055, 1.954242509439325, 5.458216189925079, 4.575776515429534, 4.324591085760926, 4.359209191764298, 4.526041890680879, 2.8937617620579434, 4.683731278618886, 5.298556170673881, 2.1522883443830563, 4.846386601558598, 4.264912224592758, 2.0644579892269186, 3.2402995820027125, 2.1335389083702174, 4.75396586586516, 4.109207196320066, 2.3010299956639813, 6.505446554450101, 2.146128035678238, 4.051306910817974, 3.024895960107485, 2.546542663478131, 2.5538830266438746, 3.455758203104137, 2.424881636631067, 4.246793918775155, 5.061810473647744, 3.251638220448212, 2.9439888750737717, 5.5811346630640255, 4.926779608411234, 5.644008020798017, 2.6020599913279625, 3.2412973871099933, 3.9575594018974796, 4.196949540973997, 4.215928229339918, 3.858115932190066, 3.5150786750759226, 2.971275848738105, 4.244079106672388, 4.186560828852073, 2.81424759573192, 3.7255032688593155, 1.2787536009528289, 4.821651065962116, 4.979684923827026, 4.853107802727554, 4.1465621131575565, 3.5893910231369333, 2.45484486000851, 3.3199384399803087, 3.526339277389844, 4.258086284327979, 1.380211241711606, 3.8573928109209015, 4.936996024018631, 3.856608068436936, 2.876217840591642, 3.0870712059065353, 5.332939124850435, 4.629226055612531, 3.129689892199301, 1.3979400086720377, 4.786495879636333, 3.9181876613589255, 3.0523090996473234, 2.8041394323353503, 3.759214431234244, 1.1139433523068367, 4.006765452451993, 3.575187844927661, 3.296665190261531, 6.433599281870389, 5.089208976475599, 5.504943639431636, 5.2279406668475685, 4.368565785360332, 4.9665547029725134, 5.318532870756846, 2.949877704036875, 4.739445755661932, 3.1607685618611283, 4.982886048164303, 4.292056604621469, 4.173302841888186, 3.9439394644722165, 4.880779304520844, 4.5820519937974025, 1.3424226808222062, 3.06595298031387, 3.651762447380111, 2.7218106152125467, 2.9410142437055695, 3.12515582958053, 1.9912260756924949, 3.263399331334002, 3.853759033074769, 0.0, 4.138429020006003, 3.4974825373673704, 3.9561203863930197, 3.6924944075030846, 3.3267453795653217, 3.095169351431755, 3.8067225030761813, 2.526339277389844, 5.685100120860505, 4.400365273349939, 2.0681858617461617, 2.4712917110589387, 3.584331224367531, 4.649519832658967, 3.317854489331469, 3.4499409887733377, 4.312938609013135, 2.9943171526696366, 3.1961761850399735, 3.4644895474339714, 3.035829825252828, 4.616107757092463, 4.041984501486787, 3.970765159780768, 4.90096216860937, 5.4480071770064695, 4.8137143918811445, 2.367355921026019, 3.9471885655260937, 5.64149195785581, 5.130661778204375, 4.658364415687071, 4.6208332822980225, 5.0616484705599705, 4.5727438497412844, 5.905764588458021, 3.279894980011638, 1.255272505103306, 1.414973347970818, 1.7634279935629373, 2.8188854145940097, 2.928907690243953, 5.4600584982117, 3.9653898702151222, 0.0, 2.1072099696478683, 3.20194306340165, 4.743885885839037, 3.3531465462139796, 3.355834495884936, 3.394801777162711, 5.7297275492976105, 3.1109262422664203, 5.1771814164622, 3.4565178578052627, 3.820398522703982, 3.4759615891924236, 0.0, 4.546555001214298, 2.7781512503836434, 2.6655809910179533, 3.8639173769578603, 2.2648178230095364, 3.5122840632818537, 1.414973347970818, 2.9960736544852753, 2.951823035315912, 3.1866738674997452, 5.385271934780179, 6.330538564346844, 3.110252917353403, 4.76920002683632, 4.77961813330073, 3.210318519826232, 3.1351326513767748, 4.583878598498626, 4.558420545001285, 2.8312296938670634, 4.165303692468361, 0.9542425094393249, 3.04688519083771, 4.045049012988961, 3.7038929536325447]}],\n",
       "                        {\"coloraxis\": {\"colorbar\": {\"title\": {\"text\": \"Recovered\"}}, \"colorscale\": [[0.0, \"rgb(247,252,245)\"], [0.125, \"rgb(229,245,224)\"], [0.25, \"rgb(199,233,192)\"], [0.375, \"rgb(161,217,155)\"], [0.5, \"rgb(116,196,118)\"], [0.625, \"rgb(65,171,93)\"], [0.75, \"rgb(35,139,69)\"], [0.875, \"rgb(0,109,44)\"], [1.0, \"rgb(0,68,27)\"]]}, \"geo\": {\"center\": {}, \"domain\": {\"x\": [0.0, 1.0], \"y\": [0.0, 1.0]}, \"fitbounds\": \"locations\", \"visible\": false}, \"legend\": {\"tracegroupgap\": 0}, \"margin\": {\"t\": 60}, \"template\": {\"data\": {\"bar\": [{\"error_x\": {\"color\": \"#2a3f5f\"}, \"error_y\": {\"color\": \"#2a3f5f\"}, \"marker\": {\"line\": {\"color\": \"#E5ECF6\", \"width\": 0.5}}, \"type\": \"bar\"}], \"barpolar\": [{\"marker\": {\"line\": {\"color\": \"#E5ECF6\", \"width\": 0.5}}, \"type\": \"barpolar\"}], \"carpet\": [{\"aaxis\": {\"endlinecolor\": \"#2a3f5f\", \"gridcolor\": \"white\", \"linecolor\": \"white\", \"minorgridcolor\": \"white\", \"startlinecolor\": \"#2a3f5f\"}, \"baxis\": {\"endlinecolor\": \"#2a3f5f\", \"gridcolor\": \"white\", \"linecolor\": \"white\", \"minorgridcolor\": \"white\", \"startlinecolor\": \"#2a3f5f\"}, \"type\": \"carpet\"}], \"choropleth\": [{\"colorbar\": {\"outlinewidth\": 0, \"ticks\": \"\"}, \"type\": \"choropleth\"}], \"contour\": [{\"colorbar\": {\"outlinewidth\": 0, \"ticks\": \"\"}, \"colorscale\": [[0.0, \"#0d0887\"], [0.1111111111111111, \"#46039f\"], [0.2222222222222222, \"#7201a8\"], [0.3333333333333333, \"#9c179e\"], [0.4444444444444444, \"#bd3786\"], [0.5555555555555556, \"#d8576b\"], [0.6666666666666666, \"#ed7953\"], [0.7777777777777778, \"#fb9f3a\"], [0.8888888888888888, \"#fdca26\"], [1.0, \"#f0f921\"]], \"type\": \"contour\"}], \"contourcarpet\": [{\"colorbar\": {\"outlinewidth\": 0, \"ticks\": \"\"}, \"type\": \"contourcarpet\"}], \"heatmap\": [{\"colorbar\": {\"outlinewidth\": 0, \"ticks\": \"\"}, \"colorscale\": [[0.0, \"#0d0887\"], [0.1111111111111111, \"#46039f\"], [0.2222222222222222, \"#7201a8\"], [0.3333333333333333, \"#9c179e\"], [0.4444444444444444, \"#bd3786\"], [0.5555555555555556, \"#d8576b\"], [0.6666666666666666, \"#ed7953\"], [0.7777777777777778, \"#fb9f3a\"], [0.8888888888888888, \"#fdca26\"], [1.0, \"#f0f921\"]], \"type\": \"heatmap\"}], \"heatmapgl\": [{\"colorbar\": {\"outlinewidth\": 0, \"ticks\": \"\"}, \"colorscale\": [[0.0, \"#0d0887\"], [0.1111111111111111, \"#46039f\"], [0.2222222222222222, \"#7201a8\"], [0.3333333333333333, \"#9c179e\"], [0.4444444444444444, \"#bd3786\"], [0.5555555555555556, \"#d8576b\"], [0.6666666666666666, \"#ed7953\"], [0.7777777777777778, \"#fb9f3a\"], [0.8888888888888888, \"#fdca26\"], [1.0, \"#f0f921\"]], \"type\": \"heatmapgl\"}], \"histogram\": [{\"marker\": {\"colorbar\": {\"outlinewidth\": 0, \"ticks\": \"\"}}, \"type\": \"histogram\"}], \"histogram2d\": [{\"colorbar\": {\"outlinewidth\": 0, \"ticks\": \"\"}, \"colorscale\": [[0.0, \"#0d0887\"], [0.1111111111111111, \"#46039f\"], [0.2222222222222222, \"#7201a8\"], [0.3333333333333333, \"#9c179e\"], [0.4444444444444444, \"#bd3786\"], [0.5555555555555556, \"#d8576b\"], [0.6666666666666666, \"#ed7953\"], [0.7777777777777778, \"#fb9f3a\"], [0.8888888888888888, \"#fdca26\"], [1.0, \"#f0f921\"]], \"type\": \"histogram2d\"}], \"histogram2dcontour\": [{\"colorbar\": {\"outlinewidth\": 0, \"ticks\": \"\"}, \"colorscale\": [[0.0, \"#0d0887\"], [0.1111111111111111, \"#46039f\"], [0.2222222222222222, \"#7201a8\"], [0.3333333333333333, \"#9c179e\"], [0.4444444444444444, \"#bd3786\"], [0.5555555555555556, \"#d8576b\"], [0.6666666666666666, \"#ed7953\"], [0.7777777777777778, \"#fb9f3a\"], [0.8888888888888888, \"#fdca26\"], [1.0, \"#f0f921\"]], \"type\": \"histogram2dcontour\"}], \"mesh3d\": [{\"colorbar\": {\"outlinewidth\": 0, \"ticks\": \"\"}, \"type\": \"mesh3d\"}], \"parcoords\": [{\"line\": {\"colorbar\": {\"outlinewidth\": 0, \"ticks\": \"\"}}, \"type\": \"parcoords\"}], \"pie\": [{\"automargin\": true, \"type\": \"pie\"}], \"scatter\": [{\"marker\": {\"colorbar\": {\"outlinewidth\": 0, \"ticks\": \"\"}}, \"type\": \"scatter\"}], \"scatter3d\": [{\"line\": {\"colorbar\": {\"outlinewidth\": 0, \"ticks\": \"\"}}, \"marker\": {\"colorbar\": {\"outlinewidth\": 0, \"ticks\": \"\"}}, \"type\": \"scatter3d\"}], \"scattercarpet\": [{\"marker\": {\"colorbar\": {\"outlinewidth\": 0, \"ticks\": \"\"}}, \"type\": \"scattercarpet\"}], \"scattergeo\": [{\"marker\": {\"colorbar\": {\"outlinewidth\": 0, \"ticks\": \"\"}}, \"type\": \"scattergeo\"}], \"scattergl\": [{\"marker\": {\"colorbar\": {\"outlinewidth\": 0, \"ticks\": \"\"}}, \"type\": \"scattergl\"}], \"scattermapbox\": [{\"marker\": {\"colorbar\": {\"outlinewidth\": 0, \"ticks\": \"\"}}, \"type\": \"scattermapbox\"}], \"scatterpolar\": [{\"marker\": {\"colorbar\": {\"outlinewidth\": 0, \"ticks\": \"\"}}, \"type\": \"scatterpolar\"}], \"scatterpolargl\": [{\"marker\": {\"colorbar\": {\"outlinewidth\": 0, \"ticks\": \"\"}}, \"type\": \"scatterpolargl\"}], \"scatterternary\": [{\"marker\": {\"colorbar\": {\"outlinewidth\": 0, \"ticks\": \"\"}}, \"type\": \"scatterternary\"}], \"surface\": [{\"colorbar\": {\"outlinewidth\": 0, \"ticks\": \"\"}, \"colorscale\": [[0.0, \"#0d0887\"], [0.1111111111111111, \"#46039f\"], [0.2222222222222222, \"#7201a8\"], [0.3333333333333333, \"#9c179e\"], [0.4444444444444444, \"#bd3786\"], [0.5555555555555556, \"#d8576b\"], [0.6666666666666666, \"#ed7953\"], [0.7777777777777778, \"#fb9f3a\"], [0.8888888888888888, \"#fdca26\"], [1.0, \"#f0f921\"]], \"type\": \"surface\"}], \"table\": [{\"cells\": {\"fill\": {\"color\": \"#EBF0F8\"}, \"line\": {\"color\": \"white\"}}, \"header\": {\"fill\": {\"color\": \"#C8D4E3\"}, \"line\": {\"color\": \"white\"}}, \"type\": \"table\"}]}, \"layout\": {\"annotationdefaults\": {\"arrowcolor\": \"#2a3f5f\", \"arrowhead\": 0, \"arrowwidth\": 1}, \"coloraxis\": {\"colorbar\": {\"outlinewidth\": 0, \"ticks\": \"\"}}, \"colorscale\": {\"diverging\": [[0, \"#8e0152\"], [0.1, \"#c51b7d\"], [0.2, \"#de77ae\"], [0.3, \"#f1b6da\"], [0.4, \"#fde0ef\"], [0.5, \"#f7f7f7\"], [0.6, \"#e6f5d0\"], [0.7, \"#b8e186\"], [0.8, \"#7fbc41\"], [0.9, \"#4d9221\"], [1, \"#276419\"]], \"sequential\": [[0.0, \"#0d0887\"], [0.1111111111111111, \"#46039f\"], [0.2222222222222222, \"#7201a8\"], [0.3333333333333333, \"#9c179e\"], [0.4444444444444444, \"#bd3786\"], [0.5555555555555556, \"#d8576b\"], [0.6666666666666666, \"#ed7953\"], [0.7777777777777778, \"#fb9f3a\"], [0.8888888888888888, \"#fdca26\"], [1.0, \"#f0f921\"]], \"sequentialminus\": [[0.0, \"#0d0887\"], [0.1111111111111111, \"#46039f\"], [0.2222222222222222, \"#7201a8\"], [0.3333333333333333, \"#9c179e\"], [0.4444444444444444, \"#bd3786\"], [0.5555555555555556, \"#d8576b\"], [0.6666666666666666, \"#ed7953\"], [0.7777777777777778, \"#fb9f3a\"], [0.8888888888888888, \"#fdca26\"], [1.0, \"#f0f921\"]]}, \"colorway\": [\"#636efa\", \"#EF553B\", \"#00cc96\", \"#ab63fa\", \"#FFA15A\", \"#19d3f3\", \"#FF6692\", \"#B6E880\", \"#FF97FF\", \"#FECB52\"], \"font\": {\"color\": \"#2a3f5f\"}, \"geo\": {\"bgcolor\": \"white\", \"lakecolor\": \"white\", \"landcolor\": \"#E5ECF6\", \"showlakes\": true, \"showland\": true, \"subunitcolor\": \"white\"}, \"hoverlabel\": {\"align\": \"left\"}, \"hovermode\": \"closest\", \"mapbox\": {\"style\": \"light\"}, \"paper_bgcolor\": \"white\", \"plot_bgcolor\": \"#E5ECF6\", \"polar\": {\"angularaxis\": {\"gridcolor\": \"white\", \"linecolor\": \"white\", \"ticks\": \"\"}, \"bgcolor\": \"#E5ECF6\", \"radialaxis\": {\"gridcolor\": \"white\", \"linecolor\": \"white\", \"ticks\": \"\"}}, \"scene\": {\"xaxis\": {\"backgroundcolor\": \"#E5ECF6\", \"gridcolor\": \"white\", \"gridwidth\": 2, \"linecolor\": \"white\", \"showbackground\": true, \"ticks\": \"\", \"zerolinecolor\": \"white\"}, \"yaxis\": {\"backgroundcolor\": \"#E5ECF6\", \"gridcolor\": \"white\", \"gridwidth\": 2, \"linecolor\": \"white\", \"showbackground\": true, \"ticks\": \"\", \"zerolinecolor\": \"white\"}, \"zaxis\": {\"backgroundcolor\": \"#E5ECF6\", \"gridcolor\": \"white\", \"gridwidth\": 2, \"linecolor\": \"white\", \"showbackground\": true, \"ticks\": \"\", \"zerolinecolor\": \"white\"}}, \"shapedefaults\": {\"line\": {\"color\": \"#2a3f5f\"}}, \"ternary\": {\"aaxis\": {\"gridcolor\": \"white\", \"linecolor\": \"white\", \"ticks\": \"\"}, \"baxis\": {\"gridcolor\": \"white\", \"linecolor\": \"white\", \"ticks\": \"\"}, \"bgcolor\": \"#E5ECF6\", \"caxis\": {\"gridcolor\": \"white\", \"linecolor\": \"white\", \"ticks\": \"\"}}, \"title\": {\"x\": 0.05}, \"xaxis\": {\"automargin\": true, \"gridcolor\": \"white\", \"linecolor\": \"white\", \"ticks\": \"\", \"title\": {\"standoff\": 15}, \"zerolinecolor\": \"white\", \"zerolinewidth\": 2}, \"yaxis\": {\"automargin\": true, \"gridcolor\": \"white\", \"linecolor\": \"white\", \"ticks\": \"\", \"title\": {\"standoff\": 15}, \"zerolinecolor\": \"white\", \"zerolinewidth\": 2}}}, \"title\": {\"text\": \"Recovered Heat Map (Log Scale)\"}},\n",
       "                        {\"responsive\": true}\n",
       "                    ).then(function(){\n",
       "                            \n",
       "var gd = document.getElementById('db45c547-7973-46fd-893b-c2f34b236379');\n",
       "var x = new MutationObserver(function (mutations, observer) {{\n",
       "        var display = window.getComputedStyle(gd).display;\n",
       "        if (!display || display === 'none') {{\n",
       "            console.log([gd, 'removed!']);\n",
       "            Plotly.purge(gd);\n",
       "            observer.disconnect();\n",
       "        }}\n",
       "}});\n",
       "\n",
       "// Listen for the removal of the full notebook cells\n",
       "var notebookContainer = gd.closest('#notebook-container');\n",
       "if (notebookContainer) {{\n",
       "    x.observe(notebookContainer, {childList: true});\n",
       "}}\n",
       "\n",
       "// Listen for the clearing of the current output cell\n",
       "var outputEl = gd.closest('.output');\n",
       "if (outputEl) {{\n",
       "    x.observe(outputEl, {childList: true});\n",
       "}}\n",
       "\n",
       "                        })\n",
       "                };\n",
       "                });\n",
       "            </script>\n",
       "        </div>"
      ]
     },
     "metadata": {},
     "output_type": "display_data"
    }
   ],
   "source": [
    "temp_df = pd.DataFrame(df_countries_cases['Recovered'])\n",
    "temp_df = temp_df.reset_index()\n",
    "fig = px.choropleth(temp_df, locations=\"country\",\n",
    "                    color=np.log10(temp_df.iloc[:,-1]+1), # lifeExp is a column of gapminder\n",
    "                    hover_name=\"country\", # column to add to hover information\n",
    "                    hover_data=[\"Recovered\"],\n",
    "                    color_continuous_scale=px.colors.sequential.Plasma,locationmode=\"country names\")\n",
    "fig.update_geos(fitbounds=\"locations\", visible=False)\n",
    "fig.update_layout(title_text=\"Recovered Heat Map (Log Scale)\")\n",
    "fig.update_coloraxes(colorbar_title=\"Recovered\",colorscale=\"Greens\")\n",
    "# fig.to_image(\"Global Heat Map deaths.png\")\n",
    "fig.show()"
   ]
  },
  {
   "cell_type": "code",
   "execution_count": null,
   "metadata": {},
   "outputs": [],
   "source": []
  }
 ],
 "metadata": {
  "kernelspec": {
   "display_name": "Python 3",
   "language": "python",
   "name": "python3"
  },
  "language_info": {
   "codemirror_mode": {
    "name": "ipython",
    "version": 3
   },
   "file_extension": ".py",
   "mimetype": "text/x-python",
   "name": "python",
   "nbconvert_exporter": "python",
   "pygments_lexer": "ipython3",
   "version": "3.8.3"
  }
 },
 "nbformat": 4,
 "nbformat_minor": 4
}
